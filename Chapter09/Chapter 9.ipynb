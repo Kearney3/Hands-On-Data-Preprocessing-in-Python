{
 "cells": [
  {
   "cell_type": "markdown",
   "metadata": {},
   "source": [
    "## Hands-On Data Preprocessing in Python\n",
    "Learn how to effectively prepare data for successful data analytics\n",
    "    \n",
    "    AUTHOR: Dr. Roy Jafari \n",
    "\n",
    "# Chapter 9: Data Cleaning Level Ⅰ - Clean up the table"
   ]
  },
  {
   "cell_type": "code",
   "execution_count": 1,
   "metadata": {
    "ExecuteTime": {
     "end_time": "2024-05-17T08:28:40.021115Z",
     "start_time": "2024-05-17T08:28:40.019684Z"
    }
   },
   "outputs": [],
   "source": [
    "import numpy as np\n",
    "import matplotlib.pyplot as plt\n",
    "import pandas as pd"
   ]
  },
  {
   "cell_type": "markdown",
   "metadata": {},
   "source": [
    "## Data Cleaning Level Ⅰ - Cleaning up the table  \n",
    "### Example 1 – Unwise data collection"
   ]
  },
  {
   "cell_type": "code",
   "execution_count": 2,
   "metadata": {
    "ExecuteTime": {
     "end_time": "2024-05-17T08:28:41.719488Z",
     "start_time": "2024-05-17T08:28:41.711322Z"
    }
   },
   "outputs": [
    {
     "name": "stdout",
     "output_type": "stream",
     "text": [
      "['FayettevilleSep9_2019.txt', 'TupeloNov1_2019.txt', 'NewHampshireAug15_2019.txt', 'HendersonSep13_2020.txt', 'OhioSep21_2020.txt', 'PhoenixFeb19_2020.txt', 'BattleCreekDec19_2019.txt', 'PittsburghSep22_2020.txt', 'TexasSep23_2019.txt', 'ColoradorSpringsFeb20_2020.txt', 'LatrobeSep3_2020.txt', 'DallasOct17_2019.txt', 'DesMoinesJan30_2020.txt', 'MinneapolisOct10_2019.txt', 'YumaAug18_2020.txt', 'ToledoJan9_2020.txt', 'CharlotteMar2_2020.txt', 'Winston-SalemSep8_2020.txt', 'TulsaJun20_2020.txt', 'NewMexicoSep16_2019.txt', 'HersheyDec10_2019.txt', 'NewHampshireFeb10_2020.txt', 'LasVegasFeb21_2020.txt', 'NewHampshireAug28_2020.txt', 'MindenSep12_2020.txt', 'FreelandSep10_2020.txt', 'CharlestonFeb28_2020.txt', 'MosineeSep17_2020.txt', 'MilwaukeeJan14_2020.txt', 'LexingtonNov4_2019.txt', 'BemidjiSep18_2020.txt', 'CincinnatiAug1_2019.txt', 'FayettevilleSep19_2020.txt', 'WildwoodJan28_2020.txt', 'GreenvilleJul17_2019.txt']\n"
     ]
    }
   ],
   "source": [
    "from os import listdir\n",
    "FileNames = listdir('Speeches')\n",
    "print(FileNames)"
   ]
  },
  {
   "cell_type": "code",
   "execution_count": 9,
   "metadata": {
    "ExecuteTime": {
     "end_time": "2024-05-17T08:30:30.902825Z",
     "start_time": "2024-05-17T08:30:30.897301Z"
    }
   },
   "outputs": [
    {
     "data": {
      "text/plain": "   File Name The Content\n0        NaN         NaN\n1        NaN         NaN\n2        NaN         NaN\n3        NaN         NaN\n4        NaN         NaN\n5        NaN         NaN\n6        NaN         NaN\n7        NaN         NaN\n8        NaN         NaN\n9        NaN         NaN\n10       NaN         NaN\n11       NaN         NaN\n12       NaN         NaN\n13       NaN         NaN\n14       NaN         NaN\n15       NaN         NaN\n16       NaN         NaN\n17       NaN         NaN\n18       NaN         NaN\n19       NaN         NaN\n20       NaN         NaN\n21       NaN         NaN\n22       NaN         NaN\n23       NaN         NaN\n24       NaN         NaN\n25       NaN         NaN\n26       NaN         NaN\n27       NaN         NaN\n28       NaN         NaN\n29       NaN         NaN\n30       NaN         NaN\n31       NaN         NaN\n32       NaN         NaN\n33       NaN         NaN\n34       NaN         NaN",
      "text/html": "<div>\n<style scoped>\n    .dataframe tbody tr th:only-of-type {\n        vertical-align: middle;\n    }\n\n    .dataframe tbody tr th {\n        vertical-align: top;\n    }\n\n    .dataframe thead th {\n        text-align: right;\n    }\n</style>\n<table border=\"1\" class=\"dataframe\">\n  <thead>\n    <tr style=\"text-align: right;\">\n      <th></th>\n      <th>File Name</th>\n      <th>The Content</th>\n    </tr>\n  </thead>\n  <tbody>\n    <tr>\n      <th>0</th>\n      <td>NaN</td>\n      <td>NaN</td>\n    </tr>\n    <tr>\n      <th>1</th>\n      <td>NaN</td>\n      <td>NaN</td>\n    </tr>\n    <tr>\n      <th>2</th>\n      <td>NaN</td>\n      <td>NaN</td>\n    </tr>\n    <tr>\n      <th>3</th>\n      <td>NaN</td>\n      <td>NaN</td>\n    </tr>\n    <tr>\n      <th>4</th>\n      <td>NaN</td>\n      <td>NaN</td>\n    </tr>\n    <tr>\n      <th>5</th>\n      <td>NaN</td>\n      <td>NaN</td>\n    </tr>\n    <tr>\n      <th>6</th>\n      <td>NaN</td>\n      <td>NaN</td>\n    </tr>\n    <tr>\n      <th>7</th>\n      <td>NaN</td>\n      <td>NaN</td>\n    </tr>\n    <tr>\n      <th>8</th>\n      <td>NaN</td>\n      <td>NaN</td>\n    </tr>\n    <tr>\n      <th>9</th>\n      <td>NaN</td>\n      <td>NaN</td>\n    </tr>\n    <tr>\n      <th>10</th>\n      <td>NaN</td>\n      <td>NaN</td>\n    </tr>\n    <tr>\n      <th>11</th>\n      <td>NaN</td>\n      <td>NaN</td>\n    </tr>\n    <tr>\n      <th>12</th>\n      <td>NaN</td>\n      <td>NaN</td>\n    </tr>\n    <tr>\n      <th>13</th>\n      <td>NaN</td>\n      <td>NaN</td>\n    </tr>\n    <tr>\n      <th>14</th>\n      <td>NaN</td>\n      <td>NaN</td>\n    </tr>\n    <tr>\n      <th>15</th>\n      <td>NaN</td>\n      <td>NaN</td>\n    </tr>\n    <tr>\n      <th>16</th>\n      <td>NaN</td>\n      <td>NaN</td>\n    </tr>\n    <tr>\n      <th>17</th>\n      <td>NaN</td>\n      <td>NaN</td>\n    </tr>\n    <tr>\n      <th>18</th>\n      <td>NaN</td>\n      <td>NaN</td>\n    </tr>\n    <tr>\n      <th>19</th>\n      <td>NaN</td>\n      <td>NaN</td>\n    </tr>\n    <tr>\n      <th>20</th>\n      <td>NaN</td>\n      <td>NaN</td>\n    </tr>\n    <tr>\n      <th>21</th>\n      <td>NaN</td>\n      <td>NaN</td>\n    </tr>\n    <tr>\n      <th>22</th>\n      <td>NaN</td>\n      <td>NaN</td>\n    </tr>\n    <tr>\n      <th>23</th>\n      <td>NaN</td>\n      <td>NaN</td>\n    </tr>\n    <tr>\n      <th>24</th>\n      <td>NaN</td>\n      <td>NaN</td>\n    </tr>\n    <tr>\n      <th>25</th>\n      <td>NaN</td>\n      <td>NaN</td>\n    </tr>\n    <tr>\n      <th>26</th>\n      <td>NaN</td>\n      <td>NaN</td>\n    </tr>\n    <tr>\n      <th>27</th>\n      <td>NaN</td>\n      <td>NaN</td>\n    </tr>\n    <tr>\n      <th>28</th>\n      <td>NaN</td>\n      <td>NaN</td>\n    </tr>\n    <tr>\n      <th>29</th>\n      <td>NaN</td>\n      <td>NaN</td>\n    </tr>\n    <tr>\n      <th>30</th>\n      <td>NaN</td>\n      <td>NaN</td>\n    </tr>\n    <tr>\n      <th>31</th>\n      <td>NaN</td>\n      <td>NaN</td>\n    </tr>\n    <tr>\n      <th>32</th>\n      <td>NaN</td>\n      <td>NaN</td>\n    </tr>\n    <tr>\n      <th>33</th>\n      <td>NaN</td>\n      <td>NaN</td>\n    </tr>\n    <tr>\n      <th>34</th>\n      <td>NaN</td>\n      <td>NaN</td>\n    </tr>\n  </tbody>\n</table>\n</div>"
     },
     "execution_count": 9,
     "metadata": {},
     "output_type": "execute_result"
    }
   ],
   "source": [
    "import pandas as pd\n",
    "speech_df = pd.DataFrame(index=range(len(FileNames)),columns=['File Name','The Content'])\n",
    "speech_df"
   ]
  },
  {
   "cell_type": "code",
   "execution_count": 10,
   "metadata": {
    "ExecuteTime": {
     "end_time": "2024-05-17T08:30:31.878538Z",
     "start_time": "2024-05-17T08:30:31.846911Z"
    }
   },
   "outputs": [],
   "source": [
    "for i,f_name in enumerate(FileNames):\n",
    "    with open('Speeches/' + f_name, \"r\", encoding='utf-8') as f:\n",
    "    # f = open('Speeches/' + f_name, \"r\", encoding='utf-8')\n",
    "        f_content = f.readlines()\n",
    "    # f.close()\n",
    "    \n",
    "    speech_df.at[i,'File Name'] = f_name\n",
    "    speech_df.at[i,'The Content'] = f_content[0]"
   ]
  },
  {
   "cell_type": "code",
   "execution_count": 11,
   "metadata": {
    "ExecuteTime": {
     "end_time": "2024-05-17T08:30:32.742929Z",
     "start_time": "2024-05-17T08:30:32.734615Z"
    }
   },
   "outputs": [],
   "source": [
    "speech_df.columns = ['FileName','Content']"
   ]
  },
  {
   "cell_type": "code",
   "execution_count": 12,
   "metadata": {
    "scrolled": true,
    "ExecuteTime": {
     "end_time": "2024-05-17T08:30:33.355879Z",
     "start_time": "2024-05-17T08:30:33.346949Z"
    }
   },
   "outputs": [
    {
     "data": {
      "text/plain": "                          FileName  \\\n0        FayettevilleSep9_2019.txt   \n1              TupeloNov1_2019.txt   \n2       NewHampshireAug15_2019.txt   \n3          HendersonSep13_2020.txt   \n4               OhioSep21_2020.txt   \n5            PhoenixFeb19_2020.txt   \n6        BattleCreekDec19_2019.txt   \n7         PittsburghSep22_2020.txt   \n8              TexasSep23_2019.txt   \n9   ColoradorSpringsFeb20_2020.txt   \n10            LatrobeSep3_2020.txt   \n11            DallasOct17_2019.txt   \n12         DesMoinesJan30_2020.txt   \n13       MinneapolisOct10_2019.txt   \n14              YumaAug18_2020.txt   \n15             ToledoJan9_2020.txt   \n16          CharlotteMar2_2020.txt   \n17      Winston-SalemSep8_2020.txt   \n18             TulsaJun20_2020.txt   \n19         NewMexicoSep16_2019.txt   \n20           HersheyDec10_2019.txt   \n21      NewHampshireFeb10_2020.txt   \n22          LasVegasFeb21_2020.txt   \n23      NewHampshireAug28_2020.txt   \n24            MindenSep12_2020.txt   \n25          FreelandSep10_2020.txt   \n26        CharlestonFeb28_2020.txt   \n27           MosineeSep17_2020.txt   \n28         MilwaukeeJan14_2020.txt   \n29          LexingtonNov4_2019.txt   \n30           BemidjiSep18_2020.txt   \n31         CincinnatiAug1_2019.txt   \n32      FayettevilleSep19_2020.txt   \n33          WildwoodJan28_2020.txt   \n34        GreenvilleJul17_2019.txt   \n\n                                              Content  \n0    Thank you everybody. Thank you and Vice Presi...  \n1   ell, thank you very much. And hello, Tupelo. T...  \n2    Thank you very much everybody. Thank you. Wow...  \n3   Thank you, thank you. Wow. Wow, and I'm thrill...  \n4   Wow, that's a big crowd. This is a big crowd. ...  \n5    Thank you very much, Phoenix. We love to be b...  \n6   Thank you. Thank you. Thank you to Vice Presid...  \n7   Doesn't have the power. Doesn't have the stayi...  \n8   Hello, Houston. I am so thrilled to be here in...  \n9   Hello Colorado. We love Colorado, most beautif...  \n10  So thank you Pennsylvania, very much. I'm thri...  \n11  Thank you. Thank you very much. Hello Dallas. ...  \n12  I worked so hard for this state. I worked so h...  \n13  Thank you very much. Thank you, Minnesota. Thi...  \n14  Oh, thank you very much, everybody. Thank you....  \n15  Well, thank you very much. Vice President Mike...  \n16  I want to thank you very much. North Carolina,...  \n17  Well, thank you very much. Thank you. Thank yo...  \n18  Thank you, thank you. So we begin, Oklahoma, w...  \n19   Wow, thank you. Thank you, New Mexico. Thank ...  \n20   Well, thank you to Vice President Pence. Than...  \n21  Hello, Manchester, and I am thrilled to be in ...  \n22  Well, thank you very much. And hello Las Vegas...  \n23  Hello, everybody. Hello, everybody. Wow. Hello...  \n24  Well, I thank you very much. So I want to star...  \n25  We brought you a lot of car plants, Michigan. ...  \n26  Thank you. Thank you. Thank you. All I can say...  \n27  Thank you, thank you very much. Thank you very...  \n28  Well thank you very much. And I'm thrilled to ...  \n29  Thank you very much and thank you to the origi...  \n30  There's a lot of people. That's great. Thank y...  \n31  Thank you all. Thank you very much. Thank you ...  \n32  What a crowd, what a crowd. Get those people o...  \n33  Thank you. Thank you. I love New Jersey and I'...  \n34  Thank you very much. Thank you. Thank you. Tha...  ",
      "text/html": "<div>\n<style scoped>\n    .dataframe tbody tr th:only-of-type {\n        vertical-align: middle;\n    }\n\n    .dataframe tbody tr th {\n        vertical-align: top;\n    }\n\n    .dataframe thead th {\n        text-align: right;\n    }\n</style>\n<table border=\"1\" class=\"dataframe\">\n  <thead>\n    <tr style=\"text-align: right;\">\n      <th></th>\n      <th>FileName</th>\n      <th>Content</th>\n    </tr>\n  </thead>\n  <tbody>\n    <tr>\n      <th>0</th>\n      <td>FayettevilleSep9_2019.txt</td>\n      <td>Thank you everybody. Thank you and Vice Presi...</td>\n    </tr>\n    <tr>\n      <th>1</th>\n      <td>TupeloNov1_2019.txt</td>\n      <td>ell, thank you very much. And hello, Tupelo. T...</td>\n    </tr>\n    <tr>\n      <th>2</th>\n      <td>NewHampshireAug15_2019.txt</td>\n      <td>Thank you very much everybody. Thank you. Wow...</td>\n    </tr>\n    <tr>\n      <th>3</th>\n      <td>HendersonSep13_2020.txt</td>\n      <td>Thank you, thank you. Wow. Wow, and I'm thrill...</td>\n    </tr>\n    <tr>\n      <th>4</th>\n      <td>OhioSep21_2020.txt</td>\n      <td>Wow, that's a big crowd. This is a big crowd. ...</td>\n    </tr>\n    <tr>\n      <th>5</th>\n      <td>PhoenixFeb19_2020.txt</td>\n      <td>Thank you very much, Phoenix. We love to be b...</td>\n    </tr>\n    <tr>\n      <th>6</th>\n      <td>BattleCreekDec19_2019.txt</td>\n      <td>Thank you. Thank you. Thank you to Vice Presid...</td>\n    </tr>\n    <tr>\n      <th>7</th>\n      <td>PittsburghSep22_2020.txt</td>\n      <td>Doesn't have the power. Doesn't have the stayi...</td>\n    </tr>\n    <tr>\n      <th>8</th>\n      <td>TexasSep23_2019.txt</td>\n      <td>Hello, Houston. I am so thrilled to be here in...</td>\n    </tr>\n    <tr>\n      <th>9</th>\n      <td>ColoradorSpringsFeb20_2020.txt</td>\n      <td>Hello Colorado. We love Colorado, most beautif...</td>\n    </tr>\n    <tr>\n      <th>10</th>\n      <td>LatrobeSep3_2020.txt</td>\n      <td>So thank you Pennsylvania, very much. I'm thri...</td>\n    </tr>\n    <tr>\n      <th>11</th>\n      <td>DallasOct17_2019.txt</td>\n      <td>Thank you. Thank you very much. Hello Dallas. ...</td>\n    </tr>\n    <tr>\n      <th>12</th>\n      <td>DesMoinesJan30_2020.txt</td>\n      <td>I worked so hard for this state. I worked so h...</td>\n    </tr>\n    <tr>\n      <th>13</th>\n      <td>MinneapolisOct10_2019.txt</td>\n      <td>Thank you very much. Thank you, Minnesota. Thi...</td>\n    </tr>\n    <tr>\n      <th>14</th>\n      <td>YumaAug18_2020.txt</td>\n      <td>Oh, thank you very much, everybody. Thank you....</td>\n    </tr>\n    <tr>\n      <th>15</th>\n      <td>ToledoJan9_2020.txt</td>\n      <td>Well, thank you very much. Vice President Mike...</td>\n    </tr>\n    <tr>\n      <th>16</th>\n      <td>CharlotteMar2_2020.txt</td>\n      <td>I want to thank you very much. North Carolina,...</td>\n    </tr>\n    <tr>\n      <th>17</th>\n      <td>Winston-SalemSep8_2020.txt</td>\n      <td>Well, thank you very much. Thank you. Thank yo...</td>\n    </tr>\n    <tr>\n      <th>18</th>\n      <td>TulsaJun20_2020.txt</td>\n      <td>Thank you, thank you. So we begin, Oklahoma, w...</td>\n    </tr>\n    <tr>\n      <th>19</th>\n      <td>NewMexicoSep16_2019.txt</td>\n      <td>Wow, thank you. Thank you, New Mexico. Thank ...</td>\n    </tr>\n    <tr>\n      <th>20</th>\n      <td>HersheyDec10_2019.txt</td>\n      <td>Well, thank you to Vice President Pence. Than...</td>\n    </tr>\n    <tr>\n      <th>21</th>\n      <td>NewHampshireFeb10_2020.txt</td>\n      <td>Hello, Manchester, and I am thrilled to be in ...</td>\n    </tr>\n    <tr>\n      <th>22</th>\n      <td>LasVegasFeb21_2020.txt</td>\n      <td>Well, thank you very much. And hello Las Vegas...</td>\n    </tr>\n    <tr>\n      <th>23</th>\n      <td>NewHampshireAug28_2020.txt</td>\n      <td>Hello, everybody. Hello, everybody. Wow. Hello...</td>\n    </tr>\n    <tr>\n      <th>24</th>\n      <td>MindenSep12_2020.txt</td>\n      <td>Well, I thank you very much. So I want to star...</td>\n    </tr>\n    <tr>\n      <th>25</th>\n      <td>FreelandSep10_2020.txt</td>\n      <td>We brought you a lot of car plants, Michigan. ...</td>\n    </tr>\n    <tr>\n      <th>26</th>\n      <td>CharlestonFeb28_2020.txt</td>\n      <td>Thank you. Thank you. Thank you. All I can say...</td>\n    </tr>\n    <tr>\n      <th>27</th>\n      <td>MosineeSep17_2020.txt</td>\n      <td>Thank you, thank you very much. Thank you very...</td>\n    </tr>\n    <tr>\n      <th>28</th>\n      <td>MilwaukeeJan14_2020.txt</td>\n      <td>Well thank you very much. And I'm thrilled to ...</td>\n    </tr>\n    <tr>\n      <th>29</th>\n      <td>LexingtonNov4_2019.txt</td>\n      <td>Thank you very much and thank you to the origi...</td>\n    </tr>\n    <tr>\n      <th>30</th>\n      <td>BemidjiSep18_2020.txt</td>\n      <td>There's a lot of people. That's great. Thank y...</td>\n    </tr>\n    <tr>\n      <th>31</th>\n      <td>CincinnatiAug1_2019.txt</td>\n      <td>Thank you all. Thank you very much. Thank you ...</td>\n    </tr>\n    <tr>\n      <th>32</th>\n      <td>FayettevilleSep19_2020.txt</td>\n      <td>What a crowd, what a crowd. Get those people o...</td>\n    </tr>\n    <tr>\n      <th>33</th>\n      <td>WildwoodJan28_2020.txt</td>\n      <td>Thank you. Thank you. I love New Jersey and I'...</td>\n    </tr>\n    <tr>\n      <th>34</th>\n      <td>GreenvilleJul17_2019.txt</td>\n      <td>Thank you very much. Thank you. Thank you. Tha...</td>\n    </tr>\n  </tbody>\n</table>\n</div>"
     },
     "execution_count": 12,
     "metadata": {},
     "output_type": "execute_result"
    }
   ],
   "source": [
    "speech_df"
   ]
  },
  {
   "cell_type": "markdown",
   "metadata": {},
   "source": [
    "### Example 2 – reindexing (Multi-level Indexing)"
   ]
  },
  {
   "cell_type": "code",
   "execution_count": 13,
   "metadata": {
    "ExecuteTime": {
     "end_time": "2024-05-17T08:31:49.577605Z",
     "start_time": "2024-05-17T08:31:49.525006Z"
    }
   },
   "outputs": [
    {
     "data": {
      "text/plain": "       Temp  Year  Month  Day      Time\n0      79.0  2016      1    1  00:00:00\n1      79.0  2016      1    1  00:30:00\n2      79.0  2016      1    1  01:00:00\n3      77.0  2016      1    1  01:30:00\n4      78.0  2016      1    1  02:00:00\n...     ...   ...    ...  ...       ...\n20448  77.0  2016     12   31  22:00:00\n20449  77.0  2016     12   31  22:30:00\n20450  77.0  2016     12   31  23:00:00\n20451  77.0  2016     12   31  23:00:00\n20452  77.0  2016     12   31  23:30:00\n\n[20453 rows x 5 columns]",
      "text/html": "<div>\n<style scoped>\n    .dataframe tbody tr th:only-of-type {\n        vertical-align: middle;\n    }\n\n    .dataframe tbody tr th {\n        vertical-align: top;\n    }\n\n    .dataframe thead th {\n        text-align: right;\n    }\n</style>\n<table border=\"1\" class=\"dataframe\">\n  <thead>\n    <tr style=\"text-align: right;\">\n      <th></th>\n      <th>Temp</th>\n      <th>Year</th>\n      <th>Month</th>\n      <th>Day</th>\n      <th>Time</th>\n    </tr>\n  </thead>\n  <tbody>\n    <tr>\n      <th>0</th>\n      <td>79.0</td>\n      <td>2016</td>\n      <td>1</td>\n      <td>1</td>\n      <td>00:00:00</td>\n    </tr>\n    <tr>\n      <th>1</th>\n      <td>79.0</td>\n      <td>2016</td>\n      <td>1</td>\n      <td>1</td>\n      <td>00:30:00</td>\n    </tr>\n    <tr>\n      <th>2</th>\n      <td>79.0</td>\n      <td>2016</td>\n      <td>1</td>\n      <td>1</td>\n      <td>01:00:00</td>\n    </tr>\n    <tr>\n      <th>3</th>\n      <td>77.0</td>\n      <td>2016</td>\n      <td>1</td>\n      <td>1</td>\n      <td>01:30:00</td>\n    </tr>\n    <tr>\n      <th>4</th>\n      <td>78.0</td>\n      <td>2016</td>\n      <td>1</td>\n      <td>1</td>\n      <td>02:00:00</td>\n    </tr>\n    <tr>\n      <th>...</th>\n      <td>...</td>\n      <td>...</td>\n      <td>...</td>\n      <td>...</td>\n      <td>...</td>\n    </tr>\n    <tr>\n      <th>20448</th>\n      <td>77.0</td>\n      <td>2016</td>\n      <td>12</td>\n      <td>31</td>\n      <td>22:00:00</td>\n    </tr>\n    <tr>\n      <th>20449</th>\n      <td>77.0</td>\n      <td>2016</td>\n      <td>12</td>\n      <td>31</td>\n      <td>22:30:00</td>\n    </tr>\n    <tr>\n      <th>20450</th>\n      <td>77.0</td>\n      <td>2016</td>\n      <td>12</td>\n      <td>31</td>\n      <td>23:00:00</td>\n    </tr>\n    <tr>\n      <th>20451</th>\n      <td>77.0</td>\n      <td>2016</td>\n      <td>12</td>\n      <td>31</td>\n      <td>23:00:00</td>\n    </tr>\n    <tr>\n      <th>20452</th>\n      <td>77.0</td>\n      <td>2016</td>\n      <td>12</td>\n      <td>31</td>\n      <td>23:30:00</td>\n    </tr>\n  </tbody>\n</table>\n<p>20453 rows × 5 columns</p>\n</div>"
     },
     "execution_count": 13,
     "metadata": {},
     "output_type": "execute_result"
    }
   ],
   "source": [
    "air_df = pd.read_csv('TempData.csv')\n",
    "air_df"
   ]
  },
  {
   "cell_type": "code",
   "execution_count": 15,
   "outputs": [
    {
     "name": "stdout",
     "output_type": "stream",
     "text": [
      "Year has only one value [2016]\n"
     ]
    }
   ],
   "source": [
    "for column in air_df.columns:\n",
    "    if len(air_df[column].unique()) == 1:\n",
    "        print(f'{column} has only one value {air_df[column].unique()}')"
   ],
   "metadata": {
    "collapsed": false,
    "ExecuteTime": {
     "end_time": "2024-05-17T08:33:34.401476Z",
     "start_time": "2024-05-17T08:33:34.388393Z"
    }
   }
  },
  {
   "cell_type": "code",
   "execution_count": 16,
   "metadata": {
    "ExecuteTime": {
     "end_time": "2024-05-17T08:33:47.686699Z",
     "start_time": "2024-05-17T08:33:47.673017Z"
    }
   },
   "outputs": [],
   "source": [
    "air2016_df = air_df.drop(columns=['Year'])"
   ]
  },
  {
   "cell_type": "code",
   "execution_count": 17,
   "outputs": [
    {
     "data": {
      "text/plain": "       Temp  Month  Day      Time\n0      79.0      1    1  00:00:00\n1      79.0      1    1  00:30:00\n2      79.0      1    1  01:00:00\n3      77.0      1    1  01:30:00\n4      78.0      1    1  02:00:00\n...     ...    ...  ...       ...\n20448  77.0     12   31  22:00:00\n20449  77.0     12   31  22:30:00\n20450  77.0     12   31  23:00:00\n20451  77.0     12   31  23:00:00\n20452  77.0     12   31  23:30:00\n\n[20453 rows x 4 columns]",
      "text/html": "<div>\n<style scoped>\n    .dataframe tbody tr th:only-of-type {\n        vertical-align: middle;\n    }\n\n    .dataframe tbody tr th {\n        vertical-align: top;\n    }\n\n    .dataframe thead th {\n        text-align: right;\n    }\n</style>\n<table border=\"1\" class=\"dataframe\">\n  <thead>\n    <tr style=\"text-align: right;\">\n      <th></th>\n      <th>Temp</th>\n      <th>Month</th>\n      <th>Day</th>\n      <th>Time</th>\n    </tr>\n  </thead>\n  <tbody>\n    <tr>\n      <th>0</th>\n      <td>79.0</td>\n      <td>1</td>\n      <td>1</td>\n      <td>00:00:00</td>\n    </tr>\n    <tr>\n      <th>1</th>\n      <td>79.0</td>\n      <td>1</td>\n      <td>1</td>\n      <td>00:30:00</td>\n    </tr>\n    <tr>\n      <th>2</th>\n      <td>79.0</td>\n      <td>1</td>\n      <td>1</td>\n      <td>01:00:00</td>\n    </tr>\n    <tr>\n      <th>3</th>\n      <td>77.0</td>\n      <td>1</td>\n      <td>1</td>\n      <td>01:30:00</td>\n    </tr>\n    <tr>\n      <th>4</th>\n      <td>78.0</td>\n      <td>1</td>\n      <td>1</td>\n      <td>02:00:00</td>\n    </tr>\n    <tr>\n      <th>...</th>\n      <td>...</td>\n      <td>...</td>\n      <td>...</td>\n      <td>...</td>\n    </tr>\n    <tr>\n      <th>20448</th>\n      <td>77.0</td>\n      <td>12</td>\n      <td>31</td>\n      <td>22:00:00</td>\n    </tr>\n    <tr>\n      <th>20449</th>\n      <td>77.0</td>\n      <td>12</td>\n      <td>31</td>\n      <td>22:30:00</td>\n    </tr>\n    <tr>\n      <th>20450</th>\n      <td>77.0</td>\n      <td>12</td>\n      <td>31</td>\n      <td>23:00:00</td>\n    </tr>\n    <tr>\n      <th>20451</th>\n      <td>77.0</td>\n      <td>12</td>\n      <td>31</td>\n      <td>23:00:00</td>\n    </tr>\n    <tr>\n      <th>20452</th>\n      <td>77.0</td>\n      <td>12</td>\n      <td>31</td>\n      <td>23:30:00</td>\n    </tr>\n  </tbody>\n</table>\n<p>20453 rows × 4 columns</p>\n</div>"
     },
     "execution_count": 17,
     "metadata": {},
     "output_type": "execute_result"
    }
   ],
   "source": [
    "air2016_df"
   ],
   "metadata": {
    "collapsed": false,
    "ExecuteTime": {
     "end_time": "2024-05-17T08:33:58.056604Z",
     "start_time": "2024-05-17T08:33:58.050317Z"
    }
   }
  },
  {
   "cell_type": "code",
   "execution_count": 18,
   "metadata": {
    "ExecuteTime": {
     "end_time": "2024-05-17T08:34:06.606352Z",
     "start_time": "2024-05-17T08:34:06.588171Z"
    }
   },
   "outputs": [],
   "source": [
    "air2016_df.set_index(['Month','Day','Time'],inplace=True)"
   ]
  },
  {
   "cell_type": "code",
   "execution_count": 19,
   "metadata": {
    "ExecuteTime": {
     "end_time": "2024-05-17T08:34:07.749252Z",
     "start_time": "2024-05-17T08:34:07.739066Z"
    }
   },
   "outputs": [
    {
     "data": {
      "text/plain": "                    Temp\nMonth Day Time          \n1     1   00:00:00  79.0\n          00:30:00  79.0\n          01:00:00  79.0\n          01:30:00  77.0\n          02:00:00  78.0\n...                  ...\n12    31  22:00:00  77.0\n          22:30:00  77.0\n          23:00:00  77.0\n          23:00:00  77.0\n          23:30:00  77.0\n\n[20453 rows x 1 columns]",
      "text/html": "<div>\n<style scoped>\n    .dataframe tbody tr th:only-of-type {\n        vertical-align: middle;\n    }\n\n    .dataframe tbody tr th {\n        vertical-align: top;\n    }\n\n    .dataframe thead th {\n        text-align: right;\n    }\n</style>\n<table border=\"1\" class=\"dataframe\">\n  <thead>\n    <tr style=\"text-align: right;\">\n      <th></th>\n      <th></th>\n      <th></th>\n      <th>Temp</th>\n    </tr>\n    <tr>\n      <th>Month</th>\n      <th>Day</th>\n      <th>Time</th>\n      <th></th>\n    </tr>\n  </thead>\n  <tbody>\n    <tr>\n      <th rowspan=\"5\" valign=\"top\">1</th>\n      <th rowspan=\"5\" valign=\"top\">1</th>\n      <th>00:00:00</th>\n      <td>79.0</td>\n    </tr>\n    <tr>\n      <th>00:30:00</th>\n      <td>79.0</td>\n    </tr>\n    <tr>\n      <th>01:00:00</th>\n      <td>79.0</td>\n    </tr>\n    <tr>\n      <th>01:30:00</th>\n      <td>77.0</td>\n    </tr>\n    <tr>\n      <th>02:00:00</th>\n      <td>78.0</td>\n    </tr>\n    <tr>\n      <th>...</th>\n      <th>...</th>\n      <th>...</th>\n      <td>...</td>\n    </tr>\n    <tr>\n      <th rowspan=\"5\" valign=\"top\">12</th>\n      <th rowspan=\"5\" valign=\"top\">31</th>\n      <th>22:00:00</th>\n      <td>77.0</td>\n    </tr>\n    <tr>\n      <th>22:30:00</th>\n      <td>77.0</td>\n    </tr>\n    <tr>\n      <th>23:00:00</th>\n      <td>77.0</td>\n    </tr>\n    <tr>\n      <th>23:00:00</th>\n      <td>77.0</td>\n    </tr>\n    <tr>\n      <th>23:30:00</th>\n      <td>77.0</td>\n    </tr>\n  </tbody>\n</table>\n<p>20453 rows × 1 columns</p>\n</div>"
     },
     "execution_count": 19,
     "metadata": {},
     "output_type": "execute_result"
    }
   ],
   "source": [
    "air2016_df"
   ]
  },
  {
   "cell_type": "code",
   "execution_count": 20,
   "outputs": [
    {
     "data": {
      "text/plain": "MultiIndex([( 1,  1, '00:00:00'),\n            ( 1,  1, '00:30:00'),\n            ( 1,  1, '01:00:00'),\n            ( 1,  1, '01:30:00'),\n            ( 1,  1, '02:00:00'),\n            ( 1,  1, '02:00:00'),\n            ( 1,  1, '02:30:00'),\n            ( 1,  1, '03:00:00'),\n            ( 1,  1, '03:30:00'),\n            ( 1,  1, '04:00:00'),\n            ...\n            (12, 31, '20:00:00'),\n            (12, 31, '20:00:00'),\n            (12, 31, '20:30:00'),\n            (12, 31, '21:00:00'),\n            (12, 31, '21:30:00'),\n            (12, 31, '22:00:00'),\n            (12, 31, '22:30:00'),\n            (12, 31, '23:00:00'),\n            (12, 31, '23:00:00'),\n            (12, 31, '23:30:00')],\n           names=['Month', 'Day', 'Time'], length=20453)"
     },
     "execution_count": 20,
     "metadata": {},
     "output_type": "execute_result"
    }
   ],
   "source": [
    "air2016_df.index"
   ],
   "metadata": {
    "collapsed": false,
    "ExecuteTime": {
     "end_time": "2024-05-17T08:34:31.287292Z",
     "start_time": "2024-05-17T08:34:31.277593Z"
    }
   }
  },
  {
   "cell_type": "code",
   "execution_count": 21,
   "metadata": {
    "ExecuteTime": {
     "end_time": "2024-05-17T08:35:09.410959Z",
     "start_time": "2024-05-17T08:35:09.379687Z"
    }
   },
   "outputs": [
    {
     "data": {
      "text/plain": "                    Temp\nMonth Day Time          \n2     24  00:30:00  77.0",
      "text/html": "<div>\n<style scoped>\n    .dataframe tbody tr th:only-of-type {\n        vertical-align: middle;\n    }\n\n    .dataframe tbody tr th {\n        vertical-align: top;\n    }\n\n    .dataframe thead th {\n        text-align: right;\n    }\n</style>\n<table border=\"1\" class=\"dataframe\">\n  <thead>\n    <tr style=\"text-align: right;\">\n      <th></th>\n      <th></th>\n      <th></th>\n      <th>Temp</th>\n    </tr>\n    <tr>\n      <th>Month</th>\n      <th>Day</th>\n      <th>Time</th>\n      <th></th>\n    </tr>\n  </thead>\n  <tbody>\n    <tr>\n      <th>2</th>\n      <th>24</th>\n      <th>00:30:00</th>\n      <td>77.0</td>\n    </tr>\n  </tbody>\n</table>\n</div>"
     },
     "execution_count": 21,
     "metadata": {},
     "output_type": "execute_result"
    }
   ],
   "source": [
    "air2016_df.loc[2,24,'00:30:00']"
   ]
  },
  {
   "cell_type": "markdown",
   "metadata": {},
   "source": [
    "### Example 3 – Intuitive but long column titles"
   ]
  },
  {
   "cell_type": "code",
   "execution_count": 41,
   "metadata": {
    "ExecuteTime": {
     "end_time": "2024-05-17T08:38:24.141045Z",
     "start_time": "2024-05-17T08:38:24.116288Z"
    }
   },
   "outputs": [
    {
     "data": {
      "text/plain": "   *Are you self-employed?*  \\\n0                     False   \n1                     False   \n2                     False   \n3                     False   \n4                     False   \n\n  How many employees does your company or organization have?  \\\n0                                             26-100           \n1                                             26-100           \n2                                             26-100           \n3                                            100-500           \n4                                             26-100           \n\n  Is your employer primarily a tech company/organization?  \\\n0                                               True        \n1                                               True        \n2                                               True        \n3                                               True        \n4                                               True        \n\n  Is your primary role within your company related to tech/IT?  \\\n0                                               True             \n1                                               True             \n2                                               True             \n3                                               True             \n4                                               True             \n\n  Does your employer provide mental health benefits as part of healthcare coverage?  \\\n0                                       I don't know                                  \n1                                                Yes                                  \n2                                       I don't know                                  \n3                                       I don't know                                  \n4                                       I don't know                                  \n\n  Do you know the options for mental health care available under your employer-provided health coverage?  \\\n0                                                 No                                                       \n1                                                 No                                                       \n2                                                 No                                                       \n3                                                 No                                                       \n4                                                 No                                                       \n\n  Has your employer ever formally discussed mental health (for example, as part of a wellness campaign or other official communication)?  \\\n0                                                Yes                                                                                       \n1                                                 No                                                                                       \n2                                                 No                                                                                       \n3                                                Yes                                                                                       \n4                                       I don't know                                                                                       \n\n  Does your employer offer resources to learn more about mental health disorders and options for seeking help?  \\\n0                                                Yes                                                             \n1                                                Yes                                                             \n2                                       I don't know                                                             \n3                                                Yes                                                             \n4                                       I don't know                                                             \n\n  Is your anonymity protected if you choose to take advantage of mental health or substance abuse treatment resources provided by your employer?  \\\n0                                       I don't know                                                                                               \n1                                                Yes                                                                                               \n2                                       I don't know                                                                                               \n3                                                Yes                                                                                               \n4                                       I don't know                                                                                               \n\n  If a mental health issue prompted you to request a medical leave from work, how easy or difficult would it be to ask for that leave?  \\\n0                                          Very easy                                                                                     \n1                                       I don't know                                                                                     \n2                                 Somewhat difficult                                                                                     \n3                                          Very easy                                                                                     \n4                                       I don't know                                                                                     \n\n   ...  \\\n0  ...   \n1  ...   \n2  ...   \n3  ...   \n4  ...   \n\n  Briefly describe what you think the industry as a whole and/or employers could do to improve mental health support for employees.  \\\n0                                                NaN                                                                                  \n1                                                NaN                                                                                  \n2  I think opening up more conversation around th...                                                                                  \n3                                                NaN                                                                                  \n4                                                NaN                                                                                  \n\n  If there is anything else you would like to tell us that has not been covered by the survey questions, please use this space to do so.  \\\n0                                                NaN                                                                                       \n1                                                NaN                                                                                       \n2                                          Thank you                                                                                       \n3                                                NaN                                                                                       \n4                                                NaN                                                                                       \n\n  Would you be willing to talk to one of us more extensively about your experiences with mental health issues in the tech industry? (Note that all interview responses would be used _anonymously_ and only with your permission.)  \\\n0                                              False                                                                                                                                                                                 \n1                                              False                                                                                                                                                                                 \n2                                               True                                                                                                                                                                                 \n3                                              False                                                                                                                                                                                 \n4                                              False                                                                                                                                                                                 \n\n  What is your age? What is your gender? What country do you *live* in?  \\\n0                25                 Male       United States of America   \n1                51                 male       United States of America   \n2                27                 Male       United States of America   \n3                37                 male       United States of America   \n4                46                    m       United States of America   \n\n  What US state or territory do you *live* in? What is your race?  \\\n0                                     Nebraska              White   \n1                                     Nebraska              White   \n2                                     Illinois              White   \n3                                     Nebraska              White   \n4                                     Nebraska              White   \n\n  What country do you *work* in?  What US state or territory do you *work* in?  \n0       United States of America                                      Nebraska  \n1       United States of America                                      Nebraska  \n2       United States of America                                      Illinois  \n3       United States of America                                      Nebraska  \n4       United States of America                                      Nebraska  \n\n[5 rows x 82 columns]",
      "text/html": "<div>\n<style scoped>\n    .dataframe tbody tr th:only-of-type {\n        vertical-align: middle;\n    }\n\n    .dataframe tbody tr th {\n        vertical-align: top;\n    }\n\n    .dataframe thead th {\n        text-align: right;\n    }\n</style>\n<table border=\"1\" class=\"dataframe\">\n  <thead>\n    <tr style=\"text-align: right;\">\n      <th></th>\n      <th>*Are you self-employed?*</th>\n      <th>How many employees does your company or organization have?</th>\n      <th>Is your employer primarily a tech company/organization?</th>\n      <th>Is your primary role within your company related to tech/IT?</th>\n      <th>Does your employer provide mental health benefits as part of healthcare coverage?</th>\n      <th>Do you know the options for mental health care available under your employer-provided health coverage?</th>\n      <th>Has your employer ever formally discussed mental health (for example, as part of a wellness campaign or other official communication)?</th>\n      <th>Does your employer offer resources to learn more about mental health disorders and options for seeking help?</th>\n      <th>Is your anonymity protected if you choose to take advantage of mental health or substance abuse treatment resources provided by your employer?</th>\n      <th>If a mental health issue prompted you to request a medical leave from work, how easy or difficult would it be to ask for that leave?</th>\n      <th>...</th>\n      <th>Briefly describe what you think the industry as a whole and/or employers could do to improve mental health support for employees.</th>\n      <th>If there is anything else you would like to tell us that has not been covered by the survey questions, please use this space to do so.</th>\n      <th>Would you be willing to talk to one of us more extensively about your experiences with mental health issues in the tech industry? (Note that all interview responses would be used _anonymously_ and only with your permission.)</th>\n      <th>What is your age?</th>\n      <th>What is your gender?</th>\n      <th>What country do you *live* in?</th>\n      <th>What US state or territory do you *live* in?</th>\n      <th>What is your race?</th>\n      <th>What country do you *work* in?</th>\n      <th>What US state or territory do you *work* in?</th>\n    </tr>\n  </thead>\n  <tbody>\n    <tr>\n      <th>0</th>\n      <td>False</td>\n      <td>26-100</td>\n      <td>True</td>\n      <td>True</td>\n      <td>I don't know</td>\n      <td>No</td>\n      <td>Yes</td>\n      <td>Yes</td>\n      <td>I don't know</td>\n      <td>Very easy</td>\n      <td>...</td>\n      <td>NaN</td>\n      <td>NaN</td>\n      <td>False</td>\n      <td>25</td>\n      <td>Male</td>\n      <td>United States of America</td>\n      <td>Nebraska</td>\n      <td>White</td>\n      <td>United States of America</td>\n      <td>Nebraska</td>\n    </tr>\n    <tr>\n      <th>1</th>\n      <td>False</td>\n      <td>26-100</td>\n      <td>True</td>\n      <td>True</td>\n      <td>Yes</td>\n      <td>No</td>\n      <td>No</td>\n      <td>Yes</td>\n      <td>Yes</td>\n      <td>I don't know</td>\n      <td>...</td>\n      <td>NaN</td>\n      <td>NaN</td>\n      <td>False</td>\n      <td>51</td>\n      <td>male</td>\n      <td>United States of America</td>\n      <td>Nebraska</td>\n      <td>White</td>\n      <td>United States of America</td>\n      <td>Nebraska</td>\n    </tr>\n    <tr>\n      <th>2</th>\n      <td>False</td>\n      <td>26-100</td>\n      <td>True</td>\n      <td>True</td>\n      <td>I don't know</td>\n      <td>No</td>\n      <td>No</td>\n      <td>I don't know</td>\n      <td>I don't know</td>\n      <td>Somewhat difficult</td>\n      <td>...</td>\n      <td>I think opening up more conversation around th...</td>\n      <td>Thank you</td>\n      <td>True</td>\n      <td>27</td>\n      <td>Male</td>\n      <td>United States of America</td>\n      <td>Illinois</td>\n      <td>White</td>\n      <td>United States of America</td>\n      <td>Illinois</td>\n    </tr>\n    <tr>\n      <th>3</th>\n      <td>False</td>\n      <td>100-500</td>\n      <td>True</td>\n      <td>True</td>\n      <td>I don't know</td>\n      <td>No</td>\n      <td>Yes</td>\n      <td>Yes</td>\n      <td>Yes</td>\n      <td>Very easy</td>\n      <td>...</td>\n      <td>NaN</td>\n      <td>NaN</td>\n      <td>False</td>\n      <td>37</td>\n      <td>male</td>\n      <td>United States of America</td>\n      <td>Nebraska</td>\n      <td>White</td>\n      <td>United States of America</td>\n      <td>Nebraska</td>\n    </tr>\n    <tr>\n      <th>4</th>\n      <td>False</td>\n      <td>26-100</td>\n      <td>True</td>\n      <td>True</td>\n      <td>I don't know</td>\n      <td>No</td>\n      <td>I don't know</td>\n      <td>I don't know</td>\n      <td>I don't know</td>\n      <td>I don't know</td>\n      <td>...</td>\n      <td>NaN</td>\n      <td>NaN</td>\n      <td>False</td>\n      <td>46</td>\n      <td>m</td>\n      <td>United States of America</td>\n      <td>Nebraska</td>\n      <td>White</td>\n      <td>United States of America</td>\n      <td>Nebraska</td>\n    </tr>\n  </tbody>\n</table>\n<p>5 rows × 82 columns</p>\n</div>"
     },
     "execution_count": 41,
     "metadata": {},
     "output_type": "execute_result"
    }
   ],
   "source": [
    "response_df = pd.read_csv('OSMI Mental Health in Tech Survey 2019.csv')\n",
    "response_df.head(5)"
   ]
  },
  {
   "cell_type": "code",
   "execution_count": 42,
   "metadata": {
    "ExecuteTime": {
     "end_time": "2024-05-17T08:38:24.669060Z",
     "start_time": "2024-05-17T08:38:24.646185Z"
    }
   },
   "outputs": [
    {
     "data": {
      "text/plain": "0       No\n1       No\n2       No\n3       No\n4       No\n      ... \n347     No\n348    NaN\n349    NaN\n350     No\n351    Yes\nName: Do you know the options for mental health care available under your employer-provided health coverage?, Length: 352, dtype: object"
     },
     "execution_count": 42,
     "metadata": {},
     "output_type": "execute_result"
    }
   ],
   "source": [
    "response_df['Do you know the options for mental health care available under your employer-provided health coverage?']"
   ]
  },
  {
   "cell_type": "code",
   "execution_count": 43,
   "outputs": [
    {
     "name": "stdout",
     "output_type": "stream",
     "text": [
      "82\n"
     ]
    }
   ],
   "source": [
    "print(len(response_df.columns))"
   ],
   "metadata": {
    "collapsed": false,
    "ExecuteTime": {
     "end_time": "2024-05-17T08:38:26.172379Z",
     "start_time": "2024-05-17T08:38:26.158782Z"
    }
   }
  },
  {
   "cell_type": "code",
   "execution_count": 44,
   "outputs": [
    {
     "data": {
      "text/plain": "[1,\n 2,\n 3,\n 4,\n 5,\n 6,\n 7,\n 8,\n 9,\n 10,\n 11,\n 12,\n 13,\n 14,\n 15,\n 16,\n 17,\n 18,\n 19,\n 20,\n 21,\n 22,\n 23,\n 24,\n 25,\n 26,\n 27,\n 28,\n 29,\n 30,\n 31,\n 32,\n 33,\n 34,\n 35,\n 36,\n 37,\n 38,\n 39,\n 40,\n 41,\n 42,\n 43,\n 44,\n 45,\n 46,\n 47,\n 48,\n 49,\n 50,\n 51,\n 52,\n 53,\n 54,\n 55,\n 56,\n 57,\n 58,\n 59,\n 60,\n 61,\n 62,\n 63,\n 64,\n 65,\n 66,\n 67,\n 68,\n 69,\n 70,\n 71,\n 72,\n 73,\n 74,\n 75,\n 76,\n 77,\n 78,\n 79,\n 80,\n 81,\n 82]"
     },
     "execution_count": 44,
     "metadata": {},
     "output_type": "execute_result"
    }
   ],
   "source": [
    "[i+1 for i in range(len(response_df.columns))]"
   ],
   "metadata": {
    "collapsed": false,
    "ExecuteTime": {
     "end_time": "2024-05-17T08:38:26.953854Z",
     "start_time": "2024-05-17T08:38:26.942456Z"
    }
   }
  },
  {
   "cell_type": "code",
   "execution_count": 45,
   "metadata": {
    "ExecuteTime": {
     "end_time": "2024-05-17T08:38:27.862257Z",
     "start_time": "2024-05-17T08:38:27.851492Z"
    }
   },
   "outputs": [],
   "source": [
    "\n",
    "keys = ['Q{}'.format(i+1) for i in range(1,83)]\n",
    "\n",
    "columns_dic = pd.Series(response_df.columns,index=keys)"
   ]
  },
  {
   "cell_type": "code",
   "execution_count": 46,
   "metadata": {
    "ExecuteTime": {
     "end_time": "2024-05-17T08:38:28.452234Z",
     "start_time": "2024-05-17T08:38:28.443931Z"
    }
   },
   "outputs": [
    {
     "data": {
      "text/plain": "'Is your employer primarily a tech company/organization?'"
     },
     "execution_count": 46,
     "metadata": {},
     "output_type": "execute_result"
    }
   ],
   "source": [
    "columns_dic['Q4']"
   ]
  },
  {
   "cell_type": "code",
   "execution_count": 47,
   "metadata": {
    "ExecuteTime": {
     "end_time": "2024-05-17T08:38:30.343535Z",
     "start_time": "2024-05-17T08:38:30.330930Z"
    }
   },
   "outputs": [],
   "source": [
    "response_df.columns = keys"
   ]
  },
  {
   "cell_type": "code",
   "execution_count": 48,
   "metadata": {
    "scrolled": false,
    "ExecuteTime": {
     "end_time": "2024-05-17T08:38:30.859689Z",
     "start_time": "2024-05-17T08:38:30.840847Z"
    }
   },
   "outputs": [
    {
     "data": {
      "text/plain": "      Q2      Q3    Q4    Q5            Q6  Q7   Q8   Q9           Q10  \\\n0  False  26-100  True  True  I don't know  No  Yes  Yes  I don't know   \n\n         Q11  ...  Q74  Q75    Q76 Q77   Q78                       Q79  \\\n0  Very easy  ...  NaN  NaN  False  25  Male  United States of America   \n\n        Q80    Q81                       Q82       Q83  \n0  Nebraska  White  United States of America  Nebraska  \n\n[1 rows x 82 columns]",
      "text/html": "<div>\n<style scoped>\n    .dataframe tbody tr th:only-of-type {\n        vertical-align: middle;\n    }\n\n    .dataframe tbody tr th {\n        vertical-align: top;\n    }\n\n    .dataframe thead th {\n        text-align: right;\n    }\n</style>\n<table border=\"1\" class=\"dataframe\">\n  <thead>\n    <tr style=\"text-align: right;\">\n      <th></th>\n      <th>Q2</th>\n      <th>Q3</th>\n      <th>Q4</th>\n      <th>Q5</th>\n      <th>Q6</th>\n      <th>Q7</th>\n      <th>Q8</th>\n      <th>Q9</th>\n      <th>Q10</th>\n      <th>Q11</th>\n      <th>...</th>\n      <th>Q74</th>\n      <th>Q75</th>\n      <th>Q76</th>\n      <th>Q77</th>\n      <th>Q78</th>\n      <th>Q79</th>\n      <th>Q80</th>\n      <th>Q81</th>\n      <th>Q82</th>\n      <th>Q83</th>\n    </tr>\n  </thead>\n  <tbody>\n    <tr>\n      <th>0</th>\n      <td>False</td>\n      <td>26-100</td>\n      <td>True</td>\n      <td>True</td>\n      <td>I don't know</td>\n      <td>No</td>\n      <td>Yes</td>\n      <td>Yes</td>\n      <td>I don't know</td>\n      <td>Very easy</td>\n      <td>...</td>\n      <td>NaN</td>\n      <td>NaN</td>\n      <td>False</td>\n      <td>25</td>\n      <td>Male</td>\n      <td>United States of America</td>\n      <td>Nebraska</td>\n      <td>White</td>\n      <td>United States of America</td>\n      <td>Nebraska</td>\n    </tr>\n  </tbody>\n</table>\n<p>1 rows × 82 columns</p>\n</div>"
     },
     "execution_count": 48,
     "metadata": {},
     "output_type": "execute_result"
    }
   ],
   "source": [
    "response_df.head(1)"
   ]
  },
  {
   "cell_type": "code",
   "execution_count": null,
   "outputs": [],
   "source": [],
   "metadata": {
    "collapsed": false
   }
  }
 ],
 "metadata": {
  "kernelspec": {
   "display_name": "Python 3",
   "language": "python",
   "name": "python3"
  },
  "language_info": {
   "codemirror_mode": {
    "name": "ipython",
    "version": 3
   },
   "file_extension": ".py",
   "mimetype": "text/x-python",
   "name": "python",
   "nbconvert_exporter": "python",
   "pygments_lexer": "ipython3",
   "version": "3.8.5"
  }
 },
 "nbformat": 4,
 "nbformat_minor": 4
}
