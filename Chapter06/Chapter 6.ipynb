{
 "cells": [
  {
   "cell_type": "markdown",
   "metadata": {},
   "source": [
    "# Hands-On Data Preprocessing in Python\n",
    "Learn how to effectively prepare data for successful data analytics\n",
    "    \n",
    "    AUTHOR: Dr. Roy Jafari \n",
    "\n",
    "# Chapter 6: Prediction "
   ]
  },
  {
   "cell_type": "code",
   "execution_count": 2,
   "metadata": {
    "ExecuteTime": {
     "end_time": "2024-05-17T02:54:03.546905Z",
     "start_time": "2024-05-17T02:54:03.545161Z"
    }
   },
   "outputs": [],
   "source": [
    "import pandas as pd\n",
    "import matplotlib.pyplot as plt\n",
    "import numpy as np"
   ]
  },
  {
   "cell_type": "markdown",
   "metadata": {},
   "source": [
    "## Predictive models\n",
    "### Forecasting\n",
    "#### Example of using forecasting to predict future"
   ]
  },
  {
   "cell_type": "code",
   "execution_count": 3,
   "metadata": {
    "ExecuteTime": {
     "end_time": "2024-05-17T02:54:04.872516Z",
     "start_time": "2024-05-17T02:54:04.856775Z"
    }
   },
   "outputs": [],
   "source": [
    "msu_df = pd.read_csv('MSU applications.csv')\n",
    "msu_df.set_index('Year',drop=True,inplace=True)"
   ]
  },
  {
   "cell_type": "code",
   "execution_count": 4,
   "metadata": {
    "ExecuteTime": {
     "end_time": "2024-05-17T02:54:19.730308Z",
     "start_time": "2024-05-17T02:54:19.707226Z"
    }
   },
   "outputs": [
    {
     "data": {
      "text/plain": "      N_Applications\nYear                \n2006            5778\n2007            5140\n2008            6141\n2009            7429\n2010            7839\n2011            9300\n2012            9864\n2013           10449\n2014           11117\n2015           10766\n2016           12701\n2017           13930\n2018           13817\n2019           17363\n2020           18269\n2021           16127",
      "text/html": "<div>\n<style scoped>\n    .dataframe tbody tr th:only-of-type {\n        vertical-align: middle;\n    }\n\n    .dataframe tbody tr th {\n        vertical-align: top;\n    }\n\n    .dataframe thead th {\n        text-align: right;\n    }\n</style>\n<table border=\"1\" class=\"dataframe\">\n  <thead>\n    <tr style=\"text-align: right;\">\n      <th></th>\n      <th>N_Applications</th>\n    </tr>\n    <tr>\n      <th>Year</th>\n      <th></th>\n    </tr>\n  </thead>\n  <tbody>\n    <tr>\n      <th>2006</th>\n      <td>5778</td>\n    </tr>\n    <tr>\n      <th>2007</th>\n      <td>5140</td>\n    </tr>\n    <tr>\n      <th>2008</th>\n      <td>6141</td>\n    </tr>\n    <tr>\n      <th>2009</th>\n      <td>7429</td>\n    </tr>\n    <tr>\n      <th>2010</th>\n      <td>7839</td>\n    </tr>\n    <tr>\n      <th>2011</th>\n      <td>9300</td>\n    </tr>\n    <tr>\n      <th>2012</th>\n      <td>9864</td>\n    </tr>\n    <tr>\n      <th>2013</th>\n      <td>10449</td>\n    </tr>\n    <tr>\n      <th>2014</th>\n      <td>11117</td>\n    </tr>\n    <tr>\n      <th>2015</th>\n      <td>10766</td>\n    </tr>\n    <tr>\n      <th>2016</th>\n      <td>12701</td>\n    </tr>\n    <tr>\n      <th>2017</th>\n      <td>13930</td>\n    </tr>\n    <tr>\n      <th>2018</th>\n      <td>13817</td>\n    </tr>\n    <tr>\n      <th>2019</th>\n      <td>17363</td>\n    </tr>\n    <tr>\n      <th>2020</th>\n      <td>18269</td>\n    </tr>\n    <tr>\n      <th>2021</th>\n      <td>16127</td>\n    </tr>\n  </tbody>\n</table>\n</div>"
     },
     "execution_count": 4,
     "metadata": {},
     "output_type": "execute_result"
    }
   ],
   "source": [
    "application_df = pd.DataFrame(msu_df.N_Applications)\n",
    "application_df"
   ]
  },
  {
   "cell_type": "code",
   "execution_count": 5,
   "metadata": {
    "ExecuteTime": {
     "end_time": "2024-05-17T02:54:27.923184Z",
     "start_time": "2024-05-17T02:54:27.906735Z"
    }
   },
   "outputs": [
    {
     "data": {
      "text/plain": "Year            2006  2007  2008  2009  2010  2011  2012   2013   2014   2015  \\\nN_Applications  5778  5140  6141  7429  7839  9300  9864  10449  11117  10766   \n\nYear             2016   2017   2018   2019   2020   2021  \nN_Applications  12701  13930  13817  17363  18269  16127  ",
      "text/html": "<div>\n<style scoped>\n    .dataframe tbody tr th:only-of-type {\n        vertical-align: middle;\n    }\n\n    .dataframe tbody tr th {\n        vertical-align: top;\n    }\n\n    .dataframe thead th {\n        text-align: right;\n    }\n</style>\n<table border=\"1\" class=\"dataframe\">\n  <thead>\n    <tr style=\"text-align: right;\">\n      <th>Year</th>\n      <th>2006</th>\n      <th>2007</th>\n      <th>2008</th>\n      <th>2009</th>\n      <th>2010</th>\n      <th>2011</th>\n      <th>2012</th>\n      <th>2013</th>\n      <th>2014</th>\n      <th>2015</th>\n      <th>2016</th>\n      <th>2017</th>\n      <th>2018</th>\n      <th>2019</th>\n      <th>2020</th>\n      <th>2021</th>\n    </tr>\n  </thead>\n  <tbody>\n    <tr>\n      <th>N_Applications</th>\n      <td>5778</td>\n      <td>5140</td>\n      <td>6141</td>\n      <td>7429</td>\n      <td>7839</td>\n      <td>9300</td>\n      <td>9864</td>\n      <td>10449</td>\n      <td>11117</td>\n      <td>10766</td>\n      <td>12701</td>\n      <td>13930</td>\n      <td>13817</td>\n      <td>17363</td>\n      <td>18269</td>\n      <td>16127</td>\n    </tr>\n  </tbody>\n</table>\n</div>"
     },
     "execution_count": 5,
     "metadata": {},
     "output_type": "execute_result"
    }
   ],
   "source": [
    "application_df.transpose()"
   ]
  },
  {
   "cell_type": "code",
   "execution_count": 6,
   "metadata": {
    "scrolled": true,
    "ExecuteTime": {
     "end_time": "2024-05-17T02:54:51.326078Z",
     "start_time": "2024-05-17T02:54:51.215359Z"
    }
   },
   "outputs": [
    {
     "data": {
      "text/plain": "<Figure size 700x300 with 1 Axes>",
      "image/png": "[encoded data removed]"
     },
     "metadata": {},
     "output_type": "display_data"
    }
   ],
   "source": [
    "plt.figure(figsize=(7,3))\n",
    "plt.plot(application_df)\n",
    "plt.xticks(application_df.index,rotation=90)\n",
    "plt.show()"
   ]
  },
  {
   "cell_type": "code",
   "execution_count": 7,
   "metadata": {
    "ExecuteTime": {
     "end_time": "2024-05-17T02:55:00.572933Z",
     "start_time": "2024-05-17T02:55:00.558933Z"
    }
   },
   "outputs": [
    {
     "data": {
      "text/plain": "N_Applications    15901.2\ndtype: float64"
     },
     "execution_count": 7,
     "metadata": {},
     "output_type": "execute_result"
    }
   ],
   "source": [
    "application_df.loc[2017:2021].mean()"
   ]
  },
  {
   "cell_type": "code",
   "execution_count": 10,
   "metadata": {
    "ExecuteTime": {
     "end_time": "2024-05-17T02:55:52.842459Z",
     "start_time": "2024-05-17T02:55:52.828765Z"
    }
   },
   "outputs": [
    {
     "data": {
      "text/plain": "      N_Applications\nYear                \n2017         15901.2\n2018         15901.2\n2019         15901.2\n2020         15901.2\n2021         15901.2",
      "text/html": "<div>\n<style scoped>\n    .dataframe tbody tr th:only-of-type {\n        vertical-align: middle;\n    }\n\n    .dataframe tbody tr th {\n        vertical-align: top;\n    }\n\n    .dataframe thead th {\n        text-align: right;\n    }\n</style>\n<table border=\"1\" class=\"dataframe\">\n  <thead>\n    <tr style=\"text-align: right;\">\n      <th></th>\n      <th>N_Applications</th>\n    </tr>\n    <tr>\n      <th>Year</th>\n      <th></th>\n    </tr>\n  </thead>\n  <tbody>\n    <tr>\n      <th>2017</th>\n      <td>15901.2</td>\n    </tr>\n    <tr>\n      <th>2018</th>\n      <td>15901.2</td>\n    </tr>\n    <tr>\n      <th>2019</th>\n      <td>15901.2</td>\n    </tr>\n    <tr>\n      <th>2020</th>\n      <td>15901.2</td>\n    </tr>\n    <tr>\n      <th>2021</th>\n      <td>15901.2</td>\n    </tr>\n  </tbody>\n</table>\n</div>"
     },
     "execution_count": 10,
     "metadata": {},
     "output_type": "execute_result"
    }
   ],
   "source": [
    "average_df = pd.DataFrame(application_df.loc[2017:2021])\n",
    "average_df['N_Applications'] = 15901.2\n",
    "average_df"
   ]
  },
  {
   "cell_type": "code",
   "execution_count": 8,
   "outputs": [],
   "source": [
    "average_df.loc[2022] = 15901.2"
   ],
   "metadata": {
    "collapsed": false,
    "ExecuteTime": {
     "start_time": "2024-05-17T02:55:36.364026Z"
    }
   }
  },
  {
   "cell_type": "code",
   "execution_count": 11,
   "metadata": {
    "ExecuteTime": {
     "end_time": "2024-05-17T02:56:17.821860Z",
     "start_time": "2024-05-17T02:56:17.802194Z"
    }
   },
   "outputs": [
    {
     "data": {
      "text/plain": "      N_Applications\n2021         16127.0\n2022         15901.2",
      "text/html": "<div>\n<style scoped>\n    .dataframe tbody tr th:only-of-type {\n        vertical-align: middle;\n    }\n\n    .dataframe tbody tr th {\n        vertical-align: top;\n    }\n\n    .dataframe thead th {\n        text-align: right;\n    }\n</style>\n<table border=\"1\" class=\"dataframe\">\n  <thead>\n    <tr style=\"text-align: right;\">\n      <th></th>\n      <th>N_Applications</th>\n    </tr>\n  </thead>\n  <tbody>\n    <tr>\n      <th>2021</th>\n      <td>16127.0</td>\n    </tr>\n    <tr>\n      <th>2022</th>\n      <td>15901.2</td>\n    </tr>\n  </tbody>\n</table>\n</div>"
     },
     "execution_count": 11,
     "metadata": {},
     "output_type": "execute_result"
    }
   ],
   "source": [
    "predict_df = pd.DataFrame(application_df.loc[2021]).transpose()\n",
    "predict_df.loc[2022] = 15901.2\n",
    "predict_df"
   ]
  },
  {
   "cell_type": "code",
   "execution_count": 12,
   "metadata": {
    "scrolled": true,
    "ExecuteTime": {
     "end_time": "2024-05-17T02:56:59.570001Z",
     "start_time": "2024-05-17T02:56:59.496920Z"
    }
   },
   "outputs": [
    {
     "data": {
      "text/plain": "<Figure size 700x300 with 1 Axes>",
      "image/png": "[encoded data removed]"
     },
     "metadata": {},
     "output_type": "display_data"
    }
   ],
   "source": [
    "plt.figure(figsize=(7,3))\n",
    "plt.plot(application_df)\n",
    "plt.plot(average_df,linestyle='--',c='C1')\n",
    "plt.plot(predict_df,c='C1')\n",
    "plt.xticks(application_df.index,rotation=90)\n",
    "plt.show()"
   ]
  },
  {
   "cell_type": "markdown",
   "metadata": {},
   "source": [
    "## Regression Analysis\n",
    "### Example of designing regression analysis to predict future values\n",
    "## Linear Regression"
   ]
  },
  {
   "cell_type": "code",
   "execution_count": 13,
   "metadata": {
    "scrolled": true,
    "ExecuteTime": {
     "end_time": "2024-05-17T02:57:17.530479Z",
     "start_time": "2024-05-17T02:57:17.513736Z"
    }
   },
   "outputs": [
    {
     "data": {
      "text/plain": "      P_Football_Performance    SMAn2  N_Applications\nYear                                                 \n2006                   0.273   5778.0            5778\n2007                   0.273   5778.0            5140\n2008                   0.250   5459.0            6141\n2009                   0.615   5640.5            7429\n2010                   0.333   6785.0            7839\n2011                   0.417   7634.0            9300\n2012                   0.692   8569.5            9864\n2013                   0.538   9582.0           10449\n2014                   0.615  10156.5           11117\n2015                   0.538  10783.0           10766\n2016                   0.769  10941.5           12701\n2017                   0.692  11733.5           13930\n2018                   0.462  13315.5           13817\n2019                   0.692  13873.5           17363\n2020                   0.615  15590.0           18269\n2021                   0.462  17816.0           16127",
      "text/html": "<div>\n<style scoped>\n    .dataframe tbody tr th:only-of-type {\n        vertical-align: middle;\n    }\n\n    .dataframe tbody tr th {\n        vertical-align: top;\n    }\n\n    .dataframe thead th {\n        text-align: right;\n    }\n</style>\n<table border=\"1\" class=\"dataframe\">\n  <thead>\n    <tr style=\"text-align: right;\">\n      <th></th>\n      <th>P_Football_Performance</th>\n      <th>SMAn2</th>\n      <th>N_Applications</th>\n    </tr>\n    <tr>\n      <th>Year</th>\n      <th></th>\n      <th></th>\n      <th></th>\n    </tr>\n  </thead>\n  <tbody>\n    <tr>\n      <th>2006</th>\n      <td>0.273</td>\n      <td>5778.0</td>\n      <td>5778</td>\n    </tr>\n    <tr>\n      <th>2007</th>\n      <td>0.273</td>\n      <td>5778.0</td>\n      <td>5140</td>\n    </tr>\n    <tr>\n      <th>2008</th>\n      <td>0.250</td>\n      <td>5459.0</td>\n      <td>6141</td>\n    </tr>\n    <tr>\n      <th>2009</th>\n      <td>0.615</td>\n      <td>5640.5</td>\n      <td>7429</td>\n    </tr>\n    <tr>\n      <th>2010</th>\n      <td>0.333</td>\n      <td>6785.0</td>\n      <td>7839</td>\n    </tr>\n    <tr>\n      <th>2011</th>\n      <td>0.417</td>\n      <td>7634.0</td>\n      <td>9300</td>\n    </tr>\n    <tr>\n      <th>2012</th>\n      <td>0.692</td>\n      <td>8569.5</td>\n      <td>9864</td>\n    </tr>\n    <tr>\n      <th>2013</th>\n      <td>0.538</td>\n      <td>9582.0</td>\n      <td>10449</td>\n    </tr>\n    <tr>\n      <th>2014</th>\n      <td>0.615</td>\n      <td>10156.5</td>\n      <td>11117</td>\n    </tr>\n    <tr>\n      <th>2015</th>\n      <td>0.538</td>\n      <td>10783.0</td>\n      <td>10766</td>\n    </tr>\n    <tr>\n      <th>2016</th>\n      <td>0.769</td>\n      <td>10941.5</td>\n      <td>12701</td>\n    </tr>\n    <tr>\n      <th>2017</th>\n      <td>0.692</td>\n      <td>11733.5</td>\n      <td>13930</td>\n    </tr>\n    <tr>\n      <th>2018</th>\n      <td>0.462</td>\n      <td>13315.5</td>\n      <td>13817</td>\n    </tr>\n    <tr>\n      <th>2019</th>\n      <td>0.692</td>\n      <td>13873.5</td>\n      <td>17363</td>\n    </tr>\n    <tr>\n      <th>2020</th>\n      <td>0.615</td>\n      <td>15590.0</td>\n      <td>18269</td>\n    </tr>\n    <tr>\n      <th>2021</th>\n      <td>0.462</td>\n      <td>17816.0</td>\n      <td>16127</td>\n    </tr>\n  </tbody>\n</table>\n</div>"
     },
     "execution_count": 13,
     "metadata": {},
     "output_type": "execute_result"
    }
   ],
   "source": [
    "import pandas as pd\n",
    "msu_df = pd.read_csv('MSU applications.csv')\n",
    "msu_df.set_index('Year',drop=True,inplace=True)\n",
    "msu_df"
   ]
  },
  {
   "cell_type": "code",
   "execution_count": 14,
   "metadata": {
    "ExecuteTime": {
     "end_time": "2024-05-17T02:58:51.570041Z",
     "start_time": "2024-05-17T02:58:22.016606Z"
    }
   },
   "outputs": [
    {
     "name": "stdout",
     "output_type": "stream",
     "text": [
      "Retrieving notices: ...working... done\r\n",
      "Collecting package metadata (current_repodata.json): done\r\n",
      "Solving environment: done\r\n",
      "\r\n",
      "\r\n",
      "==> WARNING: A newer version of conda exists. <==\r\n",
      "  current version: 23.9.0\r\n",
      "  latest version: 24.5.0\r\n",
      "\r\n",
      "Please update conda by running\r\n",
      "\r\n",
      "    $ conda update -n base -c defaults conda\r\n",
      "\r\n",
      "Or to minimize the number of packages updated during conda update use\r\n",
      "\r\n",
      "     conda install conda=24.5.0\r\n",
      "\r\n",
      "\r\n",
      "\r\n",
      "## Package Plan ##\r\n",
      "\r\n",
      "  environment location: /Users/kearney/anaconda3\r\n",
      "\r\n",
      "  added / updated specs:\r\n",
      "    - scikit-learn\r\n",
      "\r\n",
      "\r\n",
      "The following packages will be downloaded:\r\n",
      "\r\n",
      "    package                    |            build\r\n",
      "    ---------------------------|-----------------\r\n",
      "    certifi-2024.2.2           |     pyhd8ed1ab_0         157 KB  intel\r\n",
      "    openssl-3.0.13             |       h1a28f6b_1         4.2 MB\r\n",
      "    scikit-learn-1.4.2         |  py311h7aedaa7_1         9.5 MB\r\n",
      "    ------------------------------------------------------------\r\n",
      "                                           Total:        13.9 MB\r\n",
      "\r\n",
      "The following packages will be UPDATED:\r\n",
      "\r\n",
      "  openssl                                 3.0.13-h1a28f6b_0 --> 3.0.13-h1a28f6b_1 \r\n",
      "  scikit-learn                        1.3.0-py311h7aedaa7_0 --> 1.4.2-py311h7aedaa7_1 \r\n",
      "\r\n",
      "The following packages will be SUPERSEDED by a higher-priority channel:\r\n",
      "\r\n",
      "  certifi            pkgs/main/osx-arm64::certifi-2024.2.2~ --> intel/noarch::certifi-2024.2.2-pyhd8ed1ab_0 \r\n",
      "\r\n",
      "\r\n",
      "\r\n",
      "Downloading and Extracting Packages:\r\n",
      "certifi-2024.2.2     | 157 KB    |                                       |   0% \r\n",
      "openssl-3.0.13       | 4.2 MB    |                                       |   0% \u001B[A\r\n",
      "\r\n",
      "scikit-learn-1.4.2   | 9.5 MB    |                                       |   0% \u001B[A\u001B[A\r\n",
      "openssl-3.0.13       | 4.2 MB    | 1                                     |   0% \u001B[A\r\n",
      "\r\n",
      "scikit-learn-1.4.2   | 9.5 MB    |                                       |   0% \u001B[A\u001B[A\r\n",
      "openssl-3.0.13       | 4.2 MB    | 4                                     |   1% \u001B[A\r\n",
      "\r\n",
      "scikit-learn-1.4.2   | 9.5 MB    | 1                                     |   0% \u001B[A\u001B[A\r\n",
      "openssl-3.0.13       | 4.2 MB    | 6                                     |   2% \u001B[A\r\n",
      "\r\n",
      "scikit-learn-1.4.2   | 9.5 MB    | 3                                     |   1% \u001B[A\u001B[A\r\n",
      "openssl-3.0.13       | 4.2 MB    | #2                                    |   3% \u001B[A\r\n",
      "\r\n",
      "scikit-learn-1.4.2   | 9.5 MB    | 6                                     |   2% \u001B[A\u001B[A\r\n",
      "openssl-3.0.13       | 4.2 MB    | #9                                    |   5% \u001B[A\r\n",
      "\r\n",
      "scikit-learn-1.4.2   | 9.5 MB    | 9                                     |   2% \u001B[A\u001B[A\r\n",
      "openssl-3.0.13       | 4.2 MB    | ##9                                   |   8% \u001B[A\r\n",
      "\r\n",
      "scikit-learn-1.4.2   | 9.5 MB    | #3                                    |   4% \u001B[A\u001B[A\r\n",
      "openssl-3.0.13       | 4.2 MB    | ####3                                 |  12% \u001B[A\r\n",
      "\r\n",
      "scikit-learn-1.4.2   | 9.5 MB    | ##1                                   |   6% \u001B[A\u001B[A\r\n",
      "openssl-3.0.13       | 4.2 MB    | ######3                               |  17% \u001B[A\r\n",
      "\r\n",
      "scikit-learn-1.4.2   | 9.5 MB    | ###3                                  |   9% \u001B[A\u001B[A\r\n",
      "openssl-3.0.13       | 4.2 MB    | #########3                            |  25% \u001B[A\r\n",
      "\r\n",
      "scikit-learn-1.4.2   | 9.5 MB    | ####6                                 |  13% \u001B[A\u001B[A\r\n",
      "openssl-3.0.13       | 4.2 MB    | ############7                         |  35% \u001B[A\r\n",
      "\r\n",
      "scikit-learn-1.4.2   | 9.5 MB    | ######4                               |  18% \u001B[A\u001B[A\r\n",
      "openssl-3.0.13       | 4.2 MB    | ################3                     |  44% \u001B[A\r\n",
      "\r\n",
      "scikit-learn-1.4.2   | 9.5 MB    | ########9                             |  24% \u001B[A\u001B[A\r\n",
      "openssl-3.0.13       | 4.2 MB    | #######################5              |  64% \u001B[A\r\n",
      "\r\n",
      "scikit-learn-1.4.2   | 9.5 MB    | #############2                        |  36% \u001B[A\u001B[A\r\n",
      "openssl-3.0.13       | 4.2 MB    | #############################1        |  79% \u001B[A\r\n",
      "\r\n",
      "scikit-learn-1.4.2   | 9.5 MB    | ################4                     |  45% \u001B[A\u001B[A\r\n",
      "openssl-3.0.13       | 4.2 MB    | ##################################### | 100% \u001B[A\r\n",
      "openssl-3.0.13       | 4.2 MB    | ##################################### | 100% \u001B[A\r\n",
      "\r\n",
      "scikit-learn-1.4.2   | 9.5 MB    | #########################9            |  70% \u001B[A\u001B[A\r\n",
      "\r\n",
      "scikit-learn-1.4.2   | 9.5 MB    | ##################################8   |  94% \u001B[A\u001B[A\r\n",
      "\r\n",
      "                                                                                \u001B[A\u001B[A\r\n",
      "                                                                                \u001B[A\r\n",
      "\r\n",
      "                                                                                \u001B[A\u001B[A\r\n",
      "Preparing transaction: done\r\n",
      "Verifying transaction: done\r\n",
      "Executing transaction: done\r\n",
      "\n",
      "Note: you may need to restart the kernel to use updated packages.\n"
     ]
    }
   ],
   "source": [
    "conda install -c intel scikit-learn"
   ]
  },
  {
   "cell_type": "code",
   "execution_count": 15,
   "metadata": {
    "scrolled": true,
    "ExecuteTime": {
     "end_time": "2024-05-17T02:59:12.986126Z",
     "start_time": "2024-05-17T02:58:58.455532Z"
    }
   },
   "outputs": [
    {
     "name": "stdout",
     "output_type": "stream",
     "text": [
      "intercept (b0)  -890.7106225983389\n",
      "                Predictor coefficient Name  coefficient Value\n",
      "0  P_Football_Performance               b1        5544.961933\n",
      "1                   SMAn2               b2           0.907032\n"
     ]
    }
   ],
   "source": [
    "from sklearn.linear_model import LinearRegression\n",
    "\n",
    "X = ['P_Football_Performance','SMAn2']\n",
    "y = 'N_Applications'\n",
    "\n",
    "data_X = msu_df[X]\n",
    "data_y = msu_df[y]\n",
    "\n",
    "lm = LinearRegression()\n",
    "lm.fit(data_X, data_y)\n",
    "\n",
    "print('intercept (b0) ', lm.intercept_)\n",
    "coef_names = ['b1','b2']\n",
    "print(pd.DataFrame({'Predictor': data_X.columns,\n",
    "                    'coefficient Name':coef_names, \n",
    "                    'coefficient Value': lm.coef_}))"
   ]
  },
  {
   "cell_type": "markdown",
   "metadata": {},
   "source": [
    "#### How to use the trained equation for prediction"
   ]
  },
  {
   "cell_type": "code",
   "execution_count": 16,
   "metadata": {
    "ExecuteTime": {
     "end_time": "2024-05-17T03:01:32.803419Z",
     "start_time": "2024-05-17T03:01:32.796448Z"
    }
   },
   "outputs": [
    {
     "data": {
      "text/plain": "      P_Football_Performance  SMAn2\n2022                   0.364  17198",
      "text/html": "<div>\n<style scoped>\n    .dataframe tbody tr th:only-of-type {\n        vertical-align: middle;\n    }\n\n    .dataframe tbody tr th {\n        vertical-align: top;\n    }\n\n    .dataframe thead th {\n        text-align: right;\n    }\n</style>\n<table border=\"1\" class=\"dataframe\">\n  <thead>\n    <tr style=\"text-align: right;\">\n      <th></th>\n      <th>P_Football_Performance</th>\n      <th>SMAn2</th>\n    </tr>\n  </thead>\n  <tbody>\n    <tr>\n      <th>2022</th>\n      <td>0.364</td>\n      <td>17198</td>\n    </tr>\n  </tbody>\n</table>\n</div>"
     },
     "execution_count": 16,
     "metadata": {},
     "output_type": "execute_result"
    }
   ],
   "source": [
    "newData = pd.DataFrame({'P_Football_Performance':0.364,'SMAn2':17198},\n",
    "                       index=[2022])\n",
    "newData"
   ]
  },
  {
   "cell_type": "code",
   "execution_count": 17,
   "metadata": {
    "ExecuteTime": {
     "end_time": "2024-05-17T03:01:46.333496Z",
     "start_time": "2024-05-17T03:01:46.310653Z"
    }
   },
   "outputs": [
    {
     "data": {
      "text/plain": "array([16726.78787061])"
     },
     "execution_count": 17,
     "metadata": {},
     "output_type": "execute_result"
    }
   ],
   "source": [
    "lm.predict(newData)"
   ]
  },
  {
   "cell_type": "markdown",
   "metadata": {},
   "source": [
    "## Multi-Layered Perceptron (MLP)"
   ]
  },
  {
   "cell_type": "code",
   "execution_count": 21,
   "metadata": {
    "ExecuteTime": {
     "end_time": "2024-05-17T03:06:48.711210Z",
     "start_time": "2024-05-17T03:06:48.619918Z"
    }
   },
   "outputs": [
    {
     "data": {
      "text/plain": "array([18906.17932258])"
     },
     "execution_count": 21,
     "metadata": {},
     "output_type": "execute_result"
    }
   ],
   "source": [
    "from sklearn.neural_network import MLPRegressor\n",
    "\n",
    "X = ['P_Football_Performance','SMAn2']\n",
    "y = 'N_Applications'\n",
    "\n",
    "data_X = msu_df[X]\n",
    "data_y = msu_df[y]\n",
    "\n",
    "mlp = MLPRegressor(hidden_layer_sizes=6, max_iter=10000)\n",
    "mlp.fit(data_X, data_y)\n",
    "\n",
    "mlp.predict(newData)"
   ]
  },
  {
   "cell_type": "code",
   "execution_count": null,
   "outputs": [],
   "source": [],
   "metadata": {
    "collapsed": false
   }
  }
 ],
 "metadata": {
  "kernelspec": {
   "display_name": "Python 3",
   "language": "python",
   "name": "python3"
  },
  "language_info": {
   "codemirror_mode": {
    "name": "ipython",
    "version": 3
   },
   "file_extension": ".py",
   "mimetype": "text/x-python",
   "name": "python",
   "nbconvert_exporter": "python",
   "pygments_lexer": "ipython3",
   "version": "3.8.5"
  }
 },
 "nbformat": 4,
 "nbformat_minor": 4
}
