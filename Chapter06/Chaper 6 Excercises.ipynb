{
 "cells": [
  {
   "cell_type": "markdown",
   "metadata": {},
   "source": [
    "## Hands-On Data Preprocessing in Python\n",
    "Learn how to effectively prepare data for successful data analytics\n",
    "    \n",
    "    AUTHOR: Dr. Roy Jafari \n",
    "\n",
    "### Chapter 6: Prediction \n",
    "#### Excercises"
   ]
  },
  {
   "cell_type": "code",
   "execution_count": 1,
   "metadata": {
    "ExecuteTime": {
     "end_time": "2024-05-17T03:07:43.108076Z",
     "start_time": "2024-05-17T03:07:43.106041Z"
    }
   },
   "outputs": [],
   "source": [
    "import pandas as pd\n",
    "import matplotlib.pyplot as plt\n",
    "import numpy as np\n",
    "import seaborn as sns\n",
    "from ipywidgets import interact, widgets"
   ]
  },
  {
   "cell_type": "markdown",
   "metadata": {},
   "source": [
    "# Excercise 1\n",
    "“MLP has the potential to create prediction models that are more accurate than predictions models that are created by linear regression.” This statement is generally correct. In this exercise, we want to explore one of the reasons why the statement is correct. Answer the following questions.\n",
    "\n",
    "    a) The following formula shows the linear equation that we used to connect the dependent and independent attributes of the MSU number of applications problem. Count and report the number of coefficients that Linear Regression can play with to fit the equation to the data.  \n",
    "\n",
    "**N_Applications= β_0+β_1×P_Football_Performance+β_2×SMA2**\n",
    "\n",
    "    b) Figure 6. 8. shows the MLP network structure we used to connect the dependent and independent attributes of the MSU number of applications problem. Count and report the number of connections’ weight MLP can play with to fit the network to the data.\n",
    "\n",
    "    c)Use your answer in a, and b to state why MLP has more potential in creating prediction models with higher accuracy. \n"
   ]
  },
  {
   "cell_type": "code",
   "execution_count": 2,
   "metadata": {
    "ExecuteTime": {
     "end_time": "2024-05-17T03:08:24.129308Z",
     "start_time": "2024-05-17T03:08:24.105519Z"
    }
   },
   "outputs": [
    {
     "data": {
      "text/plain": "    Year  P_Football_Performance    SMAn2  N_Applications\n0   2006                   0.273   5778.0            5778\n1   2007                   0.273   5778.0            5140\n2   2008                   0.250   5459.0            6141\n3   2009                   0.615   5640.5            7429\n4   2010                   0.333   6785.0            7839\n5   2011                   0.417   7634.0            9300\n6   2012                   0.692   8569.5            9864\n7   2013                   0.538   9582.0           10449\n8   2014                   0.615  10156.5           11117\n9   2015                   0.538  10783.0           10766\n10  2016                   0.769  10941.5           12701\n11  2017                   0.692  11733.5           13930\n12  2018                   0.462  13315.5           13817\n13  2019                   0.692  13873.5           17363\n14  2020                   0.615  15590.0           18269\n15  2021                   0.462  17816.0           16127",
      "text/html": "<div>\n<style scoped>\n    .dataframe tbody tr th:only-of-type {\n        vertical-align: middle;\n    }\n\n    .dataframe tbody tr th {\n        vertical-align: top;\n    }\n\n    .dataframe thead th {\n        text-align: right;\n    }\n</style>\n<table border=\"1\" class=\"dataframe\">\n  <thead>\n    <tr style=\"text-align: right;\">\n      <th></th>\n      <th>Year</th>\n      <th>P_Football_Performance</th>\n      <th>SMAn2</th>\n      <th>N_Applications</th>\n    </tr>\n  </thead>\n  <tbody>\n    <tr>\n      <th>0</th>\n      <td>2006</td>\n      <td>0.273</td>\n      <td>5778.0</td>\n      <td>5778</td>\n    </tr>\n    <tr>\n      <th>1</th>\n      <td>2007</td>\n      <td>0.273</td>\n      <td>5778.0</td>\n      <td>5140</td>\n    </tr>\n    <tr>\n      <th>2</th>\n      <td>2008</td>\n      <td>0.250</td>\n      <td>5459.0</td>\n      <td>6141</td>\n    </tr>\n    <tr>\n      <th>3</th>\n      <td>2009</td>\n      <td>0.615</td>\n      <td>5640.5</td>\n      <td>7429</td>\n    </tr>\n    <tr>\n      <th>4</th>\n      <td>2010</td>\n      <td>0.333</td>\n      <td>6785.0</td>\n      <td>7839</td>\n    </tr>\n    <tr>\n      <th>5</th>\n      <td>2011</td>\n      <td>0.417</td>\n      <td>7634.0</td>\n      <td>9300</td>\n    </tr>\n    <tr>\n      <th>6</th>\n      <td>2012</td>\n      <td>0.692</td>\n      <td>8569.5</td>\n      <td>9864</td>\n    </tr>\n    <tr>\n      <th>7</th>\n      <td>2013</td>\n      <td>0.538</td>\n      <td>9582.0</td>\n      <td>10449</td>\n    </tr>\n    <tr>\n      <th>8</th>\n      <td>2014</td>\n      <td>0.615</td>\n      <td>10156.5</td>\n      <td>11117</td>\n    </tr>\n    <tr>\n      <th>9</th>\n      <td>2015</td>\n      <td>0.538</td>\n      <td>10783.0</td>\n      <td>10766</td>\n    </tr>\n    <tr>\n      <th>10</th>\n      <td>2016</td>\n      <td>0.769</td>\n      <td>10941.5</td>\n      <td>12701</td>\n    </tr>\n    <tr>\n      <th>11</th>\n      <td>2017</td>\n      <td>0.692</td>\n      <td>11733.5</td>\n      <td>13930</td>\n    </tr>\n    <tr>\n      <th>12</th>\n      <td>2018</td>\n      <td>0.462</td>\n      <td>13315.5</td>\n      <td>13817</td>\n    </tr>\n    <tr>\n      <th>13</th>\n      <td>2019</td>\n      <td>0.692</td>\n      <td>13873.5</td>\n      <td>17363</td>\n    </tr>\n    <tr>\n      <th>14</th>\n      <td>2020</td>\n      <td>0.615</td>\n      <td>15590.0</td>\n      <td>18269</td>\n    </tr>\n    <tr>\n      <th>15</th>\n      <td>2021</td>\n      <td>0.462</td>\n      <td>17816.0</td>\n      <td>16127</td>\n    </tr>\n  </tbody>\n</table>\n</div>"
     },
     "execution_count": 2,
     "metadata": {},
     "output_type": "execute_result"
    }
   ],
   "source": [
    "uni_df = pd.read_csv('MSU applications.csv')\n",
    "uni_df"
   ]
  },
  {
   "cell_type": "code",
   "execution_count": 9,
   "outputs": [
    {
     "name": "stdout",
     "output_type": "stream",
     "text": [
      "[[5.54496193e+03 9.07031768e-01]]\n",
      "[-890.7106226]\n",
      "                Predictor         coef   intercept\n",
      "0  P_Football_Performance  5544.961933 -890.710623\n",
      "1                   SMAn2     0.907032 -890.710623\n",
      "formula: N_Applications = -890.7106225983389 + 5544.961933348725*P_Football_Performance + 0.9070317681978814*SMAn2\n"
     ]
    }
   ],
   "source": [
    "from sklearn.linear_model import LinearRegression\n",
    "X = ['P_Football_Performance', 'SMAn2']\n",
    "Y = ['N_Applications']\n",
    "data_x = uni_df[X]\n",
    "data_y = uni_df[Y]\n",
    "model = LinearRegression()\n",
    "model.fit(data_x, data_y)\n",
    "\n",
    "print(model.coef_)\n",
    "print(model.intercept_)\n",
    "print(pd.DataFrame({'Predictor': X,'coef': model.coef_[0], 'intercept': model.intercept_[0]}))\n",
    "print(f'formula: N_Applications = {model.intercept_[0]} + {model.coef_[0][0]}*{X[0]} + {model.coef_[0][1]}*{X[1]}')"
   ],
   "metadata": {
    "collapsed": false,
    "ExecuteTime": {
     "end_time": "2024-05-17T03:13:04.019309Z",
     "start_time": "2024-05-17T03:13:04.003679Z"
    }
   }
  },
  {
   "cell_type": "markdown",
   "metadata": {},
   "source": [
    "# Excercise 2\n",
    "2.\tIn this exercise, we will be using ToyotaCorolla_preprocessed.csv. This dataset has the following columns: Age, Milage_KM, Quarterly_Tax, Weight, \tFuel_Type_CNG, Fuel_Type_Diesel, Fuel_Type_Petrol, and Price. Each data object in this dataset is a used Toyota Corolla car. We would like to use this dataset to predict the price of used Toyota Corolla cars. \n"
   ]
  },
  {
   "cell_type": "markdown",
   "metadata": {},
   "source": [
    "    a.Read the data into the pandas DataFrame car_df."
   ]
  },
  {
   "cell_type": "code",
   "execution_count": 11,
   "metadata": {
    "ExecuteTime": {
     "end_time": "2024-05-17T03:13:27.539463Z",
     "start_time": "2024-05-17T03:13:27.526213Z"
    }
   },
   "outputs": [
    {
     "data": {
      "text/plain": "   Age  Milage_KM  Quarterly_Tax  Weight  Fuel_Type_CNG  Fuel_Type_Diesel  \\\n0   23      46986            210    1165              0                 1   \n1   23      72937            210    1165              0                 1   \n2   24      41711            210    1165              0                 1   \n3   26      48000            210    1165              0                 1   \n4   30      38500            210    1170              0                 1   \n\n   Fuel_Type_Petrol  Price  \n0                 0  13500  \n1                 0  13750  \n2                 0  13950  \n3                 0  14950  \n4                 0  13750  ",
      "text/html": "<div>\n<style scoped>\n    .dataframe tbody tr th:only-of-type {\n        vertical-align: middle;\n    }\n\n    .dataframe tbody tr th {\n        vertical-align: top;\n    }\n\n    .dataframe thead th {\n        text-align: right;\n    }\n</style>\n<table border=\"1\" class=\"dataframe\">\n  <thead>\n    <tr style=\"text-align: right;\">\n      <th></th>\n      <th>Age</th>\n      <th>Milage_KM</th>\n      <th>Quarterly_Tax</th>\n      <th>Weight</th>\n      <th>Fuel_Type_CNG</th>\n      <th>Fuel_Type_Diesel</th>\n      <th>Fuel_Type_Petrol</th>\n      <th>Price</th>\n    </tr>\n  </thead>\n  <tbody>\n    <tr>\n      <th>0</th>\n      <td>23</td>\n      <td>46986</td>\n      <td>210</td>\n      <td>1165</td>\n      <td>0</td>\n      <td>1</td>\n      <td>0</td>\n      <td>13500</td>\n    </tr>\n    <tr>\n      <th>1</th>\n      <td>23</td>\n      <td>72937</td>\n      <td>210</td>\n      <td>1165</td>\n      <td>0</td>\n      <td>1</td>\n      <td>0</td>\n      <td>13750</td>\n    </tr>\n    <tr>\n      <th>2</th>\n      <td>24</td>\n      <td>41711</td>\n      <td>210</td>\n      <td>1165</td>\n      <td>0</td>\n      <td>1</td>\n      <td>0</td>\n      <td>13950</td>\n    </tr>\n    <tr>\n      <th>3</th>\n      <td>26</td>\n      <td>48000</td>\n      <td>210</td>\n      <td>1165</td>\n      <td>0</td>\n      <td>1</td>\n      <td>0</td>\n      <td>14950</td>\n    </tr>\n    <tr>\n      <th>4</th>\n      <td>30</td>\n      <td>38500</td>\n      <td>210</td>\n      <td>1170</td>\n      <td>0</td>\n      <td>1</td>\n      <td>0</td>\n      <td>13750</td>\n    </tr>\n  </tbody>\n</table>\n</div>"
     },
     "execution_count": 11,
     "metadata": {},
     "output_type": "execute_result"
    }
   ],
   "source": [
    "car_df = pd.read_csv('ToyotaCorolla_preprocessed.csv')\n",
    "car_df.head()"
   ]
  },
  {
   "cell_type": "markdown",
   "metadata": {},
   "source": [
    "    b.\tUse the skills you picked up in the previous chapter to come up with data visualizations that show the relationship between the attribute price and the rest of the attributes."
   ]
  },
  {
   "cell_type": "code",
   "execution_count": null,
   "metadata": {},
   "outputs": [],
   "source": []
  },
  {
   "cell_type": "markdown",
   "metadata": {},
   "source": [
    "    c.\tUse the visuals in b, to describe the relationship each of the attributes has with the attribute price."
   ]
  },
  {
   "cell_type": "code",
   "execution_count": null,
   "metadata": {},
   "outputs": [],
   "source": []
  },
  {
   "cell_type": "markdown",
   "metadata": {},
   "source": [
    "d.\tCreate the correlation matrix for all the attributes, and report the correlation values for the relationship that you investigated in b and c."
   ]
  },
  {
   "cell_type": "code",
   "execution_count": null,
   "metadata": {},
   "outputs": [],
   "source": []
  },
  {
   "cell_type": "markdown",
   "metadata": {},
   "source": [
    "e.\tDid the visual investigations you performed in b and c was confirmed in d. For what types of attributes the conclusions for c were not confirmed in d? "
   ]
  },
  {
   "cell_type": "code",
   "execution_count": null,
   "metadata": {},
   "outputs": [],
   "source": []
  },
  {
   "cell_type": "markdown",
   "metadata": {},
   "source": [
    "f.\tPerform a linear regression to predict the attribute price. Use all the attributes that you detect they had a meaningful relationship with the attribute price as independent attributes. Predict the price of a car with the following specifications: Age: 74 months, Milage_KM: 124057, Quarterly_Tax: 69, and Weight: 1050. The car fuel type is diesel."
   ]
  },
  {
   "cell_type": "code",
   "execution_count": null,
   "metadata": {},
   "outputs": [],
   "source": []
  },
  {
   "cell_type": "markdown",
   "metadata": {},
   "source": [
    "g.\tImplement an MLP algorithm to predict the attribute price. Use all the attributes that you used in f and predict the price of the same new car presented in f. Use (5,10) network structure (hidden_layer_sizes), and set the max_iter as 500. "
   ]
  },
  {
   "cell_type": "code",
   "execution_count": null,
   "metadata": {},
   "outputs": [],
   "source": []
  },
  {
   "cell_type": "markdown",
   "metadata": {},
   "source": [
    "h.\tThe actual price of the new car presented under f is 7950. Report which algorithm performed a better prediction. "
   ]
  },
  {
   "cell_type": "code",
   "execution_count": null,
   "metadata": {},
   "outputs": [],
   "source": []
  }
 ],
 "metadata": {
  "kernelspec": {
   "display_name": "Python 3",
   "language": "python",
   "name": "python3"
  },
  "language_info": {
   "codemirror_mode": {
    "name": "ipython",
    "version": 3
   },
   "file_extension": ".py",
   "mimetype": "text/x-python",
   "name": "python",
   "nbconvert_exporter": "python",
   "pygments_lexer": "ipython3",
   "version": "3.8.5"
  }
 },
 "nbformat": 4,
 "nbformat_minor": 4
}
