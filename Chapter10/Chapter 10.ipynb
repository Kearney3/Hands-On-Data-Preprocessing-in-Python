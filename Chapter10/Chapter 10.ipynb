{
 "cells": [
  {
   "cell_type": "markdown",
   "metadata": {},
   "source": [
    "## Hands-On Data Preprocessing in Python\n",
    "Learn how to effectively prepare data for successful data analytics\n",
    "    \n",
    "    AUTHOR: Dr. Roy Jafari \n",
    "\n",
    "# Chapter 10: Data Cleaning Level Ⅱ- Unpack, restructure, and reformulate the table"
   ]
  },
  {
   "cell_type": "code",
   "execution_count": 2,
   "metadata": {
    "ExecuteTime": {
     "end_time": "2024-05-17T08:44:58.220136Z",
     "start_time": "2024-05-17T08:44:58.201041Z"
    }
   },
   "outputs": [],
   "source": [
    "import numpy as np\n",
    "import matplotlib.pyplot as plt\n",
    "import pandas as pd"
   ]
  },
  {
   "cell_type": "markdown",
   "metadata": {},
   "source": [
    "## Example 1 – unpacking columns & reformulating the table"
   ]
  },
  {
   "cell_type": "code",
   "execution_count": 59,
   "metadata": {
    "ExecuteTime": {
     "end_time": "2024-05-17T09:10:27.405801Z",
     "start_time": "2024-05-17T09:10:27.375486Z"
    }
   },
   "outputs": [],
   "source": [
    "# From Chapter 9 Example 1\n",
    "from os import listdir\n",
    "FileNames = listdir('Speeches')\n",
    "speech_df = pd.DataFrame(index=range(len(FileNames)),columns=['File Name','The Content'])\n",
    "for i,f_name in enumerate(FileNames):\n",
    "    with open('Speeches/' + f_name, \"r\", encoding='utf-8') as f:\n",
    "        f_content = f.readlines()\n",
    "    \n",
    "    speech_df.at[i,'File Name'] = f_name\n",
    "    speech_df.at[i,'The Content'] = f_content[0]\n",
    "\n",
    "speech_df.columns = ['FileName','Content']"
   ]
  },
  {
   "cell_type": "code",
   "execution_count": 60,
   "metadata": {
    "ExecuteTime": {
     "end_time": "2024-05-17T09:10:59.689764Z",
     "start_time": "2024-05-17T09:10:59.667865Z"
    },
    "scrolled": true
   },
   "outputs": [
    {
     "data": {
      "text/html": [
       "<div>\n",
       "<style scoped>\n",
       "    .dataframe tbody tr th:only-of-type {\n",
       "        vertical-align: middle;\n",
       "    }\n",
       "\n",
       "    .dataframe tbody tr th {\n",
       "        vertical-align: top;\n",
       "    }\n",
       "\n",
       "    .dataframe thead th {\n",
       "        text-align: right;\n",
       "    }\n",
       "</style>\n",
       "<table border=\"1\" class=\"dataframe\">\n",
       "  <thead>\n",
       "    <tr style=\"text-align: right;\">\n",
       "      <th></th>\n",
       "      <th>FileName</th>\n",
       "      <th>Content</th>\n",
       "    </tr>\n",
       "  </thead>\n",
       "  <tbody>\n",
       "    <tr>\n",
       "      <th>0</th>\n",
       "      <td>FayettevilleSep9_2019.txt</td>\n",
       "      <td>Thank you everybody. Thank you and Vice Presi...</td>\n",
       "    </tr>\n",
       "    <tr>\n",
       "      <th>1</th>\n",
       "      <td>TupeloNov1_2019.txt</td>\n",
       "      <td>ell, thank you very much. And hello, Tupelo. T...</td>\n",
       "    </tr>\n",
       "  </tbody>\n",
       "</table>\n",
       "</div>"
      ],
      "text/plain": [
       "                    FileName  \\\n",
       "0  FayettevilleSep9_2019.txt   \n",
       "1        TupeloNov1_2019.txt   \n",
       "\n",
       "                                             Content  \n",
       "0   Thank you everybody. Thank you and Vice Presi...  \n",
       "1  ell, thank you very much. And hello, Tupelo. T...  "
      ]
     },
     "execution_count": 60,
     "metadata": {},
     "output_type": "execute_result"
    }
   ],
   "source": [
    "speech_df.head(2)"
   ]
  },
  {
   "cell_type": "markdown",
   "metadata": {},
   "source": [
    "### Unpacking FileName"
   ]
  },
  {
   "cell_type": "code",
   "execution_count": 61,
   "metadata": {
    "ExecuteTime": {
     "end_time": "2024-05-17T08:52:54.672849Z",
     "start_time": "2024-05-17T08:52:54.659170Z"
    }
   },
   "outputs": [
    {
     "name": "stdout",
     "output_type": "stream",
     "text": [
      "12\n"
     ]
    }
   ],
   "source": [
    "Months = ['Jan','Feb','Mar','Apr','May','Jun','Jul','Aug','Oct','Sep','Nov','Dec']\n",
    "for mon in Months:\n",
    "    if mon in 'FayettevilleSep9_2019.txt':\n",
    "        print('FayettevilleSep9_2019.txt'.find(mon))"
   ]
  },
  {
   "cell_type": "code",
   "execution_count": 62,
   "metadata": {
    "ExecuteTime": {
     "end_time": "2024-05-17T08:51:24.876995Z",
     "start_time": "2024-05-17T08:51:24.854732Z"
    }
   },
   "outputs": [
    {
     "name": "stdout",
     "output_type": "stream",
     "text": [
      "True\n"
     ]
    }
   ],
   "source": [
    "print('Sep' in 'FayettevilleSep9_2019.txt')"
   ]
  },
  {
   "cell_type": "code",
   "execution_count": 63,
   "metadata": {
    "ExecuteTime": {
     "end_time": "2024-05-17T09:11:41.428679Z",
     "start_time": "2024-05-17T09:11:41.288062Z"
    }
   },
   "outputs": [],
   "source": [
    "Months = ['Jan','Feb','Mar','Apr','May','Jun','Jul','Aug','Oct','Sep','Nov','Dec']\n",
    "def SeparateCity(v):\n",
    "    for mon in Months:\n",
    "        if (mon in v):\n",
    "            return v[:v.find(mon)]\n",
    "speech_df['City'] = speech_df.FileName.apply(SeparateCity)"
   ]
  },
  {
   "cell_type": "code",
   "execution_count": 64,
   "metadata": {
    "ExecuteTime": {
     "end_time": "2024-05-17T09:11:41.582378Z",
     "start_time": "2024-05-17T09:11:41.567566Z"
    }
   },
   "outputs": [
    {
     "data": {
      "text/html": [
       "<div>\n",
       "<style scoped>\n",
       "    .dataframe tbody tr th:only-of-type {\n",
       "        vertical-align: middle;\n",
       "    }\n",
       "\n",
       "    .dataframe tbody tr th {\n",
       "        vertical-align: top;\n",
       "    }\n",
       "\n",
       "    .dataframe thead th {\n",
       "        text-align: right;\n",
       "    }\n",
       "</style>\n",
       "<table border=\"1\" class=\"dataframe\">\n",
       "  <thead>\n",
       "    <tr style=\"text-align: right;\">\n",
       "      <th></th>\n",
       "      <th>FileName</th>\n",
       "      <th>Content</th>\n",
       "      <th>City</th>\n",
       "    </tr>\n",
       "  </thead>\n",
       "  <tbody>\n",
       "    <tr>\n",
       "      <th>0</th>\n",
       "      <td>FayettevilleSep9_2019.txt</td>\n",
       "      <td>Thank you everybody. Thank you and Vice Presi...</td>\n",
       "      <td>Fayetteville</td>\n",
       "    </tr>\n",
       "    <tr>\n",
       "      <th>1</th>\n",
       "      <td>TupeloNov1_2019.txt</td>\n",
       "      <td>ell, thank you very much. And hello, Tupelo. T...</td>\n",
       "      <td>Tupelo</td>\n",
       "    </tr>\n",
       "  </tbody>\n",
       "</table>\n",
       "</div>"
      ],
      "text/plain": [
       "                    FileName  \\\n",
       "0  FayettevilleSep9_2019.txt   \n",
       "1        TupeloNov1_2019.txt   \n",
       "\n",
       "                                             Content          City  \n",
       "0   Thank you everybody. Thank you and Vice Presi...  Fayetteville  \n",
       "1  ell, thank you very much. And hello, Tupelo. T...        Tupelo  "
      ]
     },
     "execution_count": 64,
     "metadata": {},
     "output_type": "execute_result"
    }
   ],
   "source": [
    "speech_df.head(2)"
   ]
  },
  {
   "cell_type": "code",
   "execution_count": 65,
   "metadata": {
    "ExecuteTime": {
     "end_time": "2024-05-17T09:14:11.579976Z",
     "start_time": "2024-05-17T09:14:11.438780Z"
    }
   },
   "outputs": [
    {
     "data": {
      "text/html": [
       "<div>\n",
       "<style scoped>\n",
       "    .dataframe tbody tr th:only-of-type {\n",
       "        vertical-align: middle;\n",
       "    }\n",
       "\n",
       "    .dataframe tbody tr th {\n",
       "        vertical-align: top;\n",
       "    }\n",
       "\n",
       "    .dataframe thead th {\n",
       "        text-align: right;\n",
       "    }\n",
       "</style>\n",
       "<table border=\"1\" class=\"dataframe\">\n",
       "  <thead>\n",
       "    <tr style=\"text-align: right;\">\n",
       "      <th></th>\n",
       "      <th>FileName</th>\n",
       "      <th>Content</th>\n",
       "      <th>City</th>\n",
       "      <th>Date</th>\n",
       "    </tr>\n",
       "  </thead>\n",
       "  <tbody>\n",
       "    <tr>\n",
       "      <th>0</th>\n",
       "      <td>FayettevilleSep9_2019.txt</td>\n",
       "      <td>Thank you everybody. Thank you and Vice Presi...</td>\n",
       "      <td>Fayetteville</td>\n",
       "      <td>Sep9_2019</td>\n",
       "    </tr>\n",
       "    <tr>\n",
       "      <th>1</th>\n",
       "      <td>TupeloNov1_2019.txt</td>\n",
       "      <td>ell, thank you very much. And hello, Tupelo. T...</td>\n",
       "      <td>Tupelo</td>\n",
       "      <td>Nov1_2019</td>\n",
       "    </tr>\n",
       "  </tbody>\n",
       "</table>\n",
       "</div>"
      ],
      "text/plain": [
       "                    FileName  \\\n",
       "0  FayettevilleSep9_2019.txt   \n",
       "1        TupeloNov1_2019.txt   \n",
       "\n",
       "                                             Content          City       Date  \n",
       "0   Thank you everybody. Thank you and Vice Presi...  Fayetteville  Sep9_2019  \n",
       "1  ell, thank you very much. And hello, Tupelo. T...        Tupelo  Nov1_2019  "
      ]
     },
     "execution_count": 65,
     "metadata": {},
     "output_type": "execute_result"
    }
   ],
   "source": [
    "def SeparateDate(r):\n",
    "    return r.FileName[len(r.City):r.FileName.find('.txt')]\n",
    "\n",
    "speech_df['Date'] = speech_df.apply(SeparateDate,axis=1)\n",
    "speech_df.head(2)"
   ]
  },
  {
   "cell_type": "code",
   "execution_count": 66,
   "metadata": {
    "ExecuteTime": {
     "end_time": "2024-05-17T09:15:08.043772Z",
     "start_time": "2024-05-17T09:15:08.035883Z"
    }
   },
   "outputs": [],
   "source": [
    "speech_df.Date = pd.to_datetime(speech_df.Date,format='%b%d_%Y')\n",
    "# https://docs.python.org/3/library/datetime.html#strftime-and-strptime-behavior"
   ]
  },
  {
   "cell_type": "code",
   "execution_count": 67,
   "metadata": {
    "ExecuteTime": {
     "end_time": "2024-05-17T09:15:08.898973Z",
     "start_time": "2024-05-17T09:15:08.881539Z"
    }
   },
   "outputs": [
    {
     "data": {
      "text/html": [
       "<div>\n",
       "<style scoped>\n",
       "    .dataframe tbody tr th:only-of-type {\n",
       "        vertical-align: middle;\n",
       "    }\n",
       "\n",
       "    .dataframe tbody tr th {\n",
       "        vertical-align: top;\n",
       "    }\n",
       "\n",
       "    .dataframe thead th {\n",
       "        text-align: right;\n",
       "    }\n",
       "</style>\n",
       "<table border=\"1\" class=\"dataframe\">\n",
       "  <thead>\n",
       "    <tr style=\"text-align: right;\">\n",
       "      <th></th>\n",
       "      <th>FileName</th>\n",
       "      <th>Content</th>\n",
       "      <th>City</th>\n",
       "      <th>Date</th>\n",
       "      <th>Day</th>\n",
       "      <th>Month</th>\n",
       "      <th>Year</th>\n",
       "    </tr>\n",
       "  </thead>\n",
       "  <tbody>\n",
       "    <tr>\n",
       "      <th>0</th>\n",
       "      <td>FayettevilleSep9_2019.txt</td>\n",
       "      <td>Thank you everybody. Thank you and Vice Presi...</td>\n",
       "      <td>Fayetteville</td>\n",
       "      <td>2019-09-09</td>\n",
       "      <td>9</td>\n",
       "      <td>9</td>\n",
       "      <td>2019</td>\n",
       "    </tr>\n",
       "    <tr>\n",
       "      <th>1</th>\n",
       "      <td>TupeloNov1_2019.txt</td>\n",
       "      <td>ell, thank you very much. And hello, Tupelo. T...</td>\n",
       "      <td>Tupelo</td>\n",
       "      <td>2019-11-01</td>\n",
       "      <td>1</td>\n",
       "      <td>11</td>\n",
       "      <td>2019</td>\n",
       "    </tr>\n",
       "  </tbody>\n",
       "</table>\n",
       "</div>"
      ],
      "text/plain": [
       "                    FileName  \\\n",
       "0  FayettevilleSep9_2019.txt   \n",
       "1        TupeloNov1_2019.txt   \n",
       "\n",
       "                                             Content          City       Date  \\\n",
       "0   Thank you everybody. Thank you and Vice Presi...  Fayetteville 2019-09-09   \n",
       "1  ell, thank you very much. And hello, Tupelo. T...        Tupelo 2019-11-01   \n",
       "\n",
       "   Day  Month  Year  \n",
       "0    9      9  2019  \n",
       "1    1     11  2019  "
      ]
     },
     "execution_count": 67,
     "metadata": {},
     "output_type": "execute_result"
    }
   ],
   "source": [
    "def extractDMY(r):\n",
    "    r['Day'] = r.Date.day\n",
    "    r['Month'] = r.Date.month\n",
    "    r['Year'] = r.Date.year\n",
    "    return r\n",
    "speech_df = speech_df.apply(extractDMY,axis=1)\n",
    "speech_df.head(2)"
   ]
  },
  {
   "cell_type": "code",
   "execution_count": 68,
   "metadata": {
    "ExecuteTime": {
     "end_time": "2024-05-17T09:15:27.257111Z",
     "start_time": "2024-05-17T09:15:27.234637Z"
    }
   },
   "outputs": [],
   "source": [
    "speech_df.drop(columns=['FileName'],inplace=True)"
   ]
  },
  {
   "cell_type": "code",
   "execution_count": 44,
   "metadata": {
    "ExecuteTime": {
     "end_time": "2024-05-17T09:15:46.999185Z",
     "start_time": "2024-05-17T09:15:46.958961Z"
    }
   },
   "outputs": [
    {
     "data": {
      "text/html": [
       "<div>\n",
       "<style scoped>\n",
       "    .dataframe tbody tr th:only-of-type {\n",
       "        vertical-align: middle;\n",
       "    }\n",
       "\n",
       "    .dataframe tbody tr th {\n",
       "        vertical-align: top;\n",
       "    }\n",
       "\n",
       "    .dataframe thead th {\n",
       "        text-align: right;\n",
       "    }\n",
       "</style>\n",
       "<table border=\"1\" class=\"dataframe\">\n",
       "  <thead>\n",
       "    <tr style=\"text-align: right;\">\n",
       "      <th></th>\n",
       "      <th>Content</th>\n",
       "      <th>City</th>\n",
       "      <th>Date</th>\n",
       "      <th>Day</th>\n",
       "      <th>Month</th>\n",
       "      <th>Year</th>\n",
       "    </tr>\n",
       "  </thead>\n",
       "  <tbody>\n",
       "    <tr>\n",
       "      <th>0</th>\n",
       "      <td>Thank you everybody. Thank you and Vice Presi...</td>\n",
       "      <td>Fayetteville</td>\n",
       "      <td>2019-09-09</td>\n",
       "      <td>9</td>\n",
       "      <td>9</td>\n",
       "      <td>2019</td>\n",
       "    </tr>\n",
       "    <tr>\n",
       "      <th>1</th>\n",
       "      <td>ell, thank you very much. And hello, Tupelo. T...</td>\n",
       "      <td>Tupelo</td>\n",
       "      <td>2019-11-01</td>\n",
       "      <td>1</td>\n",
       "      <td>11</td>\n",
       "      <td>2019</td>\n",
       "    </tr>\n",
       "  </tbody>\n",
       "</table>\n",
       "</div>"
      ],
      "text/plain": [
       "                                             Content          City       Date  \\\n",
       "0   Thank you everybody. Thank you and Vice Presi...  Fayetteville 2019-09-09   \n",
       "1  ell, thank you very much. And hello, Tupelo. T...        Tupelo 2019-11-01   \n",
       "\n",
       "   Day  Month  Year  \n",
       "0    9      9  2019  \n",
       "1    1     11  2019  "
      ]
     },
     "execution_count": 44,
     "metadata": {},
     "output_type": "execute_result"
    }
   ],
   "source": [
    "speech_df.head(2)"
   ]
  },
  {
   "cell_type": "markdown",
   "metadata": {},
   "source": [
    "### Unpacking Content"
   ]
  },
  {
   "cell_type": "code",
   "execution_count": 69,
   "metadata": {
    "ExecuteTime": {
     "end_time": "2024-05-17T09:15:49.169505Z",
     "start_time": "2024-05-17T09:15:49.164401Z"
    }
   },
   "outputs": [],
   "source": [
    "Words = ['vote','tax','campaign','economy']\n",
    "\n",
    "def FindWordRatio(row):\n",
    "    total_n_words = len(row.Content.split(' '))\n",
    "    for w in Words:\n",
    "        row['r_{}'.format(w)] = row.Content.count(w)/total_n_words\n",
    "    return row\n",
    "\n",
    "speech_df = speech_df.apply(FindWordRatio,axis=1)"
   ]
  },
  {
   "cell_type": "code",
   "execution_count": 70,
   "metadata": {
    "ExecuteTime": {
     "end_time": "2024-05-17T09:16:17.945351Z",
     "start_time": "2024-05-17T09:16:17.830374Z"
    }
   },
   "outputs": [
    {
     "data": {
      "text/html": [
       "<div>\n",
       "<style scoped>\n",
       "    .dataframe tbody tr th:only-of-type {\n",
       "        vertical-align: middle;\n",
       "    }\n",
       "\n",
       "    .dataframe tbody tr th {\n",
       "        vertical-align: top;\n",
       "    }\n",
       "\n",
       "    .dataframe thead th {\n",
       "        text-align: right;\n",
       "    }\n",
       "</style>\n",
       "<table border=\"1\" class=\"dataframe\">\n",
       "  <thead>\n",
       "    <tr style=\"text-align: right;\">\n",
       "      <th></th>\n",
       "      <th>Content</th>\n",
       "      <th>City</th>\n",
       "      <th>Date</th>\n",
       "      <th>Day</th>\n",
       "      <th>Month</th>\n",
       "      <th>Year</th>\n",
       "      <th>r_vote</th>\n",
       "      <th>r_tax</th>\n",
       "      <th>r_campaign</th>\n",
       "      <th>r_economy</th>\n",
       "    </tr>\n",
       "  </thead>\n",
       "  <tbody>\n",
       "    <tr>\n",
       "      <th>0</th>\n",
       "      <td>Thank you everybody. Thank you and Vice Presi...</td>\n",
       "      <td>Fayetteville</td>\n",
       "      <td>2019-09-09</td>\n",
       "      <td>9</td>\n",
       "      <td>9</td>\n",
       "      <td>2019</td>\n",
       "      <td>0.002174</td>\n",
       "      <td>0.000652</td>\n",
       "      <td>0.000326</td>\n",
       "      <td>0.000652</td>\n",
       "    </tr>\n",
       "    <tr>\n",
       "      <th>1</th>\n",
       "      <td>ell, thank you very much. And hello, Tupelo. T...</td>\n",
       "      <td>Tupelo</td>\n",
       "      <td>2019-11-01</td>\n",
       "      <td>1</td>\n",
       "      <td>11</td>\n",
       "      <td>2019</td>\n",
       "      <td>0.001079</td>\n",
       "      <td>0.000324</td>\n",
       "      <td>0.000431</td>\n",
       "      <td>0.000108</td>\n",
       "    </tr>\n",
       "  </tbody>\n",
       "</table>\n",
       "</div>"
      ],
      "text/plain": [
       "                                             Content          City       Date  \\\n",
       "0   Thank you everybody. Thank you and Vice Presi...  Fayetteville 2019-09-09   \n",
       "1  ell, thank you very much. And hello, Tupelo. T...        Tupelo 2019-11-01   \n",
       "\n",
       "   Day  Month  Year    r_vote     r_tax  r_campaign  r_economy  \n",
       "0    9      9  2019  0.002174  0.000652    0.000326   0.000652  \n",
       "1    1     11  2019  0.001079  0.000324    0.000431   0.000108  "
      ]
     },
     "execution_count": 70,
     "metadata": {},
     "output_type": "execute_result"
    }
   ],
   "source": [
    "speech_df.head(2)"
   ]
  },
  {
   "cell_type": "markdown",
   "metadata": {},
   "source": [
    "### Reformulate a new table for visualization"
   ]
  },
  {
   "cell_type": "code",
   "execution_count": 71,
   "metadata": {
    "ExecuteTime": {
     "end_time": "2024-05-17T09:18:03.785448Z",
     "start_time": "2024-05-17T09:18:03.779434Z"
    }
   },
   "outputs": [
    {
     "data": {
      "text/html": [
       "<div>\n",
       "<style scoped>\n",
       "    .dataframe tbody tr th:only-of-type {\n",
       "        vertical-align: middle;\n",
       "    }\n",
       "\n",
       "    .dataframe tbody tr th {\n",
       "        vertical-align: top;\n",
       "    }\n",
       "\n",
       "    .dataframe thead th {\n",
       "        text-align: right;\n",
       "    }\n",
       "</style>\n",
       "<table border=\"1\" class=\"dataframe\">\n",
       "  <thead>\n",
       "    <tr style=\"text-align: right;\">\n",
       "      <th></th>\n",
       "      <th>Content</th>\n",
       "      <th>City</th>\n",
       "      <th>Date</th>\n",
       "      <th>Day</th>\n",
       "      <th>Month</th>\n",
       "      <th>Year</th>\n",
       "      <th>r_vote</th>\n",
       "      <th>r_tax</th>\n",
       "      <th>r_campaign</th>\n",
       "      <th>r_economy</th>\n",
       "      <th>Y_M</th>\n",
       "    </tr>\n",
       "  </thead>\n",
       "  <tbody>\n",
       "    <tr>\n",
       "      <th>0</th>\n",
       "      <td>Thank you everybody. Thank you and Vice Presi...</td>\n",
       "      <td>Fayetteville</td>\n",
       "      <td>2019-09-09</td>\n",
       "      <td>9</td>\n",
       "      <td>9</td>\n",
       "      <td>2019</td>\n",
       "      <td>0.002174</td>\n",
       "      <td>0.000652</td>\n",
       "      <td>0.000326</td>\n",
       "      <td>0.000652</td>\n",
       "      <td>2019_Oct</td>\n",
       "    </tr>\n",
       "    <tr>\n",
       "      <th>1</th>\n",
       "      <td>ell, thank you very much. And hello, Tupelo. T...</td>\n",
       "      <td>Tupelo</td>\n",
       "      <td>2019-11-01</td>\n",
       "      <td>1</td>\n",
       "      <td>11</td>\n",
       "      <td>2019</td>\n",
       "      <td>0.001079</td>\n",
       "      <td>0.000324</td>\n",
       "      <td>0.000431</td>\n",
       "      <td>0.000108</td>\n",
       "      <td>2019_Nov</td>\n",
       "    </tr>\n",
       "  </tbody>\n",
       "</table>\n",
       "</div>"
      ],
      "text/plain": [
       "                                             Content          City       Date  \\\n",
       "0   Thank you everybody. Thank you and Vice Presi...  Fayetteville 2019-09-09   \n",
       "1  ell, thank you very much. And hello, Tupelo. T...        Tupelo 2019-11-01   \n",
       "\n",
       "   Day  Month  Year    r_vote     r_tax  r_campaign  r_economy       Y_M  \n",
       "0    9      9  2019  0.002174  0.000652    0.000326   0.000652  2019_Oct  \n",
       "1    1     11  2019  0.001079  0.000324    0.000431   0.000108  2019_Nov  "
      ]
     },
     "execution_count": 71,
     "metadata": {},
     "output_type": "execute_result"
    }
   ],
   "source": [
    "Months = ['Jan','Feb','Mar','Apr','May','Jun','Jul','Aug','Oct','Sep','Nov','Dec']\n",
    "lambda_func = lambda r: '{}_{}'.format(r.Year,Months[r.Month-1])\n",
    "speech_df['Y_M'] = speech_df.apply(lambda_func,axis=1)\n",
    "speech_df.head(2)"
   ]
  },
  {
   "cell_type": "code",
   "execution_count": 72,
   "metadata": {
    "ExecuteTime": {
     "end_time": "2024-05-17T09:23:31.679987Z",
     "start_time": "2024-05-17T09:23:31.647482Z"
    }
   },
   "outputs": [],
   "source": [
    "Words = ['vote','tax','campaign','economy']\n",
    "vis_df = speech_df.pivot_table(\n",
    "               index= ['Y_M'], \n",
    "               values= ['r_{}'.format(w) for w in Words],\n",
    "               aggfunc= np.mean)"
   ]
  },
  {
   "cell_type": "code",
   "execution_count": 73,
   "metadata": {
    "ExecuteTime": {
     "end_time": "2024-05-17T09:19:10.773918Z",
     "start_time": "2024-05-17T09:19:10.753676Z"
    }
   },
   "outputs": [
    {
     "data": {
      "text/html": [
       "<div>\n",
       "<style scoped>\n",
       "    .dataframe tbody tr th:only-of-type {\n",
       "        vertical-align: middle;\n",
       "    }\n",
       "\n",
       "    .dataframe tbody tr th {\n",
       "        vertical-align: top;\n",
       "    }\n",
       "\n",
       "    .dataframe thead th {\n",
       "        text-align: right;\n",
       "    }\n",
       "</style>\n",
       "<table border=\"1\" class=\"dataframe\">\n",
       "  <thead>\n",
       "    <tr style=\"text-align: right;\">\n",
       "      <th></th>\n",
       "      <th>r_campaign</th>\n",
       "      <th>r_economy</th>\n",
       "      <th>r_tax</th>\n",
       "      <th>r_vote</th>\n",
       "    </tr>\n",
       "    <tr>\n",
       "      <th>Y_M</th>\n",
       "      <th></th>\n",
       "      <th></th>\n",
       "      <th></th>\n",
       "      <th></th>\n",
       "    </tr>\n",
       "  </thead>\n",
       "  <tbody>\n",
       "    <tr>\n",
       "      <th>2019_Aug</th>\n",
       "      <td>0.001499</td>\n",
       "      <td>0.000270</td>\n",
       "      <td>0.000872</td>\n",
       "      <td>0.001596</td>\n",
       "    </tr>\n",
       "    <tr>\n",
       "      <th>2019_Dec</th>\n",
       "      <td>0.000316</td>\n",
       "      <td>0.000665</td>\n",
       "      <td>0.000558</td>\n",
       "      <td>0.000739</td>\n",
       "    </tr>\n",
       "    <tr>\n",
       "      <th>2019_Jul</th>\n",
       "      <td>0.000283</td>\n",
       "      <td>0.000660</td>\n",
       "      <td>0.000660</td>\n",
       "      <td>0.001603</td>\n",
       "    </tr>\n",
       "  </tbody>\n",
       "</table>\n",
       "</div>"
      ],
      "text/plain": [
       "          r_campaign  r_economy     r_tax    r_vote\n",
       "Y_M                                                \n",
       "2019_Aug    0.001499   0.000270  0.000872  0.001596\n",
       "2019_Dec    0.000316   0.000665  0.000558  0.000739\n",
       "2019_Jul    0.000283   0.000660  0.000660  0.001603"
      ]
     },
     "execution_count": 73,
     "metadata": {},
     "output_type": "execute_result"
    }
   ],
   "source": [
    "vis_df.head(3)"
   ]
  },
  {
   "cell_type": "code",
   "execution_count": 55,
   "metadata": {
    "ExecuteTime": {
     "end_time": "2024-05-17T09:23:49.694488Z",
     "start_time": "2024-05-17T09:23:49.683311Z"
    }
   },
   "outputs": [],
   "source": [
    "vis_df = pd.DataFrame({\n",
    "  'r_vote': speech_df.groupby('Y_M').r_vote.mean(),\n",
    "  'r_tax': speech_df.groupby('Y_M').r_tax.mean(),\n",
    "  'r_campaign': speech_df.groupby('Y_M').r_campaign.mean(),\n",
    "  'r_economy': speech_df.groupby('Y_M').r_economy.mean()\n",
    "})"
   ]
  },
  {
   "cell_type": "code",
   "execution_count": 78,
   "metadata": {
    "ExecuteTime": {
     "end_time": "2024-05-17T09:52:13.343265Z",
     "start_time": "2024-05-17T09:52:13.283672Z"
    }
   },
   "outputs": [
    {
     "data": {
      "text/plain": "          r_campaign  r_economy     r_tax    r_vote\nY_M                                                \n2019_Aug    0.001499   0.000270  0.000872  0.001596\n2019_Dec    0.000316   0.000665  0.000558  0.000739\n2019_Jul    0.000283   0.000660  0.000660  0.001603\n2019_Nov    0.000551   0.000333  0.000385  0.002048\n2019_Oct    0.000533   0.000572  0.001340  0.001398\n2019_Sep    0.000843   0.000448  0.000419  0.000409\n2020_Aug    0.000428   0.000222  0.001189  0.001577\n2020_Feb    0.000353   0.000224  0.000625  0.001206\n2020_Jan    0.000299   0.000240  0.001331  0.001215\n2020_Jun    0.000356   0.000267  0.000535  0.000713\n2020_Mar    0.000150   0.000450  0.001500  0.000750\n2020_Oct    0.000306   0.000386  0.000504  0.001235",
      "text/html": "<div>\n<style scoped>\n    .dataframe tbody tr th:only-of-type {\n        vertical-align: middle;\n    }\n\n    .dataframe tbody tr th {\n        vertical-align: top;\n    }\n\n    .dataframe thead th {\n        text-align: right;\n    }\n</style>\n<table border=\"1\" class=\"dataframe\">\n  <thead>\n    <tr style=\"text-align: right;\">\n      <th></th>\n      <th>r_campaign</th>\n      <th>r_economy</th>\n      <th>r_tax</th>\n      <th>r_vote</th>\n    </tr>\n    <tr>\n      <th>Y_M</th>\n      <th></th>\n      <th></th>\n      <th></th>\n      <th></th>\n    </tr>\n  </thead>\n  <tbody>\n    <tr>\n      <th>2019_Aug</th>\n      <td>0.001499</td>\n      <td>0.000270</td>\n      <td>0.000872</td>\n      <td>0.001596</td>\n    </tr>\n    <tr>\n      <th>2019_Dec</th>\n      <td>0.000316</td>\n      <td>0.000665</td>\n      <td>0.000558</td>\n      <td>0.000739</td>\n    </tr>\n    <tr>\n      <th>2019_Jul</th>\n      <td>0.000283</td>\n      <td>0.000660</td>\n      <td>0.000660</td>\n      <td>0.001603</td>\n    </tr>\n    <tr>\n      <th>2019_Nov</th>\n      <td>0.000551</td>\n      <td>0.000333</td>\n      <td>0.000385</td>\n      <td>0.002048</td>\n    </tr>\n    <tr>\n      <th>2019_Oct</th>\n      <td>0.000533</td>\n      <td>0.000572</td>\n      <td>0.001340</td>\n      <td>0.001398</td>\n    </tr>\n    <tr>\n      <th>2019_Sep</th>\n      <td>0.000843</td>\n      <td>0.000448</td>\n      <td>0.000419</td>\n      <td>0.000409</td>\n    </tr>\n    <tr>\n      <th>2020_Aug</th>\n      <td>0.000428</td>\n      <td>0.000222</td>\n      <td>0.001189</td>\n      <td>0.001577</td>\n    </tr>\n    <tr>\n      <th>2020_Feb</th>\n      <td>0.000353</td>\n      <td>0.000224</td>\n      <td>0.000625</td>\n      <td>0.001206</td>\n    </tr>\n    <tr>\n      <th>2020_Jan</th>\n      <td>0.000299</td>\n      <td>0.000240</td>\n      <td>0.001331</td>\n      <td>0.001215</td>\n    </tr>\n    <tr>\n      <th>2020_Jun</th>\n      <td>0.000356</td>\n      <td>0.000267</td>\n      <td>0.000535</td>\n      <td>0.000713</td>\n    </tr>\n    <tr>\n      <th>2020_Mar</th>\n      <td>0.000150</td>\n      <td>0.000450</td>\n      <td>0.001500</td>\n      <td>0.000750</td>\n    </tr>\n    <tr>\n      <th>2020_Oct</th>\n      <td>0.000306</td>\n      <td>0.000386</td>\n      <td>0.000504</td>\n      <td>0.001235</td>\n    </tr>\n  </tbody>\n</table>\n</div>"
     },
     "execution_count": 78,
     "metadata": {},
     "output_type": "execute_result"
    }
   ],
   "source": [
    "vis_df"
   ]
  },
  {
   "cell_type": "markdown",
   "metadata": {},
   "source": [
    "### The last step: draw the visualization"
   ]
  },
  {
   "cell_type": "code",
   "execution_count": 84,
   "metadata": {
    "scrolled": false,
    "ExecuteTime": {
     "end_time": "2024-05-17T09:52:49.250582Z",
     "start_time": "2024-05-17T09:52:49.237189Z"
    }
   },
   "outputs": [],
   "source": [
    "column_order = vis_df.sum().sort_values(ascending=False).index"
   ]
  },
  {
   "cell_type": "code",
   "execution_count": 85,
   "outputs": [
    {
     "data": {
      "text/plain": "Index(['r_vote', 'r_tax', 'r_campaign', 'r_economy'], dtype='object')"
     },
     "execution_count": 85,
     "metadata": {},
     "output_type": "execute_result"
    }
   ],
   "source": [
    "column_order"
   ],
   "metadata": {
    "collapsed": false,
    "ExecuteTime": {
     "end_time": "2024-05-17T09:52:49.951122Z",
     "start_time": "2024-05-17T09:52:49.935819Z"
    }
   }
  },
  {
   "cell_type": "code",
   "execution_count": 86,
   "outputs": [
    {
     "data": {
      "text/plain": "array(['2019_Jul', '2019_Aug', '2019_Oct', '2019_Sep', '2019_Nov',\n       '2019_Dec', '2020_Jan', '2020_Feb', '2020_Mar', '2020_Jun',\n       '2020_Aug', '2020_Oct'], dtype=object)"
     },
     "execution_count": 86,
     "metadata": {},
     "output_type": "execute_result"
    }
   ],
   "source": [
    "row_order = speech_df.sort_values('Date').Y_M.unique()\n",
    "row_order"
   ],
   "metadata": {
    "collapsed": false,
    "ExecuteTime": {
     "end_time": "2024-05-17T09:53:48.415149Z",
     "start_time": "2024-05-17T09:53:48.406082Z"
    }
   }
  },
  {
   "cell_type": "code",
   "execution_count": 87,
   "outputs": [
    {
     "data": {
      "text/plain": "            r_vote     r_tax  r_campaign  r_economy\nY_M                                                \n2019_Aug  0.001596  0.000872    0.001499   0.000270\n2019_Dec  0.000739  0.000558    0.000316   0.000665\n2019_Jul  0.001603  0.000660    0.000283   0.000660\n2019_Nov  0.002048  0.000385    0.000551   0.000333\n2019_Oct  0.001398  0.001340    0.000533   0.000572\n2019_Sep  0.000409  0.000419    0.000843   0.000448\n2020_Aug  0.001577  0.001189    0.000428   0.000222\n2020_Feb  0.001206  0.000625    0.000353   0.000224\n2020_Jan  0.001215  0.001331    0.000299   0.000240\n2020_Jun  0.000713  0.000535    0.000356   0.000267\n2020_Mar  0.000750  0.001500    0.000150   0.000450\n2020_Oct  0.001235  0.000504    0.000306   0.000386",
      "text/html": "<div>\n<style scoped>\n    .dataframe tbody tr th:only-of-type {\n        vertical-align: middle;\n    }\n\n    .dataframe tbody tr th {\n        vertical-align: top;\n    }\n\n    .dataframe thead th {\n        text-align: right;\n    }\n</style>\n<table border=\"1\" class=\"dataframe\">\n  <thead>\n    <tr style=\"text-align: right;\">\n      <th></th>\n      <th>r_vote</th>\n      <th>r_tax</th>\n      <th>r_campaign</th>\n      <th>r_economy</th>\n    </tr>\n    <tr>\n      <th>Y_M</th>\n      <th></th>\n      <th></th>\n      <th></th>\n      <th></th>\n    </tr>\n  </thead>\n  <tbody>\n    <tr>\n      <th>2019_Aug</th>\n      <td>0.001596</td>\n      <td>0.000872</td>\n      <td>0.001499</td>\n      <td>0.000270</td>\n    </tr>\n    <tr>\n      <th>2019_Dec</th>\n      <td>0.000739</td>\n      <td>0.000558</td>\n      <td>0.000316</td>\n      <td>0.000665</td>\n    </tr>\n    <tr>\n      <th>2019_Jul</th>\n      <td>0.001603</td>\n      <td>0.000660</td>\n      <td>0.000283</td>\n      <td>0.000660</td>\n    </tr>\n    <tr>\n      <th>2019_Nov</th>\n      <td>0.002048</td>\n      <td>0.000385</td>\n      <td>0.000551</td>\n      <td>0.000333</td>\n    </tr>\n    <tr>\n      <th>2019_Oct</th>\n      <td>0.001398</td>\n      <td>0.001340</td>\n      <td>0.000533</td>\n      <td>0.000572</td>\n    </tr>\n    <tr>\n      <th>2019_Sep</th>\n      <td>0.000409</td>\n      <td>0.000419</td>\n      <td>0.000843</td>\n      <td>0.000448</td>\n    </tr>\n    <tr>\n      <th>2020_Aug</th>\n      <td>0.001577</td>\n      <td>0.001189</td>\n      <td>0.000428</td>\n      <td>0.000222</td>\n    </tr>\n    <tr>\n      <th>2020_Feb</th>\n      <td>0.001206</td>\n      <td>0.000625</td>\n      <td>0.000353</td>\n      <td>0.000224</td>\n    </tr>\n    <tr>\n      <th>2020_Jan</th>\n      <td>0.001215</td>\n      <td>0.001331</td>\n      <td>0.000299</td>\n      <td>0.000240</td>\n    </tr>\n    <tr>\n      <th>2020_Jun</th>\n      <td>0.000713</td>\n      <td>0.000535</td>\n      <td>0.000356</td>\n      <td>0.000267</td>\n    </tr>\n    <tr>\n      <th>2020_Mar</th>\n      <td>0.000750</td>\n      <td>0.001500</td>\n      <td>0.000150</td>\n      <td>0.000450</td>\n    </tr>\n    <tr>\n      <th>2020_Oct</th>\n      <td>0.001235</td>\n      <td>0.000504</td>\n      <td>0.000306</td>\n      <td>0.000386</td>\n    </tr>\n  </tbody>\n</table>\n</div>"
     },
     "execution_count": 87,
     "metadata": {},
     "output_type": "execute_result"
    }
   ],
   "source": [
    "vis_df[column_order]"
   ],
   "metadata": {
    "collapsed": false,
    "ExecuteTime": {
     "end_time": "2024-05-17T09:54:10.518669Z",
     "start_time": "2024-05-17T09:54:10.505339Z"
    }
   }
  },
  {
   "cell_type": "code",
   "execution_count": 88,
   "outputs": [
    {
     "data": {
      "text/plain": "            r_vote     r_tax  r_campaign  r_economy\nY_M                                                \n2019_Jul  0.001603  0.000660    0.000283   0.000660\n2019_Aug  0.001596  0.000872    0.001499   0.000270\n2019_Oct  0.001398  0.001340    0.000533   0.000572\n2019_Sep  0.000409  0.000419    0.000843   0.000448\n2019_Nov  0.002048  0.000385    0.000551   0.000333\n2019_Dec  0.000739  0.000558    0.000316   0.000665\n2020_Jan  0.001215  0.001331    0.000299   0.000240\n2020_Feb  0.001206  0.000625    0.000353   0.000224\n2020_Mar  0.000750  0.001500    0.000150   0.000450\n2020_Jun  0.000713  0.000535    0.000356   0.000267\n2020_Aug  0.001577  0.001189    0.000428   0.000222\n2020_Oct  0.001235  0.000504    0.000306   0.000386",
      "text/html": "<div>\n<style scoped>\n    .dataframe tbody tr th:only-of-type {\n        vertical-align: middle;\n    }\n\n    .dataframe tbody tr th {\n        vertical-align: top;\n    }\n\n    .dataframe thead th {\n        text-align: right;\n    }\n</style>\n<table border=\"1\" class=\"dataframe\">\n  <thead>\n    <tr style=\"text-align: right;\">\n      <th></th>\n      <th>r_vote</th>\n      <th>r_tax</th>\n      <th>r_campaign</th>\n      <th>r_economy</th>\n    </tr>\n    <tr>\n      <th>Y_M</th>\n      <th></th>\n      <th></th>\n      <th></th>\n      <th></th>\n    </tr>\n  </thead>\n  <tbody>\n    <tr>\n      <th>2019_Jul</th>\n      <td>0.001603</td>\n      <td>0.000660</td>\n      <td>0.000283</td>\n      <td>0.000660</td>\n    </tr>\n    <tr>\n      <th>2019_Aug</th>\n      <td>0.001596</td>\n      <td>0.000872</td>\n      <td>0.001499</td>\n      <td>0.000270</td>\n    </tr>\n    <tr>\n      <th>2019_Oct</th>\n      <td>0.001398</td>\n      <td>0.001340</td>\n      <td>0.000533</td>\n      <td>0.000572</td>\n    </tr>\n    <tr>\n      <th>2019_Sep</th>\n      <td>0.000409</td>\n      <td>0.000419</td>\n      <td>0.000843</td>\n      <td>0.000448</td>\n    </tr>\n    <tr>\n      <th>2019_Nov</th>\n      <td>0.002048</td>\n      <td>0.000385</td>\n      <td>0.000551</td>\n      <td>0.000333</td>\n    </tr>\n    <tr>\n      <th>2019_Dec</th>\n      <td>0.000739</td>\n      <td>0.000558</td>\n      <td>0.000316</td>\n      <td>0.000665</td>\n    </tr>\n    <tr>\n      <th>2020_Jan</th>\n      <td>0.001215</td>\n      <td>0.001331</td>\n      <td>0.000299</td>\n      <td>0.000240</td>\n    </tr>\n    <tr>\n      <th>2020_Feb</th>\n      <td>0.001206</td>\n      <td>0.000625</td>\n      <td>0.000353</td>\n      <td>0.000224</td>\n    </tr>\n    <tr>\n      <th>2020_Mar</th>\n      <td>0.000750</td>\n      <td>0.001500</td>\n      <td>0.000150</td>\n      <td>0.000450</td>\n    </tr>\n    <tr>\n      <th>2020_Jun</th>\n      <td>0.000713</td>\n      <td>0.000535</td>\n      <td>0.000356</td>\n      <td>0.000267</td>\n    </tr>\n    <tr>\n      <th>2020_Aug</th>\n      <td>0.001577</td>\n      <td>0.001189</td>\n      <td>0.000428</td>\n      <td>0.000222</td>\n    </tr>\n    <tr>\n      <th>2020_Oct</th>\n      <td>0.001235</td>\n      <td>0.000504</td>\n      <td>0.000306</td>\n      <td>0.000386</td>\n    </tr>\n  </tbody>\n</table>\n</div>"
     },
     "execution_count": 88,
     "metadata": {},
     "output_type": "execute_result"
    }
   ],
   "source": [
    "vis_df[column_order].loc[row_order]"
   ],
   "metadata": {
    "collapsed": false,
    "ExecuteTime": {
     "end_time": "2024-05-17T09:54:39.174321Z",
     "start_time": "2024-05-17T09:54:39.165104Z"
    }
   }
  },
  {
   "cell_type": "code",
   "execution_count": 89,
   "outputs": [
    {
     "data": {
      "text/plain": "<Figure size 1000x400 with 1 Axes>",
      "image/png": "[encoded data removed]"
     },
     "metadata": {},
     "output_type": "display_data"
    }
   ],
   "source": [
    "vis_df[column_order].loc[row_order].plot.bar(figsize=(10,4))\n",
    "plt.legend(['vote','tax','campaign','economy'],ncol=2)\n",
    "plt.xlabel('Year_Month')\n",
    "plt.ylabel('Average Word Frequency')\n",
    "plt.show()"
   ],
   "metadata": {
    "collapsed": false,
    "ExecuteTime": {
     "end_time": "2024-05-17T09:56:08.770181Z",
     "start_time": "2024-05-17T09:56:08.622653Z"
    }
   }
  },
  {
   "cell_type": "markdown",
   "metadata": {},
   "source": [
    "## Example 2 – restructure the table"
   ]
  },
  {
   "cell_type": "code",
   "execution_count": 90,
   "metadata": {
    "scrolled": true,
    "ExecuteTime": {
     "end_time": "2024-05-17T09:56:10.981552Z",
     "start_time": "2024-05-17T09:56:10.908228Z"
    }
   },
   "outputs": [
    {
     "data": {
      "text/plain": "   Call  Failure  Complains  Subscription  Length  Seconds of Use  \\\n0              8          0                    38            4370   \n\n   Frequency of use  Frequency of SMS  Distinct Called Numbers  Status  Churn  \n0                71                 5                       17       1      0  ",
      "text/html": "<div>\n<style scoped>\n    .dataframe tbody tr th:only-of-type {\n        vertical-align: middle;\n    }\n\n    .dataframe tbody tr th {\n        vertical-align: top;\n    }\n\n    .dataframe thead th {\n        text-align: right;\n    }\n</style>\n<table border=\"1\" class=\"dataframe\">\n  <thead>\n    <tr style=\"text-align: right;\">\n      <th></th>\n      <th>Call  Failure</th>\n      <th>Complains</th>\n      <th>Subscription  Length</th>\n      <th>Seconds of Use</th>\n      <th>Frequency of use</th>\n      <th>Frequency of SMS</th>\n      <th>Distinct Called Numbers</th>\n      <th>Status</th>\n      <th>Churn</th>\n    </tr>\n  </thead>\n  <tbody>\n    <tr>\n      <th>0</th>\n      <td>8</td>\n      <td>0</td>\n      <td>38</td>\n      <td>4370</td>\n      <td>71</td>\n      <td>5</td>\n      <td>17</td>\n      <td>1</td>\n      <td>0</td>\n    </tr>\n  </tbody>\n</table>\n</div>"
     },
     "execution_count": 90,
     "metadata": {},
     "output_type": "execute_result"
    }
   ],
   "source": [
    "customer_df = pd.read_csv('Customer Churn.csv')\n",
    "customer_df.head(1)"
   ]
  },
  {
   "cell_type": "code",
   "execution_count": 91,
   "metadata": {
    "ExecuteTime": {
     "end_time": "2024-05-17T09:56:16.649730Z",
     "start_time": "2024-05-17T09:56:16.621115Z"
    }
   },
   "outputs": [],
   "source": [
    "customer_df.columns = ['Call_Failure', 'Complains', 'Subscription_Length', 'Seconds_of_Use',\n",
    "       'Frequency_of_use', 'Frequency_of_SMS', 'Distinct_Called_Numbers',\n",
    "       'Status', 'Churn']"
   ]
  },
  {
   "cell_type": "code",
   "execution_count": 92,
   "metadata": {
    "ExecuteTime": {
     "end_time": "2024-05-17T09:56:20.092944Z",
     "start_time": "2024-05-17T09:56:20.071164Z"
    }
   },
   "outputs": [],
   "source": [
    "churn_possibilities = customer_df.Churn.unique()\n",
    "\n",
    "box_sr = pd.Series('',index = churn_possibilities)\n",
    "\n",
    "for poss in churn_possibilities:\n",
    "    BM = customer_df.Churn == poss\n",
    "    box_sr[poss] = customer_df[BM].Call_Failure.values"
   ]
  },
  {
   "cell_type": "code",
   "execution_count": 93,
   "metadata": {
    "ExecuteTime": {
     "end_time": "2024-05-17T09:56:22.753608Z",
     "start_time": "2024-05-17T09:56:22.735906Z"
    }
   },
   "outputs": [
    {
     "name": "stdout",
     "output_type": "stream",
     "text": [
      "0    [8, 0, 10, 10, 3, 11, 4, 13, 7, 7, 6, 9, 25, 4...\n",
      "1    [0, 0, 23, 13, 9, 9, 0, 0, 0, 3, 3, 26, 12, 12...\n",
      "dtype: object\n"
     ]
    }
   ],
   "source": [
    "print(box_sr)"
   ]
  },
  {
   "cell_type": "code",
   "execution_count": 94,
   "metadata": {
    "ExecuteTime": {
     "end_time": "2024-05-17T09:56:23.316800Z",
     "start_time": "2024-05-17T09:56:23.250468Z"
    }
   },
   "outputs": [
    {
     "data": {
      "text/plain": "<Figure size 640x480 with 1 Axes>",
      "image/png": "[encoded data removed]"
     },
     "metadata": {},
     "output_type": "display_data"
    }
   ],
   "source": [
    "plt.boxplot(box_sr,vert=False)\n",
    "plt.yticks([1,2],['Not Churn','Churn'])\n",
    "plt.show()"
   ]
  },
  {
   "cell_type": "code",
   "execution_count": 22,
   "metadata": {
    "scrolled": true
   },
   "outputs": [
    {
     "data": {
      "image/png": "[encoded data removed]",
      "text/plain": [
       "<Figure size 1080x360 with 6 Axes>"
      ]
     },
     "metadata": {
      "needs_background": "light"
     },
     "output_type": "display_data"
    }
   ],
   "source": [
    "select_columns = ['Call_Failure', 'Subscription_Length', 'Seconds_of_Use',\n",
    "       'Frequency_of_use', 'Frequency_of_SMS', 'Distinct_Called_Numbers']\n",
    "churn_possibilities = customer_df.Churn.unique()\n",
    "\n",
    "plt.figure(figsize=(15,5))\n",
    "for i,sc in enumerate(select_columns):\n",
    "    for poss in churn_possibilities:\n",
    "        BM = customer_df.Churn == poss\n",
    "        box_sr[poss] = customer_df[BM][sc].values\n",
    "    plt.subplot(2,3,i+1)\n",
    "    plt.boxplot(box_sr,vert=False)\n",
    "    plt.yticks([1,2],['Not Churn','Churn'])\n",
    "    plt.title(sc)\n",
    "plt.tight_layout()\n",
    "plt.show()"
   ]
  },
  {
   "cell_type": "markdown",
   "metadata": {},
   "source": [
    "## Example 3 – Data Cleaning Level Ⅰ and Ⅱ"
   ]
  },
  {
   "cell_type": "code",
   "execution_count": 23,
   "metadata": {},
   "outputs": [
    {
     "data": {
      "text/html": [
       "<div>\n",
       "<style scoped>\n",
       "    .dataframe tbody tr th:only-of-type {\n",
       "        vertical-align: middle;\n",
       "    }\n",
       "\n",
       "    .dataframe tbody tr th {\n",
       "        vertical-align: top;\n",
       "    }\n",
       "\n",
       "    .dataframe thead th {\n",
       "        text-align: right;\n",
       "    }\n",
       "</style>\n",
       "<table border=\"1\" class=\"dataframe\">\n",
       "  <thead>\n",
       "    <tr style=\"text-align: right;\">\n",
       "      <th></th>\n",
       "      <th>DATE</th>\n",
       "      <th>IPG2211A2N</th>\n",
       "    </tr>\n",
       "  </thead>\n",
       "  <tbody>\n",
       "    <tr>\n",
       "      <th>0</th>\n",
       "      <td>1/1/1985</td>\n",
       "      <td>72.5052</td>\n",
       "    </tr>\n",
       "    <tr>\n",
       "      <th>1</th>\n",
       "      <td>2/1/1985</td>\n",
       "      <td>70.6720</td>\n",
       "    </tr>\n",
       "    <tr>\n",
       "      <th>2</th>\n",
       "      <td>3/1/1985</td>\n",
       "      <td>62.4502</td>\n",
       "    </tr>\n",
       "    <tr>\n",
       "      <th>3</th>\n",
       "      <td>4/1/1985</td>\n",
       "      <td>57.4714</td>\n",
       "    </tr>\n",
       "    <tr>\n",
       "      <th>4</th>\n",
       "      <td>5/1/1985</td>\n",
       "      <td>55.3151</td>\n",
       "    </tr>\n",
       "    <tr>\n",
       "      <th>...</th>\n",
       "      <td>...</td>\n",
       "      <td>...</td>\n",
       "    </tr>\n",
       "    <tr>\n",
       "      <th>392</th>\n",
       "      <td>9/1/2017</td>\n",
       "      <td>98.6154</td>\n",
       "    </tr>\n",
       "    <tr>\n",
       "      <th>393</th>\n",
       "      <td>10/1/2017</td>\n",
       "      <td>93.6137</td>\n",
       "    </tr>\n",
       "    <tr>\n",
       "      <th>394</th>\n",
       "      <td>11/1/2017</td>\n",
       "      <td>97.3359</td>\n",
       "    </tr>\n",
       "    <tr>\n",
       "      <th>395</th>\n",
       "      <td>12/1/2017</td>\n",
       "      <td>114.7212</td>\n",
       "    </tr>\n",
       "    <tr>\n",
       "      <th>396</th>\n",
       "      <td>1/1/2018</td>\n",
       "      <td>129.4048</td>\n",
       "    </tr>\n",
       "  </tbody>\n",
       "</table>\n",
       "<p>397 rows × 2 columns</p>\n",
       "</div>"
      ],
      "text/plain": [
       "          DATE  IPG2211A2N\n",
       "0     1/1/1985     72.5052\n",
       "1     2/1/1985     70.6720\n",
       "2     3/1/1985     62.4502\n",
       "3     4/1/1985     57.4714\n",
       "4     5/1/1985     55.3151\n",
       "..         ...         ...\n",
       "392   9/1/2017     98.6154\n",
       "393  10/1/2017     93.6137\n",
       "394  11/1/2017     97.3359\n",
       "395  12/1/2017    114.7212\n",
       "396   1/1/2018    129.4048\n",
       "\n",
       "[397 rows x 2 columns]"
      ]
     },
     "execution_count": 23,
     "metadata": {},
     "output_type": "execute_result"
    }
   ],
   "source": [
    "month_df = pd.read_csv('Electric_Production.csv')\n",
    "month_df"
   ]
  },
  {
   "cell_type": "markdown",
   "metadata": {},
   "source": [
    "### Level Ⅰ cleaning"
   ]
  },
  {
   "cell_type": "code",
   "execution_count": 24,
   "metadata": {},
   "outputs": [],
   "source": [
    "month_df.columns = ['Date','Demand']\n",
    "month_df.set_index(pd.to_datetime(month_df.Date,format='%m/%d/%Y'),inplace=True)\n",
    "month_df.drop(columns=['Date'],inplace=True)"
   ]
  },
  {
   "cell_type": "code",
   "execution_count": 25,
   "metadata": {},
   "outputs": [
    {
     "data": {
      "text/html": [
       "<div>\n",
       "<style scoped>\n",
       "    .dataframe tbody tr th:only-of-type {\n",
       "        vertical-align: middle;\n",
       "    }\n",
       "\n",
       "    .dataframe tbody tr th {\n",
       "        vertical-align: top;\n",
       "    }\n",
       "\n",
       "    .dataframe thead th {\n",
       "        text-align: right;\n",
       "    }\n",
       "</style>\n",
       "<table border=\"1\" class=\"dataframe\">\n",
       "  <thead>\n",
       "    <tr style=\"text-align: right;\">\n",
       "      <th></th>\n",
       "      <th>Demand</th>\n",
       "    </tr>\n",
       "    <tr>\n",
       "      <th>Date</th>\n",
       "      <th></th>\n",
       "    </tr>\n",
       "  </thead>\n",
       "  <tbody>\n",
       "    <tr>\n",
       "      <th>1985-01-01</th>\n",
       "      <td>72.5052</td>\n",
       "    </tr>\n",
       "    <tr>\n",
       "      <th>1985-02-01</th>\n",
       "      <td>70.6720</td>\n",
       "    </tr>\n",
       "    <tr>\n",
       "      <th>1985-03-01</th>\n",
       "      <td>62.4502</td>\n",
       "    </tr>\n",
       "    <tr>\n",
       "      <th>1985-04-01</th>\n",
       "      <td>57.4714</td>\n",
       "    </tr>\n",
       "    <tr>\n",
       "      <th>1985-05-01</th>\n",
       "      <td>55.3151</td>\n",
       "    </tr>\n",
       "    <tr>\n",
       "      <th>...</th>\n",
       "      <td>...</td>\n",
       "    </tr>\n",
       "    <tr>\n",
       "      <th>2017-09-01</th>\n",
       "      <td>98.6154</td>\n",
       "    </tr>\n",
       "    <tr>\n",
       "      <th>2017-10-01</th>\n",
       "      <td>93.6137</td>\n",
       "    </tr>\n",
       "    <tr>\n",
       "      <th>2017-11-01</th>\n",
       "      <td>97.3359</td>\n",
       "    </tr>\n",
       "    <tr>\n",
       "      <th>2017-12-01</th>\n",
       "      <td>114.7212</td>\n",
       "    </tr>\n",
       "    <tr>\n",
       "      <th>2018-01-01</th>\n",
       "      <td>129.4048</td>\n",
       "    </tr>\n",
       "  </tbody>\n",
       "</table>\n",
       "<p>397 rows × 1 columns</p>\n",
       "</div>"
      ],
      "text/plain": [
       "              Demand\n",
       "Date                \n",
       "1985-01-01   72.5052\n",
       "1985-02-01   70.6720\n",
       "1985-03-01   62.4502\n",
       "1985-04-01   57.4714\n",
       "1985-05-01   55.3151\n",
       "...              ...\n",
       "2017-09-01   98.6154\n",
       "2017-10-01   93.6137\n",
       "2017-11-01   97.3359\n",
       "2017-12-01  114.7212\n",
       "2018-01-01  129.4048\n",
       "\n",
       "[397 rows x 1 columns]"
      ]
     },
     "execution_count": 25,
     "metadata": {},
     "output_type": "execute_result"
    }
   ],
   "source": [
    "month_df"
   ]
  },
  {
   "cell_type": "markdown",
   "metadata": {},
   "source": [
    "### Level Ⅱ cleaning"
   ]
  },
  {
   "cell_type": "code",
   "execution_count": 26,
   "metadata": {},
   "outputs": [],
   "source": [
    "attributes_dic={'IA1':'Average demand of the month',\n",
    "            'IA2':'Slope of change for the demand of the month',\n",
    "            'IA3': 'Average demands of months t-2, t-3 and t-4',\n",
    "            'DA': 'Demand of month t'}\n",
    "predict_df = pd.DataFrame(index=month_df.iloc[24:].index,columns=attributes_dic.keys())"
   ]
  },
  {
   "cell_type": "code",
   "execution_count": 27,
   "metadata": {},
   "outputs": [
    {
     "data": {
      "text/html": [
       "<div>\n",
       "<style scoped>\n",
       "    .dataframe tbody tr th:only-of-type {\n",
       "        vertical-align: middle;\n",
       "    }\n",
       "\n",
       "    .dataframe tbody tr th {\n",
       "        vertical-align: top;\n",
       "    }\n",
       "\n",
       "    .dataframe thead th {\n",
       "        text-align: right;\n",
       "    }\n",
       "</style>\n",
       "<table border=\"1\" class=\"dataframe\">\n",
       "  <thead>\n",
       "    <tr style=\"text-align: right;\">\n",
       "      <th></th>\n",
       "      <th>IA1</th>\n",
       "      <th>IA2</th>\n",
       "      <th>IA3</th>\n",
       "      <th>DA</th>\n",
       "    </tr>\n",
       "    <tr>\n",
       "      <th>Date</th>\n",
       "      <th></th>\n",
       "      <th></th>\n",
       "      <th></th>\n",
       "      <th></th>\n",
       "    </tr>\n",
       "  </thead>\n",
       "  <tbody>\n",
       "    <tr>\n",
       "      <th>1987-01-01</th>\n",
       "      <td>NaN</td>\n",
       "      <td>NaN</td>\n",
       "      <td>NaN</td>\n",
       "      <td>NaN</td>\n",
       "    </tr>\n",
       "    <tr>\n",
       "      <th>1987-02-01</th>\n",
       "      <td>NaN</td>\n",
       "      <td>NaN</td>\n",
       "      <td>NaN</td>\n",
       "      <td>NaN</td>\n",
       "    </tr>\n",
       "    <tr>\n",
       "      <th>1987-03-01</th>\n",
       "      <td>NaN</td>\n",
       "      <td>NaN</td>\n",
       "      <td>NaN</td>\n",
       "      <td>NaN</td>\n",
       "    </tr>\n",
       "    <tr>\n",
       "      <th>1987-04-01</th>\n",
       "      <td>NaN</td>\n",
       "      <td>NaN</td>\n",
       "      <td>NaN</td>\n",
       "      <td>NaN</td>\n",
       "    </tr>\n",
       "    <tr>\n",
       "      <th>1987-05-01</th>\n",
       "      <td>NaN</td>\n",
       "      <td>NaN</td>\n",
       "      <td>NaN</td>\n",
       "      <td>NaN</td>\n",
       "    </tr>\n",
       "    <tr>\n",
       "      <th>...</th>\n",
       "      <td>...</td>\n",
       "      <td>...</td>\n",
       "      <td>...</td>\n",
       "      <td>...</td>\n",
       "    </tr>\n",
       "    <tr>\n",
       "      <th>2017-09-01</th>\n",
       "      <td>NaN</td>\n",
       "      <td>NaN</td>\n",
       "      <td>NaN</td>\n",
       "      <td>NaN</td>\n",
       "    </tr>\n",
       "    <tr>\n",
       "      <th>2017-10-01</th>\n",
       "      <td>NaN</td>\n",
       "      <td>NaN</td>\n",
       "      <td>NaN</td>\n",
       "      <td>NaN</td>\n",
       "    </tr>\n",
       "    <tr>\n",
       "      <th>2017-11-01</th>\n",
       "      <td>NaN</td>\n",
       "      <td>NaN</td>\n",
       "      <td>NaN</td>\n",
       "      <td>NaN</td>\n",
       "    </tr>\n",
       "    <tr>\n",
       "      <th>2017-12-01</th>\n",
       "      <td>NaN</td>\n",
       "      <td>NaN</td>\n",
       "      <td>NaN</td>\n",
       "      <td>NaN</td>\n",
       "    </tr>\n",
       "    <tr>\n",
       "      <th>2018-01-01</th>\n",
       "      <td>NaN</td>\n",
       "      <td>NaN</td>\n",
       "      <td>NaN</td>\n",
       "      <td>NaN</td>\n",
       "    </tr>\n",
       "  </tbody>\n",
       "</table>\n",
       "<p>373 rows × 4 columns</p>\n",
       "</div>"
      ],
      "text/plain": [
       "            IA1  IA2  IA3   DA\n",
       "Date                          \n",
       "1987-01-01  NaN  NaN  NaN  NaN\n",
       "1987-02-01  NaN  NaN  NaN  NaN\n",
       "1987-03-01  NaN  NaN  NaN  NaN\n",
       "1987-04-01  NaN  NaN  NaN  NaN\n",
       "1987-05-01  NaN  NaN  NaN  NaN\n",
       "...         ...  ...  ...  ...\n",
       "2017-09-01  NaN  NaN  NaN  NaN\n",
       "2017-10-01  NaN  NaN  NaN  NaN\n",
       "2017-11-01  NaN  NaN  NaN  NaN\n",
       "2017-12-01  NaN  NaN  NaN  NaN\n",
       "2018-01-01  NaN  NaN  NaN  NaN\n",
       "\n",
       "[373 rows x 4 columns]"
      ]
     },
     "execution_count": 27,
     "metadata": {},
     "output_type": "execute_result"
    }
   ],
   "source": [
    "predict_df"
   ]
  },
  {
   "cell_type": "markdown",
   "metadata": {},
   "source": [
    "#### Fill out DA"
   ]
  },
  {
   "cell_type": "code",
   "execution_count": 28,
   "metadata": {
    "scrolled": false
   },
   "outputs": [
    {
     "data": {
      "text/html": [
       "<div>\n",
       "<style scoped>\n",
       "    .dataframe tbody tr th:only-of-type {\n",
       "        vertical-align: middle;\n",
       "    }\n",
       "\n",
       "    .dataframe tbody tr th {\n",
       "        vertical-align: top;\n",
       "    }\n",
       "\n",
       "    .dataframe thead th {\n",
       "        text-align: right;\n",
       "    }\n",
       "</style>\n",
       "<table border=\"1\" class=\"dataframe\">\n",
       "  <thead>\n",
       "    <tr style=\"text-align: right;\">\n",
       "      <th></th>\n",
       "      <th>IA1</th>\n",
       "      <th>IA2</th>\n",
       "      <th>IA3</th>\n",
       "      <th>DA</th>\n",
       "    </tr>\n",
       "    <tr>\n",
       "      <th>Date</th>\n",
       "      <th></th>\n",
       "      <th></th>\n",
       "      <th></th>\n",
       "      <th></th>\n",
       "    </tr>\n",
       "  </thead>\n",
       "  <tbody>\n",
       "    <tr>\n",
       "      <th>1987-01-01</th>\n",
       "      <td>NaN</td>\n",
       "      <td>NaN</td>\n",
       "      <td>NaN</td>\n",
       "      <td>73.8152</td>\n",
       "    </tr>\n",
       "    <tr>\n",
       "      <th>1987-02-01</th>\n",
       "      <td>NaN</td>\n",
       "      <td>NaN</td>\n",
       "      <td>NaN</td>\n",
       "      <td>70.0620</td>\n",
       "    </tr>\n",
       "    <tr>\n",
       "      <th>1987-03-01</th>\n",
       "      <td>NaN</td>\n",
       "      <td>NaN</td>\n",
       "      <td>NaN</td>\n",
       "      <td>65.6100</td>\n",
       "    </tr>\n",
       "    <tr>\n",
       "      <th>1987-04-01</th>\n",
       "      <td>NaN</td>\n",
       "      <td>NaN</td>\n",
       "      <td>NaN</td>\n",
       "      <td>60.1586</td>\n",
       "    </tr>\n",
       "    <tr>\n",
       "      <th>1987-05-01</th>\n",
       "      <td>NaN</td>\n",
       "      <td>NaN</td>\n",
       "      <td>NaN</td>\n",
       "      <td>58.8734</td>\n",
       "    </tr>\n",
       "    <tr>\n",
       "      <th>...</th>\n",
       "      <td>...</td>\n",
       "      <td>...</td>\n",
       "      <td>...</td>\n",
       "      <td>...</td>\n",
       "    </tr>\n",
       "    <tr>\n",
       "      <th>2017-09-01</th>\n",
       "      <td>NaN</td>\n",
       "      <td>NaN</td>\n",
       "      <td>NaN</td>\n",
       "      <td>98.6154</td>\n",
       "    </tr>\n",
       "    <tr>\n",
       "      <th>2017-10-01</th>\n",
       "      <td>NaN</td>\n",
       "      <td>NaN</td>\n",
       "      <td>NaN</td>\n",
       "      <td>93.6137</td>\n",
       "    </tr>\n",
       "    <tr>\n",
       "      <th>2017-11-01</th>\n",
       "      <td>NaN</td>\n",
       "      <td>NaN</td>\n",
       "      <td>NaN</td>\n",
       "      <td>97.3359</td>\n",
       "    </tr>\n",
       "    <tr>\n",
       "      <th>2017-12-01</th>\n",
       "      <td>NaN</td>\n",
       "      <td>NaN</td>\n",
       "      <td>NaN</td>\n",
       "      <td>114.7212</td>\n",
       "    </tr>\n",
       "    <tr>\n",
       "      <th>2018-01-01</th>\n",
       "      <td>NaN</td>\n",
       "      <td>NaN</td>\n",
       "      <td>NaN</td>\n",
       "      <td>129.4048</td>\n",
       "    </tr>\n",
       "  </tbody>\n",
       "</table>\n",
       "<p>373 rows × 4 columns</p>\n",
       "</div>"
      ],
      "text/plain": [
       "            IA1  IA2  IA3        DA\n",
       "Date                               \n",
       "1987-01-01  NaN  NaN  NaN   73.8152\n",
       "1987-02-01  NaN  NaN  NaN   70.0620\n",
       "1987-03-01  NaN  NaN  NaN   65.6100\n",
       "1987-04-01  NaN  NaN  NaN   60.1586\n",
       "1987-05-01  NaN  NaN  NaN   58.8734\n",
       "...         ...  ...  ...       ...\n",
       "2017-09-01  NaN  NaN  NaN   98.6154\n",
       "2017-10-01  NaN  NaN  NaN   93.6137\n",
       "2017-11-01  NaN  NaN  NaN   97.3359\n",
       "2017-12-01  NaN  NaN  NaN  114.7212\n",
       "2018-01-01  NaN  NaN  NaN  129.4048\n",
       "\n",
       "[373 rows x 4 columns]"
      ]
     },
     "execution_count": 28,
     "metadata": {},
     "output_type": "execute_result"
    }
   ],
   "source": [
    "predict_df.DA = month_df.loc['1987-01-01':].Demand\n",
    "predict_df"
   ]
  },
  {
   "cell_type": "markdown",
   "metadata": {},
   "source": [
    "#### Fill out IA1"
   ]
  },
  {
   "cell_type": "code",
   "execution_count": 29,
   "metadata": {},
   "outputs": [],
   "source": [
    "month_df['Month'] = list(map(lambda v:v.month, month_df.index))"
   ]
  },
  {
   "cell_type": "code",
   "execution_count": 30,
   "metadata": {},
   "outputs": [
    {
     "data": {
      "text/html": [
       "<div>\n",
       "<style scoped>\n",
       "    .dataframe tbody tr th:only-of-type {\n",
       "        vertical-align: middle;\n",
       "    }\n",
       "\n",
       "    .dataframe tbody tr th {\n",
       "        vertical-align: top;\n",
       "    }\n",
       "\n",
       "    .dataframe thead th {\n",
       "        text-align: right;\n",
       "    }\n",
       "</style>\n",
       "<table border=\"1\" class=\"dataframe\">\n",
       "  <thead>\n",
       "    <tr style=\"text-align: right;\">\n",
       "      <th></th>\n",
       "      <th>Demand</th>\n",
       "      <th>Month</th>\n",
       "    </tr>\n",
       "    <tr>\n",
       "      <th>Date</th>\n",
       "      <th></th>\n",
       "      <th></th>\n",
       "    </tr>\n",
       "  </thead>\n",
       "  <tbody>\n",
       "    <tr>\n",
       "      <th>1985-01-01</th>\n",
       "      <td>72.5052</td>\n",
       "      <td>1</td>\n",
       "    </tr>\n",
       "    <tr>\n",
       "      <th>1985-02-01</th>\n",
       "      <td>70.6720</td>\n",
       "      <td>2</td>\n",
       "    </tr>\n",
       "    <tr>\n",
       "      <th>1985-03-01</th>\n",
       "      <td>62.4502</td>\n",
       "      <td>3</td>\n",
       "    </tr>\n",
       "    <tr>\n",
       "      <th>1985-04-01</th>\n",
       "      <td>57.4714</td>\n",
       "      <td>4</td>\n",
       "    </tr>\n",
       "    <tr>\n",
       "      <th>1985-05-01</th>\n",
       "      <td>55.3151</td>\n",
       "      <td>5</td>\n",
       "    </tr>\n",
       "    <tr>\n",
       "      <th>...</th>\n",
       "      <td>...</td>\n",
       "      <td>...</td>\n",
       "    </tr>\n",
       "    <tr>\n",
       "      <th>2017-09-01</th>\n",
       "      <td>98.6154</td>\n",
       "      <td>9</td>\n",
       "    </tr>\n",
       "    <tr>\n",
       "      <th>2017-10-01</th>\n",
       "      <td>93.6137</td>\n",
       "      <td>10</td>\n",
       "    </tr>\n",
       "    <tr>\n",
       "      <th>2017-11-01</th>\n",
       "      <td>97.3359</td>\n",
       "      <td>11</td>\n",
       "    </tr>\n",
       "    <tr>\n",
       "      <th>2017-12-01</th>\n",
       "      <td>114.7212</td>\n",
       "      <td>12</td>\n",
       "    </tr>\n",
       "    <tr>\n",
       "      <th>2018-01-01</th>\n",
       "      <td>129.4048</td>\n",
       "      <td>1</td>\n",
       "    </tr>\n",
       "  </tbody>\n",
       "</table>\n",
       "<p>397 rows × 2 columns</p>\n",
       "</div>"
      ],
      "text/plain": [
       "              Demand  Month\n",
       "Date                       \n",
       "1985-01-01   72.5052      1\n",
       "1985-02-01   70.6720      2\n",
       "1985-03-01   62.4502      3\n",
       "1985-04-01   57.4714      4\n",
       "1985-05-01   55.3151      5\n",
       "...              ...    ...\n",
       "2017-09-01   98.6154      9\n",
       "2017-10-01   93.6137     10\n",
       "2017-11-01   97.3359     11\n",
       "2017-12-01  114.7212     12\n",
       "2018-01-01  129.4048      1\n",
       "\n",
       "[397 rows x 2 columns]"
      ]
     },
     "execution_count": 30,
     "metadata": {},
     "output_type": "execute_result"
    }
   ],
   "source": [
    "month_df"
   ]
  },
  {
   "cell_type": "code",
   "execution_count": 31,
   "metadata": {},
   "outputs": [],
   "source": [
    "def ComputeIA1(r):\n",
    "    row_date = r.name\n",
    "    wdf = month_df.loc[:row_date].iloc[:-1]\n",
    "    BM = wdf.Month == row_date.month\n",
    "    return wdf[BM].Demand.mean()\n",
    "\n",
    "predict_df.IA1 = predict_df.apply(ComputeIA1,axis=1)"
   ]
  },
  {
   "cell_type": "code",
   "execution_count": 32,
   "metadata": {},
   "outputs": [
    {
     "data": {
      "text/html": [
       "<div>\n",
       "<style scoped>\n",
       "    .dataframe tbody tr th:only-of-type {\n",
       "        vertical-align: middle;\n",
       "    }\n",
       "\n",
       "    .dataframe tbody tr th {\n",
       "        vertical-align: top;\n",
       "    }\n",
       "\n",
       "    .dataframe thead th {\n",
       "        text-align: right;\n",
       "    }\n",
       "</style>\n",
       "<table border=\"1\" class=\"dataframe\">\n",
       "  <thead>\n",
       "    <tr style=\"text-align: right;\">\n",
       "      <th></th>\n",
       "      <th>IA1</th>\n",
       "      <th>IA2</th>\n",
       "      <th>IA3</th>\n",
       "      <th>DA</th>\n",
       "    </tr>\n",
       "    <tr>\n",
       "      <th>Date</th>\n",
       "      <th></th>\n",
       "      <th></th>\n",
       "      <th></th>\n",
       "      <th></th>\n",
       "    </tr>\n",
       "  </thead>\n",
       "  <tbody>\n",
       "    <tr>\n",
       "      <th>1987-01-01</th>\n",
       "      <td>72.905450</td>\n",
       "      <td>NaN</td>\n",
       "      <td>NaN</td>\n",
       "      <td>73.8152</td>\n",
       "    </tr>\n",
       "    <tr>\n",
       "      <th>1987-02-01</th>\n",
       "      <td>69.329450</td>\n",
       "      <td>NaN</td>\n",
       "      <td>NaN</td>\n",
       "      <td>70.0620</td>\n",
       "    </tr>\n",
       "    <tr>\n",
       "      <th>1987-03-01</th>\n",
       "      <td>62.336150</td>\n",
       "      <td>NaN</td>\n",
       "      <td>NaN</td>\n",
       "      <td>65.6100</td>\n",
       "    </tr>\n",
       "    <tr>\n",
       "      <th>1987-04-01</th>\n",
       "      <td>57.252150</td>\n",
       "      <td>NaN</td>\n",
       "      <td>NaN</td>\n",
       "      <td>60.1586</td>\n",
       "    </tr>\n",
       "    <tr>\n",
       "      <th>1987-05-01</th>\n",
       "      <td>55.564400</td>\n",
       "      <td>NaN</td>\n",
       "      <td>NaN</td>\n",
       "      <td>58.8734</td>\n",
       "    </tr>\n",
       "    <tr>\n",
       "      <th>...</th>\n",
       "      <td>...</td>\n",
       "      <td>...</td>\n",
       "      <td>...</td>\n",
       "      <td>...</td>\n",
       "    </tr>\n",
       "    <tr>\n",
       "      <th>2017-09-01</th>\n",
       "      <td>86.105297</td>\n",
       "      <td>NaN</td>\n",
       "      <td>NaN</td>\n",
       "      <td>98.6154</td>\n",
       "    </tr>\n",
       "    <tr>\n",
       "      <th>2017-10-01</th>\n",
       "      <td>79.790228</td>\n",
       "      <td>NaN</td>\n",
       "      <td>NaN</td>\n",
       "      <td>93.6137</td>\n",
       "    </tr>\n",
       "    <tr>\n",
       "      <th>2017-11-01</th>\n",
       "      <td>82.692128</td>\n",
       "      <td>NaN</td>\n",
       "      <td>NaN</td>\n",
       "      <td>97.3359</td>\n",
       "    </tr>\n",
       "    <tr>\n",
       "      <th>2017-12-01</th>\n",
       "      <td>95.164994</td>\n",
       "      <td>NaN</td>\n",
       "      <td>NaN</td>\n",
       "      <td>114.7212</td>\n",
       "    </tr>\n",
       "    <tr>\n",
       "      <th>2018-01-01</th>\n",
       "      <td>101.272830</td>\n",
       "      <td>NaN</td>\n",
       "      <td>NaN</td>\n",
       "      <td>129.4048</td>\n",
       "    </tr>\n",
       "  </tbody>\n",
       "</table>\n",
       "<p>373 rows × 4 columns</p>\n",
       "</div>"
      ],
      "text/plain": [
       "                   IA1  IA2  IA3        DA\n",
       "Date                                      \n",
       "1987-01-01   72.905450  NaN  NaN   73.8152\n",
       "1987-02-01   69.329450  NaN  NaN   70.0620\n",
       "1987-03-01   62.336150  NaN  NaN   65.6100\n",
       "1987-04-01   57.252150  NaN  NaN   60.1586\n",
       "1987-05-01   55.564400  NaN  NaN   58.8734\n",
       "...                ...  ...  ...       ...\n",
       "2017-09-01   86.105297  NaN  NaN   98.6154\n",
       "2017-10-01   79.790228  NaN  NaN   93.6137\n",
       "2017-11-01   82.692128  NaN  NaN   97.3359\n",
       "2017-12-01   95.164994  NaN  NaN  114.7212\n",
       "2018-01-01  101.272830  NaN  NaN  129.4048\n",
       "\n",
       "[373 rows x 4 columns]"
      ]
     },
     "execution_count": 32,
     "metadata": {},
     "output_type": "execute_result"
    }
   ],
   "source": [
    "predict_df"
   ]
  },
  {
   "cell_type": "markdown",
   "metadata": {},
   "source": [
    "#### Fill out IA2"
   ]
  },
  {
   "cell_type": "code",
   "execution_count": 33,
   "metadata": {},
   "outputs": [],
   "source": [
    "from sklearn.linear_model import LinearRegression\n",
    "def ComputeIA2(r):\n",
    "    row_date = r.name\n",
    "    wdf = month_df.loc[:row_date].iloc[:-1]\n",
    "    BM = wdf.Month == row_date.month\n",
    "    wdf = wdf[BM]\n",
    "    wdf.reset_index(drop=True,inplace=True)\n",
    "    wdf.drop(columns = ['Month'],inplace=True)\n",
    "    wdf['integer'] = range(len(wdf))\n",
    "    wdf['ones'] = 1\n",
    "\n",
    "    lm = LinearRegression()\n",
    "    lm.fit(wdf.drop(columns=['Demand']), wdf.Demand)\n",
    "    return lm.coef_[0]\n",
    "\n",
    "predict_df.IA2 = predict_df.apply(ComputeIA2,axis=1)"
   ]
  },
  {
   "cell_type": "code",
   "execution_count": 34,
   "metadata": {},
   "outputs": [
    {
     "data": {
      "text/html": [
       "<div>\n",
       "<style scoped>\n",
       "    .dataframe tbody tr th:only-of-type {\n",
       "        vertical-align: middle;\n",
       "    }\n",
       "\n",
       "    .dataframe tbody tr th {\n",
       "        vertical-align: top;\n",
       "    }\n",
       "\n",
       "    .dataframe thead th {\n",
       "        text-align: right;\n",
       "    }\n",
       "</style>\n",
       "<table border=\"1\" class=\"dataframe\">\n",
       "  <thead>\n",
       "    <tr style=\"text-align: right;\">\n",
       "      <th></th>\n",
       "      <th>IA1</th>\n",
       "      <th>IA2</th>\n",
       "      <th>IA3</th>\n",
       "      <th>DA</th>\n",
       "    </tr>\n",
       "    <tr>\n",
       "      <th>Date</th>\n",
       "      <th></th>\n",
       "      <th></th>\n",
       "      <th></th>\n",
       "      <th></th>\n",
       "    </tr>\n",
       "  </thead>\n",
       "  <tbody>\n",
       "    <tr>\n",
       "      <th>1987-01-01</th>\n",
       "      <td>72.905450</td>\n",
       "      <td>0.800500</td>\n",
       "      <td>NaN</td>\n",
       "      <td>73.8152</td>\n",
       "    </tr>\n",
       "    <tr>\n",
       "      <th>1987-02-01</th>\n",
       "      <td>69.329450</td>\n",
       "      <td>-2.685100</td>\n",
       "      <td>NaN</td>\n",
       "      <td>70.0620</td>\n",
       "    </tr>\n",
       "    <tr>\n",
       "      <th>1987-03-01</th>\n",
       "      <td>62.336150</td>\n",
       "      <td>-0.228100</td>\n",
       "      <td>NaN</td>\n",
       "      <td>65.6100</td>\n",
       "    </tr>\n",
       "    <tr>\n",
       "      <th>1987-04-01</th>\n",
       "      <td>57.252150</td>\n",
       "      <td>-0.438500</td>\n",
       "      <td>NaN</td>\n",
       "      <td>60.1586</td>\n",
       "    </tr>\n",
       "    <tr>\n",
       "      <th>1987-05-01</th>\n",
       "      <td>55.564400</td>\n",
       "      <td>0.498600</td>\n",
       "      <td>NaN</td>\n",
       "      <td>58.8734</td>\n",
       "    </tr>\n",
       "    <tr>\n",
       "      <th>...</th>\n",
       "      <td>...</td>\n",
       "      <td>...</td>\n",
       "      <td>...</td>\n",
       "      <td>...</td>\n",
       "    </tr>\n",
       "    <tr>\n",
       "      <th>2017-09-01</th>\n",
       "      <td>86.105297</td>\n",
       "      <td>1.378406</td>\n",
       "      <td>NaN</td>\n",
       "      <td>98.6154</td>\n",
       "    </tr>\n",
       "    <tr>\n",
       "      <th>2017-10-01</th>\n",
       "      <td>79.790228</td>\n",
       "      <td>1.185773</td>\n",
       "      <td>NaN</td>\n",
       "      <td>93.6137</td>\n",
       "    </tr>\n",
       "    <tr>\n",
       "      <th>2017-11-01</th>\n",
       "      <td>82.692128</td>\n",
       "      <td>1.190510</td>\n",
       "      <td>NaN</td>\n",
       "      <td>97.3359</td>\n",
       "    </tr>\n",
       "    <tr>\n",
       "      <th>2017-12-01</th>\n",
       "      <td>95.164994</td>\n",
       "      <td>1.421533</td>\n",
       "      <td>NaN</td>\n",
       "      <td>114.7212</td>\n",
       "    </tr>\n",
       "    <tr>\n",
       "      <th>2018-01-01</th>\n",
       "      <td>101.272830</td>\n",
       "      <td>1.537419</td>\n",
       "      <td>NaN</td>\n",
       "      <td>129.4048</td>\n",
       "    </tr>\n",
       "  </tbody>\n",
       "</table>\n",
       "<p>373 rows × 4 columns</p>\n",
       "</div>"
      ],
      "text/plain": [
       "                   IA1       IA2  IA3        DA\n",
       "Date                                           \n",
       "1987-01-01   72.905450  0.800500  NaN   73.8152\n",
       "1987-02-01   69.329450 -2.685100  NaN   70.0620\n",
       "1987-03-01   62.336150 -0.228100  NaN   65.6100\n",
       "1987-04-01   57.252150 -0.438500  NaN   60.1586\n",
       "1987-05-01   55.564400  0.498600  NaN   58.8734\n",
       "...                ...       ...  ...       ...\n",
       "2017-09-01   86.105297  1.378406  NaN   98.6154\n",
       "2017-10-01   79.790228  1.185773  NaN   93.6137\n",
       "2017-11-01   82.692128  1.190510  NaN   97.3359\n",
       "2017-12-01   95.164994  1.421533  NaN  114.7212\n",
       "2018-01-01  101.272830  1.537419  NaN  129.4048\n",
       "\n",
       "[373 rows x 4 columns]"
      ]
     },
     "execution_count": 34,
     "metadata": {},
     "output_type": "execute_result"
    }
   ],
   "source": [
    "predict_df"
   ]
  },
  {
   "cell_type": "code",
   "execution_count": 35,
   "metadata": {},
   "outputs": [
    {
     "name": "stdout",
     "output_type": "stream",
     "text": [
      "Slope = 1.1857728189149566\n"
     ]
    },
    {
     "data": {
      "image/png": "[encoded data removed]",
      "text/plain": [
       "<Figure size 432x288 with 1 Axes>"
      ]
     },
     "metadata": {
      "needs_background": "light"
     },
     "output_type": "display_data"
    }
   ],
   "source": [
    "row_date = '2017-10-01'\n",
    "wdf = month_df.loc[:row_date].iloc[:-1]\n",
    "BM = wdf.Month == 10\n",
    "wdf = wdf[BM]\n",
    "wdf.reset_index(drop=True,inplace=True)\n",
    "wdf.drop(columns = ['Month'],inplace=True)\n",
    "wdf['integer'] = range(len(wdf))\n",
    "wdf['ones'] = 1\n",
    "\n",
    "lm = LinearRegression()\n",
    "lm.fit(wdf.drop(columns=['Demand']), wdf.Demand)\n",
    "print('Slope = {}'.format(lm.coef_[0]))\n",
    "\n",
    "wdf.plot.scatter(x='integer',y='Demand',marker='*',\n",
    "                 label='Data points',c='C0')\n",
    "\n",
    "b = lm.intercept_\n",
    "a = lm.coef_[0]\n",
    "\n",
    "X = wdf.integer\n",
    "y = b + a*X\n",
    "\n",
    "plt.plot(X,y,label = 'Fitted regression',linestyle='--',c='C1')\n",
    "plt.show()"
   ]
  },
  {
   "cell_type": "markdown",
   "metadata": {},
   "source": [
    "#### Fill out IA3"
   ]
  },
  {
   "cell_type": "code",
   "execution_count": 36,
   "metadata": {},
   "outputs": [],
   "source": [
    "def ComputeIA3(r):\n",
    "    row_date = r.name\n",
    "    wdf = month_df.loc[:row_date].iloc[-5:-2]\n",
    "    return wdf.Demand.mean()\n",
    "\n",
    "predict_df.IA3 = predict_df.apply(ComputeIA3,axis=1)"
   ]
  },
  {
   "cell_type": "code",
   "execution_count": 37,
   "metadata": {},
   "outputs": [
    {
     "data": {
      "text/html": [
       "<div>\n",
       "<style scoped>\n",
       "    .dataframe tbody tr th:only-of-type {\n",
       "        vertical-align: middle;\n",
       "    }\n",
       "\n",
       "    .dataframe tbody tr th {\n",
       "        vertical-align: top;\n",
       "    }\n",
       "\n",
       "    .dataframe thead th {\n",
       "        text-align: right;\n",
       "    }\n",
       "</style>\n",
       "<table border=\"1\" class=\"dataframe\">\n",
       "  <thead>\n",
       "    <tr style=\"text-align: right;\">\n",
       "      <th></th>\n",
       "      <th>IA1</th>\n",
       "      <th>IA2</th>\n",
       "      <th>IA3</th>\n",
       "      <th>DA</th>\n",
       "    </tr>\n",
       "    <tr>\n",
       "      <th>Date</th>\n",
       "      <th></th>\n",
       "      <th></th>\n",
       "      <th></th>\n",
       "      <th></th>\n",
       "    </tr>\n",
       "  </thead>\n",
       "  <tbody>\n",
       "    <tr>\n",
       "      <th>1987-01-01</th>\n",
       "      <td>72.905450</td>\n",
       "      <td>0.800500</td>\n",
       "      <td>59.291467</td>\n",
       "      <td>73.8152</td>\n",
       "    </tr>\n",
       "    <tr>\n",
       "      <th>1987-02-01</th>\n",
       "      <td>69.329450</td>\n",
       "      <td>-2.685100</td>\n",
       "      <td>61.669767</td>\n",
       "      <td>70.0620</td>\n",
       "    </tr>\n",
       "    <tr>\n",
       "      <th>1987-03-01</th>\n",
       "      <td>62.336150</td>\n",
       "      <td>-0.228100</td>\n",
       "      <td>67.097433</td>\n",
       "      <td>65.6100</td>\n",
       "    </tr>\n",
       "    <tr>\n",
       "      <th>1987-04-01</th>\n",
       "      <td>57.252150</td>\n",
       "      <td>-0.438500</td>\n",
       "      <td>70.670867</td>\n",
       "      <td>60.1586</td>\n",
       "    </tr>\n",
       "    <tr>\n",
       "      <th>1987-05-01</th>\n",
       "      <td>55.564400</td>\n",
       "      <td>0.498600</td>\n",
       "      <td>69.829067</td>\n",
       "      <td>58.8734</td>\n",
       "    </tr>\n",
       "    <tr>\n",
       "      <th>...</th>\n",
       "      <td>...</td>\n",
       "      <td>...</td>\n",
       "      <td>...</td>\n",
       "      <td>...</td>\n",
       "    </tr>\n",
       "    <tr>\n",
       "      <th>2017-09-01</th>\n",
       "      <td>86.105297</td>\n",
       "      <td>1.378406</td>\n",
       "      <td>102.129167</td>\n",
       "      <td>98.6154</td>\n",
       "    </tr>\n",
       "    <tr>\n",
       "      <th>2017-10-01</th>\n",
       "      <td>79.790228</td>\n",
       "      <td>1.185773</td>\n",
       "      <td>107.746067</td>\n",
       "      <td>93.6137</td>\n",
       "    </tr>\n",
       "    <tr>\n",
       "      <th>2017-11-01</th>\n",
       "      <td>82.692128</td>\n",
       "      <td>1.190510</td>\n",
       "      <td>106.566800</td>\n",
       "      <td>97.3359</td>\n",
       "    </tr>\n",
       "    <tr>\n",
       "      <th>2017-12-01</th>\n",
       "      <td>95.164994</td>\n",
       "      <td>1.421533</td>\n",
       "      <td>100.386767</td>\n",
       "      <td>114.7212</td>\n",
       "    </tr>\n",
       "    <tr>\n",
       "      <th>2018-01-01</th>\n",
       "      <td>101.272830</td>\n",
       "      <td>1.537419</td>\n",
       "      <td>96.521667</td>\n",
       "      <td>129.4048</td>\n",
       "    </tr>\n",
       "  </tbody>\n",
       "</table>\n",
       "<p>373 rows × 4 columns</p>\n",
       "</div>"
      ],
      "text/plain": [
       "                   IA1       IA2         IA3        DA\n",
       "Date                                                  \n",
       "1987-01-01   72.905450  0.800500   59.291467   73.8152\n",
       "1987-02-01   69.329450 -2.685100   61.669767   70.0620\n",
       "1987-03-01   62.336150 -0.228100   67.097433   65.6100\n",
       "1987-04-01   57.252150 -0.438500   70.670867   60.1586\n",
       "1987-05-01   55.564400  0.498600   69.829067   58.8734\n",
       "...                ...       ...         ...       ...\n",
       "2017-09-01   86.105297  1.378406  102.129167   98.6154\n",
       "2017-10-01   79.790228  1.185773  107.746067   93.6137\n",
       "2017-11-01   82.692128  1.190510  106.566800   97.3359\n",
       "2017-12-01   95.164994  1.421533  100.386767  114.7212\n",
       "2018-01-01  101.272830  1.537419   96.521667  129.4048\n",
       "\n",
       "[373 rows x 4 columns]"
      ]
     },
     "execution_count": 37,
     "metadata": {},
     "output_type": "execute_result"
    }
   ],
   "source": [
    "predict_df"
   ]
  },
  {
   "cell_type": "markdown",
   "metadata": {},
   "source": [
    "### Doing the analytics – Using Linear Regression to create a predictive model"
   ]
  },
  {
   "cell_type": "code",
   "execution_count": 38,
   "metadata": {},
   "outputs": [
    {
     "data": {
      "text/plain": [
       "LinearRegression()"
      ]
     },
     "execution_count": 38,
     "metadata": {},
     "output_type": "execute_result"
    }
   ],
   "source": [
    "from sklearn.linear_model import LinearRegression\n",
    "\n",
    "X = predict_df.drop(columns=['DA'])\n",
    "y = predict_df.DA\n",
    "\n",
    "lm = LinearRegression()\n",
    "lm.fit(X,y)"
   ]
  },
  {
   "cell_type": "code",
   "execution_count": 39,
   "metadata": {},
   "outputs": [
    {
     "name": "stdout",
     "output_type": "stream",
     "text": [
      "intercept (b0)  -25.752948794014685\n",
      "  Predictor coefficient Name  coefficient Value\n",
      "0       IA1               b1           1.295225\n",
      "1       IA2               b2           1.436991\n",
      "2       IA3               b3           0.151708\n"
     ]
    }
   ],
   "source": [
    "print('intercept (b0) ', lm.intercept_)\n",
    "coef_names = ['b1','b2','b3']\n",
    "print(pd.DataFrame({'Predictor': X.columns,\n",
    "                    'coefficient Name':coef_names, \n",
    "                    'coefficient Value': lm.coef_}))"
   ]
  },
  {
   "cell_type": "code",
   "execution_count": 40,
   "metadata": {},
   "outputs": [
    {
     "data": {
      "image/png": "[encoded data removed]",
      "text/plain": [
       "<Figure size 720x288 with 1 Axes>"
      ]
     },
     "metadata": {
      "needs_background": "light"
     },
     "output_type": "display_data"
    }
   ],
   "source": [
    "plt.figure(figsize=(10,4))\n",
    "plt.plot(X.index,y, label='Actual')\n",
    "plt.plot(X.index,lm.predict(X), \n",
    "         label = 'Fitted',linestyle='--')\n",
    "plt.legend()\n",
    "plt.show()"
   ]
  }
 ],
 "metadata": {
  "kernelspec": {
   "display_name": "Python 3 (ipykernel)",
   "language": "python",
   "name": "python3"
  },
  "language_info": {
   "codemirror_mode": {
    "name": "ipython",
    "version": 3
   },
   "file_extension": ".py",
   "mimetype": "text/x-python",
   "name": "python",
   "nbconvert_exporter": "python",
   "pygments_lexer": "ipython3",
   "version": "3.11.5"
  }
 },
 "nbformat": 4,
 "nbformat_minor": 4
}
