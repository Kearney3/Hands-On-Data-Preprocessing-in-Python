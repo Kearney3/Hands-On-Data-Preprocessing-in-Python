{
 "cells": [
  {
   "cell_type": "markdown",
   "metadata": {},
   "source": [
    "## Hands-On Data Preprocessing in Python\n",
    "Learn how to effectively prepare data for successful data analytics\n",
    "    \n",
    "    AUTHOR: Dr. Roy Jafari \n",
    "\n",
    "### Chapter 5: Data Visualization \n",
    "#### Excercises"
   ]
  },
  {
   "cell_type": "code",
   "execution_count": 1,
   "metadata": {
    "ExecuteTime": {
     "end_time": "2024-05-17T02:05:29.152234Z",
     "start_time": "2024-05-17T02:05:29.150583Z"
    }
   },
   "outputs": [],
   "source": [
    "import pandas as pd\n",
    "import matplotlib.pyplot as plt\n",
    "import numpy as np\n",
    "import seaborn as sns\n",
    "from ipywidgets import interact, widgets"
   ]
  },
  {
   "cell_type": "markdown",
   "metadata": {},
   "source": [
    "# Excercise 1\n",
    "In this exercise, we will be using Universities_imputed_reduced.csv. Draw the following described visualizations.\n",
    "\n",
    "    a.\tUse boxplots to compare the student to faculty ratio (stud./fac. ratio) for the two population public and private universities.\n",
    "    b.\tUse a histogram to compare the student to faculty ratio (stud./fac. ratio) for the two population public and private universities.\n",
    "    c.\tuse subplots to put the results of a and b on top of one another to create a visual that compares the two populations even better. \n"
   ]
  },
  {
   "cell_type": "code",
   "execution_count": 2,
   "metadata": {
    "scrolled": true,
    "ExecuteTime": {
     "end_time": "2024-05-17T02:05:32.259701Z",
     "start_time": "2024-05-17T02:05:32.219780Z"
    }
   },
   "outputs": [
    {
     "data": {
      "text/plain": "                        College Name State Public/Private  num_appli_rec  \\\n0          Alaska Pacific University    AK        Private            193   \n1  University of Alaska at Fairbanks    AK         Public           1852   \n2     University of Alaska Southeast    AK         Public            146   \n3  University of Alaska at Anchorage    AK         Public           2065   \n4        Alabama Agri. & Mech. Univ.    AL         Public           2817   \n\n   num_appl_accepted  num_new_stud_enrolled  in-state tuition  \\\n0                146                     55              7560   \n1               1427                    928              1742   \n2                117                     89              1742   \n3               1598                   1162              1742   \n4               1920                    984              1700   \n\n   out-of-state tuition  % fac. w/PHD  stud./fac. ratio  Graduation rate  \n0                  7560            76              11.9               15  \n1                  5226            67              10.0               60  \n2                  5226            39               9.5               39  \n3                  5226            48              13.7               60  \n4                  3400            53              14.3               40  ",
      "text/html": "<div>\n<style scoped>\n    .dataframe tbody tr th:only-of-type {\n        vertical-align: middle;\n    }\n\n    .dataframe tbody tr th {\n        vertical-align: top;\n    }\n\n    .dataframe thead th {\n        text-align: right;\n    }\n</style>\n<table border=\"1\" class=\"dataframe\">\n  <thead>\n    <tr style=\"text-align: right;\">\n      <th></th>\n      <th>College Name</th>\n      <th>State</th>\n      <th>Public/Private</th>\n      <th>num_appli_rec</th>\n      <th>num_appl_accepted</th>\n      <th>num_new_stud_enrolled</th>\n      <th>in-state tuition</th>\n      <th>out-of-state tuition</th>\n      <th>% fac. w/PHD</th>\n      <th>stud./fac. ratio</th>\n      <th>Graduation rate</th>\n    </tr>\n  </thead>\n  <tbody>\n    <tr>\n      <th>0</th>\n      <td>Alaska Pacific University</td>\n      <td>AK</td>\n      <td>Private</td>\n      <td>193</td>\n      <td>146</td>\n      <td>55</td>\n      <td>7560</td>\n      <td>7560</td>\n      <td>76</td>\n      <td>11.9</td>\n      <td>15</td>\n    </tr>\n    <tr>\n      <th>1</th>\n      <td>University of Alaska at Fairbanks</td>\n      <td>AK</td>\n      <td>Public</td>\n      <td>1852</td>\n      <td>1427</td>\n      <td>928</td>\n      <td>1742</td>\n      <td>5226</td>\n      <td>67</td>\n      <td>10.0</td>\n      <td>60</td>\n    </tr>\n    <tr>\n      <th>2</th>\n      <td>University of Alaska Southeast</td>\n      <td>AK</td>\n      <td>Public</td>\n      <td>146</td>\n      <td>117</td>\n      <td>89</td>\n      <td>1742</td>\n      <td>5226</td>\n      <td>39</td>\n      <td>9.5</td>\n      <td>39</td>\n    </tr>\n    <tr>\n      <th>3</th>\n      <td>University of Alaska at Anchorage</td>\n      <td>AK</td>\n      <td>Public</td>\n      <td>2065</td>\n      <td>1598</td>\n      <td>1162</td>\n      <td>1742</td>\n      <td>5226</td>\n      <td>48</td>\n      <td>13.7</td>\n      <td>60</td>\n    </tr>\n    <tr>\n      <th>4</th>\n      <td>Alabama Agri. &amp; Mech. Univ.</td>\n      <td>AL</td>\n      <td>Public</td>\n      <td>2817</td>\n      <td>1920</td>\n      <td>984</td>\n      <td>1700</td>\n      <td>3400</td>\n      <td>53</td>\n      <td>14.3</td>\n      <td>40</td>\n    </tr>\n  </tbody>\n</table>\n</div>"
     },
     "execution_count": 2,
     "metadata": {},
     "output_type": "execute_result"
    }
   ],
   "source": [
    "uni_df = pd.read_csv('Universities_imputed_reduced.csv')\n",
    "uni_df.head()"
   ]
  },
  {
   "cell_type": "markdown",
   "metadata": {},
   "source": [
    "a. "
   ]
  },
  {
   "cell_type": "code",
   "execution_count": 53,
   "outputs": [
    {
     "data": {
      "text/plain": "Private    0       11.9\n5       32.8\n9       14.0\n11     ...\nPublic     1       10.0\n2        9.5\n3       13.7\n4      ...\ndtype: object"
     },
     "execution_count": 53,
     "metadata": {},
     "output_type": "execute_result"
    }
   ],
   "source": [
    "income_possibilities = uni_df['Public/Private'].unique()\n",
    "\n",
    "box_sr = pd.Series('',index = income_possibilities)\n",
    "\n",
    "for poss in income_possibilities:\n",
    "    BM = uni_df['Public/Private'] == poss\n",
    "    box_sr[poss] = uni_df[BM]['stud./fac. ratio']\n",
    "box_sr    "
   ],
   "metadata": {
    "collapsed": false,
    "ExecuteTime": {
     "end_time": "2024-05-17T02:30:53.386794Z",
     "start_time": "2024-05-17T02:30:53.336500Z"
    }
   }
  },
  {
   "cell_type": "code",
   "execution_count": 56,
   "outputs": [
    {
     "data": {
      "text/plain": "<Figure size 640x480 with 1 Axes>",
      "image/png": "[encoded data removed]"
     },
     "metadata": {},
     "output_type": "display_data"
    }
   ],
   "source": [
    "plt.boxplot(box_sr, vert=False)\n",
    "plt.yticks([1,2], income_possibilities)\n",
    "plt.show()"
   ],
   "metadata": {
    "collapsed": false,
    "ExecuteTime": {
     "end_time": "2024-05-17T02:31:37.432756Z",
     "start_time": "2024-05-17T02:31:37.353417Z"
    }
   }
  },
  {
   "cell_type": "code",
   "execution_count": 57,
   "outputs": [
    {
     "data": {
      "text/plain": "{'Private': 0       11.9\n 5       32.8\n 9       14.0\n 11      11.4\n 13      17.9\n         ... \n 1292     2.5\n 1293    13.0\n 1294    16.5\n 1299    16.4\n 1300    14.1\n Name: stud./fac. ratio, Length: 832, dtype: float64,\n 'Public': 1       10.0\n 2        9.5\n 3       13.7\n 4       14.3\n 6       18.9\n         ... \n 1295    16.3\n 1296    15.3\n 1297    19.2\n 1298    13.4\n 1301    15.1\n Name: stud./fac. ratio, Length: 470, dtype: float64}"
     },
     "execution_count": 57,
     "metadata": {},
     "output_type": "execute_result"
    }
   ],
   "source": [
    "income_possibilities = uni_df['Public/Private'].unique()\n",
    "\n",
    "dataForBox_dic= {}\n",
    "\n",
    "for poss in income_possibilities:\n",
    "    BM = uni_df['Public/Private'] == poss\n",
    "    dataForBox_dic[poss] = uni_df[BM]['stud./fac. ratio']\n",
    "dataForBox_dic    "
   ],
   "metadata": {
    "collapsed": false,
    "ExecuteTime": {
     "end_time": "2024-05-17T02:32:46.460674Z",
     "start_time": "2024-05-17T02:32:46.443258Z"
    }
   }
  },
  {
   "cell_type": "code",
   "execution_count": 58,
   "outputs": [
    {
     "data": {
      "text/plain": "<Figure size 640x480 with 1 Axes>",
      "image/png": "[encoded data removed]"
     },
     "metadata": {},
     "output_type": "display_data"
    }
   ],
   "source": [
    "plt.boxplot(dataForBox_dic.values(),vert=False)\n",
    "plt.yticks([1,2],income_possibilities)\n",
    "plt.show()"
   ],
   "metadata": {
    "collapsed": false,
    "ExecuteTime": {
     "end_time": "2024-05-17T02:33:14.530221Z",
     "start_time": "2024-05-17T02:33:14.457431Z"
    }
   }
  },
  {
   "cell_type": "markdown",
   "metadata": {},
   "source": [
    "b. "
   ]
  },
  {
   "cell_type": "code",
   "execution_count": 65,
   "metadata": {
    "ExecuteTime": {
     "end_time": "2024-05-17T02:36:49.567294Z",
     "start_time": "2024-05-17T02:36:49.430793Z"
    }
   },
   "outputs": [
    {
     "data": {
      "text/plain": "<Axes: ylabel='Public/Private'>"
     },
     "execution_count": 65,
     "metadata": {},
     "output_type": "execute_result"
    },
    {
     "data": {
      "text/plain": "<Figure size 640x480 with 1 Axes>",
      "image/png": "[encoded data removed]"
     },
     "metadata": {},
     "output_type": "display_data"
    }
   ],
   "source": [
    "uni_df.groupby(['Public/Private'])['stud./fac. ratio'].size().plot.barh()"
   ]
  },
  {
   "cell_type": "markdown",
   "metadata": {},
   "source": [
    "c. "
   ]
  },
  {
   "cell_type": "code",
   "execution_count": 68,
   "metadata": {
    "ExecuteTime": {
     "end_time": "2024-05-17T02:38:38.417592Z",
     "start_time": "2024-05-17T02:38:38.266788Z"
    }
   },
   "outputs": [
    {
     "data": {
      "text/plain": "<Figure size 1000x1000 with 2 Axes>",
      "image/png": "[encoded data removed]"
     },
     "metadata": {},
     "output_type": "display_data"
    }
   ],
   "source": [
    "income_possibilities = uni_df['Public/Private'].unique()\n",
    "\n",
    "dataForBox_dic= {}\n",
    "plt.figure(figsize=(10,10))\n",
    "\n",
    "for poss in income_possibilities:\n",
    "    BM = uni_df['Public/Private'] == poss\n",
    "    dataForBox_dic[poss] = uni_df[BM]['stud./fac. ratio']\n",
    "    \n",
    "plt.subplot(2,1,1)\n",
    "plt.boxplot(dataForBox_dic.values(),vert=False)\n",
    "plt.yticks([1,2], income_possibilities)\n",
    "\n",
    "plt.subplot(2,1,2)\n",
    "uni_df.groupby(['Public/Private'])['stud./fac. ratio'].size().plot.barh()\n",
    "plt.show()"
   ]
  },
  {
   "cell_type": "markdown",
   "metadata": {},
   "source": [
    "# Excercise 2\n",
    "\n",
    "In this exercise, we will continue using Universities_imputed_reduced.csv. Draw the following described visualizations.\n",
    "\n",
    "    a.\tUse a bar chart to compare the private/public ratio of all the states in the dataset. In this example, the populations we are comparing are the states. \n",
    "    b.\tImprove the visualizations by sorting the states on the visuals based on the total number of universities they have.\n",
    "    c.\tCreate a stacked bar chart that shows the compare the percentages of public and private schools across different states. "
   ]
  },
  {
   "cell_type": "markdown",
   "metadata": {},
   "source": [
    "a."
   ]
  },
  {
   "cell_type": "code",
   "execution_count": 69,
   "metadata": {
    "ExecuteTime": {
     "end_time": "2024-05-17T02:40:52.751196Z",
     "start_time": "2024-05-17T02:40:52.688843Z"
    }
   },
   "outputs": [
    {
     "data": {
      "text/plain": "State           AK  AL  AR  AZ  CA  CO  CT  DC  DE  FL  ...  SD  TN  TX  UT  \\\nPublic/Private                                          ...                   \nPrivate          1  12   8   2  42   4  13   8   4  21  ...   5  25  33   2   \nPublic           3  13   9   3  28  12   6   1   1   9  ...   6   9  27   4   \n\nState           VA  VT  WA  WI  WV  WY  \nPublic/Private                          \nPrivate         25  10  10  16  10   0  \nPublic          15   4   6  13   7   1  \n\n[2 rows x 51 columns]",
      "text/html": "<div>\n<style scoped>\n    .dataframe tbody tr th:only-of-type {\n        vertical-align: middle;\n    }\n\n    .dataframe tbody tr th {\n        vertical-align: top;\n    }\n\n    .dataframe thead th {\n        text-align: right;\n    }\n</style>\n<table border=\"1\" class=\"dataframe\">\n  <thead>\n    <tr style=\"text-align: right;\">\n      <th>State</th>\n      <th>AK</th>\n      <th>AL</th>\n      <th>AR</th>\n      <th>AZ</th>\n      <th>CA</th>\n      <th>CO</th>\n      <th>CT</th>\n      <th>DC</th>\n      <th>DE</th>\n      <th>FL</th>\n      <th>...</th>\n      <th>SD</th>\n      <th>TN</th>\n      <th>TX</th>\n      <th>UT</th>\n      <th>VA</th>\n      <th>VT</th>\n      <th>WA</th>\n      <th>WI</th>\n      <th>WV</th>\n      <th>WY</th>\n    </tr>\n    <tr>\n      <th>Public/Private</th>\n      <th></th>\n      <th></th>\n      <th></th>\n      <th></th>\n      <th></th>\n      <th></th>\n      <th></th>\n      <th></th>\n      <th></th>\n      <th></th>\n      <th></th>\n      <th></th>\n      <th></th>\n      <th></th>\n      <th></th>\n      <th></th>\n      <th></th>\n      <th></th>\n      <th></th>\n      <th></th>\n      <th></th>\n    </tr>\n  </thead>\n  <tbody>\n    <tr>\n      <th>Private</th>\n      <td>1</td>\n      <td>12</td>\n      <td>8</td>\n      <td>2</td>\n      <td>42</td>\n      <td>4</td>\n      <td>13</td>\n      <td>8</td>\n      <td>4</td>\n      <td>21</td>\n      <td>...</td>\n      <td>5</td>\n      <td>25</td>\n      <td>33</td>\n      <td>2</td>\n      <td>25</td>\n      <td>10</td>\n      <td>10</td>\n      <td>16</td>\n      <td>10</td>\n      <td>0</td>\n    </tr>\n    <tr>\n      <th>Public</th>\n      <td>3</td>\n      <td>13</td>\n      <td>9</td>\n      <td>3</td>\n      <td>28</td>\n      <td>12</td>\n      <td>6</td>\n      <td>1</td>\n      <td>1</td>\n      <td>9</td>\n      <td>...</td>\n      <td>6</td>\n      <td>9</td>\n      <td>27</td>\n      <td>4</td>\n      <td>15</td>\n      <td>4</td>\n      <td>6</td>\n      <td>13</td>\n      <td>7</td>\n      <td>1</td>\n    </tr>\n  </tbody>\n</table>\n<p>2 rows × 51 columns</p>\n</div>"
     },
     "execution_count": 69,
     "metadata": {},
     "output_type": "execute_result"
    }
   ],
   "source": [
    "contingency_tbl = pd.crosstab(uni_df['Public/Private'], uni_df['State'])\n",
    "contingency_tbl"
   ]
  },
  {
   "cell_type": "code",
   "execution_count": 70,
   "outputs": [
    {
     "data": {
      "text/plain": "State             AK    AL        AR   AZ   CA    CO        CT        DC   DE  \\\nPublic/Private                                                                  \nPrivate         0.25  0.48  0.470588  0.4  0.6  0.25  0.684211  0.888889  0.8   \nPublic          0.75  0.52  0.529412  0.6  0.4  0.75  0.315789  0.111111  0.2   \n\nState            FL  ...        SD        TN    TX        UT     VA        VT  \\\nPublic/Private       ...                                                        \nPrivate         0.7  ...  0.454545  0.735294  0.55  0.333333  0.625  0.714286   \nPublic          0.3  ...  0.545455  0.264706  0.45  0.666667  0.375  0.285714   \n\nState              WA        WI        WV   WY  \nPublic/Private                                  \nPrivate         0.625  0.551724  0.588235  0.0  \nPublic          0.375  0.448276  0.411765  1.0  \n\n[2 rows x 51 columns]",
      "text/html": "<div>\n<style scoped>\n    .dataframe tbody tr th:only-of-type {\n        vertical-align: middle;\n    }\n\n    .dataframe tbody tr th {\n        vertical-align: top;\n    }\n\n    .dataframe thead th {\n        text-align: right;\n    }\n</style>\n<table border=\"1\" class=\"dataframe\">\n  <thead>\n    <tr style=\"text-align: right;\">\n      <th>State</th>\n      <th>AK</th>\n      <th>AL</th>\n      <th>AR</th>\n      <th>AZ</th>\n      <th>CA</th>\n      <th>CO</th>\n      <th>CT</th>\n      <th>DC</th>\n      <th>DE</th>\n      <th>FL</th>\n      <th>...</th>\n      <th>SD</th>\n      <th>TN</th>\n      <th>TX</th>\n      <th>UT</th>\n      <th>VA</th>\n      <th>VT</th>\n      <th>WA</th>\n      <th>WI</th>\n      <th>WV</th>\n      <th>WY</th>\n    </tr>\n    <tr>\n      <th>Public/Private</th>\n      <th></th>\n      <th></th>\n      <th></th>\n      <th></th>\n      <th></th>\n      <th></th>\n      <th></th>\n      <th></th>\n      <th></th>\n      <th></th>\n      <th></th>\n      <th></th>\n      <th></th>\n      <th></th>\n      <th></th>\n      <th></th>\n      <th></th>\n      <th></th>\n      <th></th>\n      <th></th>\n      <th></th>\n    </tr>\n  </thead>\n  <tbody>\n    <tr>\n      <th>Private</th>\n      <td>0.25</td>\n      <td>0.48</td>\n      <td>0.470588</td>\n      <td>0.4</td>\n      <td>0.6</td>\n      <td>0.25</td>\n      <td>0.684211</td>\n      <td>0.888889</td>\n      <td>0.8</td>\n      <td>0.7</td>\n      <td>...</td>\n      <td>0.454545</td>\n      <td>0.735294</td>\n      <td>0.55</td>\n      <td>0.333333</td>\n      <td>0.625</td>\n      <td>0.714286</td>\n      <td>0.625</td>\n      <td>0.551724</td>\n      <td>0.588235</td>\n      <td>0.0</td>\n    </tr>\n    <tr>\n      <th>Public</th>\n      <td>0.75</td>\n      <td>0.52</td>\n      <td>0.529412</td>\n      <td>0.6</td>\n      <td>0.4</td>\n      <td>0.75</td>\n      <td>0.315789</td>\n      <td>0.111111</td>\n      <td>0.2</td>\n      <td>0.3</td>\n      <td>...</td>\n      <td>0.545455</td>\n      <td>0.264706</td>\n      <td>0.45</td>\n      <td>0.666667</td>\n      <td>0.375</td>\n      <td>0.285714</td>\n      <td>0.375</td>\n      <td>0.448276</td>\n      <td>0.411765</td>\n      <td>1.0</td>\n    </tr>\n  </tbody>\n</table>\n<p>2 rows × 51 columns</p>\n</div>"
     },
     "execution_count": 70,
     "metadata": {},
     "output_type": "execute_result"
    }
   ],
   "source": [
    "probablity_tbl = contingency_tbl/ contingency_tbl.sum()\n",
    "probablity_tbl"
   ],
   "metadata": {
    "collapsed": false,
    "ExecuteTime": {
     "end_time": "2024-05-17T02:41:31.794966Z",
     "start_time": "2024-05-17T02:41:31.759898Z"
    }
   }
  },
  {
   "cell_type": "code",
   "execution_count": null,
   "outputs": [],
   "source": [
    "plt.barh(probablity_tbl.index,probablity_tbl.iloc[:,0])"
   ],
   "metadata": {
    "collapsed": false,
    "is_executing": true,
    "ExecuteTime": {
     "start_time": "2024-05-17T02:44:16.550459Z"
    }
   }
  },
  {
   "cell_type": "markdown",
   "metadata": {},
   "source": [
    "b."
   ]
  },
  {
   "cell_type": "code",
   "execution_count": null,
   "metadata": {},
   "outputs": [],
   "source": []
  },
  {
   "cell_type": "markdown",
   "metadata": {},
   "source": [
    "c."
   ]
  },
  {
   "cell_type": "code",
   "execution_count": null,
   "metadata": {},
   "outputs": [],
   "source": []
  },
  {
   "cell_type": "markdown",
   "metadata": {},
   "source": [
    "# Excercise 3\n",
    "\n",
    "For this example, we will be using WH Report_preprocessed.csv. Draw the following described visualizations.\n",
    "\n",
    "    a.\tCreate a visual that compares the relationship between all the happiness indices.\n",
    "    b.\tUse the visual you created in a) to report the happiness indices with strong relationships, and describe those relationships.\n",
    "    c.\tConfirm the relationship you found and described by calculating their correlation coefficients and adding these new pieces of information to your description to improve them. \n"
   ]
  },
  {
   "cell_type": "code",
   "execution_count": 11,
   "metadata": {},
   "outputs": [],
   "source": [
    "report_df = pd.read_csv('WH Report_preprocessed.csv')"
   ]
  },
  {
   "cell_type": "markdown",
   "metadata": {},
   "source": [
    "a."
   ]
  },
  {
   "cell_type": "code",
   "execution_count": null,
   "metadata": {},
   "outputs": [],
   "source": []
  },
  {
   "cell_type": "markdown",
   "metadata": {},
   "source": [
    "b. "
   ]
  },
  {
   "cell_type": "code",
   "execution_count": null,
   "metadata": {},
   "outputs": [],
   "source": []
  },
  {
   "cell_type": "markdown",
   "metadata": {},
   "source": [
    "c."
   ]
  },
  {
   "cell_type": "code",
   "execution_count": null,
   "metadata": {},
   "outputs": [],
   "source": []
  },
  {
   "cell_type": "markdown",
   "metadata": {},
   "source": [
    "# Excercise 4\n",
    "\n",
    "For this exercise, we will continue using WH Report_preprocessed.csv. Draw the following described visualizations.\n",
    "\n",
    "    a.\tDraw a visual that examine the relationship between the two attributes Continent and Generosity. \n",
    "    b.\tBased on the visual, is there a relationship between the two attributes? Explain why."
   ]
  },
  {
   "cell_type": "markdown",
   "metadata": {},
   "source": [
    "a."
   ]
  },
  {
   "cell_type": "code",
   "execution_count": null,
   "metadata": {},
   "outputs": [],
   "source": []
  },
  {
   "cell_type": "markdown",
   "metadata": {},
   "source": [
    "b."
   ]
  },
  {
   "cell_type": "code",
   "execution_count": null,
   "metadata": {},
   "outputs": [],
   "source": []
  },
  {
   "cell_type": "markdown",
   "metadata": {},
   "source": [
    "# Excercise 5\n",
    "\n",
    "For this exercise, we will be using whickham.csv. Draw the following described visualizations.\n",
    "\n",
    "    a.\tWhat is the numerical attribute in this dataset? Draw two different plots that summarize the population of data objects for the numerical attribute.\n",
    "    b.\tWhat are the categorical attributes in this dataset? Draw a plot per attribute that summarizes the population of the data object for each attribute. \n",
    "    c.\t Draw a visual that examine the relationship between outcome and smoker. Do you notice anything surprising about this visualization?\n",
    "    d.\tTo demystify the surprising relationship you observed on c) run the following code, and study the visual it creates.\n",
    "\n",
    "``\n",
    "person_df = pd.read_csv('whickham.csv')\n",
    "person_df['age_discretized'] = pd.cut(person_df.age, bins = 4, labels=False)\n",
    "person_df.groupby(['age_discretized','smoker']).outcome.value_counts().unstack().unstack().plot.bar(stacked=True)\n",
    "plt.show()\n",
    "``\n",
    "\n",
    "    e.\tUsing the visual that was created under d) explain the surprising observation under c).\n",
    "    f.\tHow many dimensions the visual that was created under d) has? How did we manage to add dimensions to the bar chart?\n"
   ]
  },
  {
   "cell_type": "code",
   "execution_count": 17,
   "metadata": {
    "scrolled": true
   },
   "outputs": [
    {
     "data": {
      "text/html": [
       "<div>\n",
       "<style scoped>\n",
       "    .dataframe tbody tr th:only-of-type {\n",
       "        vertical-align: middle;\n",
       "    }\n",
       "\n",
       "    .dataframe tbody tr th {\n",
       "        vertical-align: top;\n",
       "    }\n",
       "\n",
       "    .dataframe thead th {\n",
       "        text-align: right;\n",
       "    }\n",
       "</style>\n",
       "<table border=\"1\" class=\"dataframe\">\n",
       "  <thead>\n",
       "    <tr style=\"text-align: right;\">\n",
       "      <th></th>\n",
       "      <th>outcome</th>\n",
       "      <th>smoker</th>\n",
       "      <th>age</th>\n",
       "    </tr>\n",
       "  </thead>\n",
       "  <tbody>\n",
       "    <tr>\n",
       "      <th>0</th>\n",
       "      <td>Alive</td>\n",
       "      <td>Yes</td>\n",
       "      <td>23</td>\n",
       "    </tr>\n",
       "    <tr>\n",
       "      <th>1</th>\n",
       "      <td>Alive</td>\n",
       "      <td>Yes</td>\n",
       "      <td>18</td>\n",
       "    </tr>\n",
       "    <tr>\n",
       "      <th>2</th>\n",
       "      <td>Dead</td>\n",
       "      <td>Yes</td>\n",
       "      <td>71</td>\n",
       "    </tr>\n",
       "    <tr>\n",
       "      <th>3</th>\n",
       "      <td>Alive</td>\n",
       "      <td>No</td>\n",
       "      <td>67</td>\n",
       "    </tr>\n",
       "    <tr>\n",
       "      <th>4</th>\n",
       "      <td>Alive</td>\n",
       "      <td>No</td>\n",
       "      <td>64</td>\n",
       "    </tr>\n",
       "  </tbody>\n",
       "</table>\n",
       "</div>"
      ],
      "text/plain": [
       "  outcome smoker  age\n",
       "0   Alive    Yes   23\n",
       "1   Alive    Yes   18\n",
       "2    Dead    Yes   71\n",
       "3   Alive     No   67\n",
       "4   Alive     No   64"
      ]
     },
     "execution_count": 17,
     "metadata": {},
     "output_type": "execute_result"
    }
   ],
   "source": [
    "person_df = pd.read_csv('whickham.csv')\n",
    "person_df.head()"
   ]
  },
  {
   "cell_type": "markdown",
   "metadata": {},
   "source": [
    "a."
   ]
  },
  {
   "cell_type": "code",
   "execution_count": null,
   "metadata": {},
   "outputs": [],
   "source": []
  },
  {
   "cell_type": "markdown",
   "metadata": {},
   "source": [
    "b."
   ]
  },
  {
   "cell_type": "code",
   "execution_count": null,
   "metadata": {},
   "outputs": [],
   "source": []
  },
  {
   "cell_type": "markdown",
   "metadata": {},
   "source": [
    "c. "
   ]
  },
  {
   "cell_type": "code",
   "execution_count": null,
   "metadata": {},
   "outputs": [],
   "source": []
  },
  {
   "cell_type": "markdown",
   "metadata": {},
   "source": [
    "d. "
   ]
  },
  {
   "cell_type": "code",
   "execution_count": null,
   "metadata": {},
   "outputs": [],
   "source": []
  },
  {
   "cell_type": "markdown",
   "metadata": {},
   "source": [
    "e."
   ]
  },
  {
   "cell_type": "code",
   "execution_count": null,
   "metadata": {},
   "outputs": [],
   "source": []
  },
  {
   "cell_type": "markdown",
   "metadata": {},
   "source": [
    "f."
   ]
  },
  {
   "cell_type": "code",
   "execution_count": null,
   "metadata": {},
   "outputs": [],
   "source": []
  },
  {
   "cell_type": "markdown",
   "metadata": {},
   "source": [
    "# Excercise 6\n",
    "\n",
    "For this exercise, we will be using WH Report_preprocessed.csv. \n",
    "\n",
    "    a.\tUse this dataset to create a 5-dimensional scatterplot to show the interactions between the following 5 attributes: year, Healthy_life_expectancy_at_birth, Social_support, Life_Ladder, population. Use the control bar for the “year”, marker size for population, marker color for Social_support, x-axis for Healthy_life_expectancy_at_birth, and y-axis for Life_Ladder.\n",
    "    b.\tInteract with and study the visual you created under a) and report your observations. \n",
    "\n"
   ]
  },
  {
   "cell_type": "code",
   "execution_count": 27,
   "metadata": {},
   "outputs": [],
   "source": [
    "report_df = pd.read_csv('WH Report_preprocessed.csv')"
   ]
  },
  {
   "cell_type": "markdown",
   "metadata": {},
   "source": [
    "a."
   ]
  },
  {
   "cell_type": "code",
   "execution_count": null,
   "metadata": {},
   "outputs": [],
   "source": []
  },
  {
   "cell_type": "markdown",
   "metadata": {},
   "source": [
    "b. "
   ]
  },
  {
   "cell_type": "code",
   "execution_count": null,
   "metadata": {},
   "outputs": [],
   "source": []
  },
  {
   "cell_type": "markdown",
   "metadata": {},
   "source": [
    "# Excercise 7\n",
    "\n",
    "For this exercise, we will continue using WH Report_preprocessed.csv. \n",
    "\n",
    "    a.\tCreate a visual that shows the trend of change for the attribute Generosity for all the countries in the dataset. To avoid making the visual overwhelming use the color grey for the line plots of all the countries, and don’t use a legend.\n",
    "    b.\tAdd three more line plots to the previous visual using the color blue and a thicker line (linewidth=1.8) for the three countries, United States, China, and India. Work out the visual so it only shows you the legend of these three countries. The following screenshot shows the visual that is being described.\n",
    "\n"
   ]
  },
  {
   "cell_type": "markdown",
   "metadata": {},
   "source": [
    "Figure 5. 23. Line plot comparing Generosity across all countries in 2010 and 2019 with emphasis on the United States, India, and China\n"
   ]
  },
  {
   "cell_type": "markdown",
   "metadata": {},
   "source": [
    "    c.\tReport your observations from the visual. Make sure to employ all of the line plots (grey and blue ones) in your observations "
   ]
  },
  {
   "cell_type": "markdown",
   "metadata": {},
   "source": [
    "a."
   ]
  },
  {
   "cell_type": "code",
   "execution_count": null,
   "metadata": {},
   "outputs": [],
   "source": []
  },
  {
   "cell_type": "markdown",
   "metadata": {},
   "source": [
    "b."
   ]
  },
  {
   "cell_type": "code",
   "execution_count": null,
   "metadata": {},
   "outputs": [],
   "source": []
  },
  {
   "cell_type": "markdown",
   "metadata": {},
   "source": [
    "c."
   ]
  },
  {
   "cell_type": "code",
   "execution_count": null,
   "metadata": {},
   "outputs": [],
   "source": []
  }
 ],
 "metadata": {
  "kernelspec": {
   "display_name": "Python 3",
   "language": "python",
   "name": "python3"
  },
  "language_info": {
   "codemirror_mode": {
    "name": "ipython",
    "version": 3
   },
   "file_extension": ".py",
   "mimetype": "text/x-python",
   "name": "python",
   "nbconvert_exporter": "python",
   "pygments_lexer": "ipython3",
   "version": "3.8.5"
  }
 },
 "nbformat": 4,
 "nbformat_minor": 4
}
