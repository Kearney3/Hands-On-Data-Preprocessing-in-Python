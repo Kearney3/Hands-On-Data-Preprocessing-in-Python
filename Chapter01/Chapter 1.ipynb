{
 "cells": [
  {
   "cell_type": "markdown",
   "metadata": {},
   "source": [
    "# Hands-On Data Preprocessing in Python\n",
    "Learn how to effectively prepare data for successful data analytics\n",
    "    \n",
    "    AUTHOR: Dr. Roy Jafari \n",
    "\n",
    "### Chapter 1: Review of the core modules NumPy, Pandas, and Matplotlib"
   ]
  },
  {
   "cell_type": "markdown",
   "metadata": {},
   "source": [
    "Hello World! This is a Markdown chunk!"
   ]
  },
  {
   "cell_type": "code",
   "execution_count": 1,
   "metadata": {
    "scrolled": true,
    "ExecuteTime": {
     "end_time": "2024-05-15T03:13:31.924096Z",
     "start_time": "2024-05-15T03:13:31.904072Z"
    }
   },
   "outputs": [
    {
     "name": "stdout",
     "output_type": "stream",
     "text": [
      "Hello World! This is Code Chunk!\n"
     ]
    }
   ],
   "source": [
    "print('Hello World! This is Code Chunk!')"
   ]
  },
  {
   "cell_type": "code",
   "metadata": {
    "ExecuteTime": {
     "end_time": "2024-07-14T09:09:05.417753Z",
     "start_time": "2024-07-14T09:09:05.413377Z"
    }
   },
   "source": [
    "import numpy as np"
   ],
   "outputs": [],
   "execution_count": 22
  },
  {
   "cell_type": "code",
   "execution_count": 4,
   "metadata": {
    "ExecuteTime": {
     "end_time": "2024-05-15T03:13:40.158531Z",
     "start_time": "2024-05-15T03:13:40.132391Z"
    }
   },
   "outputs": [
    {
     "data": {
      "text/plain": "23.083333333333332"
     },
     "execution_count": 4,
     "metadata": {},
     "output_type": "execute_result"
    }
   ],
   "source": [
    "lst_nums = [2,5,7,11,13,17,23,31,37,41,43,47]\n",
    "np.mean(lst_nums)"
   ]
  },
  {
   "cell_type": "code",
   "execution_count": 6,
   "metadata": {
    "ExecuteTime": {
     "end_time": "2024-05-15T03:14:48.480484Z",
     "start_time": "2024-05-15T03:14:48.461999Z"
    }
   },
   "outputs": [
    {
     "data": {
      "text/plain": "23.083333333333332"
     },
     "execution_count": 6,
     "metadata": {},
     "output_type": "execute_result"
    }
   ],
   "source": [
    "lst_nums = [2,5,7,11,13,17,23,31,37,41,43,47]\n",
    "# 先转换为 np 数组\n",
    "ary_nums = np.array(lst_nums)\n",
    "ary_nums.mean()"
   ]
  },
  {
   "cell_type": "code",
   "execution_count": 7,
   "metadata": {
    "ExecuteTime": {
     "end_time": "2024-05-15T03:14:49.616118Z",
     "start_time": "2024-05-15T03:14:49.596189Z"
    }
   },
   "outputs": [
    {
     "data": {
      "text/plain": "list"
     },
     "execution_count": 7,
     "metadata": {},
     "output_type": "execute_result"
    }
   ],
   "source": [
    "type(lst_nums)"
   ]
  },
  {
   "cell_type": "code",
   "execution_count": 8,
   "metadata": {
    "scrolled": true,
    "ExecuteTime": {
     "end_time": "2024-05-15T03:14:53.929918Z",
     "start_time": "2024-05-15T03:14:53.896385Z"
    }
   },
   "outputs": [
    {
     "data": {
      "text/plain": "numpy.ndarray"
     },
     "execution_count": 8,
     "metadata": {},
     "output_type": "execute_result"
    }
   ],
   "source": [
    "type(ary_nums)"
   ]
  },
  {
   "cell_type": "code",
   "execution_count": 12,
   "metadata": {
    "ExecuteTime": {
     "end_time": "2024-05-15T03:15:53.952059Z",
     "start_time": "2024-05-15T03:15:53.935742Z"
    }
   },
   "outputs": [
    {
     "data": {
      "text/plain": "array([ 0,  1,  2,  3,  4,  5,  6,  7,  8,  9, 10, 11, 12, 13, 14])"
     },
     "execution_count": 12,
     "metadata": {},
     "output_type": "execute_result"
    }
   ],
   "source": [
    "# 默认增量为1\n",
    "np.arange(15)"
   ]
  },
  {
   "cell_type": "code",
   "execution_count": 13,
   "metadata": {
    "ExecuteTime": {
     "end_time": "2024-05-15T03:15:55.857629Z",
     "start_time": "2024-05-15T03:15:55.838280Z"
    }
   },
   "outputs": [
    {
     "data": {
      "text/plain": "array([ 5,  6,  7,  8,  9, 10, 11, 12, 13, 14])"
     },
     "execution_count": 13,
     "metadata": {},
     "output_type": "execute_result"
    }
   ],
   "source": [
    "np.arange(5,15)"
   ]
  },
  {
   "cell_type": "code",
   "execution_count": 14,
   "metadata": {
    "ExecuteTime": {
     "end_time": "2024-05-15T03:15:57.348918Z",
     "start_time": "2024-05-15T03:15:57.321871Z"
    }
   },
   "outputs": [
    {
     "data": {
      "text/plain": "array([-7.1, -6.1, -5.1, -4.1, -3.1, -2.1, -1.1, -0.1,  0.9,  1.9,  2.9,\n        3.9,  4.9,  5.9,  6.9])"
     },
     "execution_count": 14,
     "metadata": {},
     "output_type": "execute_result"
    }
   ],
   "source": [
    "np.arange(-7.1,7)"
   ]
  },
  {
   "cell_type": "code",
   "execution_count": 15,
   "metadata": {
    "ExecuteTime": {
     "end_time": "2024-05-15T03:27:40.473039Z",
     "start_time": "2024-05-15T03:27:40.449705Z"
    }
   },
   "outputs": [
    {
     "data": {
      "text/plain": "array([[0., 0., 0., 0., 0.],\n       [0., 0., 0., 0., 0.],\n       [0., 0., 0., 0., 0.],\n       [0., 0., 0., 0., 0.]])"
     },
     "execution_count": 15,
     "metadata": {},
     "output_type": "execute_result"
    }
   ],
   "source": [
    "np.zeros([4,5])"
   ]
  },
  {
   "cell_type": "code",
   "execution_count": 16,
   "metadata": {
    "scrolled": true,
    "ExecuteTime": {
     "end_time": "2024-05-15T03:27:42.993471Z",
     "start_time": "2024-05-15T03:27:42.951458Z"
    }
   },
   "outputs": [
    {
     "data": {
      "text/plain": "array([1., 1., 1., 1., 1., 1., 1.])"
     },
     "execution_count": 16,
     "metadata": {},
     "output_type": "execute_result"
    }
   ],
   "source": [
    "np.ones(7)"
   ]
  },
  {
   "cell_type": "markdown",
   "metadata": {},
   "source": [
    "Example #1\n",
    "\n",
    "The following is the grade data of ten students. Create a code using NumPy that calcuate and report their grade average. \n",
    "\n",
    "    Names = ['Jevon', 'Dawn', 'Kayleigh', 'Jadene', 'Kennedy', 'Kaydee', 'Ansh', 'Flynn', 'Kier', 'Clarence']\n",
    "    Math_grades = [80, 50, 60, 70, 60, 100, 70, 70, 60, 70]\n",
    "    Science_grades = [90, 80, 50, 50, 60, 50, 90, 70, 80, 80]\n",
    "    History_grades = [60, 90, 50, 90, 100, 100, 100, 100, 90, 70]"
   ]
  },
  {
   "cell_type": "code",
   "execution_count": 17,
   "metadata": {
    "ExecuteTime": {
     "end_time": "2024-05-15T03:28:29.029205Z",
     "start_time": "2024-05-15T03:28:28.994498Z"
    }
   },
   "outputs": [],
   "source": [
    "Names = ['Jevon', 'Dawn', 'Kayleigh', 'Jadene', 'Kennedy', 'Kaydee', \n",
    "         'Ansh', 'Flynn', 'Kier', 'Clarence']\n",
    "Math_grades = [80, 50, 60, 70, 60, 100, 70, 70, 60, 70]\n",
    "Science_grades = [90, 80, 50, 50, 60, 50, 90, 70, 80, 80]\n",
    "History_grades = [60, 90, 50, 90, 100, 100, 100, 100, 90, 70]"
   ]
  },
  {
   "cell_type": "code",
   "execution_count": 20,
   "metadata": {
    "ExecuteTime": {
     "end_time": "2024-05-15T03:29:24.948434Z",
     "start_time": "2024-05-15T03:29:24.932039Z"
    }
   },
   "outputs": [
    {
     "name": "stdout",
     "output_type": "stream",
     "text": [
      "[0. 0. 0. 0. 0. 0. 0. 0. 0. 0.]\n",
      "[76.66666667 73.33333333 53.33333333 70.         73.33333333 83.33333333\n",
      " 86.66666667 80.         76.66666667 73.33333333]\n"
     ]
    },
    {
     "data": {
      "text/plain": "array([76.66666667, 73.33333333, 53.33333333, 70.        , 73.33333333,\n       83.33333333, 86.66666667, 80.        , 76.66666667, 73.33333333])"
     },
     "execution_count": 20,
     "metadata": {},
     "output_type": "execute_result"
    }
   ],
   "source": [
    "Average_grades = np.zeros(10)\n",
    "print(Average_grades)\n",
    "\n",
    "for i, name in enumerate(Names):\n",
    "    Average_grades[i] = np.mean([Math_grades[i],Science_grades[i],\n",
    "                                 History_grades[i]])\n",
    "\n",
    "print(Average_grades)\n",
    "Average_grades"
   ]
  },
  {
   "cell_type": "code",
   "execution_count": 21,
   "metadata": {
    "scrolled": true,
    "ExecuteTime": {
     "end_time": "2024-05-15T03:30:24.117928Z",
     "start_time": "2024-05-15T03:30:24.083161Z"
    }
   },
   "outputs": [
    {
     "name": "stdout",
     "output_type": "stream",
     "text": [
      "Average for Jevon : 76.66666666666667\n",
      "Average for Dawn : 73.33333333333333\n",
      "Average for Kayleigh : 53.333333333333336\n",
      "Average for Jadene : 70.0\n",
      "Average for Kennedy : 73.33333333333333\n",
      "Average for Kaydee : 83.33333333333333\n",
      "Average for Ansh : 86.66666666666667\n",
      "Average for Flynn : 80.0\n",
      "Average for Kier : 76.66666666666667\n",
      "Average for Clarence : 73.33333333333333\n"
     ]
    }
   ],
   "source": [
    "# better-looking report\n",
    "\n",
    "for i, name in enumerate(Names):\n",
    "    print(\"Average for {} : {}\".format(name,Average_grades[i]))"
   ]
  },
  {
   "cell_type": "code",
   "execution_count": 25,
   "metadata": {
    "ExecuteTime": {
     "end_time": "2024-05-15T03:32:06.324887Z",
     "start_time": "2024-05-15T03:32:06.312977Z"
    }
   },
   "outputs": [
    {
     "data": {
      "text/plain": "array([0.  , 0.02, 0.04, 0.06, 0.08, 0.1 , 0.12, 0.14, 0.16, 0.18, 0.2 ,\n       0.22, 0.24, 0.26, 0.28, 0.3 , 0.32, 0.34, 0.36, 0.38, 0.4 , 0.42,\n       0.44, 0.46, 0.48, 0.5 , 0.52, 0.54, 0.56, 0.58, 0.6 , 0.62, 0.64,\n       0.66, 0.68, 0.7 , 0.72, 0.74, 0.76, 0.78, 0.8 , 0.82, 0.84, 0.86,\n       0.88, 0.9 , 0.92, 0.94, 0.96, 0.98, 1.  ])"
     },
     "execution_count": 25,
     "metadata": {},
     "output_type": "execute_result"
    }
   ],
   "source": [
    "# np.linspace(0,1,21)\n",
    "np.linspace(0,1, 51)"
   ]
  },
  {
   "cell_type": "code",
   "execution_count": 16,
   "metadata": {
    "scrolled": true
   },
   "outputs": [
    {
     "data": {
      "text/plain": [
       "array([  10.,   20.,   30.,   40.,   50.,   60.,   70.,   80.,   90.,\n",
       "        100.,  110.,  120.,  130.,  140.,  150.,  160.,  170.,  180.,\n",
       "        190.,  200.,  210.,  220.,  230.,  240.,  250.,  260.,  270.,\n",
       "        280.,  290.,  300.,  310.,  320.,  330.,  340.,  350.,  360.,\n",
       "        370.,  380.,  390.,  400.,  410.,  420.,  430.,  440.,  450.,\n",
       "        460.,  470.,  480.,  490.,  500.,  510.,  520.,  530.,  540.,\n",
       "        550.,  560.,  570.,  580.,  590.,  600.,  610.,  620.,  630.,\n",
       "        640.,  650.,  660.,  670.,  680.,  690.,  700.,  710.,  720.,\n",
       "        730.,  740.,  750.,  760.,  770.,  780.,  790.,  800.,  810.,\n",
       "        820.,  830.,  840.,  850.,  860.,  870.,  880.,  890.,  900.,\n",
       "        910.,  920.,  930.,  940.,  950.,  960.,  970.,  980.,  990.,\n",
       "       1000.])"
      ]
     },
     "execution_count": 16,
     "metadata": {},
     "output_type": "execute_result"
    }
   ],
   "source": [
    "np.linspace(10,1000,100)"
   ]
  },
  {
   "cell_type": "markdown",
   "metadata": {},
   "source": [
    "Example 2\n",
    "\n",
    "We are interested in finding the value(s) that holds the following mathematical statement.\n",
    "\n",
    "    x^2-5x+6=0\n",
    "\n",
    "And imagine that we don’t know that the statement can be simplified easily to find either -1 or +1 will hold the statement.  \n",
    "    \n",
    "    x^2-5x+6=(x-2)(x-3)\n",
    "\n",
    "so we would like to use NumPy to try out any values between -100 and 100 and see what the answer is.\n"
   ]
  },
  {
   "cell_type": "code",
   "execution_count": 26,
   "metadata": {
    "ExecuteTime": {
     "end_time": "2024-05-15T03:33:01.619910Z",
     "start_time": "2024-05-15T03:33:01.577911Z"
    }
   },
   "outputs": [
    {
     "name": "stdout",
     "output_type": "stream",
     "text": [
      "Just found a possible answer: 2.0\n",
      "Just found a possible answer: 3.0\n"
     ]
    }
   ],
   "source": [
    "Candidates = np.linspace(-1000,1000,2001)\n",
    "#print(Candidates)\n",
    "\n",
    "for candidate in Candidates:\n",
    "    if(candidate**2 - 5*candidate +6 ==0):\n",
    "        print(\"Just found a possible answer: {}\".format(candidate))"
   ]
  },
  {
   "cell_type": "markdown",
   "metadata": {},
   "source": [
    "# Adult Dataset \n",
    "\n",
    "\"Census Income\" dataset.\n",
    "\n",
    "Number of Instances: 48842\n",
    "Number of Attributes: 14\n",
    "Date Donated: 1996-05-01\n",
    "Missing Values?: Yes\n",
    "\n",
    "### Attributes:\n",
    "\n",
    "Number of Attributes: 6 continuous, 8 nominal attributes\n",
    "\n",
    "- age: continuous.\n",
    "- workclass: Private, Self-emp-not-inc, Self-emp-inc, Federal-gov, Local-gov, State-gov, Without-pay, Never-worked.\n",
    "- fnlwgt: continuous.\n",
    "- education: Bachelors, Some-college, 11th, HS-grad, Prof-school, Assoc-acdm, Assoc-voc, 9th, 7th-8th, 12th, Masters, 1st-4th, 10th, Doctorate, 5th-6th, Preschool.\n",
    "- education-num: continuous.\n",
    "- marital-status: Married-civ-spouse, Divorced, Never-married, Separated, Widowed, Married-spouse-absent, Married-AF-spouse.\n",
    "- occupation: Tech-support, Craft-repair, Other-service, Sales, Exec-managerial, Prof-specialty, Handlers-cleaners, Machine-op-inspct, Adm-clerical, Farming-fishing, Transport-moving, Priv-house-serv, Protective-serv, Armed-Forces.\n",
    "- relationship: Wife, Own-child, Husband, Not-in-family, Other-relative, Unmarried.\n",
    "- race: White, Asian-Pac-Islander, Amer-Indian-Eskimo, Other, Black.\n",
    "- sex: Female, Male.\n",
    "- capital-gain: continuous.\n",
    "- capital-loss: continuous.\n",
    "- hours-per-week: continuous.\n",
    "- native-country: United-States, Cambodia, England, Puerto-Rico, Canada, Germany, Outlying-US(Guam-USVI-etc), India, Japan, Greece, South, China, Cuba, Iran, Honduras, Philippines, Italy, Poland, Jamaica, Vietnam, Mexico, Portugal, Ireland, France, Dominican-Republic, Laos, Ecuador, Taiwan, Haiti, Columbia, Hungary, Guatemala, Nicaragua, Scotland, Thailand, Yugoslavia, El-Salvador, Trinadad&Tobago, Peru, Hong, Holand-Netherlands.\n",
    "- class: >50K, <=50K\n",
    "\n"
   ]
  },
  {
   "cell_type": "code",
   "metadata": {
    "scrolled": false,
    "ExecuteTime": {
     "end_time": "2024-07-14T08:55:02.341333Z",
     "start_time": "2024-07-14T08:55:02.337809Z"
    }
   },
   "source": "import pandas as pd",
   "outputs": [],
   "execution_count": 2
  },
  {
   "metadata": {
    "ExecuteTime": {
     "end_time": "2024-07-14T08:55:10.736877Z",
     "start_time": "2024-07-14T08:55:10.729303Z"
    }
   },
   "cell_type": "code",
   "source": [
    "data = pd.Series([1,2,3,4,5,6,7,8,9,10])\n",
    "data"
   ],
   "outputs": [
    {
     "data": {
      "text/plain": [
       "0     1\n",
       "1     2\n",
       "2     3\n",
       "3     4\n",
       "4     5\n",
       "5     6\n",
       "6     7\n",
       "7     8\n",
       "8     9\n",
       "9    10\n",
       "dtype: int64"
      ]
     },
     "execution_count": 3,
     "metadata": {},
     "output_type": "execute_result"
    }
   ],
   "execution_count": 3
  },
  {
   "metadata": {
    "ExecuteTime": {
     "end_time": "2024-07-14T08:55:41.999129Z",
     "start_time": "2024-07-14T08:55:41.993512Z"
    }
   },
   "cell_type": "code",
   "source": "data.values, data.index",
   "outputs": [
    {
     "data": {
      "text/plain": [
       "(array([ 1,  2,  3,  4,  5,  6,  7,  8,  9, 10]),\n",
       " RangeIndex(start=0, stop=10, step=1))"
      ]
     },
     "execution_count": 5,
     "metadata": {},
     "output_type": "execute_result"
    }
   ],
   "execution_count": 5
  },
  {
   "metadata": {
    "ExecuteTime": {
     "end_time": "2024-07-14T08:59:01.206312Z",
     "start_time": "2024-07-14T08:59:01.133572Z"
    }
   },
   "cell_type": "code",
   "source": [
    "population_dict = {'United States': 310581000, 'China': 127755800, 'India': 112855000, 'Brazil': 207847000, 'Pakistan': 182016000}\n",
    "population = pd.Series(population_dict)\n",
    "population"
   ],
   "outputs": [
    {
     "data": {
      "text/plain": [
       "United States    310581000\n",
       "China            127755800\n",
       "India            112855000\n",
       "Brazil           207847000\n",
       "Pakistan         182016000\n",
       "dtype: int64"
      ]
     },
     "execution_count": 7,
     "metadata": {},
     "output_type": "execute_result"
    }
   ],
   "execution_count": 7
  },
  {
   "metadata": {
    "ExecuteTime": {
     "end_time": "2024-07-14T09:25:27.603229Z",
     "start_time": "2024-07-14T09:25:27.597024Z"
    }
   },
   "cell_type": "code",
   "source": [
    "population_dict = {'United States': 310581000, 'China': 127755800, 'India': 112855000, 'Brazil': 207847000, 'Pakistan': 182016000}\n",
    "population = pd.Series(population_dict, name = 'Population')\n",
    "population"
   ],
   "outputs": [
    {
     "data": {
      "text/plain": [
       "United States    310581000\n",
       "China            127755800\n",
       "India            112855000\n",
       "Brazil           207847000\n",
       "Pakistan         182016000\n",
       "Name: Population, dtype: int64"
      ]
     },
     "execution_count": 58,
     "metadata": {},
     "output_type": "execute_result"
    }
   ],
   "execution_count": 58
  },
  {
   "metadata": {
    "ExecuteTime": {
     "end_time": "2024-07-14T08:59:13.779224Z",
     "start_time": "2024-07-14T08:59:13.768800Z"
    }
   },
   "cell_type": "code",
   "source": "population['United States']",
   "outputs": [
    {
     "data": {
      "text/plain": [
       "310581000"
      ]
     },
     "execution_count": 8,
     "metadata": {},
     "output_type": "execute_result"
    }
   ],
   "execution_count": 8
  },
  {
   "metadata": {
    "ExecuteTime": {
     "end_time": "2024-07-14T08:59:36.739417Z",
     "start_time": "2024-07-14T08:59:36.727341Z"
    }
   },
   "cell_type": "code",
   "source": "population['United States':'India']",
   "outputs": [
    {
     "data": {
      "text/plain": [
       "United States    310581000\n",
       "China            127755800\n",
       "India            112855000\n",
       "dtype: int64"
      ]
     },
     "execution_count": 9,
     "metadata": {},
     "output_type": "execute_result"
    }
   ],
   "execution_count": 9
  },
  {
   "metadata": {
    "ExecuteTime": {
     "end_time": "2024-07-14T09:07:07.063666Z",
     "start_time": "2024-07-14T09:07:07.050088Z"
    }
   },
   "cell_type": "code",
   "source": [
    "population_df = pd.DataFrame(population_dict, index=['Population'])\n",
    "population_df"
   ],
   "outputs": [
    {
     "data": {
      "text/plain": [
       "            United States      China      India     Brazil   Pakistan\n",
       "Population      310581000  127755800  112855000  207847000  182016000"
      ],
      "text/html": [
       "<div>\n",
       "<style scoped>\n",
       "    .dataframe tbody tr th:only-of-type {\n",
       "        vertical-align: middle;\n",
       "    }\n",
       "\n",
       "    .dataframe tbody tr th {\n",
       "        vertical-align: top;\n",
       "    }\n",
       "\n",
       "    .dataframe thead th {\n",
       "        text-align: right;\n",
       "    }\n",
       "</style>\n",
       "<table border=\"1\" class=\"dataframe\">\n",
       "  <thead>\n",
       "    <tr style=\"text-align: right;\">\n",
       "      <th></th>\n",
       "      <th>United States</th>\n",
       "      <th>China</th>\n",
       "      <th>India</th>\n",
       "      <th>Brazil</th>\n",
       "      <th>Pakistan</th>\n",
       "    </tr>\n",
       "  </thead>\n",
       "  <tbody>\n",
       "    <tr>\n",
       "      <th>Population</th>\n",
       "      <td>310581000</td>\n",
       "      <td>127755800</td>\n",
       "      <td>112855000</td>\n",
       "      <td>207847000</td>\n",
       "      <td>182016000</td>\n",
       "    </tr>\n",
       "  </tbody>\n",
       "</table>\n",
       "</div>"
      ]
     },
     "execution_count": 18,
     "metadata": {},
     "output_type": "execute_result"
    }
   ],
   "execution_count": 18
  },
  {
   "metadata": {
    "ExecuteTime": {
     "end_time": "2024-07-14T09:06:54.021144Z",
     "start_time": "2024-07-14T09:06:54.016891Z"
    }
   },
   "cell_type": "code",
   "source": [
    "population_df = pd.DataFrame(population, columns=['Population'])\n",
    "population_df"
   ],
   "outputs": [
    {
     "data": {
      "text/plain": [
       "               Population\n",
       "United States   310581000\n",
       "China           127755800\n",
       "India           112855000\n",
       "Brazil          207847000\n",
       "Pakistan        182016000"
      ],
      "text/html": [
       "<div>\n",
       "<style scoped>\n",
       "    .dataframe tbody tr th:only-of-type {\n",
       "        vertical-align: middle;\n",
       "    }\n",
       "\n",
       "    .dataframe tbody tr th {\n",
       "        vertical-align: top;\n",
       "    }\n",
       "\n",
       "    .dataframe thead th {\n",
       "        text-align: right;\n",
       "    }\n",
       "</style>\n",
       "<table border=\"1\" class=\"dataframe\">\n",
       "  <thead>\n",
       "    <tr style=\"text-align: right;\">\n",
       "      <th></th>\n",
       "      <th>Population</th>\n",
       "    </tr>\n",
       "  </thead>\n",
       "  <tbody>\n",
       "    <tr>\n",
       "      <th>United States</th>\n",
       "      <td>310581000</td>\n",
       "    </tr>\n",
       "    <tr>\n",
       "      <th>China</th>\n",
       "      <td>127755800</td>\n",
       "    </tr>\n",
       "    <tr>\n",
       "      <th>India</th>\n",
       "      <td>112855000</td>\n",
       "    </tr>\n",
       "    <tr>\n",
       "      <th>Brazil</th>\n",
       "      <td>207847000</td>\n",
       "    </tr>\n",
       "    <tr>\n",
       "      <th>Pakistan</th>\n",
       "      <td>182016000</td>\n",
       "    </tr>\n",
       "  </tbody>\n",
       "</table>\n",
       "</div>"
      ]
     },
     "execution_count": 17,
     "metadata": {},
     "output_type": "execute_result"
    }
   ],
   "execution_count": 17
  },
  {
   "metadata": {
    "ExecuteTime": {
     "end_time": "2024-07-14T09:15:32.757780Z",
     "start_time": "2024-07-14T09:15:32.752951Z"
    }
   },
   "cell_type": "code",
   "source": [
    "df = pd.DataFrame(np.random.rand(3,2), columns=['foo','zoo'], index = ['A', 'B', 'C'])\n",
    "df"
   ],
   "outputs": [
    {
     "data": {
      "text/plain": [
       "        foo       zoo\n",
       "A  0.934276  0.783952\n",
       "B  0.210753  0.415793\n",
       "C  0.363729  0.315954"
      ],
      "text/html": [
       "<div>\n",
       "<style scoped>\n",
       "    .dataframe tbody tr th:only-of-type {\n",
       "        vertical-align: middle;\n",
       "    }\n",
       "\n",
       "    .dataframe tbody tr th {\n",
       "        vertical-align: top;\n",
       "    }\n",
       "\n",
       "    .dataframe thead th {\n",
       "        text-align: right;\n",
       "    }\n",
       "</style>\n",
       "<table border=\"1\" class=\"dataframe\">\n",
       "  <thead>\n",
       "    <tr style=\"text-align: right;\">\n",
       "      <th></th>\n",
       "      <th>foo</th>\n",
       "      <th>zoo</th>\n",
       "    </tr>\n",
       "  </thead>\n",
       "  <tbody>\n",
       "    <tr>\n",
       "      <th>A</th>\n",
       "      <td>0.934276</td>\n",
       "      <td>0.783952</td>\n",
       "    </tr>\n",
       "    <tr>\n",
       "      <th>B</th>\n",
       "      <td>0.210753</td>\n",
       "      <td>0.415793</td>\n",
       "    </tr>\n",
       "    <tr>\n",
       "      <th>C</th>\n",
       "      <td>0.363729</td>\n",
       "      <td>0.315954</td>\n",
       "    </tr>\n",
       "  </tbody>\n",
       "</table>\n",
       "</div>"
      ]
     },
     "execution_count": 31,
     "metadata": {},
     "output_type": "execute_result"
    }
   ],
   "execution_count": 31
  },
  {
   "metadata": {
    "ExecuteTime": {
     "end_time": "2024-07-14T09:15:47.421714Z",
     "start_time": "2024-07-14T09:15:47.417567Z"
    }
   },
   "cell_type": "code",
   "source": "'foo' in df, df['foo'] ",
   "outputs": [
    {
     "data": {
      "text/plain": [
       "(True,\n",
       " A    0.934276\n",
       " B    0.210753\n",
       " C    0.363729\n",
       " Name: foo, dtype: float64)"
      ]
     },
     "execution_count": 33,
     "metadata": {},
     "output_type": "execute_result"
    }
   ],
   "execution_count": 33
  },
  {
   "metadata": {
    "ExecuteTime": {
     "end_time": "2024-07-14T09:16:09.315718Z",
     "start_time": "2024-07-14T09:16:09.310556Z"
    }
   },
   "cell_type": "code",
   "source": "df.keys(), df.values",
   "outputs": [
    {
     "data": {
      "text/plain": [
       "(Index(['foo', 'zoo'], dtype='object'),\n",
       " array([[0.93427587, 0.78395175],\n",
       "        [0.21075311, 0.41579271],\n",
       "        [0.36372898, 0.31595351]]))"
      ]
     },
     "execution_count": 37,
     "metadata": {},
     "output_type": "execute_result"
    }
   ],
   "execution_count": 37
  },
  {
   "metadata": {
    "ExecuteTime": {
     "end_time": "2024-07-14T09:17:50.646139Z",
     "start_time": "2024-07-14T09:17:50.640722Z"
    }
   },
   "cell_type": "code",
   "source": "df.keys(), df.index",
   "outputs": [
    {
     "data": {
      "text/plain": [
       "(Index(['foo', 'zoo'], dtype='object'), Index(['A', 'B', 'C'], dtype='object'))"
      ]
     },
     "execution_count": 42,
     "metadata": {},
     "output_type": "execute_result"
    }
   ],
   "execution_count": 42
  },
  {
   "metadata": {
    "ExecuteTime": {
     "end_time": "2024-07-14T09:21:29.158367Z",
     "start_time": "2024-07-14T09:21:29.147131Z"
    }
   },
   "cell_type": "code",
   "source": "df['foo'][::-1]",
   "outputs": [
    {
     "data": {
      "text/plain": [
       "C    0.363729\n",
       "B    0.210753\n",
       "A    0.934276\n",
       "Name: foo, dtype: float64"
      ]
     },
     "execution_count": 49,
     "metadata": {},
     "output_type": "execute_result"
    }
   ],
   "execution_count": 49
  },
  {
   "metadata": {
    "ExecuteTime": {
     "end_time": "2024-07-14T09:21:33.550632Z",
     "start_time": "2024-07-14T09:21:33.504014Z"
    }
   },
   "cell_type": "code",
   "source": [
    "adult_df = pd.read_csv('adult.csv')\n",
    "adult_df.head()"
   ],
   "outputs": [
    {
     "data": {
      "text/plain": [
       "   age         workclass  fnlwgt  education  education-num  \\\n",
       "0   39         State-gov   77516  Bachelors             13   \n",
       "1   50  Self-emp-not-inc   83311  Bachelors             13   \n",
       "2   38           Private  215646    HS-grad              9   \n",
       "3   53           Private  234721       11th              7   \n",
       "4   28           Private  338409  Bachelors             13   \n",
       "\n",
       "       marital-status         occupation   relationship   race     sex  \\\n",
       "0       Never-married       Adm-clerical  Not-in-family  White    Male   \n",
       "1  Married-civ-spouse    Exec-managerial        Husband  White    Male   \n",
       "2            Divorced  Handlers-cleaners  Not-in-family  White    Male   \n",
       "3  Married-civ-spouse  Handlers-cleaners        Husband  Black    Male   \n",
       "4  Married-civ-spouse     Prof-specialty           Wife  Black  Female   \n",
       "\n",
       "   capitalGain  capitalLoss  hoursPerWeek  nativeCountry income  \n",
       "0         2174            0            40  United-States  <=50K  \n",
       "1            0            0            13  United-States  <=50K  \n",
       "2            0            0            40  United-States  <=50K  \n",
       "3            0            0            40  United-States  <=50K  \n",
       "4            0            0            40           Cuba  <=50K  "
      ],
      "text/html": [
       "<div>\n",
       "<style scoped>\n",
       "    .dataframe tbody tr th:only-of-type {\n",
       "        vertical-align: middle;\n",
       "    }\n",
       "\n",
       "    .dataframe tbody tr th {\n",
       "        vertical-align: top;\n",
       "    }\n",
       "\n",
       "    .dataframe thead th {\n",
       "        text-align: right;\n",
       "    }\n",
       "</style>\n",
       "<table border=\"1\" class=\"dataframe\">\n",
       "  <thead>\n",
       "    <tr style=\"text-align: right;\">\n",
       "      <th></th>\n",
       "      <th>age</th>\n",
       "      <th>workclass</th>\n",
       "      <th>fnlwgt</th>\n",
       "      <th>education</th>\n",
       "      <th>education-num</th>\n",
       "      <th>marital-status</th>\n",
       "      <th>occupation</th>\n",
       "      <th>relationship</th>\n",
       "      <th>race</th>\n",
       "      <th>sex</th>\n",
       "      <th>capitalGain</th>\n",
       "      <th>capitalLoss</th>\n",
       "      <th>hoursPerWeek</th>\n",
       "      <th>nativeCountry</th>\n",
       "      <th>income</th>\n",
       "    </tr>\n",
       "  </thead>\n",
       "  <tbody>\n",
       "    <tr>\n",
       "      <th>0</th>\n",
       "      <td>39</td>\n",
       "      <td>State-gov</td>\n",
       "      <td>77516</td>\n",
       "      <td>Bachelors</td>\n",
       "      <td>13</td>\n",
       "      <td>Never-married</td>\n",
       "      <td>Adm-clerical</td>\n",
       "      <td>Not-in-family</td>\n",
       "      <td>White</td>\n",
       "      <td>Male</td>\n",
       "      <td>2174</td>\n",
       "      <td>0</td>\n",
       "      <td>40</td>\n",
       "      <td>United-States</td>\n",
       "      <td>&lt;=50K</td>\n",
       "    </tr>\n",
       "    <tr>\n",
       "      <th>1</th>\n",
       "      <td>50</td>\n",
       "      <td>Self-emp-not-inc</td>\n",
       "      <td>83311</td>\n",
       "      <td>Bachelors</td>\n",
       "      <td>13</td>\n",
       "      <td>Married-civ-spouse</td>\n",
       "      <td>Exec-managerial</td>\n",
       "      <td>Husband</td>\n",
       "      <td>White</td>\n",
       "      <td>Male</td>\n",
       "      <td>0</td>\n",
       "      <td>0</td>\n",
       "      <td>13</td>\n",
       "      <td>United-States</td>\n",
       "      <td>&lt;=50K</td>\n",
       "    </tr>\n",
       "    <tr>\n",
       "      <th>2</th>\n",
       "      <td>38</td>\n",
       "      <td>Private</td>\n",
       "      <td>215646</td>\n",
       "      <td>HS-grad</td>\n",
       "      <td>9</td>\n",
       "      <td>Divorced</td>\n",
       "      <td>Handlers-cleaners</td>\n",
       "      <td>Not-in-family</td>\n",
       "      <td>White</td>\n",
       "      <td>Male</td>\n",
       "      <td>0</td>\n",
       "      <td>0</td>\n",
       "      <td>40</td>\n",
       "      <td>United-States</td>\n",
       "      <td>&lt;=50K</td>\n",
       "    </tr>\n",
       "    <tr>\n",
       "      <th>3</th>\n",
       "      <td>53</td>\n",
       "      <td>Private</td>\n",
       "      <td>234721</td>\n",
       "      <td>11th</td>\n",
       "      <td>7</td>\n",
       "      <td>Married-civ-spouse</td>\n",
       "      <td>Handlers-cleaners</td>\n",
       "      <td>Husband</td>\n",
       "      <td>Black</td>\n",
       "      <td>Male</td>\n",
       "      <td>0</td>\n",
       "      <td>0</td>\n",
       "      <td>40</td>\n",
       "      <td>United-States</td>\n",
       "      <td>&lt;=50K</td>\n",
       "    </tr>\n",
       "    <tr>\n",
       "      <th>4</th>\n",
       "      <td>28</td>\n",
       "      <td>Private</td>\n",
       "      <td>338409</td>\n",
       "      <td>Bachelors</td>\n",
       "      <td>13</td>\n",
       "      <td>Married-civ-spouse</td>\n",
       "      <td>Prof-specialty</td>\n",
       "      <td>Wife</td>\n",
       "      <td>Black</td>\n",
       "      <td>Female</td>\n",
       "      <td>0</td>\n",
       "      <td>0</td>\n",
       "      <td>40</td>\n",
       "      <td>Cuba</td>\n",
       "      <td>&lt;=50K</td>\n",
       "    </tr>\n",
       "  </tbody>\n",
       "</table>\n",
       "</div>"
      ]
     },
     "execution_count": 50,
     "metadata": {},
     "output_type": "execute_result"
    }
   ],
   "execution_count": 50
  },
  {
   "metadata": {
    "ExecuteTime": {
     "end_time": "2024-07-14T09:22:16.599938Z",
     "start_time": "2024-07-14T09:22:16.576166Z"
    }
   },
   "cell_type": "code",
   "source": "adult_df.values[0:2]",
   "outputs": [
    {
     "data": {
      "text/plain": [
       "array([[39, 'State-gov', 77516, 'Bachelors', 13, 'Never-married',\n",
       "        'Adm-clerical', 'Not-in-family', 'White', 'Male', 2174, 0, 40,\n",
       "        'United-States', '<=50K'],\n",
       "       [50, 'Self-emp-not-inc', 83311, 'Bachelors', 13,\n",
       "        'Married-civ-spouse', 'Exec-managerial', 'Husband', 'White',\n",
       "        'Male', 0, 0, 13, 'United-States', '<=50K']], dtype=object)"
      ]
     },
     "execution_count": 53,
     "metadata": {},
     "output_type": "execute_result"
    }
   ],
   "execution_count": 53
  },
  {
   "metadata": {
    "ExecuteTime": {
     "end_time": "2024-07-14T09:23:20.653920Z",
     "start_time": "2024-07-14T09:23:20.637519Z"
    }
   },
   "cell_type": "code",
   "source": "adult_df[0:3]",
   "outputs": [
    {
     "data": {
      "text/plain": [
       "   age         workclass  fnlwgt  education  education-num  \\\n",
       "0   39         State-gov   77516  Bachelors             13   \n",
       "1   50  Self-emp-not-inc   83311  Bachelors             13   \n",
       "2   38           Private  215646    HS-grad              9   \n",
       "\n",
       "       marital-status         occupation   relationship   race   sex  \\\n",
       "0       Never-married       Adm-clerical  Not-in-family  White  Male   \n",
       "1  Married-civ-spouse    Exec-managerial        Husband  White  Male   \n",
       "2            Divorced  Handlers-cleaners  Not-in-family  White  Male   \n",
       "\n",
       "   capitalGain  capitalLoss  hoursPerWeek  nativeCountry income  \n",
       "0         2174            0            40  United-States  <=50K  \n",
       "1            0            0            13  United-States  <=50K  \n",
       "2            0            0            40  United-States  <=50K  "
      ],
      "text/html": [
       "<div>\n",
       "<style scoped>\n",
       "    .dataframe tbody tr th:only-of-type {\n",
       "        vertical-align: middle;\n",
       "    }\n",
       "\n",
       "    .dataframe tbody tr th {\n",
       "        vertical-align: top;\n",
       "    }\n",
       "\n",
       "    .dataframe thead th {\n",
       "        text-align: right;\n",
       "    }\n",
       "</style>\n",
       "<table border=\"1\" class=\"dataframe\">\n",
       "  <thead>\n",
       "    <tr style=\"text-align: right;\">\n",
       "      <th></th>\n",
       "      <th>age</th>\n",
       "      <th>workclass</th>\n",
       "      <th>fnlwgt</th>\n",
       "      <th>education</th>\n",
       "      <th>education-num</th>\n",
       "      <th>marital-status</th>\n",
       "      <th>occupation</th>\n",
       "      <th>relationship</th>\n",
       "      <th>race</th>\n",
       "      <th>sex</th>\n",
       "      <th>capitalGain</th>\n",
       "      <th>capitalLoss</th>\n",
       "      <th>hoursPerWeek</th>\n",
       "      <th>nativeCountry</th>\n",
       "      <th>income</th>\n",
       "    </tr>\n",
       "  </thead>\n",
       "  <tbody>\n",
       "    <tr>\n",
       "      <th>0</th>\n",
       "      <td>39</td>\n",
       "      <td>State-gov</td>\n",
       "      <td>77516</td>\n",
       "      <td>Bachelors</td>\n",
       "      <td>13</td>\n",
       "      <td>Never-married</td>\n",
       "      <td>Adm-clerical</td>\n",
       "      <td>Not-in-family</td>\n",
       "      <td>White</td>\n",
       "      <td>Male</td>\n",
       "      <td>2174</td>\n",
       "      <td>0</td>\n",
       "      <td>40</td>\n",
       "      <td>United-States</td>\n",
       "      <td>&lt;=50K</td>\n",
       "    </tr>\n",
       "    <tr>\n",
       "      <th>1</th>\n",
       "      <td>50</td>\n",
       "      <td>Self-emp-not-inc</td>\n",
       "      <td>83311</td>\n",
       "      <td>Bachelors</td>\n",
       "      <td>13</td>\n",
       "      <td>Married-civ-spouse</td>\n",
       "      <td>Exec-managerial</td>\n",
       "      <td>Husband</td>\n",
       "      <td>White</td>\n",
       "      <td>Male</td>\n",
       "      <td>0</td>\n",
       "      <td>0</td>\n",
       "      <td>13</td>\n",
       "      <td>United-States</td>\n",
       "      <td>&lt;=50K</td>\n",
       "    </tr>\n",
       "    <tr>\n",
       "      <th>2</th>\n",
       "      <td>38</td>\n",
       "      <td>Private</td>\n",
       "      <td>215646</td>\n",
       "      <td>HS-grad</td>\n",
       "      <td>9</td>\n",
       "      <td>Divorced</td>\n",
       "      <td>Handlers-cleaners</td>\n",
       "      <td>Not-in-family</td>\n",
       "      <td>White</td>\n",
       "      <td>Male</td>\n",
       "      <td>0</td>\n",
       "      <td>0</td>\n",
       "      <td>40</td>\n",
       "      <td>United-States</td>\n",
       "      <td>&lt;=50K</td>\n",
       "    </tr>\n",
       "  </tbody>\n",
       "</table>\n",
       "</div>"
      ]
     },
     "execution_count": 55,
     "metadata": {},
     "output_type": "execute_result"
    }
   ],
   "execution_count": 55
  },
  {
   "metadata": {
    "ExecuteTime": {
     "end_time": "2024-07-14T09:22:57.470198Z",
     "start_time": "2024-07-14T09:22:57.455452Z"
    }
   },
   "cell_type": "code",
   "source": "adult_df[adult_df.age>50]",
   "outputs": [
    {
     "data": {
      "text/plain": [
       "       age         workclass  fnlwgt    education  education-num  \\\n",
       "3       53           Private  234721         11th              7   \n",
       "7       52  Self-emp-not-inc  209642      HS-grad              9   \n",
       "21      54           Private  302146      HS-grad              9   \n",
       "24      59           Private  109015      HS-grad              9   \n",
       "25      56         Local-gov  216851    Bachelors             13   \n",
       "...    ...               ...     ...          ...            ...   \n",
       "32542   72               NaN  129912      HS-grad              9   \n",
       "32548   65  Self-emp-not-inc   99359  Prof-school             15   \n",
       "32554   53           Private  321865      Masters             14   \n",
       "32558   58           Private  151910      HS-grad              9   \n",
       "32560   52      Self-emp-inc  287927      HS-grad              9   \n",
       "\n",
       "           marital-status         occupation   relationship   race     sex  \\\n",
       "3      Married-civ-spouse  Handlers-cleaners        Husband  Black    Male   \n",
       "7      Married-civ-spouse    Exec-managerial        Husband  White    Male   \n",
       "21              Separated      Other-service      Unmarried  Black  Female   \n",
       "24               Divorced       Tech-support      Unmarried  White  Female   \n",
       "25     Married-civ-spouse       Tech-support        Husband  White    Male   \n",
       "...                   ...                ...            ...    ...     ...   \n",
       "32542  Married-civ-spouse                NaN        Husband  White    Male   \n",
       "32548       Never-married     Prof-specialty  Not-in-family  White    Male   \n",
       "32554  Married-civ-spouse    Exec-managerial        Husband  White    Male   \n",
       "32558             Widowed       Adm-clerical      Unmarried  White  Female   \n",
       "32560  Married-civ-spouse    Exec-managerial           Wife  White  Female   \n",
       "\n",
       "       capitalGain  capitalLoss  hoursPerWeek  nativeCountry income  \n",
       "3                0            0            40  United-States  <=50K  \n",
       "7                0            0            45  United-States   >50K  \n",
       "21               0            0            20  United-States  <=50K  \n",
       "24               0            0            40  United-States  <=50K  \n",
       "25               0            0            40  United-States   >50K  \n",
       "...            ...          ...           ...            ...    ...  \n",
       "32542            0            0            25  United-States  <=50K  \n",
       "32548         1086            0            60  United-States  <=50K  \n",
       "32554            0            0            40  United-States   >50K  \n",
       "32558            0            0            40  United-States  <=50K  \n",
       "32560        15024            0            40  United-States   >50K  \n",
       "\n",
       "[6460 rows x 15 columns]"
      ],
      "text/html": [
       "<div>\n",
       "<style scoped>\n",
       "    .dataframe tbody tr th:only-of-type {\n",
       "        vertical-align: middle;\n",
       "    }\n",
       "\n",
       "    .dataframe tbody tr th {\n",
       "        vertical-align: top;\n",
       "    }\n",
       "\n",
       "    .dataframe thead th {\n",
       "        text-align: right;\n",
       "    }\n",
       "</style>\n",
       "<table border=\"1\" class=\"dataframe\">\n",
       "  <thead>\n",
       "    <tr style=\"text-align: right;\">\n",
       "      <th></th>\n",
       "      <th>age</th>\n",
       "      <th>workclass</th>\n",
       "      <th>fnlwgt</th>\n",
       "      <th>education</th>\n",
       "      <th>education-num</th>\n",
       "      <th>marital-status</th>\n",
       "      <th>occupation</th>\n",
       "      <th>relationship</th>\n",
       "      <th>race</th>\n",
       "      <th>sex</th>\n",
       "      <th>capitalGain</th>\n",
       "      <th>capitalLoss</th>\n",
       "      <th>hoursPerWeek</th>\n",
       "      <th>nativeCountry</th>\n",
       "      <th>income</th>\n",
       "    </tr>\n",
       "  </thead>\n",
       "  <tbody>\n",
       "    <tr>\n",
       "      <th>3</th>\n",
       "      <td>53</td>\n",
       "      <td>Private</td>\n",
       "      <td>234721</td>\n",
       "      <td>11th</td>\n",
       "      <td>7</td>\n",
       "      <td>Married-civ-spouse</td>\n",
       "      <td>Handlers-cleaners</td>\n",
       "      <td>Husband</td>\n",
       "      <td>Black</td>\n",
       "      <td>Male</td>\n",
       "      <td>0</td>\n",
       "      <td>0</td>\n",
       "      <td>40</td>\n",
       "      <td>United-States</td>\n",
       "      <td>&lt;=50K</td>\n",
       "    </tr>\n",
       "    <tr>\n",
       "      <th>7</th>\n",
       "      <td>52</td>\n",
       "      <td>Self-emp-not-inc</td>\n",
       "      <td>209642</td>\n",
       "      <td>HS-grad</td>\n",
       "      <td>9</td>\n",
       "      <td>Married-civ-spouse</td>\n",
       "      <td>Exec-managerial</td>\n",
       "      <td>Husband</td>\n",
       "      <td>White</td>\n",
       "      <td>Male</td>\n",
       "      <td>0</td>\n",
       "      <td>0</td>\n",
       "      <td>45</td>\n",
       "      <td>United-States</td>\n",
       "      <td>&gt;50K</td>\n",
       "    </tr>\n",
       "    <tr>\n",
       "      <th>21</th>\n",
       "      <td>54</td>\n",
       "      <td>Private</td>\n",
       "      <td>302146</td>\n",
       "      <td>HS-grad</td>\n",
       "      <td>9</td>\n",
       "      <td>Separated</td>\n",
       "      <td>Other-service</td>\n",
       "      <td>Unmarried</td>\n",
       "      <td>Black</td>\n",
       "      <td>Female</td>\n",
       "      <td>0</td>\n",
       "      <td>0</td>\n",
       "      <td>20</td>\n",
       "      <td>United-States</td>\n",
       "      <td>&lt;=50K</td>\n",
       "    </tr>\n",
       "    <tr>\n",
       "      <th>24</th>\n",
       "      <td>59</td>\n",
       "      <td>Private</td>\n",
       "      <td>109015</td>\n",
       "      <td>HS-grad</td>\n",
       "      <td>9</td>\n",
       "      <td>Divorced</td>\n",
       "      <td>Tech-support</td>\n",
       "      <td>Unmarried</td>\n",
       "      <td>White</td>\n",
       "      <td>Female</td>\n",
       "      <td>0</td>\n",
       "      <td>0</td>\n",
       "      <td>40</td>\n",
       "      <td>United-States</td>\n",
       "      <td>&lt;=50K</td>\n",
       "    </tr>\n",
       "    <tr>\n",
       "      <th>25</th>\n",
       "      <td>56</td>\n",
       "      <td>Local-gov</td>\n",
       "      <td>216851</td>\n",
       "      <td>Bachelors</td>\n",
       "      <td>13</td>\n",
       "      <td>Married-civ-spouse</td>\n",
       "      <td>Tech-support</td>\n",
       "      <td>Husband</td>\n",
       "      <td>White</td>\n",
       "      <td>Male</td>\n",
       "      <td>0</td>\n",
       "      <td>0</td>\n",
       "      <td>40</td>\n",
       "      <td>United-States</td>\n",
       "      <td>&gt;50K</td>\n",
       "    </tr>\n",
       "    <tr>\n",
       "      <th>...</th>\n",
       "      <td>...</td>\n",
       "      <td>...</td>\n",
       "      <td>...</td>\n",
       "      <td>...</td>\n",
       "      <td>...</td>\n",
       "      <td>...</td>\n",
       "      <td>...</td>\n",
       "      <td>...</td>\n",
       "      <td>...</td>\n",
       "      <td>...</td>\n",
       "      <td>...</td>\n",
       "      <td>...</td>\n",
       "      <td>...</td>\n",
       "      <td>...</td>\n",
       "      <td>...</td>\n",
       "    </tr>\n",
       "    <tr>\n",
       "      <th>32542</th>\n",
       "      <td>72</td>\n",
       "      <td>NaN</td>\n",
       "      <td>129912</td>\n",
       "      <td>HS-grad</td>\n",
       "      <td>9</td>\n",
       "      <td>Married-civ-spouse</td>\n",
       "      <td>NaN</td>\n",
       "      <td>Husband</td>\n",
       "      <td>White</td>\n",
       "      <td>Male</td>\n",
       "      <td>0</td>\n",
       "      <td>0</td>\n",
       "      <td>25</td>\n",
       "      <td>United-States</td>\n",
       "      <td>&lt;=50K</td>\n",
       "    </tr>\n",
       "    <tr>\n",
       "      <th>32548</th>\n",
       "      <td>65</td>\n",
       "      <td>Self-emp-not-inc</td>\n",
       "      <td>99359</td>\n",
       "      <td>Prof-school</td>\n",
       "      <td>15</td>\n",
       "      <td>Never-married</td>\n",
       "      <td>Prof-specialty</td>\n",
       "      <td>Not-in-family</td>\n",
       "      <td>White</td>\n",
       "      <td>Male</td>\n",
       "      <td>1086</td>\n",
       "      <td>0</td>\n",
       "      <td>60</td>\n",
       "      <td>United-States</td>\n",
       "      <td>&lt;=50K</td>\n",
       "    </tr>\n",
       "    <tr>\n",
       "      <th>32554</th>\n",
       "      <td>53</td>\n",
       "      <td>Private</td>\n",
       "      <td>321865</td>\n",
       "      <td>Masters</td>\n",
       "      <td>14</td>\n",
       "      <td>Married-civ-spouse</td>\n",
       "      <td>Exec-managerial</td>\n",
       "      <td>Husband</td>\n",
       "      <td>White</td>\n",
       "      <td>Male</td>\n",
       "      <td>0</td>\n",
       "      <td>0</td>\n",
       "      <td>40</td>\n",
       "      <td>United-States</td>\n",
       "      <td>&gt;50K</td>\n",
       "    </tr>\n",
       "    <tr>\n",
       "      <th>32558</th>\n",
       "      <td>58</td>\n",
       "      <td>Private</td>\n",
       "      <td>151910</td>\n",
       "      <td>HS-grad</td>\n",
       "      <td>9</td>\n",
       "      <td>Widowed</td>\n",
       "      <td>Adm-clerical</td>\n",
       "      <td>Unmarried</td>\n",
       "      <td>White</td>\n",
       "      <td>Female</td>\n",
       "      <td>0</td>\n",
       "      <td>0</td>\n",
       "      <td>40</td>\n",
       "      <td>United-States</td>\n",
       "      <td>&lt;=50K</td>\n",
       "    </tr>\n",
       "    <tr>\n",
       "      <th>32560</th>\n",
       "      <td>52</td>\n",
       "      <td>Self-emp-inc</td>\n",
       "      <td>287927</td>\n",
       "      <td>HS-grad</td>\n",
       "      <td>9</td>\n",
       "      <td>Married-civ-spouse</td>\n",
       "      <td>Exec-managerial</td>\n",
       "      <td>Wife</td>\n",
       "      <td>White</td>\n",
       "      <td>Female</td>\n",
       "      <td>15024</td>\n",
       "      <td>0</td>\n",
       "      <td>40</td>\n",
       "      <td>United-States</td>\n",
       "      <td>&gt;50K</td>\n",
       "    </tr>\n",
       "  </tbody>\n",
       "</table>\n",
       "<p>6460 rows × 15 columns</p>\n",
       "</div>"
      ]
     },
     "execution_count": 54,
     "metadata": {},
     "output_type": "execute_result"
    }
   ],
   "execution_count": 54
  },
  {
   "cell_type": "code",
   "execution_count": 28,
   "metadata": {
    "scrolled": true,
    "ExecuteTime": {
     "end_time": "2024-05-15T03:34:48.751919Z",
     "start_time": "2024-05-15T03:34:48.710718Z"
    }
   },
   "outputs": [
    {
     "data": {
      "text/plain": "pandas.core.series.Series"
     },
     "execution_count": 28,
     "metadata": {},
     "output_type": "execute_result"
    }
   ],
   "source": [
    "type(adult_df.age)"
   ]
  },
  {
   "cell_type": "code",
   "execution_count": 30,
   "outputs": [
    {
     "data": {
      "text/plain": "pandas.core.series.Series"
     },
     "execution_count": 30,
     "metadata": {},
     "output_type": "execute_result"
    }
   ],
   "source": [
    "type(adult_df['age'])"
   ],
   "metadata": {
    "collapsed": false,
    "ExecuteTime": {
     "end_time": "2024-05-15T03:35:39.310399Z",
     "start_time": "2024-05-15T03:35:39.291402Z"
    }
   }
  },
  {
   "cell_type": "code",
   "execution_count": 29,
   "metadata": {
    "ExecuteTime": {
     "end_time": "2024-05-15T03:34:50.102554Z",
     "start_time": "2024-05-15T03:34:50.063482Z"
    }
   },
   "outputs": [
    {
     "data": {
      "text/plain": "pandas.core.frame.DataFrame"
     },
     "execution_count": 29,
     "metadata": {},
     "output_type": "execute_result"
    }
   ],
   "source": [
    "type(adult_df)"
   ]
  },
  {
   "cell_type": "code",
   "execution_count": 33,
   "metadata": {
    "scrolled": true,
    "ExecuteTime": {
     "end_time": "2024-05-15T03:37:03.189248Z",
     "start_time": "2024-05-15T03:37:03.134541Z"
    }
   },
   "outputs": [
    {
     "data": {
      "text/plain": "Index(['age', 'workclass', 'fnlwgt', 'education', 'education-num',\n       'marital-status', 'occupation', 'relationship', 'race', 'sex',\n       'capitalGain', 'capitalLoss', 'hoursPerWeek', 'nativeCountry',\n       'income'],\n      dtype='object')"
     },
     "execution_count": 33,
     "metadata": {},
     "output_type": "execute_result"
    }
   ],
   "source": [
    "adult_df.loc[0].index"
   ]
  },
  {
   "cell_type": "code",
   "execution_count": 35,
   "metadata": {
    "ExecuteTime": {
     "end_time": "2024-05-15T03:37:32.229029Z",
     "start_time": "2024-05-15T03:37:32.204461Z"
    }
   },
   "outputs": [
    {
     "data": {
      "text/plain": "RangeIndex(start=0, stop=32561, step=1)"
     },
     "execution_count": 35,
     "metadata": {},
     "output_type": "execute_result"
    }
   ],
   "source": [
    "adult_df.age.index"
   ]
  },
  {
   "cell_type": "code",
   "execution_count": 36,
   "metadata": {
    "ExecuteTime": {
     "end_time": "2024-05-15T03:39:10.584077Z",
     "start_time": "2024-05-15T03:39:10.549021Z"
    }
   },
   "outputs": [],
   "source": [
    "adult_df.set_index(np.arange(10000,42561),inplace=True)"
   ]
  },
  {
   "cell_type": "code",
   "execution_count": 37,
   "metadata": {
    "scrolled": false,
    "ExecuteTime": {
     "end_time": "2024-05-15T03:39:12.493474Z",
     "start_time": "2024-05-15T03:39:12.429804Z"
    }
   },
   "outputs": [
    {
     "data": {
      "text/plain": "       age         workclass  fnlwgt   education  education-num  \\\n10000   39         State-gov   77516   Bachelors             13   \n10001   50  Self-emp-not-inc   83311   Bachelors             13   \n10002   38           Private  215646     HS-grad              9   \n10003   53           Private  234721        11th              7   \n10004   28           Private  338409   Bachelors             13   \n...    ...               ...     ...         ...            ...   \n42556   27           Private  257302  Assoc-acdm             12   \n42557   40           Private  154374     HS-grad              9   \n42558   58           Private  151910     HS-grad              9   \n42559   22           Private  201490     HS-grad              9   \n42560   52      Self-emp-inc  287927     HS-grad              9   \n\n           marital-status         occupation   relationship   race     sex  \\\n10000       Never-married       Adm-clerical  Not-in-family  White    Male   \n10001  Married-civ-spouse    Exec-managerial        Husband  White    Male   \n10002            Divorced  Handlers-cleaners  Not-in-family  White    Male   \n10003  Married-civ-spouse  Handlers-cleaners        Husband  Black    Male   \n10004  Married-civ-spouse     Prof-specialty           Wife  Black  Female   \n...                   ...                ...            ...    ...     ...   \n42556  Married-civ-spouse       Tech-support           Wife  White  Female   \n42557  Married-civ-spouse  Machine-op-inspct        Husband  White    Male   \n42558             Widowed       Adm-clerical      Unmarried  White  Female   \n42559       Never-married       Adm-clerical      Own-child  White    Male   \n42560  Married-civ-spouse    Exec-managerial           Wife  White  Female   \n\n       capitalGain  capitalLoss  hoursPerWeek  nativeCountry income  \n10000         2174            0            40  United-States  <=50K  \n10001            0            0            13  United-States  <=50K  \n10002            0            0            40  United-States  <=50K  \n10003            0            0            40  United-States  <=50K  \n10004            0            0            40           Cuba  <=50K  \n...            ...          ...           ...            ...    ...  \n42556            0            0            38  United-States  <=50K  \n42557            0            0            40  United-States   >50K  \n42558            0            0            40  United-States  <=50K  \n42559            0            0            20  United-States  <=50K  \n42560        15024            0            40  United-States   >50K  \n\n[32561 rows x 15 columns]",
      "text/html": "<div>\n<style scoped>\n    .dataframe tbody tr th:only-of-type {\n        vertical-align: middle;\n    }\n\n    .dataframe tbody tr th {\n        vertical-align: top;\n    }\n\n    .dataframe thead th {\n        text-align: right;\n    }\n</style>\n<table border=\"1\" class=\"dataframe\">\n  <thead>\n    <tr style=\"text-align: right;\">\n      <th></th>\n      <th>age</th>\n      <th>workclass</th>\n      <th>fnlwgt</th>\n      <th>education</th>\n      <th>education-num</th>\n      <th>marital-status</th>\n      <th>occupation</th>\n      <th>relationship</th>\n      <th>race</th>\n      <th>sex</th>\n      <th>capitalGain</th>\n      <th>capitalLoss</th>\n      <th>hoursPerWeek</th>\n      <th>nativeCountry</th>\n      <th>income</th>\n    </tr>\n  </thead>\n  <tbody>\n    <tr>\n      <th>10000</th>\n      <td>39</td>\n      <td>State-gov</td>\n      <td>77516</td>\n      <td>Bachelors</td>\n      <td>13</td>\n      <td>Never-married</td>\n      <td>Adm-clerical</td>\n      <td>Not-in-family</td>\n      <td>White</td>\n      <td>Male</td>\n      <td>2174</td>\n      <td>0</td>\n      <td>40</td>\n      <td>United-States</td>\n      <td>&lt;=50K</td>\n    </tr>\n    <tr>\n      <th>10001</th>\n      <td>50</td>\n      <td>Self-emp-not-inc</td>\n      <td>83311</td>\n      <td>Bachelors</td>\n      <td>13</td>\n      <td>Married-civ-spouse</td>\n      <td>Exec-managerial</td>\n      <td>Husband</td>\n      <td>White</td>\n      <td>Male</td>\n      <td>0</td>\n      <td>0</td>\n      <td>13</td>\n      <td>United-States</td>\n      <td>&lt;=50K</td>\n    </tr>\n    <tr>\n      <th>10002</th>\n      <td>38</td>\n      <td>Private</td>\n      <td>215646</td>\n      <td>HS-grad</td>\n      <td>9</td>\n      <td>Divorced</td>\n      <td>Handlers-cleaners</td>\n      <td>Not-in-family</td>\n      <td>White</td>\n      <td>Male</td>\n      <td>0</td>\n      <td>0</td>\n      <td>40</td>\n      <td>United-States</td>\n      <td>&lt;=50K</td>\n    </tr>\n    <tr>\n      <th>10003</th>\n      <td>53</td>\n      <td>Private</td>\n      <td>234721</td>\n      <td>11th</td>\n      <td>7</td>\n      <td>Married-civ-spouse</td>\n      <td>Handlers-cleaners</td>\n      <td>Husband</td>\n      <td>Black</td>\n      <td>Male</td>\n      <td>0</td>\n      <td>0</td>\n      <td>40</td>\n      <td>United-States</td>\n      <td>&lt;=50K</td>\n    </tr>\n    <tr>\n      <th>10004</th>\n      <td>28</td>\n      <td>Private</td>\n      <td>338409</td>\n      <td>Bachelors</td>\n      <td>13</td>\n      <td>Married-civ-spouse</td>\n      <td>Prof-specialty</td>\n      <td>Wife</td>\n      <td>Black</td>\n      <td>Female</td>\n      <td>0</td>\n      <td>0</td>\n      <td>40</td>\n      <td>Cuba</td>\n      <td>&lt;=50K</td>\n    </tr>\n    <tr>\n      <th>...</th>\n      <td>...</td>\n      <td>...</td>\n      <td>...</td>\n      <td>...</td>\n      <td>...</td>\n      <td>...</td>\n      <td>...</td>\n      <td>...</td>\n      <td>...</td>\n      <td>...</td>\n      <td>...</td>\n      <td>...</td>\n      <td>...</td>\n      <td>...</td>\n      <td>...</td>\n    </tr>\n    <tr>\n      <th>42556</th>\n      <td>27</td>\n      <td>Private</td>\n      <td>257302</td>\n      <td>Assoc-acdm</td>\n      <td>12</td>\n      <td>Married-civ-spouse</td>\n      <td>Tech-support</td>\n      <td>Wife</td>\n      <td>White</td>\n      <td>Female</td>\n      <td>0</td>\n      <td>0</td>\n      <td>38</td>\n      <td>United-States</td>\n      <td>&lt;=50K</td>\n    </tr>\n    <tr>\n      <th>42557</th>\n      <td>40</td>\n      <td>Private</td>\n      <td>154374</td>\n      <td>HS-grad</td>\n      <td>9</td>\n      <td>Married-civ-spouse</td>\n      <td>Machine-op-inspct</td>\n      <td>Husband</td>\n      <td>White</td>\n      <td>Male</td>\n      <td>0</td>\n      <td>0</td>\n      <td>40</td>\n      <td>United-States</td>\n      <td>&gt;50K</td>\n    </tr>\n    <tr>\n      <th>42558</th>\n      <td>58</td>\n      <td>Private</td>\n      <td>151910</td>\n      <td>HS-grad</td>\n      <td>9</td>\n      <td>Widowed</td>\n      <td>Adm-clerical</td>\n      <td>Unmarried</td>\n      <td>White</td>\n      <td>Female</td>\n      <td>0</td>\n      <td>0</td>\n      <td>40</td>\n      <td>United-States</td>\n      <td>&lt;=50K</td>\n    </tr>\n    <tr>\n      <th>42559</th>\n      <td>22</td>\n      <td>Private</td>\n      <td>201490</td>\n      <td>HS-grad</td>\n      <td>9</td>\n      <td>Never-married</td>\n      <td>Adm-clerical</td>\n      <td>Own-child</td>\n      <td>White</td>\n      <td>Male</td>\n      <td>0</td>\n      <td>0</td>\n      <td>20</td>\n      <td>United-States</td>\n      <td>&lt;=50K</td>\n    </tr>\n    <tr>\n      <th>42560</th>\n      <td>52</td>\n      <td>Self-emp-inc</td>\n      <td>287927</td>\n      <td>HS-grad</td>\n      <td>9</td>\n      <td>Married-civ-spouse</td>\n      <td>Exec-managerial</td>\n      <td>Wife</td>\n      <td>White</td>\n      <td>Female</td>\n      <td>15024</td>\n      <td>0</td>\n      <td>40</td>\n      <td>United-States</td>\n      <td>&gt;50K</td>\n    </tr>\n  </tbody>\n</table>\n<p>32561 rows × 15 columns</p>\n</div>"
     },
     "execution_count": 37,
     "metadata": {},
     "output_type": "execute_result"
    }
   ],
   "source": [
    "adult_df.set_index(np.arange(10000,42561))"
   ]
  },
  {
   "cell_type": "code",
   "execution_count": 42,
   "outputs": [
    {
     "data": {
      "text/plain": "age                               50\nworkclass           Self-emp-not-inc\nfnlwgt                         83311\neducation                  Bachelors\neducation-num                     13\nmarital-status    Married-civ-spouse\noccupation           Exec-managerial\nrelationship                 Husband\nrace                           White\nsex                             Male\ncapitalGain                        0\ncapitalLoss                        0\nhoursPerWeek                      13\nnativeCountry          United-States\nincome                         <=50K\nName: 10001, dtype: object"
     },
     "execution_count": 42,
     "metadata": {},
     "output_type": "execute_result"
    }
   ],
   "source": [
    "# 更新后的索引\n",
    "adult_df.loc[10001]"
   ],
   "metadata": {
    "collapsed": false,
    "ExecuteTime": {
     "end_time": "2024-05-15T03:40:16.702720Z",
     "start_time": "2024-05-15T03:40:16.677608Z"
    }
   }
  },
  {
   "cell_type": "code",
   "execution_count": 44,
   "outputs": [
    {
     "data": {
      "text/plain": "age                               50\nworkclass           Self-emp-not-inc\nfnlwgt                         83311\neducation                  Bachelors\neducation-num                     13\nmarital-status    Married-civ-spouse\noccupation           Exec-managerial\nrelationship                 Husband\nrace                           White\nsex                             Male\ncapitalGain                        0\ncapitalLoss                        0\nhoursPerWeek                      13\nnativeCountry          United-States\nincome                         <=50K\nName: 10001, dtype: object"
     },
     "execution_count": 44,
     "metadata": {},
     "output_type": "execute_result"
    }
   ],
   "source": [
    "# 默认索引\n",
    "adult_df.iloc[1]"
   ],
   "metadata": {
    "collapsed": false,
    "ExecuteTime": {
     "end_time": "2024-05-15T03:40:51.496040Z",
     "start_time": "2024-05-15T03:40:51.478427Z"
    }
   }
  },
  {
   "cell_type": "code",
   "execution_count": 47,
   "outputs": [
    {
     "name": "stdout",
     "output_type": "stream",
     "text": [
      "age               True\n",
      "workclass         True\n",
      "fnlwgt            True\n",
      "education         True\n",
      "education-num     True\n",
      "marital-status    True\n",
      "occupation        True\n",
      "relationship      True\n",
      "race              True\n",
      "sex               True\n",
      "capitalGain       True\n",
      "capitalLoss       True\n",
      "hoursPerWeek      True\n",
      "nativeCountry     True\n",
      "income            True\n",
      "Name: 10001, dtype: bool\n"
     ]
    }
   ],
   "source": [
    "print(adult_df.loc[10001] == adult_df.iloc[1])"
   ],
   "metadata": {
    "collapsed": false,
    "ExecuteTime": {
     "end_time": "2024-05-15T03:41:31.707371Z",
     "start_time": "2024-05-15T03:41:31.677392Z"
    }
   }
  },
  {
   "cell_type": "code",
   "execution_count": 38,
   "metadata": {
    "ExecuteTime": {
     "end_time": "2024-05-15T03:39:37.054866Z",
     "start_time": "2024-05-15T03:39:36.765298Z"
    }
   },
   "outputs": [
    {
     "ename": "NameError",
     "evalue": "name 'num' is not defined",
     "output_type": "error",
     "traceback": [
      "\u001B[0;31m---------------------------------------------------------------------------\u001B[0m",
      "\u001B[0;31mNameError\u001B[0m                                 Traceback (most recent call last)",
      "Cell \u001B[0;32mIn[38], line 1\u001B[0m\n\u001B[0;32m----> 1\u001B[0m adult_df\u001B[38;5;241m.\u001B[39meducation\u001B[38;5;241m-\u001B[39mnum\n",
      "\u001B[0;31mNameError\u001B[0m: name 'num' is not defined"
     ]
    }
   ],
   "source": [
    "adult_df.education-num"
   ]
  },
  {
   "cell_type": "code",
   "execution_count": 48,
   "outputs": [
    {
     "data": {
      "text/plain": "10000    13\n10001    13\n10002     9\n10003     7\n10004    13\n         ..\n42556    12\n42557     9\n42558     9\n42559     9\n42560     9\nName: education-num, Length: 32561, dtype: int64"
     },
     "execution_count": 48,
     "metadata": {},
     "output_type": "execute_result"
    }
   ],
   "source": [
    "adult_df['education-num']"
   ],
   "metadata": {
    "collapsed": false,
    "ExecuteTime": {
     "end_time": "2024-05-15T03:42:23.570299Z",
     "start_time": "2024-05-15T03:42:23.532677Z"
    }
   }
  },
  {
   "cell_type": "code",
   "execution_count": 49,
   "metadata": {
    "ExecuteTime": {
     "end_time": "2024-05-15T03:43:08.907612Z",
     "start_time": "2024-05-15T03:43:08.893030Z"
    }
   },
   "outputs": [
    {
     "data": {
      "text/plain": "'HS-grad'"
     },
     "execution_count": 49,
     "metadata": {},
     "output_type": "execute_result"
    }
   ],
   "source": [
    "# 行（默认索引）+列  \n",
    "adult_df.iloc[2].loc['education']"
   ]
  },
  {
   "cell_type": "code",
   "execution_count": 50,
   "metadata": {
    "ExecuteTime": {
     "end_time": "2024-05-15T03:43:15.233402Z",
     "start_time": "2024-05-15T03:43:15.202841Z"
    }
   },
   "outputs": [
    {
     "data": {
      "text/plain": "'HS-grad'"
     },
     "execution_count": 50,
     "metadata": {},
     "output_type": "execute_result"
    }
   ],
   "source": [
    "# 列+行（更新后索引）\n",
    "adult_df.education.loc[10002]"
   ]
  },
  {
   "cell_type": "code",
   "execution_count": 28,
   "metadata": {},
   "outputs": [
    {
     "data": {
      "text/plain": [
       "'HS-grad'"
      ]
     },
     "execution_count": 28,
     "metadata": {},
     "output_type": "execute_result"
    }
   ],
   "source": [
    "# 列+行\n",
    "adult_df['education'].iloc[2]"
   ]
  },
  {
   "cell_type": "code",
   "execution_count": 29,
   "metadata": {},
   "outputs": [
    {
     "data": {
      "text/plain": [
       "'HS-grad'"
      ]
     },
     "execution_count": 29,
     "metadata": {},
     "output_type": "execute_result"
    }
   ],
   "source": [
    "# 行+列\n",
    "adult_df.at[10002,'education']"
   ]
  },
  {
   "cell_type": "code",
   "execution_count": 59,
   "metadata": {
    "ExecuteTime": {
     "end_time": "2024-05-15T03:48:14.206680Z",
     "start_time": "2024-05-15T03:48:14.185038Z"
    }
   },
   "outputs": [
    {
     "name": "stdout",
     "output_type": "stream",
     "text": [
      "HS-grad\n",
      "HS-grad\n",
      "HS-grad\n",
      "HS-grad\n"
     ]
    }
   ],
   "source": [
    "row_series = adult_df.loc[10002]\n",
    "print(row_series.education)\n",
    "print(row_series.iloc[3])\n",
    "print(row_series['education'])\n",
    "print(row_series.loc['education'])"
   ]
  },
  {
   "cell_type": "code",
   "execution_count": 31,
   "metadata": {},
   "outputs": [
    {
     "name": "stdout",
     "output_type": "stream",
     "text": [
      "HS-grad\n",
      "HS-grad\n",
      "HS-grad\n"
     ]
    }
   ],
   "source": [
    "columns_series = adult_df.education\n",
    "print(columns_series.loc[10002])\n",
    "print(columns_series.iloc[2])\n",
    "print(columns_series[10002])\n",
    "# print(row_series.10002)  This will give syntax error!"
   ]
  },
  {
   "cell_type": "markdown",
   "metadata": {},
   "source": [
    "# Slicing"
   ]
  },
  {
   "cell_type": "code",
   "execution_count": 60,
   "metadata": {
    "ExecuteTime": {
     "end_time": "2024-05-15T07:11:25.591842Z",
     "start_time": "2024-05-15T07:11:25.578287Z"
    }
   },
   "outputs": [
    {
     "data": {
      "text/plain": "array([[ 2,  3,  5,  7],\n       [11, 13, 17, 19],\n       [23, 29, 31, 37],\n       [41, 43, 47, 49]])"
     },
     "execution_count": 60,
     "metadata": {},
     "output_type": "execute_result"
    }
   ],
   "source": [
    "my_array = np.array([[2,3,5,7],[11,13,17,19],\n",
    "                     [23,29,31,37,], [41,43,47,49]])\n",
    "my_array"
   ]
  },
  {
   "cell_type": "code",
   "execution_count": 61,
   "metadata": {
    "ExecuteTime": {
     "end_time": "2024-05-15T07:12:24.298350Z",
     "start_time": "2024-05-15T07:12:24.280995Z"
    }
   },
   "outputs": [
    {
     "data": {
      "text/plain": "13"
     },
     "execution_count": 61,
     "metadata": {},
     "output_type": "execute_result"
    }
   ],
   "source": [
    "my_array[1,1]"
   ]
  },
  {
   "cell_type": "code",
   "execution_count": 64,
   "metadata": {
    "ExecuteTime": {
     "end_time": "2024-05-15T07:12:49.891058Z",
     "start_time": "2024-05-15T07:12:49.858501Z"
    }
   },
   "outputs": [
    {
     "name": "stdout",
     "output_type": "stream",
     "text": [
      "[11 13 17 19]\n"
     ]
    }
   ],
   "source": [
    "print(my_array[1, :])"
   ]
  },
  {
   "cell_type": "code",
   "execution_count": 65,
   "metadata": {
    "ExecuteTime": {
     "end_time": "2024-05-15T07:12:50.936532Z",
     "start_time": "2024-05-15T07:12:50.898803Z"
    }
   },
   "outputs": [
    {
     "data": {
      "text/plain": "array([ 3, 13, 29, 43])"
     },
     "execution_count": 65,
     "metadata": {},
     "output_type": "execute_result"
    }
   ],
   "source": [
    "my_array[:,1]"
   ]
  },
  {
   "cell_type": "code",
   "execution_count": 36,
   "metadata": {},
   "outputs": [
    {
     "data": {
      "text/plain": [
       "array([[ 2,  3,  5,  7],\n",
       "       [11, 13, 17, 19],\n",
       "       [23, 29, 31, 37],\n",
       "       [41, 43, 47, 49]])"
      ]
     },
     "execution_count": 36,
     "metadata": {},
     "output_type": "execute_result"
    }
   ],
   "source": [
    "my_array"
   ]
  },
  {
   "cell_type": "code",
   "execution_count": 37,
   "metadata": {},
   "outputs": [
    {
     "data": {
      "text/plain": [
       "array([[11, 13, 17, 19],\n",
       "       [23, 29, 31, 37]])"
      ]
     },
     "execution_count": 37,
     "metadata": {},
     "output_type": "execute_result"
    }
   ],
   "source": [
    "my_array[1:3,:]"
   ]
  },
  {
   "cell_type": "code",
   "execution_count": 66,
   "outputs": [
    {
     "data": {
      "text/plain": "array([[11, 13, 17, 19],\n       [23, 29, 31, 37]])"
     },
     "execution_count": 66,
     "metadata": {},
     "output_type": "execute_result"
    }
   ],
   "source": [
    "my_array[1:3]"
   ],
   "metadata": {
    "collapsed": false,
    "ExecuteTime": {
     "end_time": "2024-05-15T07:14:01.667615Z",
     "start_time": "2024-05-15T07:14:01.644071Z"
    }
   }
  },
  {
   "cell_type": "code",
   "execution_count": 68,
   "metadata": {
    "scrolled": false,
    "ExecuteTime": {
     "end_time": "2024-05-15T07:15:05.418571Z",
     "start_time": "2024-05-15T07:15:05.372181Z"
    }
   },
   "outputs": [
    {
     "data": {
      "text/plain": "array([[11, 13],\n       [23, 29]])"
     },
     "execution_count": 68,
     "metadata": {},
     "output_type": "execute_result"
    }
   ],
   "source": [
    "my_array[1:3,0:2]"
   ]
  },
  {
   "cell_type": "code",
   "execution_count": 69,
   "metadata": {
    "ExecuteTime": {
     "end_time": "2024-05-15T07:15:12.302820Z",
     "start_time": "2024-05-15T07:15:12.274993Z"
    }
   },
   "outputs": [
    {
     "data": {
      "text/plain": "array([[11, 17],\n       [23, 31]])"
     },
     "execution_count": 69,
     "metadata": {},
     "output_type": "execute_result"
    }
   ],
   "source": [
    "my_array[1:3,[0,2]]"
   ]
  },
  {
   "cell_type": "code",
   "execution_count": 70,
   "metadata": {
    "ExecuteTime": {
     "end_time": "2024-05-15T07:15:18.115283Z",
     "start_time": "2024-05-15T07:15:18.076657Z"
    }
   },
   "outputs": [
    {
     "data": {
      "text/plain": "        education  education-num      marital-status         occupation\n10000   Bachelors             13       Never-married       Adm-clerical\n10001   Bachelors             13  Married-civ-spouse    Exec-managerial\n10002     HS-grad              9            Divorced  Handlers-cleaners\n10003        11th              7  Married-civ-spouse  Handlers-cleaners\n10004   Bachelors             13  Married-civ-spouse     Prof-specialty\n...           ...            ...                 ...                ...\n42556  Assoc-acdm             12  Married-civ-spouse       Tech-support\n42557     HS-grad              9  Married-civ-spouse  Machine-op-inspct\n42558     HS-grad              9             Widowed       Adm-clerical\n42559     HS-grad              9       Never-married       Adm-clerical\n42560     HS-grad              9  Married-civ-spouse    Exec-managerial\n\n[32561 rows x 4 columns]",
      "text/html": "<div>\n<style scoped>\n    .dataframe tbody tr th:only-of-type {\n        vertical-align: middle;\n    }\n\n    .dataframe tbody tr th {\n        vertical-align: top;\n    }\n\n    .dataframe thead th {\n        text-align: right;\n    }\n</style>\n<table border=\"1\" class=\"dataframe\">\n  <thead>\n    <tr style=\"text-align: right;\">\n      <th></th>\n      <th>education</th>\n      <th>education-num</th>\n      <th>marital-status</th>\n      <th>occupation</th>\n    </tr>\n  </thead>\n  <tbody>\n    <tr>\n      <th>10000</th>\n      <td>Bachelors</td>\n      <td>13</td>\n      <td>Never-married</td>\n      <td>Adm-clerical</td>\n    </tr>\n    <tr>\n      <th>10001</th>\n      <td>Bachelors</td>\n      <td>13</td>\n      <td>Married-civ-spouse</td>\n      <td>Exec-managerial</td>\n    </tr>\n    <tr>\n      <th>10002</th>\n      <td>HS-grad</td>\n      <td>9</td>\n      <td>Divorced</td>\n      <td>Handlers-cleaners</td>\n    </tr>\n    <tr>\n      <th>10003</th>\n      <td>11th</td>\n      <td>7</td>\n      <td>Married-civ-spouse</td>\n      <td>Handlers-cleaners</td>\n    </tr>\n    <tr>\n      <th>10004</th>\n      <td>Bachelors</td>\n      <td>13</td>\n      <td>Married-civ-spouse</td>\n      <td>Prof-specialty</td>\n    </tr>\n    <tr>\n      <th>...</th>\n      <td>...</td>\n      <td>...</td>\n      <td>...</td>\n      <td>...</td>\n    </tr>\n    <tr>\n      <th>42556</th>\n      <td>Assoc-acdm</td>\n      <td>12</td>\n      <td>Married-civ-spouse</td>\n      <td>Tech-support</td>\n    </tr>\n    <tr>\n      <th>42557</th>\n      <td>HS-grad</td>\n      <td>9</td>\n      <td>Married-civ-spouse</td>\n      <td>Machine-op-inspct</td>\n    </tr>\n    <tr>\n      <th>42558</th>\n      <td>HS-grad</td>\n      <td>9</td>\n      <td>Widowed</td>\n      <td>Adm-clerical</td>\n    </tr>\n    <tr>\n      <th>42559</th>\n      <td>HS-grad</td>\n      <td>9</td>\n      <td>Never-married</td>\n      <td>Adm-clerical</td>\n    </tr>\n    <tr>\n      <th>42560</th>\n      <td>HS-grad</td>\n      <td>9</td>\n      <td>Married-civ-spouse</td>\n      <td>Exec-managerial</td>\n    </tr>\n  </tbody>\n</table>\n<p>32561 rows × 4 columns</p>\n</div>"
     },
     "execution_count": 70,
     "metadata": {},
     "output_type": "execute_result"
    }
   ],
   "source": [
    "adult_df.loc[:,'education':'occupation']"
   ]
  },
  {
   "cell_type": "code",
   "execution_count": 72,
   "outputs": [
    {
     "data": {
      "text/plain": "       index  age     workclass  fnlwgt  education  education-num  \\\n0      32940   25       Private  266820  Preschool              1   \n1      23248   68       Private  168794  Preschool              1   \n2      31370   61       Private   98350  Preschool              1   \n3      35943   19       Private  277695  Preschool              1   \n4      31388   24       Private  196678  Preschool              1   \n...      ...  ...           ...     ...        ...            ...   \n32556  20647   42     Local-gov  185129  Doctorate             16   \n32557  22074   33  Self-emp-inc  239018  Doctorate             16   \n32558  38758   65       Private  176796  Doctorate             16   \n32559  14597   55       Private   50164  Doctorate             16   \n32560  25708   49  Self-emp-inc   94606  Doctorate             16   \n\n              marital-status         occupation   relationship  \\\n0              Never-married    Farming-fishing  Not-in-family   \n1              Never-married  Machine-op-inspct  Not-in-family   \n2      Married-spouse-absent      Other-service  Not-in-family   \n3              Never-married    Farming-fishing  Not-in-family   \n4              Never-married  Machine-op-inspct      Own-child   \n...                      ...                ...            ...   \n32556     Married-civ-spouse    Exec-managerial        Husband   \n32557     Married-civ-spouse     Prof-specialty        Husband   \n32558                Widowed     Prof-specialty  Not-in-family   \n32559     Married-civ-spouse    Exec-managerial        Husband   \n32560     Married-civ-spouse     Prof-specialty        Husband   \n\n                     race     sex  capitalGain  capitalLoss  hoursPerWeek  \\\n0                   White    Male            0            0            35   \n1                   White    Male            0            0            10   \n2      Asian-Pac-Islander    Male            0            0            40   \n3                   White    Male            0            0            36   \n4                   White  Female            0            0            30   \n...                   ...     ...          ...          ...           ...   \n32556               White    Male            0            0            43   \n32557               White    Male            0            0            60   \n32558               White  Female            0            0            40   \n32559               White    Male            0            0            60   \n32560               Black    Male            0            0            60   \n\n       nativeCountry income  \n0             Mexico  <=50K  \n1      United-States  <=50K  \n2              China  <=50K  \n3               Hong  <=50K  \n4      United-States  <=50K  \n...              ...    ...  \n32556            NaN   >50K  \n32557  United-States  <=50K  \n32558  United-States  <=50K  \n32559  United-States   >50K  \n32560  United-States   >50K  \n\n[32561 rows x 16 columns]",
      "text/html": "<div>\n<style scoped>\n    .dataframe tbody tr th:only-of-type {\n        vertical-align: middle;\n    }\n\n    .dataframe tbody tr th {\n        vertical-align: top;\n    }\n\n    .dataframe thead th {\n        text-align: right;\n    }\n</style>\n<table border=\"1\" class=\"dataframe\">\n  <thead>\n    <tr style=\"text-align: right;\">\n      <th></th>\n      <th>index</th>\n      <th>age</th>\n      <th>workclass</th>\n      <th>fnlwgt</th>\n      <th>education</th>\n      <th>education-num</th>\n      <th>marital-status</th>\n      <th>occupation</th>\n      <th>relationship</th>\n      <th>race</th>\n      <th>sex</th>\n      <th>capitalGain</th>\n      <th>capitalLoss</th>\n      <th>hoursPerWeek</th>\n      <th>nativeCountry</th>\n      <th>income</th>\n    </tr>\n  </thead>\n  <tbody>\n    <tr>\n      <th>0</th>\n      <td>32940</td>\n      <td>25</td>\n      <td>Private</td>\n      <td>266820</td>\n      <td>Preschool</td>\n      <td>1</td>\n      <td>Never-married</td>\n      <td>Farming-fishing</td>\n      <td>Not-in-family</td>\n      <td>White</td>\n      <td>Male</td>\n      <td>0</td>\n      <td>0</td>\n      <td>35</td>\n      <td>Mexico</td>\n      <td>&lt;=50K</td>\n    </tr>\n    <tr>\n      <th>1</th>\n      <td>23248</td>\n      <td>68</td>\n      <td>Private</td>\n      <td>168794</td>\n      <td>Preschool</td>\n      <td>1</td>\n      <td>Never-married</td>\n      <td>Machine-op-inspct</td>\n      <td>Not-in-family</td>\n      <td>White</td>\n      <td>Male</td>\n      <td>0</td>\n      <td>0</td>\n      <td>10</td>\n      <td>United-States</td>\n      <td>&lt;=50K</td>\n    </tr>\n    <tr>\n      <th>2</th>\n      <td>31370</td>\n      <td>61</td>\n      <td>Private</td>\n      <td>98350</td>\n      <td>Preschool</td>\n      <td>1</td>\n      <td>Married-spouse-absent</td>\n      <td>Other-service</td>\n      <td>Not-in-family</td>\n      <td>Asian-Pac-Islander</td>\n      <td>Male</td>\n      <td>0</td>\n      <td>0</td>\n      <td>40</td>\n      <td>China</td>\n      <td>&lt;=50K</td>\n    </tr>\n    <tr>\n      <th>3</th>\n      <td>35943</td>\n      <td>19</td>\n      <td>Private</td>\n      <td>277695</td>\n      <td>Preschool</td>\n      <td>1</td>\n      <td>Never-married</td>\n      <td>Farming-fishing</td>\n      <td>Not-in-family</td>\n      <td>White</td>\n      <td>Male</td>\n      <td>0</td>\n      <td>0</td>\n      <td>36</td>\n      <td>Hong</td>\n      <td>&lt;=50K</td>\n    </tr>\n    <tr>\n      <th>4</th>\n      <td>31388</td>\n      <td>24</td>\n      <td>Private</td>\n      <td>196678</td>\n      <td>Preschool</td>\n      <td>1</td>\n      <td>Never-married</td>\n      <td>Machine-op-inspct</td>\n      <td>Own-child</td>\n      <td>White</td>\n      <td>Female</td>\n      <td>0</td>\n      <td>0</td>\n      <td>30</td>\n      <td>United-States</td>\n      <td>&lt;=50K</td>\n    </tr>\n    <tr>\n      <th>...</th>\n      <td>...</td>\n      <td>...</td>\n      <td>...</td>\n      <td>...</td>\n      <td>...</td>\n      <td>...</td>\n      <td>...</td>\n      <td>...</td>\n      <td>...</td>\n      <td>...</td>\n      <td>...</td>\n      <td>...</td>\n      <td>...</td>\n      <td>...</td>\n      <td>...</td>\n      <td>...</td>\n    </tr>\n    <tr>\n      <th>32556</th>\n      <td>20647</td>\n      <td>42</td>\n      <td>Local-gov</td>\n      <td>185129</td>\n      <td>Doctorate</td>\n      <td>16</td>\n      <td>Married-civ-spouse</td>\n      <td>Exec-managerial</td>\n      <td>Husband</td>\n      <td>White</td>\n      <td>Male</td>\n      <td>0</td>\n      <td>0</td>\n      <td>43</td>\n      <td>NaN</td>\n      <td>&gt;50K</td>\n    </tr>\n    <tr>\n      <th>32557</th>\n      <td>22074</td>\n      <td>33</td>\n      <td>Self-emp-inc</td>\n      <td>239018</td>\n      <td>Doctorate</td>\n      <td>16</td>\n      <td>Married-civ-spouse</td>\n      <td>Prof-specialty</td>\n      <td>Husband</td>\n      <td>White</td>\n      <td>Male</td>\n      <td>0</td>\n      <td>0</td>\n      <td>60</td>\n      <td>United-States</td>\n      <td>&lt;=50K</td>\n    </tr>\n    <tr>\n      <th>32558</th>\n      <td>38758</td>\n      <td>65</td>\n      <td>Private</td>\n      <td>176796</td>\n      <td>Doctorate</td>\n      <td>16</td>\n      <td>Widowed</td>\n      <td>Prof-specialty</td>\n      <td>Not-in-family</td>\n      <td>White</td>\n      <td>Female</td>\n      <td>0</td>\n      <td>0</td>\n      <td>40</td>\n      <td>United-States</td>\n      <td>&lt;=50K</td>\n    </tr>\n    <tr>\n      <th>32559</th>\n      <td>14597</td>\n      <td>55</td>\n      <td>Private</td>\n      <td>50164</td>\n      <td>Doctorate</td>\n      <td>16</td>\n      <td>Married-civ-spouse</td>\n      <td>Exec-managerial</td>\n      <td>Husband</td>\n      <td>White</td>\n      <td>Male</td>\n      <td>0</td>\n      <td>0</td>\n      <td>60</td>\n      <td>United-States</td>\n      <td>&gt;50K</td>\n    </tr>\n    <tr>\n      <th>32560</th>\n      <td>25708</td>\n      <td>49</td>\n      <td>Self-emp-inc</td>\n      <td>94606</td>\n      <td>Doctorate</td>\n      <td>16</td>\n      <td>Married-civ-spouse</td>\n      <td>Prof-specialty</td>\n      <td>Husband</td>\n      <td>Black</td>\n      <td>Male</td>\n      <td>0</td>\n      <td>0</td>\n      <td>60</td>\n      <td>United-States</td>\n      <td>&gt;50K</td>\n    </tr>\n  </tbody>\n</table>\n<p>32561 rows × 16 columns</p>\n</div>"
     },
     "execution_count": 72,
     "metadata": {},
     "output_type": "execute_result"
    }
   ],
   "source": [
    "adult_df.sort_values('education-num').reset_index()"
   ],
   "metadata": {
    "collapsed": false,
    "ExecuteTime": {
     "end_time": "2024-05-15T07:18:08.520157Z",
     "start_time": "2024-05-15T07:18:08.475465Z"
    }
   }
  },
  {
   "cell_type": "code",
   "execution_count": 73,
   "metadata": {
    "ExecuteTime": {
     "end_time": "2024-05-15T07:18:34.135981Z",
     "start_time": "2024-05-15T07:18:34.111099Z"
    }
   },
   "outputs": [
    {
     "data": {
      "text/plain": "       index  age     workclass  fnlwgt     education  education-num  \\\n0      32940   25       Private  266820     Preschool              1   \n3617   12281   18           NaN  120243          11th              7   \n7234   38844   20       Private  227626       HS-grad              9   \n10851  32754   71       Private  110380       HS-grad              9   \n14468  10543   27       Private  163862       HS-grad              9   \n18085  15718   39  Self-emp-inc  163237  Some-college             10   \n21702  39291   60       Private  202226  Some-college             10   \n25319  40596   34       Private  178841     Bachelors             13   \n28936  32556   64           NaN  380687     Bachelors             13   \n32553  26482   42  Self-emp-inc  443508     Doctorate             16   \n\n           marital-status        occupation   relationship   race     sex  \\\n0           Never-married   Farming-fishing  Not-in-family  White    Male   \n3617        Never-married               NaN      Own-child  White    Male   \n7234   Married-civ-spouse      Adm-clerical        Husband  White    Male   \n10851  Married-civ-spouse             Sales        Husband  White    Male   \n14468       Never-married  Transport-moving  Not-in-family  White    Male   \n18085  Married-civ-spouse   Farming-fishing        Husband  White    Male   \n21702            Divorced      Craft-repair      Own-child  White    Male   \n25319  Married-civ-spouse   Exec-managerial           Wife  White  Female   \n28936  Married-civ-spouse               NaN           Wife  Black  Female   \n32553  Married-civ-spouse    Prof-specialty        Husband  White    Male   \n\n       capitalGain  capitalLoss  hoursPerWeek  nativeCountry income  \n0                0            0            35         Mexico  <=50K  \n3617             0            0            27  United-States  <=50K  \n7234             0            0            60  United-States  <=50K  \n10851            0         2467            52  United-States  <=50K  \n14468            0            0            40  United-States  <=50K  \n18085            0            0            65  United-States  <=50K  \n21702            0            0            44  United-States   >50K  \n25319            0            0            40  United-States   >50K  \n28936            0            0             8  United-States  <=50K  \n32553            0            0            45  United-States   >50K  ",
      "text/html": "<div>\n<style scoped>\n    .dataframe tbody tr th:only-of-type {\n        vertical-align: middle;\n    }\n\n    .dataframe tbody tr th {\n        vertical-align: top;\n    }\n\n    .dataframe thead th {\n        text-align: right;\n    }\n</style>\n<table border=\"1\" class=\"dataframe\">\n  <thead>\n    <tr style=\"text-align: right;\">\n      <th></th>\n      <th>index</th>\n      <th>age</th>\n      <th>workclass</th>\n      <th>fnlwgt</th>\n      <th>education</th>\n      <th>education-num</th>\n      <th>marital-status</th>\n      <th>occupation</th>\n      <th>relationship</th>\n      <th>race</th>\n      <th>sex</th>\n      <th>capitalGain</th>\n      <th>capitalLoss</th>\n      <th>hoursPerWeek</th>\n      <th>nativeCountry</th>\n      <th>income</th>\n    </tr>\n  </thead>\n  <tbody>\n    <tr>\n      <th>0</th>\n      <td>32940</td>\n      <td>25</td>\n      <td>Private</td>\n      <td>266820</td>\n      <td>Preschool</td>\n      <td>1</td>\n      <td>Never-married</td>\n      <td>Farming-fishing</td>\n      <td>Not-in-family</td>\n      <td>White</td>\n      <td>Male</td>\n      <td>0</td>\n      <td>0</td>\n      <td>35</td>\n      <td>Mexico</td>\n      <td>&lt;=50K</td>\n    </tr>\n    <tr>\n      <th>3617</th>\n      <td>12281</td>\n      <td>18</td>\n      <td>NaN</td>\n      <td>120243</td>\n      <td>11th</td>\n      <td>7</td>\n      <td>Never-married</td>\n      <td>NaN</td>\n      <td>Own-child</td>\n      <td>White</td>\n      <td>Male</td>\n      <td>0</td>\n      <td>0</td>\n      <td>27</td>\n      <td>United-States</td>\n      <td>&lt;=50K</td>\n    </tr>\n    <tr>\n      <th>7234</th>\n      <td>38844</td>\n      <td>20</td>\n      <td>Private</td>\n      <td>227626</td>\n      <td>HS-grad</td>\n      <td>9</td>\n      <td>Married-civ-spouse</td>\n      <td>Adm-clerical</td>\n      <td>Husband</td>\n      <td>White</td>\n      <td>Male</td>\n      <td>0</td>\n      <td>0</td>\n      <td>60</td>\n      <td>United-States</td>\n      <td>&lt;=50K</td>\n    </tr>\n    <tr>\n      <th>10851</th>\n      <td>32754</td>\n      <td>71</td>\n      <td>Private</td>\n      <td>110380</td>\n      <td>HS-grad</td>\n      <td>9</td>\n      <td>Married-civ-spouse</td>\n      <td>Sales</td>\n      <td>Husband</td>\n      <td>White</td>\n      <td>Male</td>\n      <td>0</td>\n      <td>2467</td>\n      <td>52</td>\n      <td>United-States</td>\n      <td>&lt;=50K</td>\n    </tr>\n    <tr>\n      <th>14468</th>\n      <td>10543</td>\n      <td>27</td>\n      <td>Private</td>\n      <td>163862</td>\n      <td>HS-grad</td>\n      <td>9</td>\n      <td>Never-married</td>\n      <td>Transport-moving</td>\n      <td>Not-in-family</td>\n      <td>White</td>\n      <td>Male</td>\n      <td>0</td>\n      <td>0</td>\n      <td>40</td>\n      <td>United-States</td>\n      <td>&lt;=50K</td>\n    </tr>\n    <tr>\n      <th>18085</th>\n      <td>15718</td>\n      <td>39</td>\n      <td>Self-emp-inc</td>\n      <td>163237</td>\n      <td>Some-college</td>\n      <td>10</td>\n      <td>Married-civ-spouse</td>\n      <td>Farming-fishing</td>\n      <td>Husband</td>\n      <td>White</td>\n      <td>Male</td>\n      <td>0</td>\n      <td>0</td>\n      <td>65</td>\n      <td>United-States</td>\n      <td>&lt;=50K</td>\n    </tr>\n    <tr>\n      <th>21702</th>\n      <td>39291</td>\n      <td>60</td>\n      <td>Private</td>\n      <td>202226</td>\n      <td>Some-college</td>\n      <td>10</td>\n      <td>Divorced</td>\n      <td>Craft-repair</td>\n      <td>Own-child</td>\n      <td>White</td>\n      <td>Male</td>\n      <td>0</td>\n      <td>0</td>\n      <td>44</td>\n      <td>United-States</td>\n      <td>&gt;50K</td>\n    </tr>\n    <tr>\n      <th>25319</th>\n      <td>40596</td>\n      <td>34</td>\n      <td>Private</td>\n      <td>178841</td>\n      <td>Bachelors</td>\n      <td>13</td>\n      <td>Married-civ-spouse</td>\n      <td>Exec-managerial</td>\n      <td>Wife</td>\n      <td>White</td>\n      <td>Female</td>\n      <td>0</td>\n      <td>0</td>\n      <td>40</td>\n      <td>United-States</td>\n      <td>&gt;50K</td>\n    </tr>\n    <tr>\n      <th>28936</th>\n      <td>32556</td>\n      <td>64</td>\n      <td>NaN</td>\n      <td>380687</td>\n      <td>Bachelors</td>\n      <td>13</td>\n      <td>Married-civ-spouse</td>\n      <td>NaN</td>\n      <td>Wife</td>\n      <td>Black</td>\n      <td>Female</td>\n      <td>0</td>\n      <td>0</td>\n      <td>8</td>\n      <td>United-States</td>\n      <td>&lt;=50K</td>\n    </tr>\n    <tr>\n      <th>32553</th>\n      <td>26482</td>\n      <td>42</td>\n      <td>Self-emp-inc</td>\n      <td>443508</td>\n      <td>Doctorate</td>\n      <td>16</td>\n      <td>Married-civ-spouse</td>\n      <td>Prof-specialty</td>\n      <td>Husband</td>\n      <td>White</td>\n      <td>Male</td>\n      <td>0</td>\n      <td>0</td>\n      <td>45</td>\n      <td>United-States</td>\n      <td>&gt;50K</td>\n    </tr>\n  </tbody>\n</table>\n</div>"
     },
     "execution_count": 73,
     "metadata": {},
     "output_type": "execute_result"
    }
   ],
   "source": [
    "adult_df.sort_values('education-num').reset_index().iloc[0:32561:3617]"
   ]
  },
  {
   "cell_type": "markdown",
   "metadata": {},
   "source": [
    "# Boolean Masking"
   ]
  },
  {
   "cell_type": "code",
   "execution_count": 74,
   "metadata": {
    "ExecuteTime": {
     "end_time": "2024-05-15T07:18:46.425772Z",
     "start_time": "2024-05-15T07:18:46.391230Z"
    }
   },
   "outputs": [
    {
     "data": {
      "text/plain": "3        8\n7      128\n8      256\n9      512\n10    1024\ndtype: int64"
     },
     "execution_count": 74,
     "metadata": {},
     "output_type": "execute_result"
    }
   ],
   "source": [
    "twopowers_sr = pd.Series([1,2,4,8,16,32,64,128,256,512,1024])\n",
    "BM = [False,False,False,True,False,False,False,True,True,True,True]\n",
    "twopowers_sr[BM]"
   ]
  },
  {
   "cell_type": "code",
   "execution_count": 75,
   "metadata": {
    "ExecuteTime": {
     "end_time": "2024-05-15T07:18:50.352085Z",
     "start_time": "2024-05-15T07:18:50.319503Z"
    }
   },
   "outputs": [
    {
     "data": {
      "text/plain": "0     False\n1     False\n2     False\n3     False\n4     False\n5     False\n6     False\n7     False\n8     False\n9      True\n10     True\ndtype: bool"
     },
     "execution_count": 75,
     "metadata": {},
     "output_type": "execute_result"
    }
   ],
   "source": [
    "twopowers_sr >=500"
   ]
  },
  {
   "cell_type": "code",
   "execution_count": 76,
   "metadata": {
    "ExecuteTime": {
     "end_time": "2024-05-15T07:19:36.836964Z",
     "start_time": "2024-05-15T07:19:36.813593Z"
    }
   },
   "outputs": [
    {
     "data": {
      "text/plain": "9      512\n10    1024\ndtype: int64"
     },
     "execution_count": 76,
     "metadata": {},
     "output_type": "execute_result"
    }
   ],
   "source": [
    "BM = twopowers_sr >=500\n",
    "twopowers_sr[BM]"
   ]
  },
  {
   "cell_type": "code",
   "execution_count": 77,
   "metadata": {
    "ExecuteTime": {
     "end_time": "2024-05-15T07:19:38.302768Z",
     "start_time": "2024-05-15T07:19:38.284568Z"
    }
   },
   "outputs": [
    {
     "data": {
      "text/plain": "9      512\n10    1024\ndtype: int64"
     },
     "execution_count": 77,
     "metadata": {},
     "output_type": "execute_result"
    }
   ],
   "source": [
    "twopowers_sr[twopowers_sr >=500]"
   ]
  },
  {
   "cell_type": "code",
   "execution_count": 78,
   "metadata": {
    "ExecuteTime": {
     "end_time": "2024-05-15T07:20:19.650631Z",
     "start_time": "2024-05-15T07:20:19.616490Z"
    }
   },
   "outputs": [
    {
     "name": "stdout",
     "output_type": "stream",
     "text": [
      "Mean: 42.76470588235294\n",
      "Median: 41.0\n"
     ]
    }
   ],
   "source": [
    "BM = adult_df.education == 'Preschool'\n",
    "print('Mean: {}'.format(np.mean(adult_df[BM].age)))\n",
    "print('Median: {}'.format(np.median(adult_df[BM].age)))"
   ]
  },
  {
   "cell_type": "code",
   "execution_count": 79,
   "metadata": {
    "ExecuteTime": {
     "end_time": "2024-05-15T07:20:47.194108Z",
     "start_time": "2024-05-15T07:20:47.140349Z"
    }
   },
   "outputs": [
    {
     "name": "stdout",
     "output_type": "stream",
     "text": [
      "More than 10 years of education - Capital Gain: 2230.9397109166985\n",
      "Less than 10 years of education - Capital Gain: 492.25532059102613\n"
     ]
    }
   ],
   "source": [
    "BM1 = adult_df['education-num'] > 10\n",
    "BM2 = adult_df['education-num'] < 10\n",
    "\n",
    "print('More than 10 years of education - Capital Gain: {}'\n",
    "      .format(np.mean(adult_df[BM1].capitalGain)))\n",
    "print('Less than 10 years of education - Capital Gain: {}'\n",
    "      .format(np.mean(adult_df[BM2].capitalGain)))"
   ]
  },
  {
   "cell_type": "markdown",
   "metadata": {},
   "source": [
    "# Get to know a dataset"
   ]
  },
  {
   "cell_type": "code",
   "execution_count": 81,
   "metadata": {
    "ExecuteTime": {
     "end_time": "2024-05-15T07:21:33.389483Z",
     "start_time": "2024-05-15T07:21:33.371401Z"
    }
   },
   "outputs": [
    {
     "data": {
      "text/plain": "(32561, 15)"
     },
     "execution_count": 81,
     "metadata": {},
     "output_type": "execute_result"
    }
   ],
   "source": [
    "adult_df.shape"
   ]
  },
  {
   "cell_type": "code",
   "execution_count": 82,
   "metadata": {
    "ExecuteTime": {
     "end_time": "2024-05-15T07:21:34.898814Z",
     "start_time": "2024-05-15T07:21:34.860244Z"
    }
   },
   "outputs": [
    {
     "data": {
      "text/plain": "Index(['age', 'workclass', 'fnlwgt', 'education', 'education-num',\n       'marital-status', 'occupation', 'relationship', 'race', 'sex',\n       'capitalGain', 'capitalLoss', 'hoursPerWeek', 'nativeCountry',\n       'income'],\n      dtype='object')"
     },
     "execution_count": 82,
     "metadata": {},
     "output_type": "execute_result"
    }
   ],
   "source": [
    "adult_df.columns"
   ]
  },
  {
   "cell_type": "code",
   "execution_count": 86,
   "metadata": {
    "ExecuteTime": {
     "end_time": "2024-05-15T07:22:32.140794Z",
     "start_time": "2024-05-15T07:22:32.114819Z"
    }
   },
   "outputs": [],
   "source": [
    "adult_df.columns = ['age', 'workclass', 'fnlwgt', 'education', \n",
    "                    'education_num', 'marital_status', 'occupation',\n",
    "                    'relationship', 'race', 'sex', 'capitalGain',\n",
    "                    'capitalLoss', 'hoursPerWeek', 'nativeCountry',\n",
    "                    'income']"
   ]
  },
  {
   "cell_type": "code",
   "execution_count": 88,
   "outputs": [
    {
     "name": "stdout",
     "output_type": "stream",
     "text": [
      "<class 'pandas.core.frame.DataFrame'>\n",
      "Index: 32561 entries, 10000 to 42560\n",
      "Data columns (total 15 columns):\n",
      " #   Column          Non-Null Count  Dtype \n",
      "---  ------          --------------  ----- \n",
      " 0   age             32561 non-null  int64 \n",
      " 1   workclass       30725 non-null  object\n",
      " 2   fnlwgt          32561 non-null  int64 \n",
      " 3   education       32561 non-null  object\n",
      " 4   education_num   32561 non-null  int64 \n",
      " 5   marital_status  32561 non-null  object\n",
      " 6   occupation      30718 non-null  object\n",
      " 7   relationship    32561 non-null  object\n",
      " 8   race            32561 non-null  object\n",
      " 9   sex             32561 non-null  object\n",
      " 10  capitalGain     32561 non-null  int64 \n",
      " 11  capitalLoss     32561 non-null  int64 \n",
      " 12  hoursPerWeek    32561 non-null  int64 \n",
      " 13  nativeCountry   31978 non-null  object\n",
      " 14  income          32561 non-null  object\n",
      "dtypes: int64(6), object(9)\n",
      "memory usage: 5.0+ MB\n"
     ]
    }
   ],
   "source": [
    "adult_df.info()"
   ],
   "metadata": {
    "collapsed": false,
    "ExecuteTime": {
     "end_time": "2024-05-15T07:24:47.415985Z",
     "start_time": "2024-05-15T07:24:47.380006Z"
    }
   }
  },
  {
   "cell_type": "code",
   "execution_count": 84,
   "metadata": {
    "ExecuteTime": {
     "end_time": "2024-05-15T07:21:57.262372Z",
     "start_time": "2024-05-15T07:21:57.242820Z"
    }
   },
   "outputs": [
    {
     "data": {
      "text/plain": "                age        fnlwgt  education_num   capitalGain   capitalLoss  \\\ncount  32561.000000  3.256100e+04   32561.000000  32561.000000  32561.000000   \nmean      38.581647  1.897784e+05      10.080679   1077.648844     87.303830   \nstd       13.640433  1.055500e+05       2.572720   7385.292085    402.960219   \nmin       17.000000  1.228500e+04       1.000000      0.000000      0.000000   \n25%       28.000000  1.178270e+05       9.000000      0.000000      0.000000   \n50%       37.000000  1.783560e+05      10.000000      0.000000      0.000000   \n75%       48.000000  2.370510e+05      12.000000      0.000000      0.000000   \nmax       90.000000  1.484705e+06      16.000000  99999.000000   4356.000000   \n\n       hoursPerWeek  \ncount  32561.000000  \nmean      40.437456  \nstd       12.347429  \nmin        1.000000  \n25%       40.000000  \n50%       40.000000  \n75%       45.000000  \nmax       99.000000  ",
      "text/html": "<div>\n<style scoped>\n    .dataframe tbody tr th:only-of-type {\n        vertical-align: middle;\n    }\n\n    .dataframe tbody tr th {\n        vertical-align: top;\n    }\n\n    .dataframe thead th {\n        text-align: right;\n    }\n</style>\n<table border=\"1\" class=\"dataframe\">\n  <thead>\n    <tr style=\"text-align: right;\">\n      <th></th>\n      <th>age</th>\n      <th>fnlwgt</th>\n      <th>education_num</th>\n      <th>capitalGain</th>\n      <th>capitalLoss</th>\n      <th>hoursPerWeek</th>\n    </tr>\n  </thead>\n  <tbody>\n    <tr>\n      <th>count</th>\n      <td>32561.000000</td>\n      <td>3.256100e+04</td>\n      <td>32561.000000</td>\n      <td>32561.000000</td>\n      <td>32561.000000</td>\n      <td>32561.000000</td>\n    </tr>\n    <tr>\n      <th>mean</th>\n      <td>38.581647</td>\n      <td>1.897784e+05</td>\n      <td>10.080679</td>\n      <td>1077.648844</td>\n      <td>87.303830</td>\n      <td>40.437456</td>\n    </tr>\n    <tr>\n      <th>std</th>\n      <td>13.640433</td>\n      <td>1.055500e+05</td>\n      <td>2.572720</td>\n      <td>7385.292085</td>\n      <td>402.960219</td>\n      <td>12.347429</td>\n    </tr>\n    <tr>\n      <th>min</th>\n      <td>17.000000</td>\n      <td>1.228500e+04</td>\n      <td>1.000000</td>\n      <td>0.000000</td>\n      <td>0.000000</td>\n      <td>1.000000</td>\n    </tr>\n    <tr>\n      <th>25%</th>\n      <td>28.000000</td>\n      <td>1.178270e+05</td>\n      <td>9.000000</td>\n      <td>0.000000</td>\n      <td>0.000000</td>\n      <td>40.000000</td>\n    </tr>\n    <tr>\n      <th>50%</th>\n      <td>37.000000</td>\n      <td>1.783560e+05</td>\n      <td>10.000000</td>\n      <td>0.000000</td>\n      <td>0.000000</td>\n      <td>40.000000</td>\n    </tr>\n    <tr>\n      <th>75%</th>\n      <td>48.000000</td>\n      <td>2.370510e+05</td>\n      <td>12.000000</td>\n      <td>0.000000</td>\n      <td>0.000000</td>\n      <td>45.000000</td>\n    </tr>\n    <tr>\n      <th>max</th>\n      <td>90.000000</td>\n      <td>1.484705e+06</td>\n      <td>16.000000</td>\n      <td>99999.000000</td>\n      <td>4356.000000</td>\n      <td>99.000000</td>\n    </tr>\n  </tbody>\n</table>\n</div>"
     },
     "execution_count": 84,
     "metadata": {},
     "output_type": "execute_result"
    }
   ],
   "source": [
    "adult_df.describe()"
   ]
  },
  {
   "cell_type": "code",
   "execution_count": 85,
   "metadata": {
    "ExecuteTime": {
     "end_time": "2024-05-15T07:22:02.227801Z",
     "start_time": "2024-05-15T07:22:01.538974Z"
    }
   },
   "outputs": [
    {
     "data": {
      "text/plain": "<Axes: ylabel='Frequency'>"
     },
     "execution_count": 85,
     "metadata": {},
     "output_type": "execute_result"
    },
    {
     "data": {
      "text/plain": "<Figure size 640x480 with 1 Axes>",
      "image/png": "[encoded data removed]"
     },
     "metadata": {},
     "output_type": "display_data"
    }
   ],
   "source": [
    "adult_df.age.plot.hist()"
   ]
  },
  {
   "cell_type": "code",
   "execution_count": 89,
   "outputs": [
    {
     "data": {
      "text/plain": "<Axes: >"
     },
     "execution_count": 89,
     "metadata": {},
     "output_type": "execute_result"
    },
    {
     "data": {
      "text/plain": "<Figure size 640x480 with 1 Axes>",
      "image/png": "[encoded data removed]"
     },
     "metadata": {},
     "output_type": "display_data"
    }
   ],
   "source": [
    "adult_df.age.plot.box()"
   ],
   "metadata": {
    "collapsed": false,
    "ExecuteTime": {
     "end_time": "2024-05-15T07:26:39.035230Z",
     "start_time": "2024-05-15T07:26:38.981168Z"
    }
   }
  },
  {
   "cell_type": "code",
   "execution_count": 90,
   "metadata": {
    "ExecuteTime": {
     "end_time": "2024-05-15T07:27:08.850756Z",
     "start_time": "2024-05-15T07:27:08.830575Z"
    }
   },
   "outputs": [
    {
     "data": {
      "text/plain": "array(['Not-in-family', 'Husband', 'Wife', 'Own-child', 'Unmarried',\n       'Other-relative'], dtype=object)"
     },
     "execution_count": 90,
     "metadata": {},
     "output_type": "execute_result"
    }
   ],
   "source": [
    "adult_df.relationship.unique()"
   ]
  },
  {
   "cell_type": "code",
   "execution_count": 91,
   "metadata": {
    "ExecuteTime": {
     "end_time": "2024-05-15T07:27:21.359949Z",
     "start_time": "2024-05-15T07:27:21.336414Z"
    }
   },
   "outputs": [
    {
     "data": {
      "text/plain": "relationship\nHusband           13193\nNot-in-family      8305\nOwn-child          5068\nUnmarried          3446\nWife               1568\nOther-relative      981\nName: count, dtype: int64"
     },
     "execution_count": 91,
     "metadata": {},
     "output_type": "execute_result"
    }
   ],
   "source": [
    "adult_df.relationship.value_counts()"
   ]
  },
  {
   "cell_type": "code",
   "execution_count": 92,
   "metadata": {
    "ExecuteTime": {
     "end_time": "2024-05-15T07:27:29.059167Z",
     "start_time": "2024-05-15T07:27:28.983669Z"
    }
   },
   "outputs": [
    {
     "data": {
      "text/plain": "<Axes: xlabel='relationship'>"
     },
     "execution_count": 92,
     "metadata": {},
     "output_type": "execute_result"
    },
    {
     "data": {
      "text/plain": "<Figure size 640x480 with 1 Axes>",
      "image/png": "[encoded data removed]"
     },
     "metadata": {},
     "output_type": "display_data"
    }
   ],
   "source": [
    "adult_df.relationship.value_counts().plot.bar()"
   ]
  },
  {
   "cell_type": "markdown",
   "metadata": {},
   "source": [
    "# Appy a function"
   ]
  },
  {
   "cell_type": "code",
   "execution_count": 94,
   "metadata": {
    "ExecuteTime": {
     "end_time": "2024-05-15T07:29:18.414769Z",
     "start_time": "2024-05-15T07:29:18.333375Z"
    }
   },
   "outputs": [
    {
     "data": {
      "text/plain": "10000     78\n10001    100\n10002     76\n10003    106\n10004     56\n        ... \n42556     54\n42557     80\n42558    116\n42559     44\n42560    104\nName: age, Length: 32561, dtype: int64"
     },
     "execution_count": 94,
     "metadata": {},
     "output_type": "execute_result"
    }
   ],
   "source": [
    "def MultiplyBy2(n):\n",
    "    return n*2\n",
    "\n",
    "adult_df.age.apply(MultiplyBy2)"
   ]
  },
  {
   "cell_type": "markdown",
   "metadata": {},
   "source": [
    "### Applying a Function - Analytic Example 1\n",
    "Divide every value in column fnlwgt by the sum of all its values."
   ]
  },
  {
   "cell_type": "code",
   "execution_count": 95,
   "metadata": {
    "ExecuteTime": {
     "end_time": "2024-05-15T07:29:30.286076Z",
     "start_time": "2024-05-15T07:29:30.273394Z"
    }
   },
   "outputs": [
    {
     "data": {
      "text/plain": "       age         workclass    fnlwgt   education  education_num  \\\n10000   39         State-gov  0.001254   Bachelors             13   \n10001   50  Self-emp-not-inc  0.001348   Bachelors             13   \n10002   38           Private  0.003490     HS-grad              9   \n10003   53           Private  0.003798        11th              7   \n10004   28           Private  0.005476   Bachelors             13   \n...    ...               ...       ...         ...            ...   \n42556   27           Private  0.004164  Assoc-acdm             12   \n42557   40           Private  0.002498     HS-grad              9   \n42558   58           Private  0.002458     HS-grad              9   \n42559   22           Private  0.003261     HS-grad              9   \n42560   52      Self-emp-inc  0.004659     HS-grad              9   \n\n           marital_status         occupation   relationship   race     sex  \\\n10000       Never-married       Adm-clerical  Not-in-family  White    Male   \n10001  Married-civ-spouse    Exec-managerial        Husband  White    Male   \n10002            Divorced  Handlers-cleaners  Not-in-family  White    Male   \n10003  Married-civ-spouse  Handlers-cleaners        Husband  Black    Male   \n10004  Married-civ-spouse     Prof-specialty           Wife  Black  Female   \n...                   ...                ...            ...    ...     ...   \n42556  Married-civ-spouse       Tech-support           Wife  White  Female   \n42557  Married-civ-spouse  Machine-op-inspct        Husband  White    Male   \n42558             Widowed       Adm-clerical      Unmarried  White  Female   \n42559       Never-married       Adm-clerical      Own-child  White    Male   \n42560  Married-civ-spouse    Exec-managerial           Wife  White  Female   \n\n       capitalGain  capitalLoss  hoursPerWeek  nativeCountry income  \n10000         2174            0            40  United-States  <=50K  \n10001            0            0            13  United-States  <=50K  \n10002            0            0            40  United-States  <=50K  \n10003            0            0            40  United-States  <=50K  \n10004            0            0            40           Cuba  <=50K  \n...            ...          ...           ...            ...    ...  \n42556            0            0            38  United-States  <=50K  \n42557            0            0            40  United-States   >50K  \n42558            0            0            40  United-States  <=50K  \n42559            0            0            20  United-States  <=50K  \n42560        15024            0            40  United-States   >50K  \n\n[32561 rows x 15 columns]",
      "text/html": "<div>\n<style scoped>\n    .dataframe tbody tr th:only-of-type {\n        vertical-align: middle;\n    }\n\n    .dataframe tbody tr th {\n        vertical-align: top;\n    }\n\n    .dataframe thead th {\n        text-align: right;\n    }\n</style>\n<table border=\"1\" class=\"dataframe\">\n  <thead>\n    <tr style=\"text-align: right;\">\n      <th></th>\n      <th>age</th>\n      <th>workclass</th>\n      <th>fnlwgt</th>\n      <th>education</th>\n      <th>education_num</th>\n      <th>marital_status</th>\n      <th>occupation</th>\n      <th>relationship</th>\n      <th>race</th>\n      <th>sex</th>\n      <th>capitalGain</th>\n      <th>capitalLoss</th>\n      <th>hoursPerWeek</th>\n      <th>nativeCountry</th>\n      <th>income</th>\n    </tr>\n  </thead>\n  <tbody>\n    <tr>\n      <th>10000</th>\n      <td>39</td>\n      <td>State-gov</td>\n      <td>0.001254</td>\n      <td>Bachelors</td>\n      <td>13</td>\n      <td>Never-married</td>\n      <td>Adm-clerical</td>\n      <td>Not-in-family</td>\n      <td>White</td>\n      <td>Male</td>\n      <td>2174</td>\n      <td>0</td>\n      <td>40</td>\n      <td>United-States</td>\n      <td>&lt;=50K</td>\n    </tr>\n    <tr>\n      <th>10001</th>\n      <td>50</td>\n      <td>Self-emp-not-inc</td>\n      <td>0.001348</td>\n      <td>Bachelors</td>\n      <td>13</td>\n      <td>Married-civ-spouse</td>\n      <td>Exec-managerial</td>\n      <td>Husband</td>\n      <td>White</td>\n      <td>Male</td>\n      <td>0</td>\n      <td>0</td>\n      <td>13</td>\n      <td>United-States</td>\n      <td>&lt;=50K</td>\n    </tr>\n    <tr>\n      <th>10002</th>\n      <td>38</td>\n      <td>Private</td>\n      <td>0.003490</td>\n      <td>HS-grad</td>\n      <td>9</td>\n      <td>Divorced</td>\n      <td>Handlers-cleaners</td>\n      <td>Not-in-family</td>\n      <td>White</td>\n      <td>Male</td>\n      <td>0</td>\n      <td>0</td>\n      <td>40</td>\n      <td>United-States</td>\n      <td>&lt;=50K</td>\n    </tr>\n    <tr>\n      <th>10003</th>\n      <td>53</td>\n      <td>Private</td>\n      <td>0.003798</td>\n      <td>11th</td>\n      <td>7</td>\n      <td>Married-civ-spouse</td>\n      <td>Handlers-cleaners</td>\n      <td>Husband</td>\n      <td>Black</td>\n      <td>Male</td>\n      <td>0</td>\n      <td>0</td>\n      <td>40</td>\n      <td>United-States</td>\n      <td>&lt;=50K</td>\n    </tr>\n    <tr>\n      <th>10004</th>\n      <td>28</td>\n      <td>Private</td>\n      <td>0.005476</td>\n      <td>Bachelors</td>\n      <td>13</td>\n      <td>Married-civ-spouse</td>\n      <td>Prof-specialty</td>\n      <td>Wife</td>\n      <td>Black</td>\n      <td>Female</td>\n      <td>0</td>\n      <td>0</td>\n      <td>40</td>\n      <td>Cuba</td>\n      <td>&lt;=50K</td>\n    </tr>\n    <tr>\n      <th>...</th>\n      <td>...</td>\n      <td>...</td>\n      <td>...</td>\n      <td>...</td>\n      <td>...</td>\n      <td>...</td>\n      <td>...</td>\n      <td>...</td>\n      <td>...</td>\n      <td>...</td>\n      <td>...</td>\n      <td>...</td>\n      <td>...</td>\n      <td>...</td>\n      <td>...</td>\n    </tr>\n    <tr>\n      <th>42556</th>\n      <td>27</td>\n      <td>Private</td>\n      <td>0.004164</td>\n      <td>Assoc-acdm</td>\n      <td>12</td>\n      <td>Married-civ-spouse</td>\n      <td>Tech-support</td>\n      <td>Wife</td>\n      <td>White</td>\n      <td>Female</td>\n      <td>0</td>\n      <td>0</td>\n      <td>38</td>\n      <td>United-States</td>\n      <td>&lt;=50K</td>\n    </tr>\n    <tr>\n      <th>42557</th>\n      <td>40</td>\n      <td>Private</td>\n      <td>0.002498</td>\n      <td>HS-grad</td>\n      <td>9</td>\n      <td>Married-civ-spouse</td>\n      <td>Machine-op-inspct</td>\n      <td>Husband</td>\n      <td>White</td>\n      <td>Male</td>\n      <td>0</td>\n      <td>0</td>\n      <td>40</td>\n      <td>United-States</td>\n      <td>&gt;50K</td>\n    </tr>\n    <tr>\n      <th>42558</th>\n      <td>58</td>\n      <td>Private</td>\n      <td>0.002458</td>\n      <td>HS-grad</td>\n      <td>9</td>\n      <td>Widowed</td>\n      <td>Adm-clerical</td>\n      <td>Unmarried</td>\n      <td>White</td>\n      <td>Female</td>\n      <td>0</td>\n      <td>0</td>\n      <td>40</td>\n      <td>United-States</td>\n      <td>&lt;=50K</td>\n    </tr>\n    <tr>\n      <th>42559</th>\n      <td>22</td>\n      <td>Private</td>\n      <td>0.003261</td>\n      <td>HS-grad</td>\n      <td>9</td>\n      <td>Never-married</td>\n      <td>Adm-clerical</td>\n      <td>Own-child</td>\n      <td>White</td>\n      <td>Male</td>\n      <td>0</td>\n      <td>0</td>\n      <td>20</td>\n      <td>United-States</td>\n      <td>&lt;=50K</td>\n    </tr>\n    <tr>\n      <th>42560</th>\n      <td>52</td>\n      <td>Self-emp-inc</td>\n      <td>0.004659</td>\n      <td>HS-grad</td>\n      <td>9</td>\n      <td>Married-civ-spouse</td>\n      <td>Exec-managerial</td>\n      <td>Wife</td>\n      <td>White</td>\n      <td>Female</td>\n      <td>15024</td>\n      <td>0</td>\n      <td>40</td>\n      <td>United-States</td>\n      <td>&gt;50K</td>\n    </tr>\n  </tbody>\n</table>\n<p>32561 rows × 15 columns</p>\n</div>"
     },
     "execution_count": 95,
     "metadata": {},
     "output_type": "execute_result"
    }
   ],
   "source": [
    "total_fnlwgt = adult_df.fnlwgt.sum()\n",
    "\n",
    "def CalculatePercentage(v):\n",
    "    return v/total_fnlwgt*100\n",
    "\n",
    "adult_df.fnlwgt = adult_df.fnlwgt.apply(CalculatePercentage)\n",
    "adult_df"
   ]
  },
  {
   "cell_type": "code",
   "execution_count": 96,
   "metadata": {
    "ExecuteTime": {
     "end_time": "2024-05-15T07:30:26.480142Z",
     "start_time": "2024-05-15T07:30:26.436324Z"
    }
   },
   "outputs": [
    {
     "data": {
      "text/plain": "       age         workclass    fnlwgt   education  education_num  \\\n10000   39         State-gov  0.001254   Bachelors             13   \n10001   50  Self-emp-not-inc  0.001348   Bachelors             13   \n10002   38           Private  0.003490     HS-grad              9   \n10003   53           Private  0.003798        11th              7   \n10004   28           Private  0.005476   Bachelors             13   \n...    ...               ...       ...         ...            ...   \n42556   27           Private  0.004164  Assoc-acdm             12   \n42557   40           Private  0.002498     HS-grad              9   \n42558   58           Private  0.002458     HS-grad              9   \n42559   22           Private  0.003261     HS-grad              9   \n42560   52      Self-emp-inc  0.004659     HS-grad              9   \n\n           marital_status         occupation   relationship   race     sex  \\\n10000       Never-married       Adm-clerical  Not-in-family  White    Male   \n10001  Married-civ-spouse    Exec-managerial        Husband  White    Male   \n10002            Divorced  Handlers-cleaners  Not-in-family  White    Male   \n10003  Married-civ-spouse  Handlers-cleaners        Husband  Black    Male   \n10004  Married-civ-spouse     Prof-specialty           Wife  Black  Female   \n...                   ...                ...            ...    ...     ...   \n42556  Married-civ-spouse       Tech-support           Wife  White  Female   \n42557  Married-civ-spouse  Machine-op-inspct        Husband  White    Male   \n42558             Widowed       Adm-clerical      Unmarried  White  Female   \n42559       Never-married       Adm-clerical      Own-child  White    Male   \n42560  Married-civ-spouse    Exec-managerial           Wife  White  Female   \n\n       capitalGain  capitalLoss  hoursPerWeek  nativeCountry income  \n10000         2174            0            40  United-States  <=50K  \n10001            0            0            13  United-States  <=50K  \n10002            0            0            40  United-States  <=50K  \n10003            0            0            40  United-States  <=50K  \n10004            0            0            40           Cuba  <=50K  \n...            ...          ...           ...            ...    ...  \n42556            0            0            38  United-States  <=50K  \n42557            0            0            40  United-States   >50K  \n42558            0            0            40  United-States  <=50K  \n42559            0            0            20  United-States  <=50K  \n42560        15024            0            40  United-States   >50K  \n\n[32561 rows x 15 columns]",
      "text/html": "<div>\n<style scoped>\n    .dataframe tbody tr th:only-of-type {\n        vertical-align: middle;\n    }\n\n    .dataframe tbody tr th {\n        vertical-align: top;\n    }\n\n    .dataframe thead th {\n        text-align: right;\n    }\n</style>\n<table border=\"1\" class=\"dataframe\">\n  <thead>\n    <tr style=\"text-align: right;\">\n      <th></th>\n      <th>age</th>\n      <th>workclass</th>\n      <th>fnlwgt</th>\n      <th>education</th>\n      <th>education_num</th>\n      <th>marital_status</th>\n      <th>occupation</th>\n      <th>relationship</th>\n      <th>race</th>\n      <th>sex</th>\n      <th>capitalGain</th>\n      <th>capitalLoss</th>\n      <th>hoursPerWeek</th>\n      <th>nativeCountry</th>\n      <th>income</th>\n    </tr>\n  </thead>\n  <tbody>\n    <tr>\n      <th>10000</th>\n      <td>39</td>\n      <td>State-gov</td>\n      <td>0.001254</td>\n      <td>Bachelors</td>\n      <td>13</td>\n      <td>Never-married</td>\n      <td>Adm-clerical</td>\n      <td>Not-in-family</td>\n      <td>White</td>\n      <td>Male</td>\n      <td>2174</td>\n      <td>0</td>\n      <td>40</td>\n      <td>United-States</td>\n      <td>&lt;=50K</td>\n    </tr>\n    <tr>\n      <th>10001</th>\n      <td>50</td>\n      <td>Self-emp-not-inc</td>\n      <td>0.001348</td>\n      <td>Bachelors</td>\n      <td>13</td>\n      <td>Married-civ-spouse</td>\n      <td>Exec-managerial</td>\n      <td>Husband</td>\n      <td>White</td>\n      <td>Male</td>\n      <td>0</td>\n      <td>0</td>\n      <td>13</td>\n      <td>United-States</td>\n      <td>&lt;=50K</td>\n    </tr>\n    <tr>\n      <th>10002</th>\n      <td>38</td>\n      <td>Private</td>\n      <td>0.003490</td>\n      <td>HS-grad</td>\n      <td>9</td>\n      <td>Divorced</td>\n      <td>Handlers-cleaners</td>\n      <td>Not-in-family</td>\n      <td>White</td>\n      <td>Male</td>\n      <td>0</td>\n      <td>0</td>\n      <td>40</td>\n      <td>United-States</td>\n      <td>&lt;=50K</td>\n    </tr>\n    <tr>\n      <th>10003</th>\n      <td>53</td>\n      <td>Private</td>\n      <td>0.003798</td>\n      <td>11th</td>\n      <td>7</td>\n      <td>Married-civ-spouse</td>\n      <td>Handlers-cleaners</td>\n      <td>Husband</td>\n      <td>Black</td>\n      <td>Male</td>\n      <td>0</td>\n      <td>0</td>\n      <td>40</td>\n      <td>United-States</td>\n      <td>&lt;=50K</td>\n    </tr>\n    <tr>\n      <th>10004</th>\n      <td>28</td>\n      <td>Private</td>\n      <td>0.005476</td>\n      <td>Bachelors</td>\n      <td>13</td>\n      <td>Married-civ-spouse</td>\n      <td>Prof-specialty</td>\n      <td>Wife</td>\n      <td>Black</td>\n      <td>Female</td>\n      <td>0</td>\n      <td>0</td>\n      <td>40</td>\n      <td>Cuba</td>\n      <td>&lt;=50K</td>\n    </tr>\n    <tr>\n      <th>...</th>\n      <td>...</td>\n      <td>...</td>\n      <td>...</td>\n      <td>...</td>\n      <td>...</td>\n      <td>...</td>\n      <td>...</td>\n      <td>...</td>\n      <td>...</td>\n      <td>...</td>\n      <td>...</td>\n      <td>...</td>\n      <td>...</td>\n      <td>...</td>\n      <td>...</td>\n    </tr>\n    <tr>\n      <th>42556</th>\n      <td>27</td>\n      <td>Private</td>\n      <td>0.004164</td>\n      <td>Assoc-acdm</td>\n      <td>12</td>\n      <td>Married-civ-spouse</td>\n      <td>Tech-support</td>\n      <td>Wife</td>\n      <td>White</td>\n      <td>Female</td>\n      <td>0</td>\n      <td>0</td>\n      <td>38</td>\n      <td>United-States</td>\n      <td>&lt;=50K</td>\n    </tr>\n    <tr>\n      <th>42557</th>\n      <td>40</td>\n      <td>Private</td>\n      <td>0.002498</td>\n      <td>HS-grad</td>\n      <td>9</td>\n      <td>Married-civ-spouse</td>\n      <td>Machine-op-inspct</td>\n      <td>Husband</td>\n      <td>White</td>\n      <td>Male</td>\n      <td>0</td>\n      <td>0</td>\n      <td>40</td>\n      <td>United-States</td>\n      <td>&gt;50K</td>\n    </tr>\n    <tr>\n      <th>42558</th>\n      <td>58</td>\n      <td>Private</td>\n      <td>0.002458</td>\n      <td>HS-grad</td>\n      <td>9</td>\n      <td>Widowed</td>\n      <td>Adm-clerical</td>\n      <td>Unmarried</td>\n      <td>White</td>\n      <td>Female</td>\n      <td>0</td>\n      <td>0</td>\n      <td>40</td>\n      <td>United-States</td>\n      <td>&lt;=50K</td>\n    </tr>\n    <tr>\n      <th>42559</th>\n      <td>22</td>\n      <td>Private</td>\n      <td>0.003261</td>\n      <td>HS-grad</td>\n      <td>9</td>\n      <td>Never-married</td>\n      <td>Adm-clerical</td>\n      <td>Own-child</td>\n      <td>White</td>\n      <td>Male</td>\n      <td>0</td>\n      <td>0</td>\n      <td>20</td>\n      <td>United-States</td>\n      <td>&lt;=50K</td>\n    </tr>\n    <tr>\n      <th>42560</th>\n      <td>52</td>\n      <td>Self-emp-inc</td>\n      <td>0.004659</td>\n      <td>HS-grad</td>\n      <td>9</td>\n      <td>Married-civ-spouse</td>\n      <td>Exec-managerial</td>\n      <td>Wife</td>\n      <td>White</td>\n      <td>Female</td>\n      <td>15024</td>\n      <td>0</td>\n      <td>40</td>\n      <td>United-States</td>\n      <td>&gt;50K</td>\n    </tr>\n  </tbody>\n</table>\n<p>32561 rows × 15 columns</p>\n</div>"
     },
     "execution_count": 96,
     "metadata": {},
     "output_type": "execute_result"
    }
   ],
   "source": [
    "total_fnlwgt = adult_df.fnlwgt.sum()\n",
    "\n",
    "adult_df.fnlwgt = adult_df.fnlwgt.apply(lambda v: v/total_fnlwgt*100)\n",
    "adult_df"
   ]
  },
  {
   "cell_type": "code",
   "execution_count": 100,
   "metadata": {
    "ExecuteTime": {
     "end_time": "2024-05-15T07:44:22.374940Z",
     "start_time": "2024-05-15T07:44:22.203780Z"
    }
   },
   "outputs": [
    {
     "data": {
      "text/plain": "10000    26\n10001    37\n10002    29\n10003    46\n10004    15\n         ..\n42556    15\n42557    31\n42558    49\n42559    13\n42560    43\nLength: 32561, dtype: int64"
     },
     "execution_count": 100,
     "metadata": {},
     "output_type": "execute_result"
    }
   ],
   "source": [
    "def CalcLifeNoEd(row):\n",
    "    return row.iloc[0] - row.iloc[4]\n",
    "# axis=1 means row-wise\n",
    "adult_df.apply(CalcLifeNoEd,axis=1)"
   ]
  },
  {
   "cell_type": "code",
   "execution_count": 102,
   "metadata": {
    "ExecuteTime": {
     "end_time": "2024-05-15T07:44:53.726386Z",
     "start_time": "2024-05-15T07:44:53.557451Z"
    }
   },
   "outputs": [
    {
     "data": {
      "text/plain": "10000    26\n10001    37\n10002    29\n10003    46\n10004    15\n         ..\n42556    15\n42557    31\n42558    49\n42559    13\n42560    43\nLength: 32561, dtype: int64"
     },
     "execution_count": 102,
     "metadata": {},
     "output_type": "execute_result"
    }
   ],
   "source": [
    "adult_df.apply(lambda r: r.age-r.education_num,axis=1)"
   ]
  },
  {
   "cell_type": "code",
   "execution_count": 103,
   "metadata": {
    "ExecuteTime": {
     "end_time": "2024-05-15T07:45:25.969032Z",
     "start_time": "2024-05-15T07:45:25.656235Z"
    }
   },
   "outputs": [
    {
     "data": {
      "text/plain": "               education_num  lifeNoEd  capitalNet\neducation_num       1.000000 -0.150452    0.117891\nlifeNoEd           -0.150452  1.000000    0.051490\ncapitalNet          0.117891  0.051490    1.000000",
      "text/html": "<div>\n<style scoped>\n    .dataframe tbody tr th:only-of-type {\n        vertical-align: middle;\n    }\n\n    .dataframe tbody tr th {\n        vertical-align: top;\n    }\n\n    .dataframe thead th {\n        text-align: right;\n    }\n</style>\n<table border=\"1\" class=\"dataframe\">\n  <thead>\n    <tr style=\"text-align: right;\">\n      <th></th>\n      <th>education_num</th>\n      <th>lifeNoEd</th>\n      <th>capitalNet</th>\n    </tr>\n  </thead>\n  <tbody>\n    <tr>\n      <th>education_num</th>\n      <td>1.000000</td>\n      <td>-0.150452</td>\n      <td>0.117891</td>\n    </tr>\n    <tr>\n      <th>lifeNoEd</th>\n      <td>-0.150452</td>\n      <td>1.000000</td>\n      <td>0.051490</td>\n    </tr>\n    <tr>\n      <th>capitalNet</th>\n      <td>0.117891</td>\n      <td>0.051490</td>\n      <td>1.000000</td>\n    </tr>\n  </tbody>\n</table>\n</div>"
     },
     "execution_count": 103,
     "metadata": {},
     "output_type": "execute_result"
    }
   ],
   "source": [
    "adult_df['lifeNoEd'] = adult_df.apply(\n",
    "    lambda r: r.age-r.education_num,axis=1)\n",
    "\n",
    "adult_df['capitalNet'] = adult_df.apply(\n",
    "    lambda r: r.capitalGain - r.capitalLoss,axis=1)\n",
    "\n",
    "adult_df[['education_num','lifeNoEd','capitalNet']].corr()"
   ]
  },
  {
   "cell_type": "markdown",
   "metadata": {},
   "source": [
    "# Groupby"
   ]
  },
  {
   "cell_type": "code",
   "execution_count": 112,
   "outputs": [
    {
     "data": {
      "text/plain": "sex\nFemale    36.858230\nMale      39.433547\nName: age, dtype: float64"
     },
     "execution_count": 112,
     "metadata": {},
     "output_type": "execute_result"
    }
   ],
   "source": [
    "adult_df.groupby('sex').age.mean()"
   ],
   "metadata": {
    "collapsed": false,
    "ExecuteTime": {
     "end_time": "2024-05-15T07:50:06.395924Z",
     "start_time": "2024-05-15T07:50:06.356981Z"
    }
   }
  },
  {
   "cell_type": "code",
   "execution_count": 113,
   "metadata": {
    "ExecuteTime": {
     "end_time": "2024-05-15T07:50:14.476032Z",
     "start_time": "2024-05-15T07:50:14.427616Z"
    }
   },
   "outputs": [
    {
     "data": {
      "text/plain": "marital_status         sex   \nDivorced               Female    43.0\n                       Male      42.0\nMarried-AF-spouse      Female    31.0\n                       Male      29.0\nMarried-civ-spouse     Female    38.0\n                       Male      43.0\nMarried-spouse-absent  Female    39.0\n                       Male      41.0\nNever-married          Female    25.0\n                       Male      25.0\nSeparated              Female    39.0\n                       Male      38.0\nWidowed                Female    60.0\n                       Male      62.5\nName: age, dtype: float64"
     },
     "execution_count": 113,
     "metadata": {},
     "output_type": "execute_result"
    }
   ],
   "source": [
    "adult_df.groupby(['marital_status','sex']).age.median()"
   ]
  },
  {
   "cell_type": "code",
   "execution_count": 114,
   "metadata": {
    "ExecuteTime": {
     "end_time": "2024-05-15T07:50:56.551036Z",
     "start_time": "2024-05-15T07:50:56.508797Z"
    }
   },
   "outputs": [
    {
     "data": {
      "text/plain": "race                sex   \nAmer-Indian-Eskimo  Female     530.142857\n                    Male       628.864583\nAsian-Pac-Islander  Female     727.583815\n                    Male      1707.440115\nBlack               Female     471.142765\n                    Male       627.268324\nOther               Female     218.385321\n                    Male      1314.438272\nWhite               Female     508.219857\n                    Male      1266.413112\nName: capitalNet, dtype: float64"
     },
     "execution_count": 114,
     "metadata": {},
     "output_type": "execute_result"
    }
   ],
   "source": [
    "adult_df.groupby(['race','sex']).capitalNet.mean()"
   ]
  },
  {
   "cell_type": "code",
   "execution_count": 116,
   "metadata": {
    "scrolled": false,
    "ExecuteTime": {
     "end_time": "2024-05-15T07:59:06.290803Z",
     "start_time": "2024-05-15T07:59:06.231390Z"
    }
   },
   "outputs": [
    {
     "name": "stdout",
     "output_type": "stream",
     "text": [
      "MultiIndex([('Amer-Indian-Eskimo', 'Female'),\n",
      "            ('Amer-Indian-Eskimo',   'Male'),\n",
      "            ('Asian-Pac-Islander', 'Female'),\n",
      "            ('Asian-Pac-Islander',   'Male'),\n",
      "            (             'Black', 'Female'),\n",
      "            (             'Black',   'Male'),\n",
      "            (             'Other', 'Female'),\n",
      "            (             'Other',   'Male'),\n",
      "            (             'White', 'Female'),\n",
      "            (             'White',   'Male')],\n",
      "           names=['race', 'sex'])\n"
     ]
    }
   ],
   "source": [
    "grb_result =adult_df.groupby(['race','sex']).capitalNet.mean()\n",
    "\n",
    "print(grb_result.index)"
   ]
  },
  {
   "cell_type": "code",
   "execution_count": 118,
   "metadata": {
    "ExecuteTime": {
     "end_time": "2024-05-15T08:00:44.979815Z",
     "start_time": "2024-05-15T08:00:44.930207Z"
    }
   },
   "outputs": [
    {
     "data": {
      "text/plain": "race                sex   \nAmer-Indian-Eskimo  Female     530.142857\n                    Male       628.864583\nAsian-Pac-Islander  Female     727.583815\n                    Male      1707.440115\nBlack               Female     471.142765\n                    Male       627.268324\nOther               Female     218.385321\n                    Male      1314.438272\nWhite               Female     508.219857\n                    Male      1266.413112\nName: capitalNet, dtype: float64"
     },
     "execution_count": 118,
     "metadata": {},
     "output_type": "execute_result"
    }
   ],
   "source": [
    "grb_result =adult_df.groupby(['race','sex']).capitalNet.mean()\n",
    "grb_result"
   ]
  },
  {
   "cell_type": "code",
   "execution_count": 134,
   "outputs": [
    {
     "ename": "AttributeError",
     "evalue": "'Series' object has no attribute 'columns'",
     "output_type": "error",
     "traceback": [
      "\u001B[0;31m---------------------------------------------------------------------------\u001B[0m",
      "\u001B[0;31mAttributeError\u001B[0m                            Traceback (most recent call last)",
      "\u001B[0;32m/var/folders/l6/lzt7hk8j2873k3xp1_cpjcbh0000gn/T/ipykernel_41961/2694264052.py\u001B[0m in \u001B[0;36m?\u001B[0;34m()\u001B[0m\n\u001B[0;32m----> 1\u001B[0;31m \u001B[0mgrb_result\u001B[0m\u001B[0;34m.\u001B[0m\u001B[0mcolumns\u001B[0m\u001B[0;34m\u001B[0m\u001B[0;34m\u001B[0m\u001B[0m\n\u001B[0m",
      "\u001B[0;32m~/anaconda3/lib/python3.11/site-packages/pandas/core/generic.py\u001B[0m in \u001B[0;36m?\u001B[0;34m(self, name)\u001B[0m\n\u001B[1;32m   5985\u001B[0m             \u001B[0;32mand\u001B[0m \u001B[0mname\u001B[0m \u001B[0;32mnot\u001B[0m \u001B[0;32min\u001B[0m \u001B[0mself\u001B[0m\u001B[0;34m.\u001B[0m\u001B[0m_accessors\u001B[0m\u001B[0;34m\u001B[0m\u001B[0;34m\u001B[0m\u001B[0m\n\u001B[1;32m   5986\u001B[0m             \u001B[0;32mand\u001B[0m \u001B[0mself\u001B[0m\u001B[0;34m.\u001B[0m\u001B[0m_info_axis\u001B[0m\u001B[0;34m.\u001B[0m\u001B[0m_can_hold_identifiers_and_holds_name\u001B[0m\u001B[0;34m(\u001B[0m\u001B[0mname\u001B[0m\u001B[0;34m)\u001B[0m\u001B[0;34m\u001B[0m\u001B[0;34m\u001B[0m\u001B[0m\n\u001B[1;32m   5987\u001B[0m         ):\n\u001B[1;32m   5988\u001B[0m             \u001B[0;32mreturn\u001B[0m \u001B[0mself\u001B[0m\u001B[0;34m[\u001B[0m\u001B[0mname\u001B[0m\u001B[0;34m]\u001B[0m\u001B[0;34m\u001B[0m\u001B[0;34m\u001B[0m\u001B[0m\n\u001B[0;32m-> 5989\u001B[0;31m         \u001B[0;32mreturn\u001B[0m \u001B[0mobject\u001B[0m\u001B[0;34m.\u001B[0m\u001B[0m__getattribute__\u001B[0m\u001B[0;34m(\u001B[0m\u001B[0mself\u001B[0m\u001B[0;34m,\u001B[0m \u001B[0mname\u001B[0m\u001B[0;34m)\u001B[0m\u001B[0;34m\u001B[0m\u001B[0;34m\u001B[0m\u001B[0m\n\u001B[0m",
      "\u001B[0;31mAttributeError\u001B[0m: 'Series' object has no attribute 'columns'"
     ]
    }
   ],
   "source": [
    "# grb_result.columns"
   ],
   "metadata": {
    "collapsed": false,
    "ExecuteTime": {
     "end_time": "2024-05-15T08:08:59.381884Z",
     "start_time": "2024-05-15T08:08:59.323346Z"
    }
   }
  },
  {
   "cell_type": "code",
   "execution_count": 127,
   "metadata": {
    "ExecuteTime": {
     "end_time": "2024-05-15T08:05:22.857149Z",
     "start_time": "2024-05-15T08:05:22.780754Z"
    }
   },
   "outputs": [
    {
     "data": {
      "text/plain": "sex                     Female         Male\nrace                                       \nAmer-Indian-Eskimo  530.142857   628.864583\nAsian-Pac-Islander  727.583815  1707.440115\nBlack               471.142765   627.268324\nOther               218.385321  1314.438272\nWhite               508.219857  1266.413112",
      "text/html": "<div>\n<style scoped>\n    .dataframe tbody tr th:only-of-type {\n        vertical-align: middle;\n    }\n\n    .dataframe tbody tr th {\n        vertical-align: top;\n    }\n\n    .dataframe thead th {\n        text-align: right;\n    }\n</style>\n<table border=\"1\" class=\"dataframe\">\n  <thead>\n    <tr style=\"text-align: right;\">\n      <th>sex</th>\n      <th>Female</th>\n      <th>Male</th>\n    </tr>\n    <tr>\n      <th>race</th>\n      <th></th>\n      <th></th>\n    </tr>\n  </thead>\n  <tbody>\n    <tr>\n      <th>Amer-Indian-Eskimo</th>\n      <td>530.142857</td>\n      <td>628.864583</td>\n    </tr>\n    <tr>\n      <th>Asian-Pac-Islander</th>\n      <td>727.583815</td>\n      <td>1707.440115</td>\n    </tr>\n    <tr>\n      <th>Black</th>\n      <td>471.142765</td>\n      <td>627.268324</td>\n    </tr>\n    <tr>\n      <th>Other</th>\n      <td>218.385321</td>\n      <td>1314.438272</td>\n    </tr>\n    <tr>\n      <th>White</th>\n      <td>508.219857</td>\n      <td>1266.413112</td>\n    </tr>\n  </tbody>\n</table>\n</div>"
     },
     "execution_count": 127,
     "metadata": {},
     "output_type": "execute_result"
    }
   ],
   "source": [
    "grb_result.unstack()"
   ]
  },
  {
   "cell_type": "code",
   "execution_count": 128,
   "metadata": {
    "ExecuteTime": {
     "end_time": "2024-05-15T08:05:26.935005Z",
     "start_time": "2024-05-15T08:05:26.912559Z"
    }
   },
   "outputs": [
    {
     "data": {
      "text/plain": "race                sex     income\nAmer-Indian-Eskimo  Female  <=50K     0.001764\n                            >50K      0.002395\n                    Male    <=50K     0.002046\n                            >50K      0.001954\nAsian-Pac-Islander  Female  <=50K     0.002398\n                            >50K      0.002305\n                    Male    <=50K     0.002652\n                            >50K      0.002762\nBlack               Female  <=50K     0.003454\n                            >50K      0.003331\n                    Male    <=50K     0.003922\n                            >50K      0.003971\nOther               Female  <=50K     0.002803\n                            >50K      0.002593\n                    Male    <=50K     0.003478\n                            >50K      0.003310\nWhite               Female  <=50K     0.002969\n                            >50K      0.002978\n                    Male    <=50K     0.003074\n                            >50K      0.003025\nName: fnlwgt, dtype: float64"
     },
     "execution_count": 128,
     "metadata": {},
     "output_type": "execute_result"
    }
   ],
   "source": [
    "mlt_seris =adult_df.groupby(['race','sex','income']).fnlwgt.mean()\n",
    "mlt_seris"
   ]
  },
  {
   "cell_type": "code",
   "execution_count": 129,
   "metadata": {
    "ExecuteTime": {
     "end_time": "2024-05-15T08:05:30.754312Z",
     "start_time": "2024-05-15T08:05:30.727393Z"
    }
   },
   "outputs": [
    {
     "data": {
      "text/plain": "income                        <=50K      >50K\nrace               sex                       \nAmer-Indian-Eskimo Female  0.001764  0.002395\n                   Male    0.002046  0.001954\nAsian-Pac-Islander Female  0.002398  0.002305\n                   Male    0.002652  0.002762\nBlack              Female  0.003454  0.003331\n                   Male    0.003922  0.003971\nOther              Female  0.002803  0.002593\n                   Male    0.003478  0.003310\nWhite              Female  0.002969  0.002978\n                   Male    0.003074  0.003025",
      "text/html": "<div>\n<style scoped>\n    .dataframe tbody tr th:only-of-type {\n        vertical-align: middle;\n    }\n\n    .dataframe tbody tr th {\n        vertical-align: top;\n    }\n\n    .dataframe thead th {\n        text-align: right;\n    }\n</style>\n<table border=\"1\" class=\"dataframe\">\n  <thead>\n    <tr style=\"text-align: right;\">\n      <th></th>\n      <th>income</th>\n      <th>&lt;=50K</th>\n      <th>&gt;50K</th>\n    </tr>\n    <tr>\n      <th>race</th>\n      <th>sex</th>\n      <th></th>\n      <th></th>\n    </tr>\n  </thead>\n  <tbody>\n    <tr>\n      <th rowspan=\"2\" valign=\"top\">Amer-Indian-Eskimo</th>\n      <th>Female</th>\n      <td>0.001764</td>\n      <td>0.002395</td>\n    </tr>\n    <tr>\n      <th>Male</th>\n      <td>0.002046</td>\n      <td>0.001954</td>\n    </tr>\n    <tr>\n      <th rowspan=\"2\" valign=\"top\">Asian-Pac-Islander</th>\n      <th>Female</th>\n      <td>0.002398</td>\n      <td>0.002305</td>\n    </tr>\n    <tr>\n      <th>Male</th>\n      <td>0.002652</td>\n      <td>0.002762</td>\n    </tr>\n    <tr>\n      <th rowspan=\"2\" valign=\"top\">Black</th>\n      <th>Female</th>\n      <td>0.003454</td>\n      <td>0.003331</td>\n    </tr>\n    <tr>\n      <th>Male</th>\n      <td>0.003922</td>\n      <td>0.003971</td>\n    </tr>\n    <tr>\n      <th rowspan=\"2\" valign=\"top\">Other</th>\n      <th>Female</th>\n      <td>0.002803</td>\n      <td>0.002593</td>\n    </tr>\n    <tr>\n      <th>Male</th>\n      <td>0.003478</td>\n      <td>0.003310</td>\n    </tr>\n    <tr>\n      <th rowspan=\"2\" valign=\"top\">White</th>\n      <th>Female</th>\n      <td>0.002969</td>\n      <td>0.002978</td>\n    </tr>\n    <tr>\n      <th>Male</th>\n      <td>0.003074</td>\n      <td>0.003025</td>\n    </tr>\n  </tbody>\n</table>\n</div>"
     },
     "execution_count": 129,
     "metadata": {},
     "output_type": "execute_result"
    }
   ],
   "source": [
    "mlt_seris.unstack()"
   ]
  },
  {
   "cell_type": "code",
   "execution_count": 130,
   "metadata": {
    "ExecuteTime": {
     "end_time": "2024-05-15T08:06:03.378498Z",
     "start_time": "2024-05-15T08:06:03.352411Z"
    }
   },
   "outputs": [
    {
     "data": {
      "text/plain": "income                 <=50K                >50K          \nsex                   Female      Male    Female      Male\nrace                                                      \nAmer-Indian-Eskimo  0.001764  0.002046  0.002395  0.001954\nAsian-Pac-Islander  0.002398  0.002652  0.002305  0.002762\nBlack               0.003454  0.003922  0.003331  0.003971\nOther               0.002803  0.003478  0.002593  0.003310\nWhite               0.002969  0.003074  0.002978  0.003025",
      "text/html": "<div>\n<style scoped>\n    .dataframe tbody tr th:only-of-type {\n        vertical-align: middle;\n    }\n\n    .dataframe tbody tr th {\n        vertical-align: top;\n    }\n\n    .dataframe thead tr th {\n        text-align: left;\n    }\n\n    .dataframe thead tr:last-of-type th {\n        text-align: right;\n    }\n</style>\n<table border=\"1\" class=\"dataframe\">\n  <thead>\n    <tr>\n      <th>income</th>\n      <th colspan=\"2\" halign=\"left\">&lt;=50K</th>\n      <th colspan=\"2\" halign=\"left\">&gt;50K</th>\n    </tr>\n    <tr>\n      <th>sex</th>\n      <th>Female</th>\n      <th>Male</th>\n      <th>Female</th>\n      <th>Male</th>\n    </tr>\n    <tr>\n      <th>race</th>\n      <th></th>\n      <th></th>\n      <th></th>\n      <th></th>\n    </tr>\n  </thead>\n  <tbody>\n    <tr>\n      <th>Amer-Indian-Eskimo</th>\n      <td>0.001764</td>\n      <td>0.002046</td>\n      <td>0.002395</td>\n      <td>0.001954</td>\n    </tr>\n    <tr>\n      <th>Asian-Pac-Islander</th>\n      <td>0.002398</td>\n      <td>0.002652</td>\n      <td>0.002305</td>\n      <td>0.002762</td>\n    </tr>\n    <tr>\n      <th>Black</th>\n      <td>0.003454</td>\n      <td>0.003922</td>\n      <td>0.003331</td>\n      <td>0.003971</td>\n    </tr>\n    <tr>\n      <th>Other</th>\n      <td>0.002803</td>\n      <td>0.003478</td>\n      <td>0.002593</td>\n      <td>0.003310</td>\n    </tr>\n    <tr>\n      <th>White</th>\n      <td>0.002969</td>\n      <td>0.003074</td>\n      <td>0.002978</td>\n      <td>0.003025</td>\n    </tr>\n  </tbody>\n</table>\n</div>"
     },
     "execution_count": 130,
     "metadata": {},
     "output_type": "execute_result"
    }
   ],
   "source": [
    "mlt_seris.unstack().unstack()"
   ]
  },
  {
   "cell_type": "code",
   "execution_count": 131,
   "metadata": {
    "ExecuteTime": {
     "end_time": "2024-05-15T08:08:26.382065Z",
     "start_time": "2024-05-15T08:08:26.337682Z"
    }
   },
   "outputs": [
    {
     "data": {
      "text/plain": "MultiIndex([('<=50K', 'Female'),\n            ('<=50K',   'Male'),\n            ( '>50K', 'Female'),\n            ( '>50K',   'Male')],\n           names=['income', 'sex'])"
     },
     "execution_count": 131,
     "metadata": {},
     "output_type": "execute_result"
    }
   ],
   "source": [
    "mlt_df= mlt_seris.unstack().unstack()\n",
    "mlt_df.columns"
   ]
  },
  {
   "cell_type": "code",
   "execution_count": 135,
   "metadata": {
    "ExecuteTime": {
     "end_time": "2024-05-15T08:09:56.734498Z",
     "start_time": "2024-05-15T08:09:56.694623Z"
    }
   },
   "outputs": [
    {
     "data": {
      "text/plain": "income                        <=50K      >50K\nrace               sex                       \nAmer-Indian-Eskimo Female  0.001764  0.002395\n                   Male    0.002046  0.001954\nAsian-Pac-Islander Female  0.002398  0.002305\n                   Male    0.002652  0.002762\nBlack              Female  0.003454  0.003331\n                   Male    0.003922  0.003971\nOther              Female  0.002803  0.002593\n                   Male    0.003478  0.003310\nWhite              Female  0.002969  0.002978\n                   Male    0.003074  0.003025",
      "text/html": "<div>\n<style scoped>\n    .dataframe tbody tr th:only-of-type {\n        vertical-align: middle;\n    }\n\n    .dataframe tbody tr th {\n        vertical-align: top;\n    }\n\n    .dataframe thead th {\n        text-align: right;\n    }\n</style>\n<table border=\"1\" class=\"dataframe\">\n  <thead>\n    <tr style=\"text-align: right;\">\n      <th></th>\n      <th>income</th>\n      <th>&lt;=50K</th>\n      <th>&gt;50K</th>\n    </tr>\n    <tr>\n      <th>race</th>\n      <th>sex</th>\n      <th></th>\n      <th></th>\n    </tr>\n  </thead>\n  <tbody>\n    <tr>\n      <th rowspan=\"2\" valign=\"top\">Amer-Indian-Eskimo</th>\n      <th>Female</th>\n      <td>0.001764</td>\n      <td>0.002395</td>\n    </tr>\n    <tr>\n      <th>Male</th>\n      <td>0.002046</td>\n      <td>0.001954</td>\n    </tr>\n    <tr>\n      <th rowspan=\"2\" valign=\"top\">Asian-Pac-Islander</th>\n      <th>Female</th>\n      <td>0.002398</td>\n      <td>0.002305</td>\n    </tr>\n    <tr>\n      <th>Male</th>\n      <td>0.002652</td>\n      <td>0.002762</td>\n    </tr>\n    <tr>\n      <th rowspan=\"2\" valign=\"top\">Black</th>\n      <th>Female</th>\n      <td>0.003454</td>\n      <td>0.003331</td>\n    </tr>\n    <tr>\n      <th>Male</th>\n      <td>0.003922</td>\n      <td>0.003971</td>\n    </tr>\n    <tr>\n      <th rowspan=\"2\" valign=\"top\">Other</th>\n      <th>Female</th>\n      <td>0.002803</td>\n      <td>0.002593</td>\n    </tr>\n    <tr>\n      <th>Male</th>\n      <td>0.003478</td>\n      <td>0.003310</td>\n    </tr>\n    <tr>\n      <th rowspan=\"2\" valign=\"top\">White</th>\n      <th>Female</th>\n      <td>0.002969</td>\n      <td>0.002978</td>\n    </tr>\n    <tr>\n      <th>Male</th>\n      <td>0.003074</td>\n      <td>0.003025</td>\n    </tr>\n  </tbody>\n</table>\n</div>"
     },
     "execution_count": 135,
     "metadata": {},
     "output_type": "execute_result"
    }
   ],
   "source": [
    "mlt_df.stack()"
   ]
  },
  {
   "cell_type": "code",
   "execution_count": 136,
   "metadata": {
    "ExecuteTime": {
     "end_time": "2024-05-15T08:09:59.811285Z",
     "start_time": "2024-05-15T08:09:59.763704Z"
    }
   },
   "outputs": [
    {
     "data": {
      "text/plain": "race                sex     income\nAmer-Indian-Eskimo  Female  <=50K     0.001764\n                            >50K      0.002395\n                    Male    <=50K     0.002046\n                            >50K      0.001954\nAsian-Pac-Islander  Female  <=50K     0.002398\n                            >50K      0.002305\n                    Male    <=50K     0.002652\n                            >50K      0.002762\nBlack               Female  <=50K     0.003454\n                            >50K      0.003331\n                    Male    <=50K     0.003922\n                            >50K      0.003971\nOther               Female  <=50K     0.002803\n                            >50K      0.002593\n                    Male    <=50K     0.003478\n                            >50K      0.003310\nWhite               Female  <=50K     0.002969\n                            >50K      0.002978\n                    Male    <=50K     0.003074\n                            >50K      0.003025\ndtype: float64"
     },
     "execution_count": 136,
     "metadata": {},
     "output_type": "execute_result"
    }
   ],
   "source": [
    "mlt_df.stack().stack()"
   ]
  },
  {
   "cell_type": "markdown",
   "metadata": {},
   "source": [
    "# Pivot & Melt"
   ]
  },
  {
   "cell_type": "code",
   "execution_count": 137,
   "metadata": {
    "ExecuteTime": {
     "end_time": "2024-05-15T08:25:11.255112Z",
     "start_time": "2024-05-15T08:25:11.245792Z"
    }
   },
   "outputs": [
    {
     "data": {
      "text/plain": "    ReadingDateTime   NO   NO2   NOX  PM10  PM2.5\n0  01/01/2017 00:00  3.5  30.8  36.2  35.7   31.0\n1  01/01/2017 01:00  3.6  31.5  37.0  28.5   31.0\n2  01/01/2017 02:00  2.2  27.3  30.7  22.7   31.0",
      "text/html": "<div>\n<style scoped>\n    .dataframe tbody tr th:only-of-type {\n        vertical-align: middle;\n    }\n\n    .dataframe tbody tr th {\n        vertical-align: top;\n    }\n\n    .dataframe thead th {\n        text-align: right;\n    }\n</style>\n<table border=\"1\" class=\"dataframe\">\n  <thead>\n    <tr style=\"text-align: right;\">\n      <th></th>\n      <th>ReadingDateTime</th>\n      <th>NO</th>\n      <th>NO2</th>\n      <th>NOX</th>\n      <th>PM10</th>\n      <th>PM2.5</th>\n    </tr>\n  </thead>\n  <tbody>\n    <tr>\n      <th>0</th>\n      <td>01/01/2017 00:00</td>\n      <td>3.5</td>\n      <td>30.8</td>\n      <td>36.2</td>\n      <td>35.7</td>\n      <td>31.0</td>\n    </tr>\n    <tr>\n      <th>1</th>\n      <td>01/01/2017 01:00</td>\n      <td>3.6</td>\n      <td>31.5</td>\n      <td>37.0</td>\n      <td>28.5</td>\n      <td>31.0</td>\n    </tr>\n    <tr>\n      <th>2</th>\n      <td>01/01/2017 02:00</td>\n      <td>2.2</td>\n      <td>27.3</td>\n      <td>30.7</td>\n      <td>22.7</td>\n      <td>31.0</td>\n    </tr>\n  </tbody>\n</table>\n</div>"
     },
     "execution_count": 137,
     "metadata": {},
     "output_type": "execute_result"
    }
   ],
   "source": [
    "wide_df = pd.read_csv('wide.csv')\n",
    "wide_df"
   ]
  },
  {
   "cell_type": "code",
   "execution_count": 139,
   "metadata": {
    "ExecuteTime": {
     "end_time": "2024-05-15T08:26:53.785453Z",
     "start_time": "2024-05-15T08:26:53.741837Z"
    }
   },
   "outputs": [
    {
     "data": {
      "text/plain": "     ReadingDateTime Species  Value\n0   01/01/2017 00:00      NO    3.5\n1   01/01/2017 01:00      NO    3.6\n2   01/01/2017 02:00      NO    2.2\n3   01/01/2017 00:00     NO2   30.8\n4   01/01/2017 01:00     NO2   31.5\n5   01/01/2017 02:00     NO2   27.3\n6   01/01/2017 00:00     NOX   36.2\n7   01/01/2017 01:00     NOX   37.0\n8   01/01/2017 02:00     NOX   30.7\n9   01/01/2017 00:00    PM10   35.7\n10  01/01/2017 01:00    PM10   28.5\n11  01/01/2017 02:00    PM10   22.7\n12  01/01/2017 00:00   PM2.5   31.0\n13  01/01/2017 01:00   PM2.5   31.0\n14  01/01/2017 02:00   PM2.5   31.0",
      "text/html": "<div>\n<style scoped>\n    .dataframe tbody tr th:only-of-type {\n        vertical-align: middle;\n    }\n\n    .dataframe tbody tr th {\n        vertical-align: top;\n    }\n\n    .dataframe thead th {\n        text-align: right;\n    }\n</style>\n<table border=\"1\" class=\"dataframe\">\n  <thead>\n    <tr style=\"text-align: right;\">\n      <th></th>\n      <th>ReadingDateTime</th>\n      <th>Species</th>\n      <th>Value</th>\n    </tr>\n  </thead>\n  <tbody>\n    <tr>\n      <th>0</th>\n      <td>01/01/2017 00:00</td>\n      <td>NO</td>\n      <td>3.5</td>\n    </tr>\n    <tr>\n      <th>1</th>\n      <td>01/01/2017 01:00</td>\n      <td>NO</td>\n      <td>3.6</td>\n    </tr>\n    <tr>\n      <th>2</th>\n      <td>01/01/2017 02:00</td>\n      <td>NO</td>\n      <td>2.2</td>\n    </tr>\n    <tr>\n      <th>3</th>\n      <td>01/01/2017 00:00</td>\n      <td>NO2</td>\n      <td>30.8</td>\n    </tr>\n    <tr>\n      <th>4</th>\n      <td>01/01/2017 01:00</td>\n      <td>NO2</td>\n      <td>31.5</td>\n    </tr>\n    <tr>\n      <th>5</th>\n      <td>01/01/2017 02:00</td>\n      <td>NO2</td>\n      <td>27.3</td>\n    </tr>\n    <tr>\n      <th>6</th>\n      <td>01/01/2017 00:00</td>\n      <td>NOX</td>\n      <td>36.2</td>\n    </tr>\n    <tr>\n      <th>7</th>\n      <td>01/01/2017 01:00</td>\n      <td>NOX</td>\n      <td>37.0</td>\n    </tr>\n    <tr>\n      <th>8</th>\n      <td>01/01/2017 02:00</td>\n      <td>NOX</td>\n      <td>30.7</td>\n    </tr>\n    <tr>\n      <th>9</th>\n      <td>01/01/2017 00:00</td>\n      <td>PM10</td>\n      <td>35.7</td>\n    </tr>\n    <tr>\n      <th>10</th>\n      <td>01/01/2017 01:00</td>\n      <td>PM10</td>\n      <td>28.5</td>\n    </tr>\n    <tr>\n      <th>11</th>\n      <td>01/01/2017 02:00</td>\n      <td>PM10</td>\n      <td>22.7</td>\n    </tr>\n    <tr>\n      <th>12</th>\n      <td>01/01/2017 00:00</td>\n      <td>PM2.5</td>\n      <td>31.0</td>\n    </tr>\n    <tr>\n      <th>13</th>\n      <td>01/01/2017 01:00</td>\n      <td>PM2.5</td>\n      <td>31.0</td>\n    </tr>\n    <tr>\n      <th>14</th>\n      <td>01/01/2017 02:00</td>\n      <td>PM2.5</td>\n      <td>31.0</td>\n    </tr>\n  </tbody>\n</table>\n</div>"
     },
     "execution_count": 139,
     "metadata": {},
     "output_type": "execute_result"
    }
   ],
   "source": [
    "wide_df.melt(id_vars='ReadingDateTime',\n",
    "             value_vars=['NO','NO2','NOX','PM10','PM2.5'],\n",
    "             var_name='Species',\n",
    "             value_name='Value')"
   ]
  },
  {
   "cell_type": "code",
   "execution_count": 140,
   "metadata": {
    "ExecuteTime": {
     "end_time": "2024-05-15T08:26:58.968451Z",
     "start_time": "2024-05-15T08:26:58.945402Z"
    }
   },
   "outputs": [
    {
     "data": {
      "text/plain": "     ReadingDateTime Species  Value\n0   01/01/2017 00:00      NO    3.5\n1   01/01/2017 01:00      NO    3.6\n2   01/01/2017 02:00      NO    2.2\n3   01/01/2017 00:00     NO2   30.8\n4   01/01/2017 01:00     NO2   31.5\n5   01/01/2017 02:00     NO2   27.3\n6   01/01/2017 00:00     NOX   36.2\n7   01/01/2017 01:00     NOX   37.0\n8   01/01/2017 02:00     NOX   30.7\n9   01/01/2017 00:00    PM10   35.7\n10  01/01/2017 01:00    PM10   28.5\n11  01/01/2017 02:00    PM10   22.7\n12  01/01/2017 00:00   PM2.5   31.0\n13  01/01/2017 01:00   PM2.5   31.0\n14  01/01/2017 02:00   PM2.5   31.0",
      "text/html": "<div>\n<style scoped>\n    .dataframe tbody tr th:only-of-type {\n        vertical-align: middle;\n    }\n\n    .dataframe tbody tr th {\n        vertical-align: top;\n    }\n\n    .dataframe thead th {\n        text-align: right;\n    }\n</style>\n<table border=\"1\" class=\"dataframe\">\n  <thead>\n    <tr style=\"text-align: right;\">\n      <th></th>\n      <th>ReadingDateTime</th>\n      <th>Species</th>\n      <th>Value</th>\n    </tr>\n  </thead>\n  <tbody>\n    <tr>\n      <th>0</th>\n      <td>01/01/2017 00:00</td>\n      <td>NO</td>\n      <td>3.5</td>\n    </tr>\n    <tr>\n      <th>1</th>\n      <td>01/01/2017 01:00</td>\n      <td>NO</td>\n      <td>3.6</td>\n    </tr>\n    <tr>\n      <th>2</th>\n      <td>01/01/2017 02:00</td>\n      <td>NO</td>\n      <td>2.2</td>\n    </tr>\n    <tr>\n      <th>3</th>\n      <td>01/01/2017 00:00</td>\n      <td>NO2</td>\n      <td>30.8</td>\n    </tr>\n    <tr>\n      <th>4</th>\n      <td>01/01/2017 01:00</td>\n      <td>NO2</td>\n      <td>31.5</td>\n    </tr>\n    <tr>\n      <th>5</th>\n      <td>01/01/2017 02:00</td>\n      <td>NO2</td>\n      <td>27.3</td>\n    </tr>\n    <tr>\n      <th>6</th>\n      <td>01/01/2017 00:00</td>\n      <td>NOX</td>\n      <td>36.2</td>\n    </tr>\n    <tr>\n      <th>7</th>\n      <td>01/01/2017 01:00</td>\n      <td>NOX</td>\n      <td>37.0</td>\n    </tr>\n    <tr>\n      <th>8</th>\n      <td>01/01/2017 02:00</td>\n      <td>NOX</td>\n      <td>30.7</td>\n    </tr>\n    <tr>\n      <th>9</th>\n      <td>01/01/2017 00:00</td>\n      <td>PM10</td>\n      <td>35.7</td>\n    </tr>\n    <tr>\n      <th>10</th>\n      <td>01/01/2017 01:00</td>\n      <td>PM10</td>\n      <td>28.5</td>\n    </tr>\n    <tr>\n      <th>11</th>\n      <td>01/01/2017 02:00</td>\n      <td>PM10</td>\n      <td>22.7</td>\n    </tr>\n    <tr>\n      <th>12</th>\n      <td>01/01/2017 00:00</td>\n      <td>PM2.5</td>\n      <td>31.0</td>\n    </tr>\n    <tr>\n      <th>13</th>\n      <td>01/01/2017 01:00</td>\n      <td>PM2.5</td>\n      <td>31.0</td>\n    </tr>\n    <tr>\n      <th>14</th>\n      <td>01/01/2017 02:00</td>\n      <td>PM2.5</td>\n      <td>31.0</td>\n    </tr>\n  </tbody>\n</table>\n</div>"
     },
     "execution_count": 140,
     "metadata": {},
     "output_type": "execute_result"
    }
   ],
   "source": [
    "long_df = pd.read_csv('long.csv')\n",
    "long_df"
   ]
  },
  {
   "cell_type": "code",
   "execution_count": 141,
   "metadata": {
    "ExecuteTime": {
     "end_time": "2024-05-15T08:27:00.438535Z",
     "start_time": "2024-05-15T08:27:00.382343Z"
    }
   },
   "outputs": [
    {
     "data": {
      "text/plain": "Species            NO   NO2   NOX  PM10  PM2.5\nReadingDateTime                               \n01/01/2017 00:00  3.5  30.8  36.2  35.7   31.0\n01/01/2017 01:00  3.6  31.5  37.0  28.5   31.0\n01/01/2017 02:00  2.2  27.3  30.7  22.7   31.0",
      "text/html": "<div>\n<style scoped>\n    .dataframe tbody tr th:only-of-type {\n        vertical-align: middle;\n    }\n\n    .dataframe tbody tr th {\n        vertical-align: top;\n    }\n\n    .dataframe thead th {\n        text-align: right;\n    }\n</style>\n<table border=\"1\" class=\"dataframe\">\n  <thead>\n    <tr style=\"text-align: right;\">\n      <th>Species</th>\n      <th>NO</th>\n      <th>NO2</th>\n      <th>NOX</th>\n      <th>PM10</th>\n      <th>PM2.5</th>\n    </tr>\n    <tr>\n      <th>ReadingDateTime</th>\n      <th></th>\n      <th></th>\n      <th></th>\n      <th></th>\n      <th></th>\n    </tr>\n  </thead>\n  <tbody>\n    <tr>\n      <th>01/01/2017 00:00</th>\n      <td>3.5</td>\n      <td>30.8</td>\n      <td>36.2</td>\n      <td>35.7</td>\n      <td>31.0</td>\n    </tr>\n    <tr>\n      <th>01/01/2017 01:00</th>\n      <td>3.6</td>\n      <td>31.5</td>\n      <td>37.0</td>\n      <td>28.5</td>\n      <td>31.0</td>\n    </tr>\n    <tr>\n      <th>01/01/2017 02:00</th>\n      <td>2.2</td>\n      <td>27.3</td>\n      <td>30.7</td>\n      <td>22.7</td>\n      <td>31.0</td>\n    </tr>\n  </tbody>\n</table>\n</div>"
     },
     "execution_count": 141,
     "metadata": {},
     "output_type": "execute_result"
    }
   ],
   "source": [
    "long_df.pivot(index='ReadingDateTime',\n",
    "              columns='Species',\n",
    "              values='Value')"
   ]
  },
  {
   "cell_type": "code",
   "execution_count": 144,
   "outputs": [
    {
     "data": {
      "text/plain": "Species            NO   NO2   NOX  PM10  PM2.5\nReadingDateTime                               \n01/01/2017 00:00  3.5  30.8  36.2  35.7   31.0\n01/01/2017 01:00  3.6  31.5  37.0  28.5   31.0\n01/01/2017 02:00  2.2  27.3  30.7  22.7   31.0",
      "text/html": "<div>\n<style scoped>\n    .dataframe tbody tr th:only-of-type {\n        vertical-align: middle;\n    }\n\n    .dataframe tbody tr th {\n        vertical-align: top;\n    }\n\n    .dataframe thead th {\n        text-align: right;\n    }\n</style>\n<table border=\"1\" class=\"dataframe\">\n  <thead>\n    <tr style=\"text-align: right;\">\n      <th>Species</th>\n      <th>NO</th>\n      <th>NO2</th>\n      <th>NOX</th>\n      <th>PM10</th>\n      <th>PM2.5</th>\n    </tr>\n    <tr>\n      <th>ReadingDateTime</th>\n      <th></th>\n      <th></th>\n      <th></th>\n      <th></th>\n      <th></th>\n    </tr>\n  </thead>\n  <tbody>\n    <tr>\n      <th>01/01/2017 00:00</th>\n      <td>3.5</td>\n      <td>30.8</td>\n      <td>36.2</td>\n      <td>35.7</td>\n      <td>31.0</td>\n    </tr>\n    <tr>\n      <th>01/01/2017 01:00</th>\n      <td>3.6</td>\n      <td>31.5</td>\n      <td>37.0</td>\n      <td>28.5</td>\n      <td>31.0</td>\n    </tr>\n    <tr>\n      <th>01/01/2017 02:00</th>\n      <td>2.2</td>\n      <td>27.3</td>\n      <td>30.7</td>\n      <td>22.7</td>\n      <td>31.0</td>\n    </tr>\n  </tbody>\n</table>\n</div>"
     },
     "execution_count": 144,
     "metadata": {},
     "output_type": "execute_result"
    }
   ],
   "source": [
    "long_df_2 = long_df.pivot(index='ReadingDateTime',columns='Species', values='Value')\n",
    "long_df_2"
   ],
   "metadata": {
    "collapsed": false,
    "ExecuteTime": {
     "end_time": "2024-05-15T08:28:03.890294Z",
     "start_time": "2024-05-15T08:28:03.850085Z"
    }
   }
  },
  {
   "cell_type": "code",
   "execution_count": 149,
   "outputs": [],
   "source": [
    "long_df_2.reset_index(inplace=True)"
   ],
   "metadata": {
    "collapsed": false,
    "ExecuteTime": {
     "end_time": "2024-05-15T08:29:49.182036Z",
     "start_time": "2024-05-15T08:29:49.156246Z"
    }
   }
  },
  {
   "cell_type": "code",
   "execution_count": null,
   "outputs": [],
   "source": [],
   "metadata": {
    "collapsed": false
   }
  }
 ],
 "metadata": {
  "kernelspec": {
   "display_name": "Python 3",
   "language": "python",
   "name": "python3"
  },
  "language_info": {
   "codemirror_mode": {
    "name": "ipython",
    "version": 3
   },
   "file_extension": ".py",
   "mimetype": "text/x-python",
   "name": "python",
   "nbconvert_exporter": "python",
   "pygments_lexer": "ipython3",
   "version": "3.8.3"
  }
 },
 "nbformat": 4,
 "nbformat_minor": 4
}
