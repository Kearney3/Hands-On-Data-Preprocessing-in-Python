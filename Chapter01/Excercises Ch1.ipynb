{
 "cells": [
  {
   "cell_type": "markdown",
   "metadata": {},
   "source": [
    "# Hands-On Data Preprocessing in Python\n",
    "Learn how to effectively prepare data for successful data analytics\n",
    "    \n",
    "    AUTHOR: Dr. Roy Jafari \n",
    "\n",
    "### Chapter 1: Review of the core modules NumPy, Pandas, and Matplotlib"
   ]
  },
  {
   "cell_type": "markdown",
   "metadata": {},
   "source": [
    "##### Excercise 1\n",
    "Use the adult.csv dataset and run the codes shown in the following Screenshots. Then answer the questions."
   ]
  },
  {
   "cell_type": "code",
   "execution_count": 2,
   "metadata": {
    "ExecuteTime": {
     "end_time": "2024-05-15T08:33:09.887329Z",
     "start_time": "2024-05-15T08:33:09.829032Z"
    }
   },
   "outputs": [],
   "source": [
    "import pandas as pd\n",
    "import numpy as np\n",
    "adult_df = pd.read_csv('adult.csv')\n",
    "adult_df.set_index(np.arange(10000,42561),inplace=True)"
   ]
  },
  {
   "cell_type": "code",
   "execution_count": 4,
   "outputs": [
    {
     "name": "stdout",
     "output_type": "stream",
     "text": [
      "       age workclass\n",
      "10005   37   Private\n",
      "10006   49   Private\n",
      "       age         workclass  fnlwgt\n",
      "10005   37           Private  284582\n",
      "10006   49           Private  160187\n",
      "10007   52  Self-emp-not-inc  209642\n"
     ]
    }
   ],
   "source": [
    "print(adult_df.iloc[5:7,0:2])\n",
    "print(adult_df.loc['10005':'10007','age':'fnlwgt'])"
   ],
   "metadata": {
    "collapsed": false,
    "ExecuteTime": {
     "end_time": "2024-05-15T08:33:16.411395Z",
     "start_time": "2024-05-15T08:33:16.377354Z"
    }
   }
  },
  {
   "cell_type": "markdown",
   "metadata": {},
   "source": [
    "    a) Use the output to answer what is the difference in the behavior of .loc and .iloc when it comes to slicing.\n",
    "    b)\tWithout running but by only looking at the data, what will be the output of adult_df.loc['10000':'10003', 'relationship':'sex'].\n",
    "    c)\tWithout running but by only looking at the data, what will be the output of adult_df.iloc[0:3, 7:9].\n"
   ]
  },
  {
   "cell_type": "code",
   "execution_count": 6,
   "outputs": [
    {
     "data": {
      "text/plain": "       age         workclass  fnlwgt   education  education-num  \\\n10000   39         State-gov   77516   Bachelors             13   \n10001   50  Self-emp-not-inc   83311   Bachelors             13   \n10002   38           Private  215646     HS-grad              9   \n10003   53           Private  234721        11th              7   \n10004   28           Private  338409   Bachelors             13   \n...    ...               ...     ...         ...            ...   \n42556   27           Private  257302  Assoc-acdm             12   \n42557   40           Private  154374     HS-grad              9   \n42558   58           Private  151910     HS-grad              9   \n42559   22           Private  201490     HS-grad              9   \n42560   52      Self-emp-inc  287927     HS-grad              9   \n\n           marital-status         occupation   relationship   race     sex  \\\n10000       Never-married       Adm-clerical  Not-in-family  White    Male   \n10001  Married-civ-spouse    Exec-managerial        Husband  White    Male   \n10002            Divorced  Handlers-cleaners  Not-in-family  White    Male   \n10003  Married-civ-spouse  Handlers-cleaners        Husband  Black    Male   \n10004  Married-civ-spouse     Prof-specialty           Wife  Black  Female   \n...                   ...                ...            ...    ...     ...   \n42556  Married-civ-spouse       Tech-support           Wife  White  Female   \n42557  Married-civ-spouse  Machine-op-inspct        Husband  White    Male   \n42558             Widowed       Adm-clerical      Unmarried  White  Female   \n42559       Never-married       Adm-clerical      Own-child  White    Male   \n42560  Married-civ-spouse    Exec-managerial           Wife  White  Female   \n\n       capitalGain  capitalLoss  hoursPerWeek  nativeCountry income  \n10000         2174            0            40  United-States  <=50K  \n10001            0            0            13  United-States  <=50K  \n10002            0            0            40  United-States  <=50K  \n10003            0            0            40  United-States  <=50K  \n10004            0            0            40           Cuba  <=50K  \n...            ...          ...           ...            ...    ...  \n42556            0            0            38  United-States  <=50K  \n42557            0            0            40  United-States   >50K  \n42558            0            0            40  United-States  <=50K  \n42559            0            0            20  United-States  <=50K  \n42560        15024            0            40  United-States   >50K  \n\n[32561 rows x 15 columns]",
      "text/html": "<div>\n<style scoped>\n    .dataframe tbody tr th:only-of-type {\n        vertical-align: middle;\n    }\n\n    .dataframe tbody tr th {\n        vertical-align: top;\n    }\n\n    .dataframe thead th {\n        text-align: right;\n    }\n</style>\n<table border=\"1\" class=\"dataframe\">\n  <thead>\n    <tr style=\"text-align: right;\">\n      <th></th>\n      <th>age</th>\n      <th>workclass</th>\n      <th>fnlwgt</th>\n      <th>education</th>\n      <th>education-num</th>\n      <th>marital-status</th>\n      <th>occupation</th>\n      <th>relationship</th>\n      <th>race</th>\n      <th>sex</th>\n      <th>capitalGain</th>\n      <th>capitalLoss</th>\n      <th>hoursPerWeek</th>\n      <th>nativeCountry</th>\n      <th>income</th>\n    </tr>\n  </thead>\n  <tbody>\n    <tr>\n      <th>10000</th>\n      <td>39</td>\n      <td>State-gov</td>\n      <td>77516</td>\n      <td>Bachelors</td>\n      <td>13</td>\n      <td>Never-married</td>\n      <td>Adm-clerical</td>\n      <td>Not-in-family</td>\n      <td>White</td>\n      <td>Male</td>\n      <td>2174</td>\n      <td>0</td>\n      <td>40</td>\n      <td>United-States</td>\n      <td>&lt;=50K</td>\n    </tr>\n    <tr>\n      <th>10001</th>\n      <td>50</td>\n      <td>Self-emp-not-inc</td>\n      <td>83311</td>\n      <td>Bachelors</td>\n      <td>13</td>\n      <td>Married-civ-spouse</td>\n      <td>Exec-managerial</td>\n      <td>Husband</td>\n      <td>White</td>\n      <td>Male</td>\n      <td>0</td>\n      <td>0</td>\n      <td>13</td>\n      <td>United-States</td>\n      <td>&lt;=50K</td>\n    </tr>\n    <tr>\n      <th>10002</th>\n      <td>38</td>\n      <td>Private</td>\n      <td>215646</td>\n      <td>HS-grad</td>\n      <td>9</td>\n      <td>Divorced</td>\n      <td>Handlers-cleaners</td>\n      <td>Not-in-family</td>\n      <td>White</td>\n      <td>Male</td>\n      <td>0</td>\n      <td>0</td>\n      <td>40</td>\n      <td>United-States</td>\n      <td>&lt;=50K</td>\n    </tr>\n    <tr>\n      <th>10003</th>\n      <td>53</td>\n      <td>Private</td>\n      <td>234721</td>\n      <td>11th</td>\n      <td>7</td>\n      <td>Married-civ-spouse</td>\n      <td>Handlers-cleaners</td>\n      <td>Husband</td>\n      <td>Black</td>\n      <td>Male</td>\n      <td>0</td>\n      <td>0</td>\n      <td>40</td>\n      <td>United-States</td>\n      <td>&lt;=50K</td>\n    </tr>\n    <tr>\n      <th>10004</th>\n      <td>28</td>\n      <td>Private</td>\n      <td>338409</td>\n      <td>Bachelors</td>\n      <td>13</td>\n      <td>Married-civ-spouse</td>\n      <td>Prof-specialty</td>\n      <td>Wife</td>\n      <td>Black</td>\n      <td>Female</td>\n      <td>0</td>\n      <td>0</td>\n      <td>40</td>\n      <td>Cuba</td>\n      <td>&lt;=50K</td>\n    </tr>\n    <tr>\n      <th>...</th>\n      <td>...</td>\n      <td>...</td>\n      <td>...</td>\n      <td>...</td>\n      <td>...</td>\n      <td>...</td>\n      <td>...</td>\n      <td>...</td>\n      <td>...</td>\n      <td>...</td>\n      <td>...</td>\n      <td>...</td>\n      <td>...</td>\n      <td>...</td>\n      <td>...</td>\n    </tr>\n    <tr>\n      <th>42556</th>\n      <td>27</td>\n      <td>Private</td>\n      <td>257302</td>\n      <td>Assoc-acdm</td>\n      <td>12</td>\n      <td>Married-civ-spouse</td>\n      <td>Tech-support</td>\n      <td>Wife</td>\n      <td>White</td>\n      <td>Female</td>\n      <td>0</td>\n      <td>0</td>\n      <td>38</td>\n      <td>United-States</td>\n      <td>&lt;=50K</td>\n    </tr>\n    <tr>\n      <th>42557</th>\n      <td>40</td>\n      <td>Private</td>\n      <td>154374</td>\n      <td>HS-grad</td>\n      <td>9</td>\n      <td>Married-civ-spouse</td>\n      <td>Machine-op-inspct</td>\n      <td>Husband</td>\n      <td>White</td>\n      <td>Male</td>\n      <td>0</td>\n      <td>0</td>\n      <td>40</td>\n      <td>United-States</td>\n      <td>&gt;50K</td>\n    </tr>\n    <tr>\n      <th>42558</th>\n      <td>58</td>\n      <td>Private</td>\n      <td>151910</td>\n      <td>HS-grad</td>\n      <td>9</td>\n      <td>Widowed</td>\n      <td>Adm-clerical</td>\n      <td>Unmarried</td>\n      <td>White</td>\n      <td>Female</td>\n      <td>0</td>\n      <td>0</td>\n      <td>40</td>\n      <td>United-States</td>\n      <td>&lt;=50K</td>\n    </tr>\n    <tr>\n      <th>42559</th>\n      <td>22</td>\n      <td>Private</td>\n      <td>201490</td>\n      <td>HS-grad</td>\n      <td>9</td>\n      <td>Never-married</td>\n      <td>Adm-clerical</td>\n      <td>Own-child</td>\n      <td>White</td>\n      <td>Male</td>\n      <td>0</td>\n      <td>0</td>\n      <td>20</td>\n      <td>United-States</td>\n      <td>&lt;=50K</td>\n    </tr>\n    <tr>\n      <th>42560</th>\n      <td>52</td>\n      <td>Self-emp-inc</td>\n      <td>287927</td>\n      <td>HS-grad</td>\n      <td>9</td>\n      <td>Married-civ-spouse</td>\n      <td>Exec-managerial</td>\n      <td>Wife</td>\n      <td>White</td>\n      <td>Female</td>\n      <td>15024</td>\n      <td>0</td>\n      <td>40</td>\n      <td>United-States</td>\n      <td>&gt;50K</td>\n    </tr>\n  </tbody>\n</table>\n<p>32561 rows × 15 columns</p>\n</div>"
     },
     "execution_count": 6,
     "metadata": {},
     "output_type": "execute_result"
    }
   ],
   "source": [
    "adult_df"
   ],
   "metadata": {
    "collapsed": false,
    "ExecuteTime": {
     "end_time": "2024-05-15T08:34:23.346712Z",
     "start_time": "2024-05-15T08:34:23.335174Z"
    }
   }
  },
  {
   "cell_type": "code",
   "execution_count": 5,
   "metadata": {
    "ExecuteTime": {
     "end_time": "2024-05-15T08:34:09.371783Z",
     "start_time": "2024-05-15T08:34:09.334249Z"
    }
   },
   "outputs": [
    {
     "data": {
      "text/plain": "        relationship   race   sex\n10000  Not-in-family  White  Male\n10001        Husband  White  Male\n10002  Not-in-family  White  Male\n10003        Husband  Black  Male",
      "text/html": "<div>\n<style scoped>\n    .dataframe tbody tr th:only-of-type {\n        vertical-align: middle;\n    }\n\n    .dataframe tbody tr th {\n        vertical-align: top;\n    }\n\n    .dataframe thead th {\n        text-align: right;\n    }\n</style>\n<table border=\"1\" class=\"dataframe\">\n  <thead>\n    <tr style=\"text-align: right;\">\n      <th></th>\n      <th>relationship</th>\n      <th>race</th>\n      <th>sex</th>\n    </tr>\n  </thead>\n  <tbody>\n    <tr>\n      <th>10000</th>\n      <td>Not-in-family</td>\n      <td>White</td>\n      <td>Male</td>\n    </tr>\n    <tr>\n      <th>10001</th>\n      <td>Husband</td>\n      <td>White</td>\n      <td>Male</td>\n    </tr>\n    <tr>\n      <th>10002</th>\n      <td>Not-in-family</td>\n      <td>White</td>\n      <td>Male</td>\n    </tr>\n    <tr>\n      <th>10003</th>\n      <td>Husband</td>\n      <td>Black</td>\n      <td>Male</td>\n    </tr>\n  </tbody>\n</table>\n</div>"
     },
     "execution_count": 5,
     "metadata": {},
     "output_type": "execute_result"
    }
   ],
   "source": [
    "adult_df.loc['10000':'10003', 'relationship':'sex']"
   ]
  },
  {
   "cell_type": "code",
   "execution_count": 7,
   "outputs": [
    {
     "data": {
      "text/plain": "        relationship   race   sex\n10000  Not-in-family  White  Male\n10001        Husband  White  Male\n10002  Not-in-family  White  Male\n10003        Husband  Black  Male",
      "text/html": "<div>\n<style scoped>\n    .dataframe tbody tr th:only-of-type {\n        vertical-align: middle;\n    }\n\n    .dataframe tbody tr th {\n        vertical-align: top;\n    }\n\n    .dataframe thead th {\n        text-align: right;\n    }\n</style>\n<table border=\"1\" class=\"dataframe\">\n  <thead>\n    <tr style=\"text-align: right;\">\n      <th></th>\n      <th>relationship</th>\n      <th>race</th>\n      <th>sex</th>\n    </tr>\n  </thead>\n  <tbody>\n    <tr>\n      <th>10000</th>\n      <td>Not-in-family</td>\n      <td>White</td>\n      <td>Male</td>\n    </tr>\n    <tr>\n      <th>10001</th>\n      <td>Husband</td>\n      <td>White</td>\n      <td>Male</td>\n    </tr>\n    <tr>\n      <th>10002</th>\n      <td>Not-in-family</td>\n      <td>White</td>\n      <td>Male</td>\n    </tr>\n    <tr>\n      <th>10003</th>\n      <td>Husband</td>\n      <td>Black</td>\n      <td>Male</td>\n    </tr>\n  </tbody>\n</table>\n</div>"
     },
     "execution_count": 7,
     "metadata": {},
     "output_type": "execute_result"
    }
   ],
   "source": [
    "adult_df.loc[10000:10003, 'relationship':'sex']"
   ],
   "metadata": {
    "collapsed": false,
    "ExecuteTime": {
     "end_time": "2024-05-15T08:34:46.026053Z",
     "start_time": "2024-05-15T08:34:45.991782Z"
    }
   }
  },
  {
   "cell_type": "markdown",
   "metadata": {},
   "source": [
    "##### Excercise 2 \n",
    "\n",
    "For adult_df use the .groupby() function to run the following code and create the multi-index Series mlt_sr."
   ]
  },
  {
   "cell_type": "code",
   "execution_count": 8,
   "metadata": {
    "ExecuteTime": {
     "end_time": "2024-05-15T08:35:26.485494Z",
     "start_time": "2024-05-15T08:35:26.395150Z"
    }
   },
   "outputs": [
    {
     "data": {
      "text/plain": "race                sex     income\nAmer-Indian-Eskimo  Female  <=50K     109018.626168\n                            >50K      148012.000000\n                    Male    <=50K     126428.767857\n                            >50K      120721.541667\nAsian-Pac-Islander  Female  <=50K     148165.333333\n                            >50K      142426.093023\n                    Male    <=50K     163885.130435\n                            >50K      170698.347639\nBlack               Female  <=50K     213411.580205\n                            >50K      205806.033333\n                    Male    <=50K     242343.990566\n                            >50K      245390.356902\nOther               Female  <=50K     173235.932039\n                            >50K      160223.333333\n                    Male    <=50K     214891.832168\n                            >50K      204551.736842\nWhite               Female  <=50K     183485.120961\n                            >50K      184030.255837\n                    Male    <=50K     189950.465418\n                            >50K      186917.770077\nName: fnlwgt, dtype: float64"
     },
     "execution_count": 8,
     "metadata": {},
     "output_type": "execute_result"
    }
   ],
   "source": [
    "import pandas as pd\n",
    "\n",
    "adult_df = pd.read_csv('adult.csv')\n",
    "mlt_seris =adult_df.groupby(['race','sex','income']).fnlwgt.mean()\n",
    "mlt_seris"
   ]
  },
  {
   "cell_type": "markdown",
   "metadata": {},
   "source": [
    "Now that you have created a multi-index Series, run the following codes, study the outputs, and answer the questions.\n",
    "\n",
    "    a)\tRun the code below first and then answer the following. When we use .iloc[] for a multi-index Series or DataFrame, what we should expect?"
   ]
  },
  {
   "cell_type": "code",
   "execution_count": 9,
   "metadata": {
    "ExecuteTime": {
     "end_time": "2024-05-15T08:35:31.934443Z",
     "start_time": "2024-05-15T08:35:31.898660Z"
    }
   },
   "outputs": [
    {
     "name": "stdout",
     "output_type": "stream",
     "text": [
      "109018.6261682243\n",
      "148012.0\n",
      "126428.76785714286\n"
     ]
    }
   ],
   "source": [
    "print(mlt_seris.iloc[0])\n",
    "print(mlt_seris.iloc[1])\n",
    "print(mlt_seris.iloc[2])"
   ]
  },
  {
   "cell_type": "markdown",
   "metadata": {},
   "source": [
    "Answer: "
   ]
  },
  {
   "cell_type": "code",
   "execution_count": null,
   "metadata": {},
   "outputs": [],
   "source": []
  },
  {
   "cell_type": "markdown",
   "metadata": {},
   "source": [
    "    b)\tRun the code below first and then answer the following. When we use .loc[] to access the data of one of the inner most index level of multi-index Series, what should we expect?"
   ]
  },
  {
   "cell_type": "code",
   "execution_count": 19,
   "outputs": [
    {
     "data": {
      "text/plain": "MultiIndex([('Amer-Indian-Eskimo', 'Female', '<=50K'),\n            ('Amer-Indian-Eskimo', 'Female',  '>50K'),\n            ('Amer-Indian-Eskimo',   'Male', '<=50K'),\n            ('Amer-Indian-Eskimo',   'Male',  '>50K'),\n            ('Asian-Pac-Islander', 'Female', '<=50K'),\n            ('Asian-Pac-Islander', 'Female',  '>50K'),\n            ('Asian-Pac-Islander',   'Male', '<=50K'),\n            ('Asian-Pac-Islander',   'Male',  '>50K'),\n            (             'Black', 'Female', '<=50K'),\n            (             'Black', 'Female',  '>50K'),\n            (             'Black',   'Male', '<=50K'),\n            (             'Black',   'Male',  '>50K'),\n            (             'Other', 'Female', '<=50K'),\n            (             'Other', 'Female',  '>50K'),\n            (             'Other',   'Male', '<=50K'),\n            (             'Other',   'Male',  '>50K'),\n            (             'White', 'Female', '<=50K'),\n            (             'White', 'Female',  '>50K'),\n            (             'White',   'Male', '<=50K'),\n            (             'White',   'Male',  '>50K')],\n           names=['race', 'sex', 'income'])"
     },
     "execution_count": 19,
     "metadata": {},
     "output_type": "execute_result"
    }
   ],
   "source": [
    "mlt_seris.index"
   ],
   "metadata": {
    "collapsed": false,
    "ExecuteTime": {
     "end_time": "2024-05-15T08:40:49.720148Z",
     "start_time": "2024-05-15T08:40:49.711434Z"
    }
   }
  },
  {
   "cell_type": "code",
   "execution_count": 16,
   "metadata": {
    "ExecuteTime": {
     "end_time": "2024-05-15T08:40:06.870124Z",
     "start_time": "2024-05-15T08:40:06.853369Z"
    }
   },
   "outputs": [
    {
     "data": {
      "text/plain": "sex     income\nFemale  <=50K     173235.932039\n        >50K      160223.333333\nMale    <=50K     214891.832168\n        >50K      204551.736842\nName: fnlwgt, dtype: float64"
     },
     "execution_count": 16,
     "metadata": {},
     "output_type": "execute_result"
    }
   ],
   "source": [
    "mlt_seris.loc['Other']"
   ]
  },
  {
   "cell_type": "code",
   "execution_count": 21,
   "outputs": [
    {
     "data": {
      "text/plain": "race                sex   \nAmer-Indian-Eskimo  Female    109018.626168\n                    Male      126428.767857\nAsian-Pac-Islander  Female    148165.333333\n                    Male      163885.130435\nBlack               Female    213411.580205\n                    Male      242343.990566\nOther               Female    173235.932039\n                    Male      214891.832168\nWhite               Female    183485.120961\n                    Male      189950.465418\nName: fnlwgt, dtype: float64"
     },
     "execution_count": 21,
     "metadata": {},
     "output_type": "execute_result"
    }
   ],
   "source": [
    "mlt_seris.loc[:,:,'<=50K']"
   ],
   "metadata": {
    "collapsed": false,
    "ExecuteTime": {
     "end_time": "2024-05-15T08:41:41.741002Z",
     "start_time": "2024-05-15T08:41:41.700482Z"
    }
   }
  },
  {
   "cell_type": "markdown",
   "metadata": {},
   "source": [
    "Answer: "
   ]
  },
  {
   "cell_type": "code",
   "execution_count": null,
   "metadata": {},
   "outputs": [],
   "source": []
  },
  {
   "cell_type": "markdown",
   "metadata": {},
   "source": [
    "    c)\t Run the codes below first and then answer the following. When we use .loc[] to access the data of one of non inner most index level of multi-index Series, what should we expect? \n",
    "\n",
    "    When you run either line of code below, you will get an error and that is the point of this question. Study the error and try to answer the question. "
   ]
  },
  {
   "cell_type": "code",
   "execution_count": 22,
   "metadata": {
    "ExecuteTime": {
     "end_time": "2024-05-15T08:42:44.637573Z",
     "start_time": "2024-05-15T08:42:44.577968Z"
    }
   },
   "outputs": [
    {
     "ename": "KeyError",
     "evalue": "'Female'",
     "output_type": "error",
     "traceback": [
      "\u001B[0;31m---------------------------------------------------------------------------\u001B[0m",
      "\u001B[0;31mKeyError\u001B[0m                                  Traceback (most recent call last)",
      "File \u001B[0;32m~/anaconda3/lib/python3.11/site-packages/pandas/core/indexes/base.py:3653\u001B[0m, in \u001B[0;36mIndex.get_loc\u001B[0;34m(self, key)\u001B[0m\n\u001B[1;32m   3652\u001B[0m \u001B[38;5;28;01mtry\u001B[39;00m:\n\u001B[0;32m-> 3653\u001B[0m     \u001B[38;5;28;01mreturn\u001B[39;00m \u001B[38;5;28mself\u001B[39m\u001B[38;5;241m.\u001B[39m_engine\u001B[38;5;241m.\u001B[39mget_loc(casted_key)\n\u001B[1;32m   3654\u001B[0m \u001B[38;5;28;01mexcept\u001B[39;00m \u001B[38;5;167;01mKeyError\u001B[39;00m \u001B[38;5;28;01mas\u001B[39;00m err:\n",
      "File \u001B[0;32m~/anaconda3/lib/python3.11/site-packages/pandas/_libs/index.pyx:147\u001B[0m, in \u001B[0;36mpandas._libs.index.IndexEngine.get_loc\u001B[0;34m()\u001B[0m\n",
      "File \u001B[0;32m~/anaconda3/lib/python3.11/site-packages/pandas/_libs/index.pyx:176\u001B[0m, in \u001B[0;36mpandas._libs.index.IndexEngine.get_loc\u001B[0;34m()\u001B[0m\n",
      "File \u001B[0;32mpandas/_libs/hashtable_class_helper.pxi:7080\u001B[0m, in \u001B[0;36mpandas._libs.hashtable.PyObjectHashTable.get_item\u001B[0;34m()\u001B[0m\n",
      "File \u001B[0;32mpandas/_libs/hashtable_class_helper.pxi:7088\u001B[0m, in \u001B[0;36mpandas._libs.hashtable.PyObjectHashTable.get_item\u001B[0;34m()\u001B[0m\n",
      "\u001B[0;31mKeyError\u001B[0m: 'Female'",
      "\nThe above exception was the direct cause of the following exception:\n",
      "\u001B[0;31mKeyError\u001B[0m                                  Traceback (most recent call last)",
      "Cell \u001B[0;32mIn[22], line 1\u001B[0m\n\u001B[0;32m----> 1\u001B[0m mlt_seris\u001B[38;5;241m.\u001B[39mloc[\u001B[38;5;124m'\u001B[39m\u001B[38;5;124mFemale\u001B[39m\u001B[38;5;124m'\u001B[39m]\n",
      "File \u001B[0;32m~/anaconda3/lib/python3.11/site-packages/pandas/core/indexing.py:1103\u001B[0m, in \u001B[0;36m_LocationIndexer.__getitem__\u001B[0;34m(self, key)\u001B[0m\n\u001B[1;32m   1100\u001B[0m axis \u001B[38;5;241m=\u001B[39m \u001B[38;5;28mself\u001B[39m\u001B[38;5;241m.\u001B[39maxis \u001B[38;5;129;01mor\u001B[39;00m \u001B[38;5;241m0\u001B[39m\n\u001B[1;32m   1102\u001B[0m maybe_callable \u001B[38;5;241m=\u001B[39m com\u001B[38;5;241m.\u001B[39mapply_if_callable(key, \u001B[38;5;28mself\u001B[39m\u001B[38;5;241m.\u001B[39mobj)\n\u001B[0;32m-> 1103\u001B[0m \u001B[38;5;28;01mreturn\u001B[39;00m \u001B[38;5;28mself\u001B[39m\u001B[38;5;241m.\u001B[39m_getitem_axis(maybe_callable, axis\u001B[38;5;241m=\u001B[39maxis)\n",
      "File \u001B[0;32m~/anaconda3/lib/python3.11/site-packages/pandas/core/indexing.py:1343\u001B[0m, in \u001B[0;36m_LocIndexer._getitem_axis\u001B[0;34m(self, key, axis)\u001B[0m\n\u001B[1;32m   1341\u001B[0m \u001B[38;5;66;03m# fall thru to straight lookup\u001B[39;00m\n\u001B[1;32m   1342\u001B[0m \u001B[38;5;28mself\u001B[39m\u001B[38;5;241m.\u001B[39m_validate_key(key, axis)\n\u001B[0;32m-> 1343\u001B[0m \u001B[38;5;28;01mreturn\u001B[39;00m \u001B[38;5;28mself\u001B[39m\u001B[38;5;241m.\u001B[39m_get_label(key, axis\u001B[38;5;241m=\u001B[39maxis)\n",
      "File \u001B[0;32m~/anaconda3/lib/python3.11/site-packages/pandas/core/indexing.py:1293\u001B[0m, in \u001B[0;36m_LocIndexer._get_label\u001B[0;34m(self, label, axis)\u001B[0m\n\u001B[1;32m   1291\u001B[0m \u001B[38;5;28;01mdef\u001B[39;00m \u001B[38;5;21m_get_label\u001B[39m(\u001B[38;5;28mself\u001B[39m, label, axis: AxisInt):\n\u001B[1;32m   1292\u001B[0m     \u001B[38;5;66;03m# GH#5567 this will fail if the label is not present in the axis.\u001B[39;00m\n\u001B[0;32m-> 1293\u001B[0m     \u001B[38;5;28;01mreturn\u001B[39;00m \u001B[38;5;28mself\u001B[39m\u001B[38;5;241m.\u001B[39mobj\u001B[38;5;241m.\u001B[39mxs(label, axis\u001B[38;5;241m=\u001B[39maxis)\n",
      "File \u001B[0;32m~/anaconda3/lib/python3.11/site-packages/pandas/core/generic.py:4088\u001B[0m, in \u001B[0;36mNDFrame.xs\u001B[0;34m(self, key, axis, level, drop_level)\u001B[0m\n\u001B[1;32m   4085\u001B[0m     index \u001B[38;5;241m=\u001B[39m \u001B[38;5;28mself\u001B[39m\u001B[38;5;241m.\u001B[39mindex\n\u001B[1;32m   4087\u001B[0m \u001B[38;5;28;01mif\u001B[39;00m \u001B[38;5;28misinstance\u001B[39m(index, MultiIndex):\n\u001B[0;32m-> 4088\u001B[0m     loc, new_index \u001B[38;5;241m=\u001B[39m index\u001B[38;5;241m.\u001B[39m_get_loc_level(key, level\u001B[38;5;241m=\u001B[39m\u001B[38;5;241m0\u001B[39m)\n\u001B[1;32m   4089\u001B[0m     \u001B[38;5;28;01mif\u001B[39;00m \u001B[38;5;129;01mnot\u001B[39;00m drop_level:\n\u001B[1;32m   4090\u001B[0m         \u001B[38;5;28;01mif\u001B[39;00m lib\u001B[38;5;241m.\u001B[39mis_integer(loc):\n",
      "File \u001B[0;32m~/anaconda3/lib/python3.11/site-packages/pandas/core/indexes/multi.py:3059\u001B[0m, in \u001B[0;36mMultiIndex._get_loc_level\u001B[0;34m(self, key, level)\u001B[0m\n\u001B[1;32m   3057\u001B[0m         \u001B[38;5;28;01mreturn\u001B[39;00m indexer, maybe_mi_droplevels(indexer, ilevels)\n\u001B[1;32m   3058\u001B[0m \u001B[38;5;28;01melse\u001B[39;00m:\n\u001B[0;32m-> 3059\u001B[0m     indexer \u001B[38;5;241m=\u001B[39m \u001B[38;5;28mself\u001B[39m\u001B[38;5;241m.\u001B[39m_get_level_indexer(key, level\u001B[38;5;241m=\u001B[39mlevel)\n\u001B[1;32m   3060\u001B[0m     \u001B[38;5;28;01mif\u001B[39;00m (\n\u001B[1;32m   3061\u001B[0m         \u001B[38;5;28misinstance\u001B[39m(key, \u001B[38;5;28mstr\u001B[39m)\n\u001B[1;32m   3062\u001B[0m         \u001B[38;5;129;01mand\u001B[39;00m \u001B[38;5;28mself\u001B[39m\u001B[38;5;241m.\u001B[39mlevels[level]\u001B[38;5;241m.\u001B[39m_supports_partial_string_indexing\n\u001B[1;32m   3063\u001B[0m     ):\n\u001B[1;32m   3064\u001B[0m         \u001B[38;5;66;03m# check to see if we did an exact lookup vs sliced\u001B[39;00m\n\u001B[1;32m   3065\u001B[0m         check \u001B[38;5;241m=\u001B[39m \u001B[38;5;28mself\u001B[39m\u001B[38;5;241m.\u001B[39mlevels[level]\u001B[38;5;241m.\u001B[39mget_loc(key)\n",
      "File \u001B[0;32m~/anaconda3/lib/python3.11/site-packages/pandas/core/indexes/multi.py:3160\u001B[0m, in \u001B[0;36mMultiIndex._get_level_indexer\u001B[0;34m(self, key, level, indexer)\u001B[0m\n\u001B[1;32m   3157\u001B[0m         \u001B[38;5;28;01mreturn\u001B[39;00m \u001B[38;5;28mslice\u001B[39m(i, j, step)\n\u001B[1;32m   3159\u001B[0m \u001B[38;5;28;01melse\u001B[39;00m:\n\u001B[0;32m-> 3160\u001B[0m     idx \u001B[38;5;241m=\u001B[39m \u001B[38;5;28mself\u001B[39m\u001B[38;5;241m.\u001B[39m_get_loc_single_level_index(level_index, key)\n\u001B[1;32m   3162\u001B[0m     \u001B[38;5;28;01mif\u001B[39;00m level \u001B[38;5;241m>\u001B[39m \u001B[38;5;241m0\u001B[39m \u001B[38;5;129;01mor\u001B[39;00m \u001B[38;5;28mself\u001B[39m\u001B[38;5;241m.\u001B[39m_lexsort_depth \u001B[38;5;241m==\u001B[39m \u001B[38;5;241m0\u001B[39m:\n\u001B[1;32m   3163\u001B[0m         \u001B[38;5;66;03m# Desired level is not sorted\u001B[39;00m\n\u001B[1;32m   3164\u001B[0m         \u001B[38;5;28;01mif\u001B[39;00m \u001B[38;5;28misinstance\u001B[39m(idx, \u001B[38;5;28mslice\u001B[39m):\n\u001B[1;32m   3165\u001B[0m             \u001B[38;5;66;03m# test_get_loc_partial_timestamp_multiindex\u001B[39;00m\n",
      "File \u001B[0;32m~/anaconda3/lib/python3.11/site-packages/pandas/core/indexes/multi.py:2752\u001B[0m, in \u001B[0;36mMultiIndex._get_loc_single_level_index\u001B[0;34m(self, level_index, key)\u001B[0m\n\u001B[1;32m   2750\u001B[0m     \u001B[38;5;28;01mreturn\u001B[39;00m \u001B[38;5;241m-\u001B[39m\u001B[38;5;241m1\u001B[39m\n\u001B[1;32m   2751\u001B[0m \u001B[38;5;28;01melse\u001B[39;00m:\n\u001B[0;32m-> 2752\u001B[0m     \u001B[38;5;28;01mreturn\u001B[39;00m level_index\u001B[38;5;241m.\u001B[39mget_loc(key)\n",
      "File \u001B[0;32m~/anaconda3/lib/python3.11/site-packages/pandas/core/indexes/base.py:3655\u001B[0m, in \u001B[0;36mIndex.get_loc\u001B[0;34m(self, key)\u001B[0m\n\u001B[1;32m   3653\u001B[0m     \u001B[38;5;28;01mreturn\u001B[39;00m \u001B[38;5;28mself\u001B[39m\u001B[38;5;241m.\u001B[39m_engine\u001B[38;5;241m.\u001B[39mget_loc(casted_key)\n\u001B[1;32m   3654\u001B[0m \u001B[38;5;28;01mexcept\u001B[39;00m \u001B[38;5;167;01mKeyError\u001B[39;00m \u001B[38;5;28;01mas\u001B[39;00m err:\n\u001B[0;32m-> 3655\u001B[0m     \u001B[38;5;28;01mraise\u001B[39;00m \u001B[38;5;167;01mKeyError\u001B[39;00m(key) \u001B[38;5;28;01mfrom\u001B[39;00m \u001B[38;5;21;01merr\u001B[39;00m\n\u001B[1;32m   3656\u001B[0m \u001B[38;5;28;01mexcept\u001B[39;00m \u001B[38;5;167;01mTypeError\u001B[39;00m:\n\u001B[1;32m   3657\u001B[0m     \u001B[38;5;66;03m# If we have a listlike key, _check_indexing_error will raise\u001B[39;00m\n\u001B[1;32m   3658\u001B[0m     \u001B[38;5;66;03m#  InvalidIndexError. Otherwise we fall through and re-raise\u001B[39;00m\n\u001B[1;32m   3659\u001B[0m     \u001B[38;5;66;03m#  the TypeError.\u001B[39;00m\n\u001B[1;32m   3660\u001B[0m     \u001B[38;5;28mself\u001B[39m\u001B[38;5;241m.\u001B[39m_check_indexing_error(key)\n",
      "\u001B[0;31mKeyError\u001B[0m: 'Female'"
     ]
    }
   ],
   "source": [
    "mlt_seris.loc['Female']"
   ]
  },
  {
   "cell_type": "code",
   "execution_count": 23,
   "metadata": {
    "ExecuteTime": {
     "end_time": "2024-05-15T08:42:45.447889Z",
     "start_time": "2024-05-15T08:42:45.399027Z"
    }
   },
   "outputs": [
    {
     "ename": "KeyError",
     "evalue": "'<=50K'",
     "output_type": "error",
     "traceback": [
      "\u001B[0;31m---------------------------------------------------------------------------\u001B[0m",
      "\u001B[0;31mKeyError\u001B[0m                                  Traceback (most recent call last)",
      "File \u001B[0;32m~/anaconda3/lib/python3.11/site-packages/pandas/core/indexes/base.py:3653\u001B[0m, in \u001B[0;36mIndex.get_loc\u001B[0;34m(self, key)\u001B[0m\n\u001B[1;32m   3652\u001B[0m \u001B[38;5;28;01mtry\u001B[39;00m:\n\u001B[0;32m-> 3653\u001B[0m     \u001B[38;5;28;01mreturn\u001B[39;00m \u001B[38;5;28mself\u001B[39m\u001B[38;5;241m.\u001B[39m_engine\u001B[38;5;241m.\u001B[39mget_loc(casted_key)\n\u001B[1;32m   3654\u001B[0m \u001B[38;5;28;01mexcept\u001B[39;00m \u001B[38;5;167;01mKeyError\u001B[39;00m \u001B[38;5;28;01mas\u001B[39;00m err:\n",
      "File \u001B[0;32m~/anaconda3/lib/python3.11/site-packages/pandas/_libs/index.pyx:147\u001B[0m, in \u001B[0;36mpandas._libs.index.IndexEngine.get_loc\u001B[0;34m()\u001B[0m\n",
      "File \u001B[0;32m~/anaconda3/lib/python3.11/site-packages/pandas/_libs/index.pyx:176\u001B[0m, in \u001B[0;36mpandas._libs.index.IndexEngine.get_loc\u001B[0;34m()\u001B[0m\n",
      "File \u001B[0;32mpandas/_libs/hashtable_class_helper.pxi:7080\u001B[0m, in \u001B[0;36mpandas._libs.hashtable.PyObjectHashTable.get_item\u001B[0;34m()\u001B[0m\n",
      "File \u001B[0;32mpandas/_libs/hashtable_class_helper.pxi:7088\u001B[0m, in \u001B[0;36mpandas._libs.hashtable.PyObjectHashTable.get_item\u001B[0;34m()\u001B[0m\n",
      "\u001B[0;31mKeyError\u001B[0m: '<=50K'",
      "\nThe above exception was the direct cause of the following exception:\n",
      "\u001B[0;31mKeyError\u001B[0m                                  Traceback (most recent call last)",
      "Cell \u001B[0;32mIn[23], line 1\u001B[0m\n\u001B[0;32m----> 1\u001B[0m mlt_seris\u001B[38;5;241m.\u001B[39mloc[\u001B[38;5;124m'\u001B[39m\u001B[38;5;124m<=50K\u001B[39m\u001B[38;5;124m'\u001B[39m]\n",
      "File \u001B[0;32m~/anaconda3/lib/python3.11/site-packages/pandas/core/indexing.py:1103\u001B[0m, in \u001B[0;36m_LocationIndexer.__getitem__\u001B[0;34m(self, key)\u001B[0m\n\u001B[1;32m   1100\u001B[0m axis \u001B[38;5;241m=\u001B[39m \u001B[38;5;28mself\u001B[39m\u001B[38;5;241m.\u001B[39maxis \u001B[38;5;129;01mor\u001B[39;00m \u001B[38;5;241m0\u001B[39m\n\u001B[1;32m   1102\u001B[0m maybe_callable \u001B[38;5;241m=\u001B[39m com\u001B[38;5;241m.\u001B[39mapply_if_callable(key, \u001B[38;5;28mself\u001B[39m\u001B[38;5;241m.\u001B[39mobj)\n\u001B[0;32m-> 1103\u001B[0m \u001B[38;5;28;01mreturn\u001B[39;00m \u001B[38;5;28mself\u001B[39m\u001B[38;5;241m.\u001B[39m_getitem_axis(maybe_callable, axis\u001B[38;5;241m=\u001B[39maxis)\n",
      "File \u001B[0;32m~/anaconda3/lib/python3.11/site-packages/pandas/core/indexing.py:1343\u001B[0m, in \u001B[0;36m_LocIndexer._getitem_axis\u001B[0;34m(self, key, axis)\u001B[0m\n\u001B[1;32m   1341\u001B[0m \u001B[38;5;66;03m# fall thru to straight lookup\u001B[39;00m\n\u001B[1;32m   1342\u001B[0m \u001B[38;5;28mself\u001B[39m\u001B[38;5;241m.\u001B[39m_validate_key(key, axis)\n\u001B[0;32m-> 1343\u001B[0m \u001B[38;5;28;01mreturn\u001B[39;00m \u001B[38;5;28mself\u001B[39m\u001B[38;5;241m.\u001B[39m_get_label(key, axis\u001B[38;5;241m=\u001B[39maxis)\n",
      "File \u001B[0;32m~/anaconda3/lib/python3.11/site-packages/pandas/core/indexing.py:1293\u001B[0m, in \u001B[0;36m_LocIndexer._get_label\u001B[0;34m(self, label, axis)\u001B[0m\n\u001B[1;32m   1291\u001B[0m \u001B[38;5;28;01mdef\u001B[39;00m \u001B[38;5;21m_get_label\u001B[39m(\u001B[38;5;28mself\u001B[39m, label, axis: AxisInt):\n\u001B[1;32m   1292\u001B[0m     \u001B[38;5;66;03m# GH#5567 this will fail if the label is not present in the axis.\u001B[39;00m\n\u001B[0;32m-> 1293\u001B[0m     \u001B[38;5;28;01mreturn\u001B[39;00m \u001B[38;5;28mself\u001B[39m\u001B[38;5;241m.\u001B[39mobj\u001B[38;5;241m.\u001B[39mxs(label, axis\u001B[38;5;241m=\u001B[39maxis)\n",
      "File \u001B[0;32m~/anaconda3/lib/python3.11/site-packages/pandas/core/generic.py:4088\u001B[0m, in \u001B[0;36mNDFrame.xs\u001B[0;34m(self, key, axis, level, drop_level)\u001B[0m\n\u001B[1;32m   4085\u001B[0m     index \u001B[38;5;241m=\u001B[39m \u001B[38;5;28mself\u001B[39m\u001B[38;5;241m.\u001B[39mindex\n\u001B[1;32m   4087\u001B[0m \u001B[38;5;28;01mif\u001B[39;00m \u001B[38;5;28misinstance\u001B[39m(index, MultiIndex):\n\u001B[0;32m-> 4088\u001B[0m     loc, new_index \u001B[38;5;241m=\u001B[39m index\u001B[38;5;241m.\u001B[39m_get_loc_level(key, level\u001B[38;5;241m=\u001B[39m\u001B[38;5;241m0\u001B[39m)\n\u001B[1;32m   4089\u001B[0m     \u001B[38;5;28;01mif\u001B[39;00m \u001B[38;5;129;01mnot\u001B[39;00m drop_level:\n\u001B[1;32m   4090\u001B[0m         \u001B[38;5;28;01mif\u001B[39;00m lib\u001B[38;5;241m.\u001B[39mis_integer(loc):\n",
      "File \u001B[0;32m~/anaconda3/lib/python3.11/site-packages/pandas/core/indexes/multi.py:3059\u001B[0m, in \u001B[0;36mMultiIndex._get_loc_level\u001B[0;34m(self, key, level)\u001B[0m\n\u001B[1;32m   3057\u001B[0m         \u001B[38;5;28;01mreturn\u001B[39;00m indexer, maybe_mi_droplevels(indexer, ilevels)\n\u001B[1;32m   3058\u001B[0m \u001B[38;5;28;01melse\u001B[39;00m:\n\u001B[0;32m-> 3059\u001B[0m     indexer \u001B[38;5;241m=\u001B[39m \u001B[38;5;28mself\u001B[39m\u001B[38;5;241m.\u001B[39m_get_level_indexer(key, level\u001B[38;5;241m=\u001B[39mlevel)\n\u001B[1;32m   3060\u001B[0m     \u001B[38;5;28;01mif\u001B[39;00m (\n\u001B[1;32m   3061\u001B[0m         \u001B[38;5;28misinstance\u001B[39m(key, \u001B[38;5;28mstr\u001B[39m)\n\u001B[1;32m   3062\u001B[0m         \u001B[38;5;129;01mand\u001B[39;00m \u001B[38;5;28mself\u001B[39m\u001B[38;5;241m.\u001B[39mlevels[level]\u001B[38;5;241m.\u001B[39m_supports_partial_string_indexing\n\u001B[1;32m   3063\u001B[0m     ):\n\u001B[1;32m   3064\u001B[0m         \u001B[38;5;66;03m# check to see if we did an exact lookup vs sliced\u001B[39;00m\n\u001B[1;32m   3065\u001B[0m         check \u001B[38;5;241m=\u001B[39m \u001B[38;5;28mself\u001B[39m\u001B[38;5;241m.\u001B[39mlevels[level]\u001B[38;5;241m.\u001B[39mget_loc(key)\n",
      "File \u001B[0;32m~/anaconda3/lib/python3.11/site-packages/pandas/core/indexes/multi.py:3160\u001B[0m, in \u001B[0;36mMultiIndex._get_level_indexer\u001B[0;34m(self, key, level, indexer)\u001B[0m\n\u001B[1;32m   3157\u001B[0m         \u001B[38;5;28;01mreturn\u001B[39;00m \u001B[38;5;28mslice\u001B[39m(i, j, step)\n\u001B[1;32m   3159\u001B[0m \u001B[38;5;28;01melse\u001B[39;00m:\n\u001B[0;32m-> 3160\u001B[0m     idx \u001B[38;5;241m=\u001B[39m \u001B[38;5;28mself\u001B[39m\u001B[38;5;241m.\u001B[39m_get_loc_single_level_index(level_index, key)\n\u001B[1;32m   3162\u001B[0m     \u001B[38;5;28;01mif\u001B[39;00m level \u001B[38;5;241m>\u001B[39m \u001B[38;5;241m0\u001B[39m \u001B[38;5;129;01mor\u001B[39;00m \u001B[38;5;28mself\u001B[39m\u001B[38;5;241m.\u001B[39m_lexsort_depth \u001B[38;5;241m==\u001B[39m \u001B[38;5;241m0\u001B[39m:\n\u001B[1;32m   3163\u001B[0m         \u001B[38;5;66;03m# Desired level is not sorted\u001B[39;00m\n\u001B[1;32m   3164\u001B[0m         \u001B[38;5;28;01mif\u001B[39;00m \u001B[38;5;28misinstance\u001B[39m(idx, \u001B[38;5;28mslice\u001B[39m):\n\u001B[1;32m   3165\u001B[0m             \u001B[38;5;66;03m# test_get_loc_partial_timestamp_multiindex\u001B[39;00m\n",
      "File \u001B[0;32m~/anaconda3/lib/python3.11/site-packages/pandas/core/indexes/multi.py:2752\u001B[0m, in \u001B[0;36mMultiIndex._get_loc_single_level_index\u001B[0;34m(self, level_index, key)\u001B[0m\n\u001B[1;32m   2750\u001B[0m     \u001B[38;5;28;01mreturn\u001B[39;00m \u001B[38;5;241m-\u001B[39m\u001B[38;5;241m1\u001B[39m\n\u001B[1;32m   2751\u001B[0m \u001B[38;5;28;01melse\u001B[39;00m:\n\u001B[0;32m-> 2752\u001B[0m     \u001B[38;5;28;01mreturn\u001B[39;00m level_index\u001B[38;5;241m.\u001B[39mget_loc(key)\n",
      "File \u001B[0;32m~/anaconda3/lib/python3.11/site-packages/pandas/core/indexes/base.py:3655\u001B[0m, in \u001B[0;36mIndex.get_loc\u001B[0;34m(self, key)\u001B[0m\n\u001B[1;32m   3653\u001B[0m     \u001B[38;5;28;01mreturn\u001B[39;00m \u001B[38;5;28mself\u001B[39m\u001B[38;5;241m.\u001B[39m_engine\u001B[38;5;241m.\u001B[39mget_loc(casted_key)\n\u001B[1;32m   3654\u001B[0m \u001B[38;5;28;01mexcept\u001B[39;00m \u001B[38;5;167;01mKeyError\u001B[39;00m \u001B[38;5;28;01mas\u001B[39;00m err:\n\u001B[0;32m-> 3655\u001B[0m     \u001B[38;5;28;01mraise\u001B[39;00m \u001B[38;5;167;01mKeyError\u001B[39;00m(key) \u001B[38;5;28;01mfrom\u001B[39;00m \u001B[38;5;21;01merr\u001B[39;00m\n\u001B[1;32m   3656\u001B[0m \u001B[38;5;28;01mexcept\u001B[39;00m \u001B[38;5;167;01mTypeError\u001B[39;00m:\n\u001B[1;32m   3657\u001B[0m     \u001B[38;5;66;03m# If we have a listlike key, _check_indexing_error will raise\u001B[39;00m\n\u001B[1;32m   3658\u001B[0m     \u001B[38;5;66;03m#  InvalidIndexError. Otherwise we fall through and re-raise\u001B[39;00m\n\u001B[1;32m   3659\u001B[0m     \u001B[38;5;66;03m#  the TypeError.\u001B[39;00m\n\u001B[1;32m   3660\u001B[0m     \u001B[38;5;28mself\u001B[39m\u001B[38;5;241m.\u001B[39m_check_indexing_error(key)\n",
      "\u001B[0;31mKeyError\u001B[0m: '<=50K'"
     ]
    }
   ],
   "source": [
    "mlt_seris.loc['<=50K']"
   ]
  },
  {
   "cell_type": "markdown",
   "metadata": {},
   "source": [
    "Answer: "
   ]
  },
  {
   "cell_type": "code",
   "execution_count": null,
   "metadata": {},
   "outputs": [],
   "source": []
  },
  {
   "cell_type": "markdown",
   "metadata": {},
   "source": [
    "    d)\tRun the codes below first and then answer the following. How is using .loc[] or .iloc[] different when working with a multi-index Series or a DataFrame?\n"
   ]
  },
  {
   "cell_type": "code",
   "execution_count": 24,
   "metadata": {
    "ExecuteTime": {
     "end_time": "2024-05-15T08:42:51.553189Z",
     "start_time": "2024-05-15T08:42:51.517150Z"
    }
   },
   "outputs": [
    {
     "name": "stdout",
     "output_type": "stream",
     "text": [
      "173235.93203883496\n",
      "173235.93203883496\n"
     ]
    }
   ],
   "source": [
    "print(mlt_seris.loc['Other']['Female']['<=50K'])\n",
    "print(mlt_seris.iloc[12])"
   ]
  },
  {
   "cell_type": "markdown",
   "metadata": {},
   "source": [
    "Answer: "
   ]
  },
  {
   "cell_type": "code",
   "execution_count": null,
   "metadata": {},
   "outputs": [],
   "source": []
  },
  {
   "cell_type": "markdown",
   "metadata": {},
   "source": [
    "##### Excercise 3\n",
    "For this exercise you need to use a new dataset: billboard.csv. Visit https://www.billboard.com/charts/hot-100 and see the latest song rankings of the day. This dataset presents information and ranking of 317 song tracks in 80 columns. The first four columns are artist, track, time, and date_e. The first columns are intuitive descriptions of song tracks. The column date_e shows the date that the songs entered the hot-100 list. The rest of 76 columns are songs ranking at the end of each weeks from 'w1' to 'w76'. Download and read this dataset using pandas and answer the following questions."
   ]
  },
  {
   "cell_type": "code",
   "execution_count": 25,
   "metadata": {
    "ExecuteTime": {
     "end_time": "2024-05-15T08:44:23.556473Z",
     "start_time": "2024-05-15T08:44:23.520949Z"
    }
   },
   "outputs": [
    {
     "data": {
      "text/plain": "                artist                                  track  time  \\\n0      Destiny's Child               Independent Women Part I  3:38   \n1              Santana                           Maria, Maria  4:18   \n2        Savage Garden                     I Knew I Loved You  4:07   \n3              Madonna                                  Music  3:45   \n4  Aguilera, Christina  Come On Over Baby (All I Want Is You)  3:38   \n\n       date_e  w1    w2    w3    w4    w5    w6  ...  w67  w68  w69  w70  w71  \\\n0  2000-09-23  78  63.0  49.0  33.0  23.0  15.0  ...  NaN  NaN  NaN  NaN  NaN   \n1  2000-02-12  15   8.0   6.0   5.0   2.0   3.0  ...  NaN  NaN  NaN  NaN  NaN   \n2  1999-10-23  71  48.0  43.0  31.0  20.0  13.0  ...  NaN  NaN  NaN  NaN  NaN   \n3  2000-08-12  41  23.0  18.0  14.0   2.0   1.0  ...  NaN  NaN  NaN  NaN  NaN   \n4  2000-08-05  57  47.0  45.0  29.0  23.0  18.0  ...  NaN  NaN  NaN  NaN  NaN   \n\n   w72  w73  w74  w75  w76  \n0  NaN  NaN  NaN  NaN  NaN  \n1  NaN  NaN  NaN  NaN  NaN  \n2  NaN  NaN  NaN  NaN  NaN  \n3  NaN  NaN  NaN  NaN  NaN  \n4  NaN  NaN  NaN  NaN  NaN  \n\n[5 rows x 80 columns]",
      "text/html": "<div>\n<style scoped>\n    .dataframe tbody tr th:only-of-type {\n        vertical-align: middle;\n    }\n\n    .dataframe tbody tr th {\n        vertical-align: top;\n    }\n\n    .dataframe thead th {\n        text-align: right;\n    }\n</style>\n<table border=\"1\" class=\"dataframe\">\n  <thead>\n    <tr style=\"text-align: right;\">\n      <th></th>\n      <th>artist</th>\n      <th>track</th>\n      <th>time</th>\n      <th>date_e</th>\n      <th>w1</th>\n      <th>w2</th>\n      <th>w3</th>\n      <th>w4</th>\n      <th>w5</th>\n      <th>w6</th>\n      <th>...</th>\n      <th>w67</th>\n      <th>w68</th>\n      <th>w69</th>\n      <th>w70</th>\n      <th>w71</th>\n      <th>w72</th>\n      <th>w73</th>\n      <th>w74</th>\n      <th>w75</th>\n      <th>w76</th>\n    </tr>\n  </thead>\n  <tbody>\n    <tr>\n      <th>0</th>\n      <td>Destiny's Child</td>\n      <td>Independent Women Part I</td>\n      <td>3:38</td>\n      <td>2000-09-23</td>\n      <td>78</td>\n      <td>63.0</td>\n      <td>49.0</td>\n      <td>33.0</td>\n      <td>23.0</td>\n      <td>15.0</td>\n      <td>...</td>\n      <td>NaN</td>\n      <td>NaN</td>\n      <td>NaN</td>\n      <td>NaN</td>\n      <td>NaN</td>\n      <td>NaN</td>\n      <td>NaN</td>\n      <td>NaN</td>\n      <td>NaN</td>\n      <td>NaN</td>\n    </tr>\n    <tr>\n      <th>1</th>\n      <td>Santana</td>\n      <td>Maria, Maria</td>\n      <td>4:18</td>\n      <td>2000-02-12</td>\n      <td>15</td>\n      <td>8.0</td>\n      <td>6.0</td>\n      <td>5.0</td>\n      <td>2.0</td>\n      <td>3.0</td>\n      <td>...</td>\n      <td>NaN</td>\n      <td>NaN</td>\n      <td>NaN</td>\n      <td>NaN</td>\n      <td>NaN</td>\n      <td>NaN</td>\n      <td>NaN</td>\n      <td>NaN</td>\n      <td>NaN</td>\n      <td>NaN</td>\n    </tr>\n    <tr>\n      <th>2</th>\n      <td>Savage Garden</td>\n      <td>I Knew I Loved You</td>\n      <td>4:07</td>\n      <td>1999-10-23</td>\n      <td>71</td>\n      <td>48.0</td>\n      <td>43.0</td>\n      <td>31.0</td>\n      <td>20.0</td>\n      <td>13.0</td>\n      <td>...</td>\n      <td>NaN</td>\n      <td>NaN</td>\n      <td>NaN</td>\n      <td>NaN</td>\n      <td>NaN</td>\n      <td>NaN</td>\n      <td>NaN</td>\n      <td>NaN</td>\n      <td>NaN</td>\n      <td>NaN</td>\n    </tr>\n    <tr>\n      <th>3</th>\n      <td>Madonna</td>\n      <td>Music</td>\n      <td>3:45</td>\n      <td>2000-08-12</td>\n      <td>41</td>\n      <td>23.0</td>\n      <td>18.0</td>\n      <td>14.0</td>\n      <td>2.0</td>\n      <td>1.0</td>\n      <td>...</td>\n      <td>NaN</td>\n      <td>NaN</td>\n      <td>NaN</td>\n      <td>NaN</td>\n      <td>NaN</td>\n      <td>NaN</td>\n      <td>NaN</td>\n      <td>NaN</td>\n      <td>NaN</td>\n      <td>NaN</td>\n    </tr>\n    <tr>\n      <th>4</th>\n      <td>Aguilera, Christina</td>\n      <td>Come On Over Baby (All I Want Is You)</td>\n      <td>3:38</td>\n      <td>2000-08-05</td>\n      <td>57</td>\n      <td>47.0</td>\n      <td>45.0</td>\n      <td>29.0</td>\n      <td>23.0</td>\n      <td>18.0</td>\n      <td>...</td>\n      <td>NaN</td>\n      <td>NaN</td>\n      <td>NaN</td>\n      <td>NaN</td>\n      <td>NaN</td>\n      <td>NaN</td>\n      <td>NaN</td>\n      <td>NaN</td>\n      <td>NaN</td>\n      <td>NaN</td>\n    </tr>\n  </tbody>\n</table>\n<p>5 rows × 80 columns</p>\n</div>"
     },
     "execution_count": 25,
     "metadata": {},
     "output_type": "execute_result"
    }
   ],
   "source": [
    "mlt_df = pd.read_csv('billboard.csv')\n",
    "mlt_df.head()"
   ]
  },
  {
   "cell_type": "code",
   "execution_count": 28,
   "outputs": [
    {
     "data": {
      "text/plain": "artist      0\ntrack       0\ntime        0\ndate_e      0\nw1          0\n         ... \nw72       317\nw73       317\nw74       317\nw75       317\nw76       317\nLength: 80, dtype: int64"
     },
     "execution_count": 28,
     "metadata": {},
     "output_type": "execute_result"
    }
   ],
   "source": [
    "mlt_df.apply(lambda x: x.isnull().sum(), axis=0)"
   ],
   "metadata": {
    "collapsed": false,
    "ExecuteTime": {
     "end_time": "2024-05-15T08:45:48.130457Z",
     "start_time": "2024-05-15T08:45:48.113991Z"
    }
   }
  },
  {
   "cell_type": "markdown",
   "metadata": {},
   "source": [
    "    a)\tWrite one line of code that gives you a great idea of how many null values each column has. If there are any columns that have no non-null values drop them. "
   ]
  },
  {
   "cell_type": "code",
   "execution_count": null,
   "metadata": {},
   "outputs": [],
   "source": []
  },
  {
   "cell_type": "markdown",
   "metadata": {},
   "source": [
    "    b)\tWith a for loop, draw and study the values in each of the remaining W columns."
   ]
  },
  {
   "cell_type": "code",
   "execution_count": 38,
   "metadata": {
    "ExecuteTime": {
     "end_time": "2024-05-15T08:52:09.794763Z",
     "start_time": "2024-05-15T08:52:09.771950Z"
    }
   },
   "outputs": [
    {
     "data": {
      "text/plain": "                    artist                                  track  time  \\\n0          Destiny's Child               Independent Women Part I  3:38   \n1                  Santana                           Maria, Maria  4:18   \n2            Savage Garden                     I Knew I Loved You  4:07   \n3                  Madonna                                  Music  3:45   \n4      Aguilera, Christina  Come On Over Baby (All I Want Is You)  3:38   \n...                    ...                                    ...   ...   \n24087     Ghostface Killah                       Cherchez LaGhost  3:04   \n24088          Smith, Will                            Freakin' It  3:58   \n24089        Zombie Nation                          Kernkraft 400  3:30   \n24090       Eastsidaz, The                               Got Beef  3:58   \n24091               Fragma                         Toca's Miracle  3:22   \n\n           date_e week  rank  \n0      2000-09-23   w1  78.0  \n1      2000-02-12   w1  15.0  \n2      1999-10-23   w1  71.0  \n3      2000-08-12   w1  41.0  \n4      2000-08-05   w1  57.0  \n...           ...  ...   ...  \n24087  2000-08-05  w76   NaN  \n24088  2000-02-12  w76   NaN  \n24089  2000-09-02  w76   NaN  \n24090  2000-07-01  w76   NaN  \n24091  2000-10-28  w76   NaN  \n\n[24092 rows x 6 columns]",
      "text/html": "<div>\n<style scoped>\n    .dataframe tbody tr th:only-of-type {\n        vertical-align: middle;\n    }\n\n    .dataframe tbody tr th {\n        vertical-align: top;\n    }\n\n    .dataframe thead th {\n        text-align: right;\n    }\n</style>\n<table border=\"1\" class=\"dataframe\">\n  <thead>\n    <tr style=\"text-align: right;\">\n      <th></th>\n      <th>artist</th>\n      <th>track</th>\n      <th>time</th>\n      <th>date_e</th>\n      <th>week</th>\n      <th>rank</th>\n    </tr>\n  </thead>\n  <tbody>\n    <tr>\n      <th>0</th>\n      <td>Destiny's Child</td>\n      <td>Independent Women Part I</td>\n      <td>3:38</td>\n      <td>2000-09-23</td>\n      <td>w1</td>\n      <td>78.0</td>\n    </tr>\n    <tr>\n      <th>1</th>\n      <td>Santana</td>\n      <td>Maria, Maria</td>\n      <td>4:18</td>\n      <td>2000-02-12</td>\n      <td>w1</td>\n      <td>15.0</td>\n    </tr>\n    <tr>\n      <th>2</th>\n      <td>Savage Garden</td>\n      <td>I Knew I Loved You</td>\n      <td>4:07</td>\n      <td>1999-10-23</td>\n      <td>w1</td>\n      <td>71.0</td>\n    </tr>\n    <tr>\n      <th>3</th>\n      <td>Madonna</td>\n      <td>Music</td>\n      <td>3:45</td>\n      <td>2000-08-12</td>\n      <td>w1</td>\n      <td>41.0</td>\n    </tr>\n    <tr>\n      <th>4</th>\n      <td>Aguilera, Christina</td>\n      <td>Come On Over Baby (All I Want Is You)</td>\n      <td>3:38</td>\n      <td>2000-08-05</td>\n      <td>w1</td>\n      <td>57.0</td>\n    </tr>\n    <tr>\n      <th>...</th>\n      <td>...</td>\n      <td>...</td>\n      <td>...</td>\n      <td>...</td>\n      <td>...</td>\n      <td>...</td>\n    </tr>\n    <tr>\n      <th>24087</th>\n      <td>Ghostface Killah</td>\n      <td>Cherchez LaGhost</td>\n      <td>3:04</td>\n      <td>2000-08-05</td>\n      <td>w76</td>\n      <td>NaN</td>\n    </tr>\n    <tr>\n      <th>24088</th>\n      <td>Smith, Will</td>\n      <td>Freakin' It</td>\n      <td>3:58</td>\n      <td>2000-02-12</td>\n      <td>w76</td>\n      <td>NaN</td>\n    </tr>\n    <tr>\n      <th>24089</th>\n      <td>Zombie Nation</td>\n      <td>Kernkraft 400</td>\n      <td>3:30</td>\n      <td>2000-09-02</td>\n      <td>w76</td>\n      <td>NaN</td>\n    </tr>\n    <tr>\n      <th>24090</th>\n      <td>Eastsidaz, The</td>\n      <td>Got Beef</td>\n      <td>3:58</td>\n      <td>2000-07-01</td>\n      <td>w76</td>\n      <td>NaN</td>\n    </tr>\n    <tr>\n      <th>24091</th>\n      <td>Fragma</td>\n      <td>Toca's Miracle</td>\n      <td>3:22</td>\n      <td>2000-10-28</td>\n      <td>w76</td>\n      <td>NaN</td>\n    </tr>\n  </tbody>\n</table>\n<p>24092 rows × 6 columns</p>\n</div>"
     },
     "execution_count": 38,
     "metadata": {},
     "output_type": "execute_result"
    }
   ],
   "source": [
    "mlt_df.melt(id_vars=['artist', 'track', 'time', 'date_e'], var_name='week', value_name='rank')"
   ]
  },
  {
   "cell_type": "markdown",
   "metadata": {},
   "source": [
    "    c)\tThe dataset is in wide format, use an appropriate function to switch to a long fromat, and name the melted dataframe mlt_df."
   ]
  },
  {
   "cell_type": "code",
   "execution_count": null,
   "metadata": {},
   "outputs": [],
   "source": []
  },
  {
   "cell_type": "markdown",
   "metadata": {},
   "source": [
    "    d)\tWrite a code that shows mlt_df‘s every 1200 rows."
   ]
  },
  {
   "cell_type": "code",
   "execution_count": null,
   "metadata": {},
   "outputs": [],
   "source": []
  },
  {
   "cell_type": "markdown",
   "metadata": {},
   "source": [
    "    e)\tRun the following code first and answer the question. Could you have done this by using Boolean masking too?"
   ]
  },
  {
   "cell_type": "code",
   "execution_count": 39,
   "metadata": {
    "ExecuteTime": {
     "end_time": "2024-05-15T08:54:14.633963Z",
     "start_time": "2024-05-15T08:54:14.617431Z"
    }
   },
   "outputs": [
    {
     "data": {
      "text/plain": "             artist                               track  time      date_e  w1  \\\n51  Spears, Britney              Oops!.. I Did It Again  3:30  2000-04-22  67   \n63  Spears, Britney  From The Bottom Of My Broken Heart  4:30  2000-01-29  76   \n93  Spears, Britney                               Lucky  3:23  2000-08-12  61   \n\n      w2    w3    w4    w5    w6  ...  w67  w68  w69  w70  w71  w72  w73  w74  \\\n51  38.0  26.0  19.0  15.0  13.0  ...  NaN  NaN  NaN  NaN  NaN  NaN  NaN  NaN   \n63  59.0  52.0  52.0  14.0  14.0  ...  NaN  NaN  NaN  NaN  NaN  NaN  NaN  NaN   \n93  41.0  28.0  26.0  23.0  29.0  ...  NaN  NaN  NaN  NaN  NaN  NaN  NaN  NaN   \n\n    w75  w76  \n51  NaN  NaN  \n63  NaN  NaN  \n93  NaN  NaN  \n\n[3 rows x 80 columns]",
      "text/html": "<div>\n<style scoped>\n    .dataframe tbody tr th:only-of-type {\n        vertical-align: middle;\n    }\n\n    .dataframe tbody tr th {\n        vertical-align: top;\n    }\n\n    .dataframe thead th {\n        text-align: right;\n    }\n</style>\n<table border=\"1\" class=\"dataframe\">\n  <thead>\n    <tr style=\"text-align: right;\">\n      <th></th>\n      <th>artist</th>\n      <th>track</th>\n      <th>time</th>\n      <th>date_e</th>\n      <th>w1</th>\n      <th>w2</th>\n      <th>w3</th>\n      <th>w4</th>\n      <th>w5</th>\n      <th>w6</th>\n      <th>...</th>\n      <th>w67</th>\n      <th>w68</th>\n      <th>w69</th>\n      <th>w70</th>\n      <th>w71</th>\n      <th>w72</th>\n      <th>w73</th>\n      <th>w74</th>\n      <th>w75</th>\n      <th>w76</th>\n    </tr>\n  </thead>\n  <tbody>\n    <tr>\n      <th>51</th>\n      <td>Spears, Britney</td>\n      <td>Oops!.. I Did It Again</td>\n      <td>3:30</td>\n      <td>2000-04-22</td>\n      <td>67</td>\n      <td>38.0</td>\n      <td>26.0</td>\n      <td>19.0</td>\n      <td>15.0</td>\n      <td>13.0</td>\n      <td>...</td>\n      <td>NaN</td>\n      <td>NaN</td>\n      <td>NaN</td>\n      <td>NaN</td>\n      <td>NaN</td>\n      <td>NaN</td>\n      <td>NaN</td>\n      <td>NaN</td>\n      <td>NaN</td>\n      <td>NaN</td>\n    </tr>\n    <tr>\n      <th>63</th>\n      <td>Spears, Britney</td>\n      <td>From The Bottom Of My Broken Heart</td>\n      <td>4:30</td>\n      <td>2000-01-29</td>\n      <td>76</td>\n      <td>59.0</td>\n      <td>52.0</td>\n      <td>52.0</td>\n      <td>14.0</td>\n      <td>14.0</td>\n      <td>...</td>\n      <td>NaN</td>\n      <td>NaN</td>\n      <td>NaN</td>\n      <td>NaN</td>\n      <td>NaN</td>\n      <td>NaN</td>\n      <td>NaN</td>\n      <td>NaN</td>\n      <td>NaN</td>\n      <td>NaN</td>\n    </tr>\n    <tr>\n      <th>93</th>\n      <td>Spears, Britney</td>\n      <td>Lucky</td>\n      <td>3:23</td>\n      <td>2000-08-12</td>\n      <td>61</td>\n      <td>41.0</td>\n      <td>28.0</td>\n      <td>26.0</td>\n      <td>23.0</td>\n      <td>29.0</td>\n      <td>...</td>\n      <td>NaN</td>\n      <td>NaN</td>\n      <td>NaN</td>\n      <td>NaN</td>\n      <td>NaN</td>\n      <td>NaN</td>\n      <td>NaN</td>\n      <td>NaN</td>\n      <td>NaN</td>\n      <td>NaN</td>\n    </tr>\n  </tbody>\n</table>\n<p>3 rows × 80 columns</p>\n</div>"
     },
     "execution_count": 39,
     "metadata": {},
     "output_type": "execute_result"
    }
   ],
   "source": [
    "mlt_df.query('artist == \"Spears, Britney\"')"
   ]
  },
  {
   "cell_type": "markdown",
   "metadata": {},
   "source": [
    "Could have done this by using Boolean masking too?"
   ]
  },
  {
   "cell_type": "code",
   "execution_count": 42,
   "outputs": [
    {
     "data": {
      "text/plain": "             artist                               track  time      date_e  w1  \\\n51  Spears, Britney              Oops!.. I Did It Again  3:30  2000-04-22  67   \n63  Spears, Britney  From The Bottom Of My Broken Heart  4:30  2000-01-29  76   \n93  Spears, Britney                               Lucky  3:23  2000-08-12  61   \n\n      w2    w3    w4    w5    w6  ...  w67  w68  w69  w70  w71  w72  w73  w74  \\\n51  38.0  26.0  19.0  15.0  13.0  ...  NaN  NaN  NaN  NaN  NaN  NaN  NaN  NaN   \n63  59.0  52.0  52.0  14.0  14.0  ...  NaN  NaN  NaN  NaN  NaN  NaN  NaN  NaN   \n93  41.0  28.0  26.0  23.0  29.0  ...  NaN  NaN  NaN  NaN  NaN  NaN  NaN  NaN   \n\n    w75  w76  \n51  NaN  NaN  \n63  NaN  NaN  \n93  NaN  NaN  \n\n[3 rows x 80 columns]",
      "text/html": "<div>\n<style scoped>\n    .dataframe tbody tr th:only-of-type {\n        vertical-align: middle;\n    }\n\n    .dataframe tbody tr th {\n        vertical-align: top;\n    }\n\n    .dataframe thead th {\n        text-align: right;\n    }\n</style>\n<table border=\"1\" class=\"dataframe\">\n  <thead>\n    <tr style=\"text-align: right;\">\n      <th></th>\n      <th>artist</th>\n      <th>track</th>\n      <th>time</th>\n      <th>date_e</th>\n      <th>w1</th>\n      <th>w2</th>\n      <th>w3</th>\n      <th>w4</th>\n      <th>w5</th>\n      <th>w6</th>\n      <th>...</th>\n      <th>w67</th>\n      <th>w68</th>\n      <th>w69</th>\n      <th>w70</th>\n      <th>w71</th>\n      <th>w72</th>\n      <th>w73</th>\n      <th>w74</th>\n      <th>w75</th>\n      <th>w76</th>\n    </tr>\n  </thead>\n  <tbody>\n    <tr>\n      <th>51</th>\n      <td>Spears, Britney</td>\n      <td>Oops!.. I Did It Again</td>\n      <td>3:30</td>\n      <td>2000-04-22</td>\n      <td>67</td>\n      <td>38.0</td>\n      <td>26.0</td>\n      <td>19.0</td>\n      <td>15.0</td>\n      <td>13.0</td>\n      <td>...</td>\n      <td>NaN</td>\n      <td>NaN</td>\n      <td>NaN</td>\n      <td>NaN</td>\n      <td>NaN</td>\n      <td>NaN</td>\n      <td>NaN</td>\n      <td>NaN</td>\n      <td>NaN</td>\n      <td>NaN</td>\n    </tr>\n    <tr>\n      <th>63</th>\n      <td>Spears, Britney</td>\n      <td>From The Bottom Of My Broken Heart</td>\n      <td>4:30</td>\n      <td>2000-01-29</td>\n      <td>76</td>\n      <td>59.0</td>\n      <td>52.0</td>\n      <td>52.0</td>\n      <td>14.0</td>\n      <td>14.0</td>\n      <td>...</td>\n      <td>NaN</td>\n      <td>NaN</td>\n      <td>NaN</td>\n      <td>NaN</td>\n      <td>NaN</td>\n      <td>NaN</td>\n      <td>NaN</td>\n      <td>NaN</td>\n      <td>NaN</td>\n      <td>NaN</td>\n    </tr>\n    <tr>\n      <th>93</th>\n      <td>Spears, Britney</td>\n      <td>Lucky</td>\n      <td>3:23</td>\n      <td>2000-08-12</td>\n      <td>61</td>\n      <td>41.0</td>\n      <td>28.0</td>\n      <td>26.0</td>\n      <td>23.0</td>\n      <td>29.0</td>\n      <td>...</td>\n      <td>NaN</td>\n      <td>NaN</td>\n      <td>NaN</td>\n      <td>NaN</td>\n      <td>NaN</td>\n      <td>NaN</td>\n      <td>NaN</td>\n      <td>NaN</td>\n      <td>NaN</td>\n      <td>NaN</td>\n    </tr>\n  </tbody>\n</table>\n<p>3 rows × 80 columns</p>\n</div>"
     },
     "execution_count": 42,
     "metadata": {},
     "output_type": "execute_result"
    }
   ],
   "source": [
    "mlt_df[mlt_df.artist == 'Spears, Britney']"
   ],
   "metadata": {
    "collapsed": false,
    "ExecuteTime": {
     "end_time": "2024-05-15T08:55:43.630481Z",
     "start_time": "2024-05-15T08:55:43.612329Z"
    }
   }
  },
  {
   "cell_type": "markdown",
   "metadata": {},
   "source": [
    "Answer:"
   ]
  },
  {
   "cell_type": "code",
   "execution_count": 44,
   "metadata": {
    "ExecuteTime": {
     "end_time": "2024-05-15T08:56:14.985186Z",
     "start_time": "2024-05-15T08:56:14.965483Z"
    }
   },
   "outputs": [
    {
     "data": {
      "text/plain": "array(['Oops!.. I Did It Again', 'From The Bottom Of My Broken Heart',\n       'Lucky'], dtype=object)"
     },
     "execution_count": 44,
     "metadata": {},
     "output_type": "execute_result"
    }
   ],
   "source": [
    "mlt_df[mlt_df.artist == 'Spears, Britney'].track.unique()"
   ]
  },
  {
   "cell_type": "markdown",
   "metadata": {},
   "source": [
    "    f)\t Use either the approach in e or the Boolean mask, to extract all the unique songs that Britney Spears has in this dataset."
   ]
  },
  {
   "cell_type": "code",
   "execution_count": null,
   "metadata": {},
   "outputs": [],
   "source": []
  },
  {
   "cell_type": "markdown",
   "metadata": {},
   "source": [
    "    g)\tIn mlt_df show all of the weeks that the song “Oops!.. I Did It Again” was on the top-100"
   ]
  },
  {
   "cell_type": "code",
   "execution_count": null,
   "metadata": {},
   "outputs": [],
   "source": []
  },
  {
   "cell_type": "markdown",
   "metadata": {},
   "source": [
    "##### Excercise 4 \n",
    "\n",
    "We will use LaqnData.csv for this exercise. Each row of this dataset shows an hourly measurement recording of one of the five following air pollutants: NO, NO2, NOX, PM10, and PM2.5. The data was collected in a location in Londan for the entirety of year 2017. Read the data using Pandas and perform the following tasks."
   ]
  },
  {
   "cell_type": "code",
   "execution_count": 51,
   "metadata": {
    "ExecuteTime": {
     "end_time": "2024-05-15T08:59:49.338365Z",
     "start_time": "2024-05-15T08:59:49.305255Z"
    }
   },
   "outputs": [
    {
     "data": {
      "text/plain": "      Site Species   ReadingDateTime  Value   Units Provisional or Ratified\n0      CT3      NO  01/01/2017 00:00    3.5  ug m-3                       R\n1      CT3      NO  01/01/2017 01:00    3.6  ug m-3                       R\n2      CT3      NO  01/01/2017 02:00    2.2  ug m-3                       R\n3      CT3      NO  01/01/2017 03:00    2.1  ug m-3                       R\n4      CT3      NO  01/01/2017 04:00    3.3  ug m-3                       R\n...    ...     ...               ...    ...     ...                     ...\n43795  CT3   PM2.5  31/12/2017 19:00   -2.0  ug m-3                       R\n43796  CT3   PM2.5  31/12/2017 20:00    6.0  ug m-3                       R\n43797  CT3   PM2.5  31/12/2017 21:00    5.0  ug m-3                       R\n43798  CT3   PM2.5  31/12/2017 22:00    5.0  ug m-3                       R\n43799  CT3   PM2.5  31/12/2017 23:00    6.0  ug m-3                       R\n\n[43800 rows x 6 columns]",
      "text/html": "<div>\n<style scoped>\n    .dataframe tbody tr th:only-of-type {\n        vertical-align: middle;\n    }\n\n    .dataframe tbody tr th {\n        vertical-align: top;\n    }\n\n    .dataframe thead th {\n        text-align: right;\n    }\n</style>\n<table border=\"1\" class=\"dataframe\">\n  <thead>\n    <tr style=\"text-align: right;\">\n      <th></th>\n      <th>Site</th>\n      <th>Species</th>\n      <th>ReadingDateTime</th>\n      <th>Value</th>\n      <th>Units</th>\n      <th>Provisional or Ratified</th>\n    </tr>\n  </thead>\n  <tbody>\n    <tr>\n      <th>0</th>\n      <td>CT3</td>\n      <td>NO</td>\n      <td>01/01/2017 00:00</td>\n      <td>3.5</td>\n      <td>ug m-3</td>\n      <td>R</td>\n    </tr>\n    <tr>\n      <th>1</th>\n      <td>CT3</td>\n      <td>NO</td>\n      <td>01/01/2017 01:00</td>\n      <td>3.6</td>\n      <td>ug m-3</td>\n      <td>R</td>\n    </tr>\n    <tr>\n      <th>2</th>\n      <td>CT3</td>\n      <td>NO</td>\n      <td>01/01/2017 02:00</td>\n      <td>2.2</td>\n      <td>ug m-3</td>\n      <td>R</td>\n    </tr>\n    <tr>\n      <th>3</th>\n      <td>CT3</td>\n      <td>NO</td>\n      <td>01/01/2017 03:00</td>\n      <td>2.1</td>\n      <td>ug m-3</td>\n      <td>R</td>\n    </tr>\n    <tr>\n      <th>4</th>\n      <td>CT3</td>\n      <td>NO</td>\n      <td>01/01/2017 04:00</td>\n      <td>3.3</td>\n      <td>ug m-3</td>\n      <td>R</td>\n    </tr>\n    <tr>\n      <th>...</th>\n      <td>...</td>\n      <td>...</td>\n      <td>...</td>\n      <td>...</td>\n      <td>...</td>\n      <td>...</td>\n    </tr>\n    <tr>\n      <th>43795</th>\n      <td>CT3</td>\n      <td>PM2.5</td>\n      <td>31/12/2017 19:00</td>\n      <td>-2.0</td>\n      <td>ug m-3</td>\n      <td>R</td>\n    </tr>\n    <tr>\n      <th>43796</th>\n      <td>CT3</td>\n      <td>PM2.5</td>\n      <td>31/12/2017 20:00</td>\n      <td>6.0</td>\n      <td>ug m-3</td>\n      <td>R</td>\n    </tr>\n    <tr>\n      <th>43797</th>\n      <td>CT3</td>\n      <td>PM2.5</td>\n      <td>31/12/2017 21:00</td>\n      <td>5.0</td>\n      <td>ug m-3</td>\n      <td>R</td>\n    </tr>\n    <tr>\n      <th>43798</th>\n      <td>CT3</td>\n      <td>PM2.5</td>\n      <td>31/12/2017 22:00</td>\n      <td>5.0</td>\n      <td>ug m-3</td>\n      <td>R</td>\n    </tr>\n    <tr>\n      <th>43799</th>\n      <td>CT3</td>\n      <td>PM2.5</td>\n      <td>31/12/2017 23:00</td>\n      <td>6.0</td>\n      <td>ug m-3</td>\n      <td>R</td>\n    </tr>\n  </tbody>\n</table>\n<p>43800 rows × 6 columns</p>\n</div>"
     },
     "execution_count": 51,
     "metadata": {},
     "output_type": "execute_result"
    }
   ],
   "source": [
    "import pandas as pd\n",
    "import matplotlib.pyplot as plt\n",
    "\n",
    "air_df = pd.read_csv('LaqnData.csv')\n",
    "air_df"
   ]
  },
  {
   "cell_type": "markdown",
   "metadata": {},
   "source": [
    "    a)\tThe dataset has 6 columns. Three of them, naming ‘Site','Units','Provisional or Ratified' are not adding any informational values as they are the same across the whole dataset. Use the following code to drop them. "
   ]
  },
  {
   "cell_type": "code",
   "execution_count": 53,
   "metadata": {
    "ExecuteTime": {
     "end_time": "2024-05-15T09:00:23.139819Z",
     "start_time": "2024-05-15T09:00:23.121152Z"
    }
   },
   "outputs": [],
   "source": [
    "air_df.drop(columns=['Site','Units','Provisional or Ratified'], inplace=True)"
   ]
  },
  {
   "cell_type": "markdown",
   "metadata": {},
   "source": [
    "    b)\tThe dataset is in a long format. Apply the appropriate function to switch it to the wide format. Name the transformed Dataframe, pvt_df. "
   ]
  },
  {
   "cell_type": "code",
   "execution_count": 55,
   "metadata": {
    "ExecuteTime": {
     "end_time": "2024-05-15T09:00:28.455120Z",
     "start_time": "2024-05-15T09:00:28.427270Z"
    }
   },
   "outputs": [
    {
     "data": {
      "text/plain": "Species            NO   NO2   NOX  PM10  PM2.5\nReadingDateTime                               \n01/01/2017 00:00  3.5  30.8  36.2  35.7    NaN\n01/01/2017 01:00  3.6  31.5  37.0  28.5    NaN\n01/01/2017 02:00  2.2  27.3  30.7  22.7    NaN\n01/01/2017 03:00  2.1  23.5  26.8  20.5    NaN\n01/01/2017 04:00  3.3  28.0  33.0  22.1    NaN\n...               ...   ...   ...   ...    ...\n31/12/2017 19:00  0.7  17.5  18.5  16.3   -2.0\n31/12/2017 20:00  0.7  17.5  18.6  14.5    6.0\n31/12/2017 21:00  0.7  14.1  15.1   8.6    5.0\n31/12/2017 22:00  1.1  22.0  23.6  12.5    5.0\n31/12/2017 23:00  0.9  19.4  20.7  10.4    6.0\n\n[8760 rows x 5 columns]",
      "text/html": "<div>\n<style scoped>\n    .dataframe tbody tr th:only-of-type {\n        vertical-align: middle;\n    }\n\n    .dataframe tbody tr th {\n        vertical-align: top;\n    }\n\n    .dataframe thead th {\n        text-align: right;\n    }\n</style>\n<table border=\"1\" class=\"dataframe\">\n  <thead>\n    <tr style=\"text-align: right;\">\n      <th>Species</th>\n      <th>NO</th>\n      <th>NO2</th>\n      <th>NOX</th>\n      <th>PM10</th>\n      <th>PM2.5</th>\n    </tr>\n    <tr>\n      <th>ReadingDateTime</th>\n      <th></th>\n      <th></th>\n      <th></th>\n      <th></th>\n      <th></th>\n    </tr>\n  </thead>\n  <tbody>\n    <tr>\n      <th>01/01/2017 00:00</th>\n      <td>3.5</td>\n      <td>30.8</td>\n      <td>36.2</td>\n      <td>35.7</td>\n      <td>NaN</td>\n    </tr>\n    <tr>\n      <th>01/01/2017 01:00</th>\n      <td>3.6</td>\n      <td>31.5</td>\n      <td>37.0</td>\n      <td>28.5</td>\n      <td>NaN</td>\n    </tr>\n    <tr>\n      <th>01/01/2017 02:00</th>\n      <td>2.2</td>\n      <td>27.3</td>\n      <td>30.7</td>\n      <td>22.7</td>\n      <td>NaN</td>\n    </tr>\n    <tr>\n      <th>01/01/2017 03:00</th>\n      <td>2.1</td>\n      <td>23.5</td>\n      <td>26.8</td>\n      <td>20.5</td>\n      <td>NaN</td>\n    </tr>\n    <tr>\n      <th>01/01/2017 04:00</th>\n      <td>3.3</td>\n      <td>28.0</td>\n      <td>33.0</td>\n      <td>22.1</td>\n      <td>NaN</td>\n    </tr>\n    <tr>\n      <th>...</th>\n      <td>...</td>\n      <td>...</td>\n      <td>...</td>\n      <td>...</td>\n      <td>...</td>\n    </tr>\n    <tr>\n      <th>31/12/2017 19:00</th>\n      <td>0.7</td>\n      <td>17.5</td>\n      <td>18.5</td>\n      <td>16.3</td>\n      <td>-2.0</td>\n    </tr>\n    <tr>\n      <th>31/12/2017 20:00</th>\n      <td>0.7</td>\n      <td>17.5</td>\n      <td>18.6</td>\n      <td>14.5</td>\n      <td>6.0</td>\n    </tr>\n    <tr>\n      <th>31/12/2017 21:00</th>\n      <td>0.7</td>\n      <td>14.1</td>\n      <td>15.1</td>\n      <td>8.6</td>\n      <td>5.0</td>\n    </tr>\n    <tr>\n      <th>31/12/2017 22:00</th>\n      <td>1.1</td>\n      <td>22.0</td>\n      <td>23.6</td>\n      <td>12.5</td>\n      <td>5.0</td>\n    </tr>\n    <tr>\n      <th>31/12/2017 23:00</th>\n      <td>0.9</td>\n      <td>19.4</td>\n      <td>20.7</td>\n      <td>10.4</td>\n      <td>6.0</td>\n    </tr>\n  </tbody>\n</table>\n<p>8760 rows × 5 columns</p>\n</div>"
     },
     "execution_count": 55,
     "metadata": {},
     "output_type": "execute_result"
    }
   ],
   "source": [
    "wide_df = air_df.pivot(index='ReadingDateTime',columns='Species',values='Value')\n",
    "wide_df"
   ]
  },
  {
   "cell_type": "markdown",
   "metadata": {},
   "source": [
    "    c)\tDraw and study the histogram and boxplots for columns of pvt_df."
   ]
  },
  {
   "cell_type": "code",
   "execution_count": 56,
   "metadata": {
    "ExecuteTime": {
     "end_time": "2024-05-15T09:01:10.087494Z",
     "start_time": "2024-05-15T09:01:09.908121Z"
    }
   },
   "outputs": [
    {
     "data": {
      "text/plain": "<Axes: ylabel='Frequency'>"
     },
     "execution_count": 56,
     "metadata": {},
     "output_type": "execute_result"
    },
    {
     "data": {
      "text/plain": "<Figure size 640x480 with 1 Axes>",
      "image/png": "[encoded data removed]"
     },
     "metadata": {},
     "output_type": "display_data"
    }
   ],
   "source": [
    "wide_df.NO.plot.hist()"
   ]
  },
  {
   "cell_type": "markdown",
   "metadata": {},
   "source": [
    "##### Excercise 5 \n",
    "\n",
    "We will continue working with LaqnData.csv. \n",
    "\n",
    "    a)\tRun the following code, see its output, and then study the code to answer what each line of this code does."
   ]
  },
  {
   "cell_type": "code",
   "execution_count": 62,
   "metadata": {
    "ExecuteTime": {
     "end_time": "2024-05-15T09:03:29.785794Z",
     "start_time": "2024-05-15T09:03:29.748304Z"
    }
   },
   "outputs": [
    {
     "data": {
      "text/plain": "      Species   ReadingDateTime  Value\n0          NO  01/01/2017 00:00    3.5\n1          NO  01/01/2017 01:00    3.6\n2          NO  01/01/2017 02:00    2.2\n3          NO  01/01/2017 03:00    2.1\n4          NO  01/01/2017 04:00    3.3\n...       ...               ...    ...\n43795   PM2.5  31/12/2017 19:00   -2.0\n43796   PM2.5  31/12/2017 20:00    6.0\n43797   PM2.5  31/12/2017 21:00    5.0\n43798   PM2.5  31/12/2017 22:00    5.0\n43799   PM2.5  31/12/2017 23:00    6.0\n\n[43800 rows x 3 columns]",
      "text/html": "<div>\n<style scoped>\n    .dataframe tbody tr th:only-of-type {\n        vertical-align: middle;\n    }\n\n    .dataframe tbody tr th {\n        vertical-align: top;\n    }\n\n    .dataframe thead th {\n        text-align: right;\n    }\n</style>\n<table border=\"1\" class=\"dataframe\">\n  <thead>\n    <tr style=\"text-align: right;\">\n      <th></th>\n      <th>Species</th>\n      <th>ReadingDateTime</th>\n      <th>Value</th>\n    </tr>\n  </thead>\n  <tbody>\n    <tr>\n      <th>0</th>\n      <td>NO</td>\n      <td>01/01/2017 00:00</td>\n      <td>3.5</td>\n    </tr>\n    <tr>\n      <th>1</th>\n      <td>NO</td>\n      <td>01/01/2017 01:00</td>\n      <td>3.6</td>\n    </tr>\n    <tr>\n      <th>2</th>\n      <td>NO</td>\n      <td>01/01/2017 02:00</td>\n      <td>2.2</td>\n    </tr>\n    <tr>\n      <th>3</th>\n      <td>NO</td>\n      <td>01/01/2017 03:00</td>\n      <td>2.1</td>\n    </tr>\n    <tr>\n      <th>4</th>\n      <td>NO</td>\n      <td>01/01/2017 04:00</td>\n      <td>3.3</td>\n    </tr>\n    <tr>\n      <th>...</th>\n      <td>...</td>\n      <td>...</td>\n      <td>...</td>\n    </tr>\n    <tr>\n      <th>43795</th>\n      <td>PM2.5</td>\n      <td>31/12/2017 19:00</td>\n      <td>-2.0</td>\n    </tr>\n    <tr>\n      <th>43796</th>\n      <td>PM2.5</td>\n      <td>31/12/2017 20:00</td>\n      <td>6.0</td>\n    </tr>\n    <tr>\n      <th>43797</th>\n      <td>PM2.5</td>\n      <td>31/12/2017 21:00</td>\n      <td>5.0</td>\n    </tr>\n    <tr>\n      <th>43798</th>\n      <td>PM2.5</td>\n      <td>31/12/2017 22:00</td>\n      <td>5.0</td>\n    </tr>\n    <tr>\n      <th>43799</th>\n      <td>PM2.5</td>\n      <td>31/12/2017 23:00</td>\n      <td>6.0</td>\n    </tr>\n  </tbody>\n</table>\n<p>43800 rows × 3 columns</p>\n</div>"
     },
     "execution_count": 62,
     "metadata": {},
     "output_type": "execute_result"
    }
   ],
   "source": [
    "import pandas as pd\n",
    "air_df = pd.read_csv('LaqnData.csv')\n",
    "air_df.drop(columns=['Site','Units','Provisional or Ratified'], inplace=True)\n",
    "air_df"
   ]
  },
  {
   "cell_type": "code",
   "execution_count": 66,
   "outputs": [],
   "source": [
    "datetime_df = air_df.ReadingDateTime.str.split(' ', expand=True)"
   ],
   "metadata": {
    "collapsed": false,
    "ExecuteTime": {
     "end_time": "2024-05-15T09:04:01.575689Z",
     "start_time": "2024-05-15T09:04:01.550914Z"
    }
   }
  },
  {
   "cell_type": "code",
   "execution_count": 67,
   "outputs": [
    {
     "data": {
      "text/plain": "                0      1\n0      01/01/2017  00:00\n1      01/01/2017  01:00\n2      01/01/2017  02:00\n3      01/01/2017  03:00\n4      01/01/2017  04:00\n...           ...    ...\n43795  31/12/2017  19:00\n43796  31/12/2017  20:00\n43797  31/12/2017  21:00\n43798  31/12/2017  22:00\n43799  31/12/2017  23:00\n\n[43800 rows x 2 columns]",
      "text/html": "<div>\n<style scoped>\n    .dataframe tbody tr th:only-of-type {\n        vertical-align: middle;\n    }\n\n    .dataframe tbody tr th {\n        vertical-align: top;\n    }\n\n    .dataframe thead th {\n        text-align: right;\n    }\n</style>\n<table border=\"1\" class=\"dataframe\">\n  <thead>\n    <tr style=\"text-align: right;\">\n      <th></th>\n      <th>0</th>\n      <th>1</th>\n    </tr>\n  </thead>\n  <tbody>\n    <tr>\n      <th>0</th>\n      <td>01/01/2017</td>\n      <td>00:00</td>\n    </tr>\n    <tr>\n      <th>1</th>\n      <td>01/01/2017</td>\n      <td>01:00</td>\n    </tr>\n    <tr>\n      <th>2</th>\n      <td>01/01/2017</td>\n      <td>02:00</td>\n    </tr>\n    <tr>\n      <th>3</th>\n      <td>01/01/2017</td>\n      <td>03:00</td>\n    </tr>\n    <tr>\n      <th>4</th>\n      <td>01/01/2017</td>\n      <td>04:00</td>\n    </tr>\n    <tr>\n      <th>...</th>\n      <td>...</td>\n      <td>...</td>\n    </tr>\n    <tr>\n      <th>43795</th>\n      <td>31/12/2017</td>\n      <td>19:00</td>\n    </tr>\n    <tr>\n      <th>43796</th>\n      <td>31/12/2017</td>\n      <td>20:00</td>\n    </tr>\n    <tr>\n      <th>43797</th>\n      <td>31/12/2017</td>\n      <td>21:00</td>\n    </tr>\n    <tr>\n      <th>43798</th>\n      <td>31/12/2017</td>\n      <td>22:00</td>\n    </tr>\n    <tr>\n      <th>43799</th>\n      <td>31/12/2017</td>\n      <td>23:00</td>\n    </tr>\n  </tbody>\n</table>\n<p>43800 rows × 2 columns</p>\n</div>"
     },
     "execution_count": 67,
     "metadata": {},
     "output_type": "execute_result"
    }
   ],
   "source": [
    "datetime_df"
   ],
   "metadata": {
    "collapsed": false,
    "ExecuteTime": {
     "end_time": "2024-05-15T09:04:02.426793Z",
     "start_time": "2024-05-15T09:04:02.410714Z"
    }
   }
  },
  {
   "cell_type": "code",
   "execution_count": 68,
   "outputs": [],
   "source": [
    "datetime_df.columns = ['Date','Time']"
   ],
   "metadata": {
    "collapsed": false,
    "ExecuteTime": {
     "end_time": "2024-05-15T09:04:19.325098Z",
     "start_time": "2024-05-15T09:04:19.291573Z"
    }
   }
  },
  {
   "cell_type": "code",
   "execution_count": 69,
   "outputs": [
    {
     "data": {
      "text/plain": "      Day Month  Year\n0      01    01  2017\n1      01    01  2017\n2      01    01  2017\n3      01    01  2017\n4      01    01  2017\n...    ..   ...   ...\n43795  31    12  2017\n43796  31    12  2017\n43797  31    12  2017\n43798  31    12  2017\n43799  31    12  2017\n\n[43800 rows x 3 columns]",
      "text/html": "<div>\n<style scoped>\n    .dataframe tbody tr th:only-of-type {\n        vertical-align: middle;\n    }\n\n    .dataframe tbody tr th {\n        vertical-align: top;\n    }\n\n    .dataframe thead th {\n        text-align: right;\n    }\n</style>\n<table border=\"1\" class=\"dataframe\">\n  <thead>\n    <tr style=\"text-align: right;\">\n      <th></th>\n      <th>Day</th>\n      <th>Month</th>\n      <th>Year</th>\n    </tr>\n  </thead>\n  <tbody>\n    <tr>\n      <th>0</th>\n      <td>01</td>\n      <td>01</td>\n      <td>2017</td>\n    </tr>\n    <tr>\n      <th>1</th>\n      <td>01</td>\n      <td>01</td>\n      <td>2017</td>\n    </tr>\n    <tr>\n      <th>2</th>\n      <td>01</td>\n      <td>01</td>\n      <td>2017</td>\n    </tr>\n    <tr>\n      <th>3</th>\n      <td>01</td>\n      <td>01</td>\n      <td>2017</td>\n    </tr>\n    <tr>\n      <th>4</th>\n      <td>01</td>\n      <td>01</td>\n      <td>2017</td>\n    </tr>\n    <tr>\n      <th>...</th>\n      <td>...</td>\n      <td>...</td>\n      <td>...</td>\n    </tr>\n    <tr>\n      <th>43795</th>\n      <td>31</td>\n      <td>12</td>\n      <td>2017</td>\n    </tr>\n    <tr>\n      <th>43796</th>\n      <td>31</td>\n      <td>12</td>\n      <td>2017</td>\n    </tr>\n    <tr>\n      <th>43797</th>\n      <td>31</td>\n      <td>12</td>\n      <td>2017</td>\n    </tr>\n    <tr>\n      <th>43798</th>\n      <td>31</td>\n      <td>12</td>\n      <td>2017</td>\n    </tr>\n    <tr>\n      <th>43799</th>\n      <td>31</td>\n      <td>12</td>\n      <td>2017</td>\n    </tr>\n  </tbody>\n</table>\n<p>43800 rows × 3 columns</p>\n</div>"
     },
     "execution_count": 69,
     "metadata": {},
     "output_type": "execute_result"
    }
   ],
   "source": [
    "date_df = datetime_df.Date.str.split('/',expand=True)\n",
    "date_df.columns = ['Day','Month','Year']\n",
    "date_df"
   ],
   "metadata": {
    "collapsed": false,
    "ExecuteTime": {
     "end_time": "2024-05-15T09:04:45.351687Z",
     "start_time": "2024-05-15T09:04:45.338847Z"
    }
   }
  },
  {
   "cell_type": "code",
   "execution_count": 70,
   "outputs": [
    {
     "data": {
      "text/plain": "      Species  Value Day Month   Time\n0          NO    3.5  01    01  00:00\n1          NO    3.6  01    01  01:00\n2          NO    2.2  01    01  02:00\n3          NO    2.1  01    01  03:00\n4          NO    3.3  01    01  04:00\n...       ...    ...  ..   ...    ...\n43795   PM2.5   -2.0  31    12  19:00\n43796   PM2.5    6.0  31    12  20:00\n43797   PM2.5    5.0  31    12  21:00\n43798   PM2.5    5.0  31    12  22:00\n43799   PM2.5    6.0  31    12  23:00\n\n[43800 rows x 5 columns]",
      "text/html": "<div>\n<style scoped>\n    .dataframe tbody tr th:only-of-type {\n        vertical-align: middle;\n    }\n\n    .dataframe tbody tr th {\n        vertical-align: top;\n    }\n\n    .dataframe thead th {\n        text-align: right;\n    }\n</style>\n<table border=\"1\" class=\"dataframe\">\n  <thead>\n    <tr style=\"text-align: right;\">\n      <th></th>\n      <th>Species</th>\n      <th>Value</th>\n      <th>Day</th>\n      <th>Month</th>\n      <th>Time</th>\n    </tr>\n  </thead>\n  <tbody>\n    <tr>\n      <th>0</th>\n      <td>NO</td>\n      <td>3.5</td>\n      <td>01</td>\n      <td>01</td>\n      <td>00:00</td>\n    </tr>\n    <tr>\n      <th>1</th>\n      <td>NO</td>\n      <td>3.6</td>\n      <td>01</td>\n      <td>01</td>\n      <td>01:00</td>\n    </tr>\n    <tr>\n      <th>2</th>\n      <td>NO</td>\n      <td>2.2</td>\n      <td>01</td>\n      <td>01</td>\n      <td>02:00</td>\n    </tr>\n    <tr>\n      <th>3</th>\n      <td>NO</td>\n      <td>2.1</td>\n      <td>01</td>\n      <td>01</td>\n      <td>03:00</td>\n    </tr>\n    <tr>\n      <th>4</th>\n      <td>NO</td>\n      <td>3.3</td>\n      <td>01</td>\n      <td>01</td>\n      <td>04:00</td>\n    </tr>\n    <tr>\n      <th>...</th>\n      <td>...</td>\n      <td>...</td>\n      <td>...</td>\n      <td>...</td>\n      <td>...</td>\n    </tr>\n    <tr>\n      <th>43795</th>\n      <td>PM2.5</td>\n      <td>-2.0</td>\n      <td>31</td>\n      <td>12</td>\n      <td>19:00</td>\n    </tr>\n    <tr>\n      <th>43796</th>\n      <td>PM2.5</td>\n      <td>6.0</td>\n      <td>31</td>\n      <td>12</td>\n      <td>20:00</td>\n    </tr>\n    <tr>\n      <th>43797</th>\n      <td>PM2.5</td>\n      <td>5.0</td>\n      <td>31</td>\n      <td>12</td>\n      <td>21:00</td>\n    </tr>\n    <tr>\n      <th>43798</th>\n      <td>PM2.5</td>\n      <td>5.0</td>\n      <td>31</td>\n      <td>12</td>\n      <td>22:00</td>\n    </tr>\n    <tr>\n      <th>43799</th>\n      <td>PM2.5</td>\n      <td>6.0</td>\n      <td>31</td>\n      <td>12</td>\n      <td>23:00</td>\n    </tr>\n  </tbody>\n</table>\n<p>43800 rows × 5 columns</p>\n</div>"
     },
     "execution_count": 70,
     "metadata": {},
     "output_type": "execute_result"
    }
   ],
   "source": [
    "air_df = air_df.join(date_df).join(datetime_df.Time).drop(columns=['ReadingDateTime','Year'])\n",
    "air_df"
   ],
   "metadata": {
    "collapsed": false,
    "ExecuteTime": {
     "end_time": "2024-05-15T09:05:18.288087Z",
     "start_time": "2024-05-15T09:05:18.242466Z"
    }
   }
  },
  {
   "cell_type": "markdown",
   "metadata": {},
   "source": [
    "Answer: "
   ]
  },
  {
   "cell_type": "code",
   "execution_count": null,
   "metadata": {},
   "outputs": [],
   "source": []
  },
  {
   "cell_type": "markdown",
   "metadata": {},
   "source": [
    "    b)\tRun the following code, see its output, and then study the code to answer what does this line of code do."
   ]
  },
  {
   "cell_type": "code",
   "execution_count": 51,
   "metadata": {},
   "outputs": [
    {
     "data": {
      "text/html": [
       "<div>\n",
       "<style scoped>\n",
       "    .dataframe tbody tr th:only-of-type {\n",
       "        vertical-align: middle;\n",
       "    }\n",
       "\n",
       "    .dataframe tbody tr th {\n",
       "        vertical-align: top;\n",
       "    }\n",
       "\n",
       "    .dataframe thead th {\n",
       "        text-align: right;\n",
       "    }\n",
       "</style>\n",
       "<table border=\"1\" class=\"dataframe\">\n",
       "  <thead>\n",
       "    <tr style=\"text-align: right;\">\n",
       "      <th></th>\n",
       "      <th></th>\n",
       "      <th></th>\n",
       "      <th></th>\n",
       "      <th>Value</th>\n",
       "    </tr>\n",
       "    <tr>\n",
       "      <th>Month</th>\n",
       "      <th>Day</th>\n",
       "      <th>Time</th>\n",
       "      <th>Species</th>\n",
       "      <th></th>\n",
       "    </tr>\n",
       "  </thead>\n",
       "  <tbody>\n",
       "    <tr>\n",
       "      <th rowspan=\"5\" valign=\"top\">01</th>\n",
       "      <th rowspan=\"5\" valign=\"top\">01</th>\n",
       "      <th>00:00</th>\n",
       "      <th>NO</th>\n",
       "      <td>3.5</td>\n",
       "    </tr>\n",
       "    <tr>\n",
       "      <th>01:00</th>\n",
       "      <th>NO</th>\n",
       "      <td>3.6</td>\n",
       "    </tr>\n",
       "    <tr>\n",
       "      <th>02:00</th>\n",
       "      <th>NO</th>\n",
       "      <td>2.2</td>\n",
       "    </tr>\n",
       "    <tr>\n",
       "      <th>03:00</th>\n",
       "      <th>NO</th>\n",
       "      <td>2.1</td>\n",
       "    </tr>\n",
       "    <tr>\n",
       "      <th>04:00</th>\n",
       "      <th>NO</th>\n",
       "      <td>3.3</td>\n",
       "    </tr>\n",
       "    <tr>\n",
       "      <th>...</th>\n",
       "      <th>...</th>\n",
       "      <th>...</th>\n",
       "      <th>...</th>\n",
       "      <td>...</td>\n",
       "    </tr>\n",
       "    <tr>\n",
       "      <th rowspan=\"5\" valign=\"top\">12</th>\n",
       "      <th rowspan=\"5\" valign=\"top\">31</th>\n",
       "      <th>19:00</th>\n",
       "      <th>PM2.5</th>\n",
       "      <td>-2.0</td>\n",
       "    </tr>\n",
       "    <tr>\n",
       "      <th>20:00</th>\n",
       "      <th>PM2.5</th>\n",
       "      <td>6.0</td>\n",
       "    </tr>\n",
       "    <tr>\n",
       "      <th>21:00</th>\n",
       "      <th>PM2.5</th>\n",
       "      <td>5.0</td>\n",
       "    </tr>\n",
       "    <tr>\n",
       "      <th>22:00</th>\n",
       "      <th>PM2.5</th>\n",
       "      <td>5.0</td>\n",
       "    </tr>\n",
       "    <tr>\n",
       "      <th>23:00</th>\n",
       "      <th>PM2.5</th>\n",
       "      <td>6.0</td>\n",
       "    </tr>\n",
       "  </tbody>\n",
       "</table>\n",
       "<p>43800 rows × 1 columns</p>\n",
       "</div>"
      ],
      "text/plain": [
       "                         Value\n",
       "Month Day Time  Species       \n",
       "01    01  00:00 NO         3.5\n",
       "          01:00 NO         3.6\n",
       "          02:00 NO         2.2\n",
       "          03:00 NO         2.1\n",
       "          04:00 NO         3.3\n",
       "...                        ...\n",
       "12    31  19:00 PM2.5     -2.0\n",
       "          20:00 PM2.5      6.0\n",
       "          21:00 PM2.5      5.0\n",
       "          22:00 PM2.5      5.0\n",
       "          23:00 PM2.5      6.0\n",
       "\n",
       "[43800 rows x 1 columns]"
      ]
     },
     "execution_count": 51,
     "metadata": {},
     "output_type": "execute_result"
    }
   ],
   "source": [
    "air_df = air_df.set_index(['Month','Day','Time','Species'])\n",
    "air_df\n"
   ]
  },
  {
   "cell_type": "markdown",
   "metadata": {},
   "source": [
    "Answer:"
   ]
  },
  {
   "cell_type": "code",
   "execution_count": null,
   "metadata": {},
   "outputs": [],
   "source": []
  },
  {
   "cell_type": "markdown",
   "metadata": {},
   "source": [
    "    c)\tRun the following code, see its output, and then study the code to answer what does this line of code do."
   ]
  },
  {
   "cell_type": "code",
   "execution_count": 52,
   "metadata": {},
   "outputs": [
    {
     "data": {
      "text/html": [
       "<div>\n",
       "<style scoped>\n",
       "    .dataframe tbody tr th:only-of-type {\n",
       "        vertical-align: middle;\n",
       "    }\n",
       "\n",
       "    .dataframe tbody tr th {\n",
       "        vertical-align: top;\n",
       "    }\n",
       "\n",
       "    .dataframe thead tr th {\n",
       "        text-align: left;\n",
       "    }\n",
       "\n",
       "    .dataframe thead tr:last-of-type th {\n",
       "        text-align: right;\n",
       "    }\n",
       "</style>\n",
       "<table border=\"1\" class=\"dataframe\">\n",
       "  <thead>\n",
       "    <tr>\n",
       "      <th></th>\n",
       "      <th></th>\n",
       "      <th></th>\n",
       "      <th colspan=\"5\" halign=\"left\">Value</th>\n",
       "    </tr>\n",
       "    <tr>\n",
       "      <th></th>\n",
       "      <th></th>\n",
       "      <th>Species</th>\n",
       "      <th>NO</th>\n",
       "      <th>NO2</th>\n",
       "      <th>NOX</th>\n",
       "      <th>PM10</th>\n",
       "      <th>PM2.5</th>\n",
       "    </tr>\n",
       "    <tr>\n",
       "      <th>Month</th>\n",
       "      <th>Day</th>\n",
       "      <th>Time</th>\n",
       "      <th></th>\n",
       "      <th></th>\n",
       "      <th></th>\n",
       "      <th></th>\n",
       "      <th></th>\n",
       "    </tr>\n",
       "  </thead>\n",
       "  <tbody>\n",
       "    <tr>\n",
       "      <th rowspan=\"5\" valign=\"top\">01</th>\n",
       "      <th rowspan=\"5\" valign=\"top\">01</th>\n",
       "      <th>00:00</th>\n",
       "      <td>3.5</td>\n",
       "      <td>30.8</td>\n",
       "      <td>36.2</td>\n",
       "      <td>35.7</td>\n",
       "      <td>NaN</td>\n",
       "    </tr>\n",
       "    <tr>\n",
       "      <th>01:00</th>\n",
       "      <td>3.6</td>\n",
       "      <td>31.5</td>\n",
       "      <td>37.0</td>\n",
       "      <td>28.5</td>\n",
       "      <td>NaN</td>\n",
       "    </tr>\n",
       "    <tr>\n",
       "      <th>02:00</th>\n",
       "      <td>2.2</td>\n",
       "      <td>27.3</td>\n",
       "      <td>30.7</td>\n",
       "      <td>22.7</td>\n",
       "      <td>NaN</td>\n",
       "    </tr>\n",
       "    <tr>\n",
       "      <th>03:00</th>\n",
       "      <td>2.1</td>\n",
       "      <td>23.5</td>\n",
       "      <td>26.8</td>\n",
       "      <td>20.5</td>\n",
       "      <td>NaN</td>\n",
       "    </tr>\n",
       "    <tr>\n",
       "      <th>04:00</th>\n",
       "      <td>3.3</td>\n",
       "      <td>28.0</td>\n",
       "      <td>33.0</td>\n",
       "      <td>22.1</td>\n",
       "      <td>NaN</td>\n",
       "    </tr>\n",
       "    <tr>\n",
       "      <th>...</th>\n",
       "      <th>...</th>\n",
       "      <th>...</th>\n",
       "      <td>...</td>\n",
       "      <td>...</td>\n",
       "      <td>...</td>\n",
       "      <td>...</td>\n",
       "      <td>...</td>\n",
       "    </tr>\n",
       "    <tr>\n",
       "      <th rowspan=\"5\" valign=\"top\">12</th>\n",
       "      <th rowspan=\"5\" valign=\"top\">31</th>\n",
       "      <th>19:00</th>\n",
       "      <td>0.7</td>\n",
       "      <td>17.5</td>\n",
       "      <td>18.5</td>\n",
       "      <td>16.3</td>\n",
       "      <td>-2.0</td>\n",
       "    </tr>\n",
       "    <tr>\n",
       "      <th>20:00</th>\n",
       "      <td>0.7</td>\n",
       "      <td>17.5</td>\n",
       "      <td>18.6</td>\n",
       "      <td>14.5</td>\n",
       "      <td>6.0</td>\n",
       "    </tr>\n",
       "    <tr>\n",
       "      <th>21:00</th>\n",
       "      <td>0.7</td>\n",
       "      <td>14.1</td>\n",
       "      <td>15.1</td>\n",
       "      <td>8.6</td>\n",
       "      <td>5.0</td>\n",
       "    </tr>\n",
       "    <tr>\n",
       "      <th>22:00</th>\n",
       "      <td>1.1</td>\n",
       "      <td>22.0</td>\n",
       "      <td>23.6</td>\n",
       "      <td>12.5</td>\n",
       "      <td>5.0</td>\n",
       "    </tr>\n",
       "    <tr>\n",
       "      <th>23:00</th>\n",
       "      <td>0.9</td>\n",
       "      <td>19.4</td>\n",
       "      <td>20.7</td>\n",
       "      <td>10.4</td>\n",
       "      <td>6.0</td>\n",
       "    </tr>\n",
       "  </tbody>\n",
       "</table>\n",
       "<p>8760 rows × 5 columns</p>\n",
       "</div>"
      ],
      "text/plain": [
       "                Value                        \n",
       "Species            NO   NO2   NOX  PM10 PM2.5\n",
       "Month Day Time                               \n",
       "01    01  00:00   3.5  30.8  36.2  35.7   NaN\n",
       "          01:00   3.6  31.5  37.0  28.5   NaN\n",
       "          02:00   2.2  27.3  30.7  22.7   NaN\n",
       "          03:00   2.1  23.5  26.8  20.5   NaN\n",
       "          04:00   3.3  28.0  33.0  22.1   NaN\n",
       "...               ...   ...   ...   ...   ...\n",
       "12    31  19:00   0.7  17.5  18.5  16.3  -2.0\n",
       "          20:00   0.7  17.5  18.6  14.5   6.0\n",
       "          21:00   0.7  14.1  15.1   8.6   5.0\n",
       "          22:00   1.1  22.0  23.6  12.5   5.0\n",
       "          23:00   0.9  19.4  20.7  10.4   6.0\n",
       "\n",
       "[8760 rows x 5 columns]"
      ]
     },
     "execution_count": 52,
     "metadata": {},
     "output_type": "execute_result"
    }
   ],
   "source": [
    "air_df.unstack()"
   ]
  },
  {
   "cell_type": "markdown",
   "metadata": {},
   "source": [
    "Answer:"
   ]
  },
  {
   "cell_type": "code",
   "execution_count": null,
   "metadata": {},
   "outputs": [],
   "source": []
  },
  {
   "cell_type": "markdown",
   "metadata": {},
   "source": [
    "    d)\tCompare the output of the code above with pvt_df from Exercise 4. Are they basically the same?\n",
    "    e)\tExplain what are the differences and similarities between the pair .melt()/.pivot() and the pair .stack()/.unstack()? \n",
    "    f)\tIf you were to choose one counterpart for .melt() between .stack()/.unstack() which one would you choose?"
   ]
  },
  {
   "cell_type": "markdown",
   "metadata": {},
   "source": [
    "Answer:\n",
    "\n"
   ]
  },
  {
   "cell_type": "code",
   "execution_count": null,
   "metadata": {},
   "outputs": [],
   "source": []
  }
 ],
 "metadata": {
  "kernelspec": {
   "display_name": "Python 3",
   "language": "python",
   "name": "python3"
  },
  "language_info": {
   "codemirror_mode": {
    "name": "ipython",
    "version": 3
   },
   "file_extension": ".py",
   "mimetype": "text/x-python",
   "name": "python",
   "nbconvert_exporter": "python",
   "pygments_lexer": "ipython3",
   "version": "3.8.5"
  }
 },
 "nbformat": 4,
 "nbformat_minor": 4
}
